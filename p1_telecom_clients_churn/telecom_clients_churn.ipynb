{
 "cells": [
  {
   "cell_type": "markdown",
   "id": "bae2e824",
   "metadata": {
    "toc": true
   },
   "source": [
    "<h1>Содержание<span class=\"tocSkip\"></span></h1>\n",
    "<div class=\"toc\"><ul class=\"toc-item\"><li><span><a href=\"#Предобработка-данных\" data-toc-modified-id=\"Предобработка-данных-1\"><span class=\"toc-item-num\">1&nbsp;&nbsp;</span>Предобработка данных</a></span><ul class=\"toc-item\"><li><span><a href=\"#Изучение-общей-информации\" data-toc-modified-id=\"Изучение-общей-информации-1.1\"><span class=\"toc-item-num\">1.1&nbsp;&nbsp;</span>Изучение общей информации</a></span></li><li><span><a href=\"#План-работы\" data-toc-modified-id=\"План-работы-1.2\"><span class=\"toc-item-num\">1.2&nbsp;&nbsp;</span>План работы</a></span></li><li><span><a href=\"#Объединение-таблиц\" data-toc-modified-id=\"Объединение-таблиц-1.3\"><span class=\"toc-item-num\">1.3&nbsp;&nbsp;</span>Объединение таблиц</a></span></li><li><span><a href=\"#Работа-с-признаками\" data-toc-modified-id=\"Работа-с-признаками-1.4\"><span class=\"toc-item-num\">1.4&nbsp;&nbsp;</span>Работа с признаками</a></span></li><li><span><a href=\"#Подготовка-выборок\" data-toc-modified-id=\"Подготовка-выборок-1.5\"><span class=\"toc-item-num\">1.5&nbsp;&nbsp;</span>Подготовка выборок</a></span></li><li><span><a href=\"#Вывод\" data-toc-modified-id=\"Вывод-1.6\"><span class=\"toc-item-num\">1.6&nbsp;&nbsp;</span>Вывод</a></span></li></ul></li><li><span><a href=\"#Функции-для-расчета-метрик-и-подбора-гиперпараметров\" data-toc-modified-id=\"Функции-для-расчета-метрик-и-подбора-гиперпараметров-2\"><span class=\"toc-item-num\">2&nbsp;&nbsp;</span>Функции для расчета метрик и подбора гиперпараметров</a></span><ul class=\"toc-item\"><li><span><a href=\"#Вывод\" data-toc-modified-id=\"Вывод-2.1\"><span class=\"toc-item-num\">2.1&nbsp;&nbsp;</span>Вывод</a></span></li></ul></li><li><span><a href=\"#Обучение-моделей\" data-toc-modified-id=\"Обучение-моделей-3\"><span class=\"toc-item-num\">3&nbsp;&nbsp;</span>Обучение моделей</a></span><ul class=\"toc-item\"><li><span><a href=\"#Логистическая-регрессия\" data-toc-modified-id=\"Логистическая-регрессия-3.1\"><span class=\"toc-item-num\">3.1&nbsp;&nbsp;</span>Логистическая регрессия</a></span></li><li><span><a href=\"#Случайный-лес\" data-toc-modified-id=\"Случайный-лес-3.2\"><span class=\"toc-item-num\">3.2&nbsp;&nbsp;</span>Случайный лес</a></span></li><li><span><a href=\"#LGBM\" data-toc-modified-id=\"LGBM-3.3\"><span class=\"toc-item-num\">3.3&nbsp;&nbsp;</span>LGBM</a></span></li><li><span><a href=\"#Сравнение-результатов\" data-toc-modified-id=\"Сравнение-результатов-3.4\"><span class=\"toc-item-num\">3.4&nbsp;&nbsp;</span>Сравнение результатов</a></span></li><li><span><a href=\"#Вывод\" data-toc-modified-id=\"Вывод-3.5\"><span class=\"toc-item-num\">3.5&nbsp;&nbsp;</span>Вывод</a></span></li></ul></li><li><span><a href=\"#Тестирование-модели\" data-toc-modified-id=\"Тестирование-модели-4\"><span class=\"toc-item-num\">4&nbsp;&nbsp;</span>Тестирование модели</a></span><ul class=\"toc-item\"><li><span><a href=\"#Проведение-тестирования\" data-toc-modified-id=\"Проведение-тестирования-4.1\"><span class=\"toc-item-num\">4.1&nbsp;&nbsp;</span>Проведение тестирования</a></span></li><li><span><a href=\"#Анализ-важности-признаков\" data-toc-modified-id=\"Анализ-важности-признаков-4.2\"><span class=\"toc-item-num\">4.2&nbsp;&nbsp;</span>Анализ важности признаков</a></span></li><li><span><a href=\"#Вывод\" data-toc-modified-id=\"Вывод-4.3\"><span class=\"toc-item-num\">4.3&nbsp;&nbsp;</span>Вывод</a></span></li></ul></li><li><span><a href=\"#Итоговый-отчет\" data-toc-modified-id=\"Итоговый-отчет-5\"><span class=\"toc-item-num\">5&nbsp;&nbsp;</span>Итоговый отчет</a></span></li></ul></div>"
   ]
  },
  {
   "cell_type": "markdown",
   "id": "ce9f765c",
   "metadata": {},
   "source": [
    "# Прогноз оттока клиентов оператора связи\n",
    "\n",
    "Оператор связи хочет научиться прогнозировать отток клиентов. Если выяснится, что пользователь планирует уйти, ему будут предложены промокоды и специальные условия. Команда оператора собрала персональные данные о некоторых клиентах, информацию об их тарифах и договорах.\n",
    "\n",
    "**Описание услуг**\n",
    "\n",
    "Оператор предоставляет два основных типа услуг: \n",
    "\n",
    "1. Стационарную телефонную связь. Возможно подключение телефонного аппарата к нескольким линиям одновременно.\n",
    "2. Интернет. Подключение может быть двух типов: через телефонную линию (DSL*,* от англ. *digital subscriber line*, «цифровая абонентская линия») или оптоволоконный кабель (*Fiber optic*).  \n",
    "\n",
    "Также доступны такие услуги:\n",
    "\n",
    "- Интернет-безопасность: антивирус (*DeviceProtection*) и блокировка небезопасных сайтов (*OnlineSecurity*);\n",
    "- Выделенная линия технической поддержки (*TechSupport*);\n",
    "- Облачное хранилище файлов для резервного копирования данных (*OnlineBackup*);\n",
    "- Стриминговое телевидение (*StreamingTV*) и каталог фильмов (*StreamingMovies*).\n",
    "\n",
    "За услуги клиенты могут платить каждый месяц или заключить договор на 1–2 года. Доступны различные способы расчёта и возможность получения электронного чека.\n",
    "\n",
    "**Описание данных**\n",
    "\n",
    "Данные состоят из файлов, полученных из разных источников:\n",
    "\n",
    "- `contract.csv` — информация о договоре;\n",
    "- `personal.csv` — персональные данные клиента;\n",
    "- `internet.csv` — информация об интернет-услугах;\n",
    "- `phone.csv` — информация об услугах телефонии.\n",
    "\n",
    "Во всех файлах столбец *customerID* содержит код клиента\n",
    "Информация о договорах актуальна на 1 февраля 2020.\n",
    "\n",
    "**Цель исследования:**\n",
    "Построить модель, предсказывающую отток клиентов на основе персональных данных о клиентах, информации об их тарифах и договорах. *ROC-AUC* на тестовой выборке должен быть не ниже 0.88.\n",
    "\n",
    "**Метрика оценки качества модели:** *ROC-AUC*, дополнительно *Accuracy*"
   ]
  },
  {
   "cell_type": "markdown",
   "id": "8bd4ae7e",
   "metadata": {},
   "source": [
    "## Предобработка данных\n",
    "### Изучение общей информации"
   ]
  },
  {
   "cell_type": "markdown",
   "id": "6a120e9c",
   "metadata": {},
   "source": [
    "Установим библиотеку для расчета корреляции *Phik (φk)*:"
   ]
  },
  {
   "cell_type": "code",
   "execution_count": 1,
   "id": "98f344e4",
   "metadata": {
    "scrolled": true
   },
   "outputs": [
    {
     "name": "stdout",
     "output_type": "stream",
     "text": [
      "Requirement already satisfied: phik in /Users/Dasha/opt/anaconda3/lib/python3.9/site-packages (0.12.2)\n",
      "Requirement already satisfied: numpy>=1.18.0 in /Users/Dasha/opt/anaconda3/lib/python3.9/site-packages (from phik) (1.21.5)\n",
      "Requirement already satisfied: scipy>=1.5.2 in /Users/Dasha/opt/anaconda3/lib/python3.9/site-packages (from phik) (1.8.0)\n",
      "Requirement already satisfied: pandas>=0.25.1 in /Users/Dasha/opt/anaconda3/lib/python3.9/site-packages (from phik) (1.4.3)\n",
      "Requirement already satisfied: joblib>=0.14.1 in /Users/Dasha/opt/anaconda3/lib/python3.9/site-packages (from phik) (1.1.0)\n",
      "Requirement already satisfied: matplotlib>=2.2.3 in /Users/Dasha/opt/anaconda3/lib/python3.9/site-packages (from phik) (3.4.3)\n",
      "Requirement already satisfied: cycler>=0.10 in /Users/Dasha/opt/anaconda3/lib/python3.9/site-packages (from matplotlib>=2.2.3->phik) (0.11.0)\n",
      "Requirement already satisfied: kiwisolver>=1.0.1 in /Users/Dasha/opt/anaconda3/lib/python3.9/site-packages (from matplotlib>=2.2.3->phik) (1.4.2)\n",
      "Requirement already satisfied: pyparsing>=2.2.1 in /Users/Dasha/opt/anaconda3/lib/python3.9/site-packages (from matplotlib>=2.2.3->phik) (3.0.9)\n",
      "Requirement already satisfied: python-dateutil>=2.7 in /Users/Dasha/opt/anaconda3/lib/python3.9/site-packages (from matplotlib>=2.2.3->phik) (2.8.2)\n",
      "Requirement already satisfied: pillow>=6.2.0 in /Users/Dasha/opt/anaconda3/lib/python3.9/site-packages (from matplotlib>=2.2.3->phik) (9.2.0)\n",
      "Requirement already satisfied: pytz>=2020.1 in /Users/Dasha/opt/anaconda3/lib/python3.9/site-packages (from pandas>=0.25.1->phik) (2022.1)\n",
      "Requirement already satisfied: six>=1.5 in /Users/Dasha/opt/anaconda3/lib/python3.9/site-packages (from python-dateutil>=2.7->matplotlib>=2.2.3->phik) (1.16.0)\n"
     ]
    }
   ],
   "source": [
    "import sys\n",
    "\n",
    "!'{sys.executable}' -m pip install phik"
   ]
  },
  {
   "cell_type": "markdown",
   "id": "0e4515fd",
   "metadata": {},
   "source": [
    "Загрузим необходимые библиотеки:"
   ]
  },
  {
   "cell_type": "code",
   "execution_count": 2,
   "id": "a492342e",
   "metadata": {},
   "outputs": [],
   "source": [
    "import pandas as pd\n",
    "pd.set_option('display.max_columns', None)\n",
    "pd.set_option('display.max_rows', None) \n",
    "\n",
    "import numpy as np\n",
    "\n",
    "import matplotlib.pyplot as plt\n",
    "import seaborn as sns\n",
    "\n",
    "import phik\n",
    "from phik.report import plot_correlation_matrix\n",
    "\n",
    "from sklearn.model_selection import train_test_split, GridSearchCV, cross_val_score\n",
    "from sklearn.pipeline import Pipeline, make_pipeline\n",
    "from sklearn.compose import ColumnTransformer, make_column_transformer\n",
    "from sklearn.preprocessing import OneHotEncoder, OrdinalEncoder, StandardScaler\n",
    "from sklearn.metrics import roc_auc_score, accuracy_score\n",
    "\n",
    "from sklearn.linear_model import LogisticRegression\n",
    "from sklearn.ensemble import RandomForestClassifier\n",
    "from lightgbm import LGBMClassifier "
   ]
  },
  {
   "cell_type": "markdown",
   "id": "56a57f7b",
   "metadata": {},
   "source": [
    "Загрузим данные:"
   ]
  },
  {
   "cell_type": "code",
   "execution_count": 3,
   "id": "9434e10c",
   "metadata": {},
   "outputs": [],
   "source": [
    "try:\n",
    "    contract = pd.read_csv('/datasets/final_provider/contract.csv')\n",
    "    personal = pd.read_csv('/datasets/final_provider/personal.csv')\n",
    "    internet = pd.read_csv('/datasets/final_provider/internet.csv')\n",
    "    phone = pd.read_csv('/datasets/final_provider/phone.csv')\n",
    "except:\n",
    "    contract = pd.read_csv('/Users/Dasha/final_project_telekom/contract.csv')\n",
    "    personal = pd.read_csv('/Users/Dasha/final_project_telekom/personal.csv')\n",
    "    internet = pd.read_csv('/Users/Dasha/final_project_telekom/internet.csv')\n",
    "    phone = pd.read_csv('/Users/Dasha/final_project_telekom/phone.csv')"
   ]
  },
  {
   "cell_type": "markdown",
   "id": "473c4219",
   "metadata": {},
   "source": [
    "Создадим функцию для изучения общей информации о данных:"
   ]
  },
  {
   "cell_type": "code",
   "execution_count": 4,
   "id": "32985876",
   "metadata": {
    "scrolled": false
   },
   "outputs": [
    {
     "name": "stdout",
     "output_type": "stream",
     "text": [
      "\n",
      "\u001b[1mИнформация о датафрейме contract \n",
      "\n",
      "Первые пять строк:\u001b[0m\n"
     ]
    },
    {
     "data": {
      "text/html": [
       "<div>\n",
       "<style scoped>\n",
       "    .dataframe tbody tr th:only-of-type {\n",
       "        vertical-align: middle;\n",
       "    }\n",
       "\n",
       "    .dataframe tbody tr th {\n",
       "        vertical-align: top;\n",
       "    }\n",
       "\n",
       "    .dataframe thead th {\n",
       "        text-align: right;\n",
       "    }\n",
       "</style>\n",
       "<table border=\"1\" class=\"dataframe\">\n",
       "  <thead>\n",
       "    <tr style=\"text-align: right;\">\n",
       "      <th></th>\n",
       "      <th>customerID</th>\n",
       "      <th>BeginDate</th>\n",
       "      <th>EndDate</th>\n",
       "      <th>Type</th>\n",
       "      <th>PaperlessBilling</th>\n",
       "      <th>PaymentMethod</th>\n",
       "      <th>MonthlyCharges</th>\n",
       "      <th>TotalCharges</th>\n",
       "    </tr>\n",
       "  </thead>\n",
       "  <tbody>\n",
       "    <tr>\n",
       "      <th>0</th>\n",
       "      <td>7590-VHVEG</td>\n",
       "      <td>2020-01-01</td>\n",
       "      <td>No</td>\n",
       "      <td>Month-to-month</td>\n",
       "      <td>Yes</td>\n",
       "      <td>Electronic check</td>\n",
       "      <td>29.85</td>\n",
       "      <td>29.85</td>\n",
       "    </tr>\n",
       "    <tr>\n",
       "      <th>1</th>\n",
       "      <td>5575-GNVDE</td>\n",
       "      <td>2017-04-01</td>\n",
       "      <td>No</td>\n",
       "      <td>One year</td>\n",
       "      <td>No</td>\n",
       "      <td>Mailed check</td>\n",
       "      <td>56.95</td>\n",
       "      <td>1889.5</td>\n",
       "    </tr>\n",
       "    <tr>\n",
       "      <th>2</th>\n",
       "      <td>3668-QPYBK</td>\n",
       "      <td>2019-10-01</td>\n",
       "      <td>2019-12-01 00:00:00</td>\n",
       "      <td>Month-to-month</td>\n",
       "      <td>Yes</td>\n",
       "      <td>Mailed check</td>\n",
       "      <td>53.85</td>\n",
       "      <td>108.15</td>\n",
       "    </tr>\n",
       "    <tr>\n",
       "      <th>3</th>\n",
       "      <td>7795-CFOCW</td>\n",
       "      <td>2016-05-01</td>\n",
       "      <td>No</td>\n",
       "      <td>One year</td>\n",
       "      <td>No</td>\n",
       "      <td>Bank transfer (automatic)</td>\n",
       "      <td>42.30</td>\n",
       "      <td>1840.75</td>\n",
       "    </tr>\n",
       "    <tr>\n",
       "      <th>4</th>\n",
       "      <td>9237-HQITU</td>\n",
       "      <td>2019-09-01</td>\n",
       "      <td>2019-11-01 00:00:00</td>\n",
       "      <td>Month-to-month</td>\n",
       "      <td>Yes</td>\n",
       "      <td>Electronic check</td>\n",
       "      <td>70.70</td>\n",
       "      <td>151.65</td>\n",
       "    </tr>\n",
       "  </tbody>\n",
       "</table>\n",
       "</div>"
      ],
      "text/plain": [
       "   customerID   BeginDate              EndDate            Type  \\\n",
       "0  7590-VHVEG  2020-01-01                   No  Month-to-month   \n",
       "1  5575-GNVDE  2017-04-01                   No        One year   \n",
       "2  3668-QPYBK  2019-10-01  2019-12-01 00:00:00  Month-to-month   \n",
       "3  7795-CFOCW  2016-05-01                   No        One year   \n",
       "4  9237-HQITU  2019-09-01  2019-11-01 00:00:00  Month-to-month   \n",
       "\n",
       "  PaperlessBilling              PaymentMethod  MonthlyCharges TotalCharges  \n",
       "0              Yes           Electronic check           29.85        29.85  \n",
       "1               No               Mailed check           56.95       1889.5  \n",
       "2              Yes               Mailed check           53.85       108.15  \n",
       "3               No  Bank transfer (automatic)           42.30      1840.75  \n",
       "4              Yes           Electronic check           70.70       151.65  "
      ]
     },
     "metadata": {},
     "output_type": "display_data"
    },
    {
     "name": "stdout",
     "output_type": "stream",
     "text": [
      "\n",
      "\u001b[1mОбщая информация:\n",
      "\u001b[0m\n",
      "<class 'pandas.core.frame.DataFrame'>\n",
      "RangeIndex: 7043 entries, 0 to 7042\n",
      "Data columns (total 8 columns):\n",
      " #   Column            Non-Null Count  Dtype  \n",
      "---  ------            --------------  -----  \n",
      " 0   customerID        7043 non-null   object \n",
      " 1   BeginDate         7043 non-null   object \n",
      " 2   EndDate           7043 non-null   object \n",
      " 3   Type              7043 non-null   object \n",
      " 4   PaperlessBilling  7043 non-null   object \n",
      " 5   PaymentMethod     7043 non-null   object \n",
      " 6   MonthlyCharges    7043 non-null   float64\n",
      " 7   TotalCharges      7043 non-null   object \n",
      "dtypes: float64(1), object(7)\n",
      "memory usage: 440.3+ KB\n",
      "\n",
      "\u001b[1mОписательная статистика:\n",
      "\u001b[0m\n"
     ]
    },
    {
     "data": {
      "text/html": [
       "<div>\n",
       "<style scoped>\n",
       "    .dataframe tbody tr th:only-of-type {\n",
       "        vertical-align: middle;\n",
       "    }\n",
       "\n",
       "    .dataframe tbody tr th {\n",
       "        vertical-align: top;\n",
       "    }\n",
       "\n",
       "    .dataframe thead th {\n",
       "        text-align: right;\n",
       "    }\n",
       "</style>\n",
       "<table border=\"1\" class=\"dataframe\">\n",
       "  <thead>\n",
       "    <tr style=\"text-align: right;\">\n",
       "      <th></th>\n",
       "      <th>MonthlyCharges</th>\n",
       "    </tr>\n",
       "  </thead>\n",
       "  <tbody>\n",
       "    <tr>\n",
       "      <th>count</th>\n",
       "      <td>7043.000000</td>\n",
       "    </tr>\n",
       "    <tr>\n",
       "      <th>mean</th>\n",
       "      <td>64.761692</td>\n",
       "    </tr>\n",
       "    <tr>\n",
       "      <th>std</th>\n",
       "      <td>30.090047</td>\n",
       "    </tr>\n",
       "    <tr>\n",
       "      <th>min</th>\n",
       "      <td>18.250000</td>\n",
       "    </tr>\n",
       "    <tr>\n",
       "      <th>25%</th>\n",
       "      <td>35.500000</td>\n",
       "    </tr>\n",
       "    <tr>\n",
       "      <th>50%</th>\n",
       "      <td>70.350000</td>\n",
       "    </tr>\n",
       "    <tr>\n",
       "      <th>75%</th>\n",
       "      <td>89.850000</td>\n",
       "    </tr>\n",
       "    <tr>\n",
       "      <th>max</th>\n",
       "      <td>118.750000</td>\n",
       "    </tr>\n",
       "  </tbody>\n",
       "</table>\n",
       "</div>"
      ],
      "text/plain": [
       "       MonthlyCharges\n",
       "count     7043.000000\n",
       "mean        64.761692\n",
       "std         30.090047\n",
       "min         18.250000\n",
       "25%         35.500000\n",
       "50%         70.350000\n",
       "75%         89.850000\n",
       "max        118.750000"
      ]
     },
     "metadata": {},
     "output_type": "display_data"
    },
    {
     "name": "stdout",
     "output_type": "stream",
     "text": [
      "\n",
      "\u001b[1mКол-во явных дубликатов:\n",
      "\u001b[0m\n"
     ]
    },
    {
     "data": {
      "text/plain": [
       "0"
      ]
     },
     "metadata": {},
     "output_type": "display_data"
    },
    {
     "name": "stdout",
     "output_type": "stream",
     "text": [
      "\n",
      "\u001b[1mКоличество пропусков:\n",
      "\u001b[0m\n"
     ]
    },
    {
     "data": {
      "text/plain": [
       "customerID          0\n",
       "BeginDate           0\n",
       "EndDate             0\n",
       "Type                0\n",
       "PaperlessBilling    0\n",
       "PaymentMethod       0\n",
       "MonthlyCharges      0\n",
       "TotalCharges        0\n",
       "dtype: int64"
      ]
     },
     "metadata": {},
     "output_type": "display_data"
    },
    {
     "name": "stdout",
     "output_type": "stream",
     "text": [
      "__________________________________\n",
      "\n",
      "\u001b[1mИнформация о датафрейме personal \n",
      "\n",
      "Первые пять строк:\u001b[0m\n"
     ]
    },
    {
     "data": {
      "text/html": [
       "<div>\n",
       "<style scoped>\n",
       "    .dataframe tbody tr th:only-of-type {\n",
       "        vertical-align: middle;\n",
       "    }\n",
       "\n",
       "    .dataframe tbody tr th {\n",
       "        vertical-align: top;\n",
       "    }\n",
       "\n",
       "    .dataframe thead th {\n",
       "        text-align: right;\n",
       "    }\n",
       "</style>\n",
       "<table border=\"1\" class=\"dataframe\">\n",
       "  <thead>\n",
       "    <tr style=\"text-align: right;\">\n",
       "      <th></th>\n",
       "      <th>customerID</th>\n",
       "      <th>gender</th>\n",
       "      <th>SeniorCitizen</th>\n",
       "      <th>Partner</th>\n",
       "      <th>Dependents</th>\n",
       "    </tr>\n",
       "  </thead>\n",
       "  <tbody>\n",
       "    <tr>\n",
       "      <th>0</th>\n",
       "      <td>7590-VHVEG</td>\n",
       "      <td>Female</td>\n",
       "      <td>0</td>\n",
       "      <td>Yes</td>\n",
       "      <td>No</td>\n",
       "    </tr>\n",
       "    <tr>\n",
       "      <th>1</th>\n",
       "      <td>5575-GNVDE</td>\n",
       "      <td>Male</td>\n",
       "      <td>0</td>\n",
       "      <td>No</td>\n",
       "      <td>No</td>\n",
       "    </tr>\n",
       "    <tr>\n",
       "      <th>2</th>\n",
       "      <td>3668-QPYBK</td>\n",
       "      <td>Male</td>\n",
       "      <td>0</td>\n",
       "      <td>No</td>\n",
       "      <td>No</td>\n",
       "    </tr>\n",
       "    <tr>\n",
       "      <th>3</th>\n",
       "      <td>7795-CFOCW</td>\n",
       "      <td>Male</td>\n",
       "      <td>0</td>\n",
       "      <td>No</td>\n",
       "      <td>No</td>\n",
       "    </tr>\n",
       "    <tr>\n",
       "      <th>4</th>\n",
       "      <td>9237-HQITU</td>\n",
       "      <td>Female</td>\n",
       "      <td>0</td>\n",
       "      <td>No</td>\n",
       "      <td>No</td>\n",
       "    </tr>\n",
       "  </tbody>\n",
       "</table>\n",
       "</div>"
      ],
      "text/plain": [
       "   customerID  gender  SeniorCitizen Partner Dependents\n",
       "0  7590-VHVEG  Female              0     Yes         No\n",
       "1  5575-GNVDE    Male              0      No         No\n",
       "2  3668-QPYBK    Male              0      No         No\n",
       "3  7795-CFOCW    Male              0      No         No\n",
       "4  9237-HQITU  Female              0      No         No"
      ]
     },
     "metadata": {},
     "output_type": "display_data"
    },
    {
     "name": "stdout",
     "output_type": "stream",
     "text": [
      "\n",
      "\u001b[1mОбщая информация:\n",
      "\u001b[0m\n",
      "<class 'pandas.core.frame.DataFrame'>\n",
      "RangeIndex: 7043 entries, 0 to 7042\n",
      "Data columns (total 5 columns):\n",
      " #   Column         Non-Null Count  Dtype \n",
      "---  ------         --------------  ----- \n",
      " 0   customerID     7043 non-null   object\n",
      " 1   gender         7043 non-null   object\n",
      " 2   SeniorCitizen  7043 non-null   int64 \n",
      " 3   Partner        7043 non-null   object\n",
      " 4   Dependents     7043 non-null   object\n",
      "dtypes: int64(1), object(4)\n",
      "memory usage: 275.2+ KB\n",
      "\n",
      "\u001b[1mОписательная статистика:\n",
      "\u001b[0m\n"
     ]
    },
    {
     "data": {
      "text/html": [
       "<div>\n",
       "<style scoped>\n",
       "    .dataframe tbody tr th:only-of-type {\n",
       "        vertical-align: middle;\n",
       "    }\n",
       "\n",
       "    .dataframe tbody tr th {\n",
       "        vertical-align: top;\n",
       "    }\n",
       "\n",
       "    .dataframe thead th {\n",
       "        text-align: right;\n",
       "    }\n",
       "</style>\n",
       "<table border=\"1\" class=\"dataframe\">\n",
       "  <thead>\n",
       "    <tr style=\"text-align: right;\">\n",
       "      <th></th>\n",
       "      <th>SeniorCitizen</th>\n",
       "    </tr>\n",
       "  </thead>\n",
       "  <tbody>\n",
       "    <tr>\n",
       "      <th>count</th>\n",
       "      <td>7043.000000</td>\n",
       "    </tr>\n",
       "    <tr>\n",
       "      <th>mean</th>\n",
       "      <td>0.162147</td>\n",
       "    </tr>\n",
       "    <tr>\n",
       "      <th>std</th>\n",
       "      <td>0.368612</td>\n",
       "    </tr>\n",
       "    <tr>\n",
       "      <th>min</th>\n",
       "      <td>0.000000</td>\n",
       "    </tr>\n",
       "    <tr>\n",
       "      <th>25%</th>\n",
       "      <td>0.000000</td>\n",
       "    </tr>\n",
       "    <tr>\n",
       "      <th>50%</th>\n",
       "      <td>0.000000</td>\n",
       "    </tr>\n",
       "    <tr>\n",
       "      <th>75%</th>\n",
       "      <td>0.000000</td>\n",
       "    </tr>\n",
       "    <tr>\n",
       "      <th>max</th>\n",
       "      <td>1.000000</td>\n",
       "    </tr>\n",
       "  </tbody>\n",
       "</table>\n",
       "</div>"
      ],
      "text/plain": [
       "       SeniorCitizen\n",
       "count    7043.000000\n",
       "mean        0.162147\n",
       "std         0.368612\n",
       "min         0.000000\n",
       "25%         0.000000\n",
       "50%         0.000000\n",
       "75%         0.000000\n",
       "max         1.000000"
      ]
     },
     "metadata": {},
     "output_type": "display_data"
    },
    {
     "name": "stdout",
     "output_type": "stream",
     "text": [
      "\n",
      "\u001b[1mКол-во явных дубликатов:\n",
      "\u001b[0m\n"
     ]
    },
    {
     "data": {
      "text/plain": [
       "0"
      ]
     },
     "metadata": {},
     "output_type": "display_data"
    },
    {
     "name": "stdout",
     "output_type": "stream",
     "text": [
      "\n",
      "\u001b[1mКоличество пропусков:\n",
      "\u001b[0m\n"
     ]
    },
    {
     "data": {
      "text/plain": [
       "customerID       0\n",
       "gender           0\n",
       "SeniorCitizen    0\n",
       "Partner          0\n",
       "Dependents       0\n",
       "dtype: int64"
      ]
     },
     "metadata": {},
     "output_type": "display_data"
    },
    {
     "name": "stdout",
     "output_type": "stream",
     "text": [
      "__________________________________\n",
      "\n",
      "\u001b[1mИнформация о датафрейме internet \n",
      "\n",
      "Первые пять строк:\u001b[0m\n"
     ]
    },
    {
     "data": {
      "text/html": [
       "<div>\n",
       "<style scoped>\n",
       "    .dataframe tbody tr th:only-of-type {\n",
       "        vertical-align: middle;\n",
       "    }\n",
       "\n",
       "    .dataframe tbody tr th {\n",
       "        vertical-align: top;\n",
       "    }\n",
       "\n",
       "    .dataframe thead th {\n",
       "        text-align: right;\n",
       "    }\n",
       "</style>\n",
       "<table border=\"1\" class=\"dataframe\">\n",
       "  <thead>\n",
       "    <tr style=\"text-align: right;\">\n",
       "      <th></th>\n",
       "      <th>customerID</th>\n",
       "      <th>InternetService</th>\n",
       "      <th>OnlineSecurity</th>\n",
       "      <th>OnlineBackup</th>\n",
       "      <th>DeviceProtection</th>\n",
       "      <th>TechSupport</th>\n",
       "      <th>StreamingTV</th>\n",
       "      <th>StreamingMovies</th>\n",
       "    </tr>\n",
       "  </thead>\n",
       "  <tbody>\n",
       "    <tr>\n",
       "      <th>0</th>\n",
       "      <td>7590-VHVEG</td>\n",
       "      <td>DSL</td>\n",
       "      <td>No</td>\n",
       "      <td>Yes</td>\n",
       "      <td>No</td>\n",
       "      <td>No</td>\n",
       "      <td>No</td>\n",
       "      <td>No</td>\n",
       "    </tr>\n",
       "    <tr>\n",
       "      <th>1</th>\n",
       "      <td>5575-GNVDE</td>\n",
       "      <td>DSL</td>\n",
       "      <td>Yes</td>\n",
       "      <td>No</td>\n",
       "      <td>Yes</td>\n",
       "      <td>No</td>\n",
       "      <td>No</td>\n",
       "      <td>No</td>\n",
       "    </tr>\n",
       "    <tr>\n",
       "      <th>2</th>\n",
       "      <td>3668-QPYBK</td>\n",
       "      <td>DSL</td>\n",
       "      <td>Yes</td>\n",
       "      <td>Yes</td>\n",
       "      <td>No</td>\n",
       "      <td>No</td>\n",
       "      <td>No</td>\n",
       "      <td>No</td>\n",
       "    </tr>\n",
       "    <tr>\n",
       "      <th>3</th>\n",
       "      <td>7795-CFOCW</td>\n",
       "      <td>DSL</td>\n",
       "      <td>Yes</td>\n",
       "      <td>No</td>\n",
       "      <td>Yes</td>\n",
       "      <td>Yes</td>\n",
       "      <td>No</td>\n",
       "      <td>No</td>\n",
       "    </tr>\n",
       "    <tr>\n",
       "      <th>4</th>\n",
       "      <td>9237-HQITU</td>\n",
       "      <td>Fiber optic</td>\n",
       "      <td>No</td>\n",
       "      <td>No</td>\n",
       "      <td>No</td>\n",
       "      <td>No</td>\n",
       "      <td>No</td>\n",
       "      <td>No</td>\n",
       "    </tr>\n",
       "  </tbody>\n",
       "</table>\n",
       "</div>"
      ],
      "text/plain": [
       "   customerID InternetService OnlineSecurity OnlineBackup DeviceProtection  \\\n",
       "0  7590-VHVEG             DSL             No          Yes               No   \n",
       "1  5575-GNVDE             DSL            Yes           No              Yes   \n",
       "2  3668-QPYBK             DSL            Yes          Yes               No   \n",
       "3  7795-CFOCW             DSL            Yes           No              Yes   \n",
       "4  9237-HQITU     Fiber optic             No           No               No   \n",
       "\n",
       "  TechSupport StreamingTV StreamingMovies  \n",
       "0          No          No              No  \n",
       "1          No          No              No  \n",
       "2          No          No              No  \n",
       "3         Yes          No              No  \n",
       "4          No          No              No  "
      ]
     },
     "metadata": {},
     "output_type": "display_data"
    },
    {
     "name": "stdout",
     "output_type": "stream",
     "text": [
      "\n",
      "\u001b[1mОбщая информация:\n",
      "\u001b[0m\n",
      "<class 'pandas.core.frame.DataFrame'>\n",
      "RangeIndex: 5517 entries, 0 to 5516\n",
      "Data columns (total 8 columns):\n",
      " #   Column            Non-Null Count  Dtype \n",
      "---  ------            --------------  ----- \n",
      " 0   customerID        5517 non-null   object\n",
      " 1   InternetService   5517 non-null   object\n",
      " 2   OnlineSecurity    5517 non-null   object\n",
      " 3   OnlineBackup      5517 non-null   object\n",
      " 4   DeviceProtection  5517 non-null   object\n",
      " 5   TechSupport       5517 non-null   object\n",
      " 6   StreamingTV       5517 non-null   object\n",
      " 7   StreamingMovies   5517 non-null   object\n",
      "dtypes: object(8)\n",
      "memory usage: 344.9+ KB\n",
      "\n",
      "\u001b[1mОписательная статистика:\n",
      "\u001b[0m\n"
     ]
    },
    {
     "data": {
      "text/html": [
       "<div>\n",
       "<style scoped>\n",
       "    .dataframe tbody tr th:only-of-type {\n",
       "        vertical-align: middle;\n",
       "    }\n",
       "\n",
       "    .dataframe tbody tr th {\n",
       "        vertical-align: top;\n",
       "    }\n",
       "\n",
       "    .dataframe thead th {\n",
       "        text-align: right;\n",
       "    }\n",
       "</style>\n",
       "<table border=\"1\" class=\"dataframe\">\n",
       "  <thead>\n",
       "    <tr style=\"text-align: right;\">\n",
       "      <th></th>\n",
       "      <th>customerID</th>\n",
       "      <th>InternetService</th>\n",
       "      <th>OnlineSecurity</th>\n",
       "      <th>OnlineBackup</th>\n",
       "      <th>DeviceProtection</th>\n",
       "      <th>TechSupport</th>\n",
       "      <th>StreamingTV</th>\n",
       "      <th>StreamingMovies</th>\n",
       "    </tr>\n",
       "  </thead>\n",
       "  <tbody>\n",
       "    <tr>\n",
       "      <th>count</th>\n",
       "      <td>5517</td>\n",
       "      <td>5517</td>\n",
       "      <td>5517</td>\n",
       "      <td>5517</td>\n",
       "      <td>5517</td>\n",
       "      <td>5517</td>\n",
       "      <td>5517</td>\n",
       "      <td>5517</td>\n",
       "    </tr>\n",
       "    <tr>\n",
       "      <th>unique</th>\n",
       "      <td>5517</td>\n",
       "      <td>2</td>\n",
       "      <td>2</td>\n",
       "      <td>2</td>\n",
       "      <td>2</td>\n",
       "      <td>2</td>\n",
       "      <td>2</td>\n",
       "      <td>2</td>\n",
       "    </tr>\n",
       "    <tr>\n",
       "      <th>top</th>\n",
       "      <td>7590-VHVEG</td>\n",
       "      <td>Fiber optic</td>\n",
       "      <td>No</td>\n",
       "      <td>No</td>\n",
       "      <td>No</td>\n",
       "      <td>No</td>\n",
       "      <td>No</td>\n",
       "      <td>No</td>\n",
       "    </tr>\n",
       "    <tr>\n",
       "      <th>freq</th>\n",
       "      <td>1</td>\n",
       "      <td>3096</td>\n",
       "      <td>3498</td>\n",
       "      <td>3088</td>\n",
       "      <td>3095</td>\n",
       "      <td>3473</td>\n",
       "      <td>2810</td>\n",
       "      <td>2785</td>\n",
       "    </tr>\n",
       "  </tbody>\n",
       "</table>\n",
       "</div>"
      ],
      "text/plain": [
       "        customerID InternetService OnlineSecurity OnlineBackup  \\\n",
       "count         5517            5517           5517         5517   \n",
       "unique        5517               2              2            2   \n",
       "top     7590-VHVEG     Fiber optic             No           No   \n",
       "freq             1            3096           3498         3088   \n",
       "\n",
       "       DeviceProtection TechSupport StreamingTV StreamingMovies  \n",
       "count              5517        5517        5517            5517  \n",
       "unique                2           2           2               2  \n",
       "top                  No          No          No              No  \n",
       "freq               3095        3473        2810            2785  "
      ]
     },
     "metadata": {},
     "output_type": "display_data"
    },
    {
     "name": "stdout",
     "output_type": "stream",
     "text": [
      "\n",
      "\u001b[1mКол-во явных дубликатов:\n",
      "\u001b[0m\n"
     ]
    },
    {
     "data": {
      "text/plain": [
       "0"
      ]
     },
     "metadata": {},
     "output_type": "display_data"
    },
    {
     "name": "stdout",
     "output_type": "stream",
     "text": [
      "\n",
      "\u001b[1mКоличество пропусков:\n",
      "\u001b[0m\n"
     ]
    },
    {
     "data": {
      "text/plain": [
       "customerID          0\n",
       "InternetService     0\n",
       "OnlineSecurity      0\n",
       "OnlineBackup        0\n",
       "DeviceProtection    0\n",
       "TechSupport         0\n",
       "StreamingTV         0\n",
       "StreamingMovies     0\n",
       "dtype: int64"
      ]
     },
     "metadata": {},
     "output_type": "display_data"
    },
    {
     "name": "stdout",
     "output_type": "stream",
     "text": [
      "__________________________________\n",
      "\n",
      "\u001b[1mИнформация о датафрейме phone \n",
      "\n",
      "Первые пять строк:\u001b[0m\n"
     ]
    },
    {
     "data": {
      "text/html": [
       "<div>\n",
       "<style scoped>\n",
       "    .dataframe tbody tr th:only-of-type {\n",
       "        vertical-align: middle;\n",
       "    }\n",
       "\n",
       "    .dataframe tbody tr th {\n",
       "        vertical-align: top;\n",
       "    }\n",
       "\n",
       "    .dataframe thead th {\n",
       "        text-align: right;\n",
       "    }\n",
       "</style>\n",
       "<table border=\"1\" class=\"dataframe\">\n",
       "  <thead>\n",
       "    <tr style=\"text-align: right;\">\n",
       "      <th></th>\n",
       "      <th>customerID</th>\n",
       "      <th>MultipleLines</th>\n",
       "    </tr>\n",
       "  </thead>\n",
       "  <tbody>\n",
       "    <tr>\n",
       "      <th>0</th>\n",
       "      <td>5575-GNVDE</td>\n",
       "      <td>No</td>\n",
       "    </tr>\n",
       "    <tr>\n",
       "      <th>1</th>\n",
       "      <td>3668-QPYBK</td>\n",
       "      <td>No</td>\n",
       "    </tr>\n",
       "    <tr>\n",
       "      <th>2</th>\n",
       "      <td>9237-HQITU</td>\n",
       "      <td>No</td>\n",
       "    </tr>\n",
       "    <tr>\n",
       "      <th>3</th>\n",
       "      <td>9305-CDSKC</td>\n",
       "      <td>Yes</td>\n",
       "    </tr>\n",
       "    <tr>\n",
       "      <th>4</th>\n",
       "      <td>1452-KIOVK</td>\n",
       "      <td>Yes</td>\n",
       "    </tr>\n",
       "  </tbody>\n",
       "</table>\n",
       "</div>"
      ],
      "text/plain": [
       "   customerID MultipleLines\n",
       "0  5575-GNVDE            No\n",
       "1  3668-QPYBK            No\n",
       "2  9237-HQITU            No\n",
       "3  9305-CDSKC           Yes\n",
       "4  1452-KIOVK           Yes"
      ]
     },
     "metadata": {},
     "output_type": "display_data"
    },
    {
     "name": "stdout",
     "output_type": "stream",
     "text": [
      "\n",
      "\u001b[1mОбщая информация:\n",
      "\u001b[0m\n",
      "<class 'pandas.core.frame.DataFrame'>\n",
      "RangeIndex: 6361 entries, 0 to 6360\n",
      "Data columns (total 2 columns):\n",
      " #   Column         Non-Null Count  Dtype \n",
      "---  ------         --------------  ----- \n",
      " 0   customerID     6361 non-null   object\n",
      " 1   MultipleLines  6361 non-null   object\n",
      "dtypes: object(2)\n",
      "memory usage: 99.5+ KB\n",
      "\n",
      "\u001b[1mОписательная статистика:\n",
      "\u001b[0m\n"
     ]
    },
    {
     "data": {
      "text/html": [
       "<div>\n",
       "<style scoped>\n",
       "    .dataframe tbody tr th:only-of-type {\n",
       "        vertical-align: middle;\n",
       "    }\n",
       "\n",
       "    .dataframe tbody tr th {\n",
       "        vertical-align: top;\n",
       "    }\n",
       "\n",
       "    .dataframe thead th {\n",
       "        text-align: right;\n",
       "    }\n",
       "</style>\n",
       "<table border=\"1\" class=\"dataframe\">\n",
       "  <thead>\n",
       "    <tr style=\"text-align: right;\">\n",
       "      <th></th>\n",
       "      <th>customerID</th>\n",
       "      <th>MultipleLines</th>\n",
       "    </tr>\n",
       "  </thead>\n",
       "  <tbody>\n",
       "    <tr>\n",
       "      <th>count</th>\n",
       "      <td>6361</td>\n",
       "      <td>6361</td>\n",
       "    </tr>\n",
       "    <tr>\n",
       "      <th>unique</th>\n",
       "      <td>6361</td>\n",
       "      <td>2</td>\n",
       "    </tr>\n",
       "    <tr>\n",
       "      <th>top</th>\n",
       "      <td>5575-GNVDE</td>\n",
       "      <td>No</td>\n",
       "    </tr>\n",
       "    <tr>\n",
       "      <th>freq</th>\n",
       "      <td>1</td>\n",
       "      <td>3390</td>\n",
       "    </tr>\n",
       "  </tbody>\n",
       "</table>\n",
       "</div>"
      ],
      "text/plain": [
       "        customerID MultipleLines\n",
       "count         6361          6361\n",
       "unique        6361             2\n",
       "top     5575-GNVDE            No\n",
       "freq             1          3390"
      ]
     },
     "metadata": {},
     "output_type": "display_data"
    },
    {
     "name": "stdout",
     "output_type": "stream",
     "text": [
      "\n",
      "\u001b[1mКол-во явных дубликатов:\n",
      "\u001b[0m\n"
     ]
    },
    {
     "data": {
      "text/plain": [
       "0"
      ]
     },
     "metadata": {},
     "output_type": "display_data"
    },
    {
     "name": "stdout",
     "output_type": "stream",
     "text": [
      "\n",
      "\u001b[1mКоличество пропусков:\n",
      "\u001b[0m\n"
     ]
    },
    {
     "data": {
      "text/plain": [
       "customerID       0\n",
       "MultipleLines    0\n",
       "dtype: int64"
      ]
     },
     "metadata": {},
     "output_type": "display_data"
    },
    {
     "name": "stdout",
     "output_type": "stream",
     "text": [
      "__________________________________\n"
     ]
    }
   ],
   "source": [
    "def get_data_name(data):\n",
    "    name =[x for x in globals() if globals()[x] is data][0]\n",
    "    return name\n",
    "\n",
    "data_full = [contract, personal, internet, phone]\n",
    "for data in data_full:\n",
    "    print('\\n\\033[1m' + 'Информация о датафрейме', get_data_name(data), '\\n')\n",
    "    print('Первые пять строк:' + '\\033[0m')\n",
    "    display(data.head())\n",
    "    print('\\n\\033[1m' + 'Общая информация:\\n' + '\\033[0m')\n",
    "    data.info()\n",
    "    print('\\n\\033[1m' + 'Описательная статистика:\\n' + '\\033[0m')\n",
    "    display(data.describe())\n",
    "    print('\\n\\033[1m' + 'Кол-во явных дубликатов:\\n' + '\\033[0m')\n",
    "    display(data.duplicated().sum())\n",
    "    print('\\n\\033[1m' + 'Количество пропусков:\\n' + '\\033[0m')\n",
    "    display(data.isna().sum())\n",
    "    print('__________________________________')"
   ]
  },
  {
   "cell_type": "markdown",
   "id": "156fe831",
   "metadata": {},
   "source": [
    "- При первом взгляде на данные, пропуски и явные дубликаты не были обнаружены\n",
    "- Необходимо привести названия заголовков к стандарту PEP 8\n",
    "- Значение *No* в *EndDate* означает, что пользователь продолжает пользоваться услугами - это целевой признак\n",
    "- Есть проблема с типом данных -  почти во всех признаках используется тип данных `object`, для проведения исследования необходимо будет его изменить в признаках *BeginDate* и *EndDate* - на `datetime`, в признаке *TotalCharges* - на `float`\n",
    "- В датасетах *internet* и *phone* данные есть не по всем клиентам - некоторые пользуются только одной из двух возможных услуг\n",
    "- Значение *No* в *EndDate* означает, что пользователь продолжает пользоваться услугами - это целевой признак"
   ]
  },
  {
   "cell_type": "markdown",
   "id": "d41193f0",
   "metadata": {},
   "source": [
    "Изменим регистр в названиях заголовков в каждой таблице на змеиный, согласно PEP 8:"
   ]
  },
  {
   "cell_type": "code",
   "execution_count": 5,
   "id": "15c75a6e",
   "metadata": {},
   "outputs": [
    {
     "name": "stdout",
     "output_type": "stream",
     "text": [
      "['customer_id' 'begin_date' 'end_date' 'type' 'paperless_billing'\n",
      " 'payment_method' 'monthly_charges' 'total_charges']\n"
     ]
    }
   ],
   "source": [
    "contract = contract.rename(columns={\n",
    "    'customerID': 'customer_id', \n",
    "    'BeginDate': 'begin_date',\n",
    "    'EndDate': 'end_date',\n",
    "    'Type': 'type',\n",
    "    'PaperlessBilling': 'paperless_billing',\n",
    "    'PaymentMethod': 'payment_method',\n",
    "    'MonthlyCharges': 'monthly_charges',\n",
    "    'TotalCharges': 'total_charges'\n",
    "})\n",
    "\n",
    "print(contract.columns.values)"
   ]
  },
  {
   "cell_type": "code",
   "execution_count": 6,
   "id": "e5f616d4",
   "metadata": {},
   "outputs": [
    {
     "name": "stdout",
     "output_type": "stream",
     "text": [
      "['customer_id' 'gender' 'senior_citizen' 'partner' 'dependents']\n"
     ]
    }
   ],
   "source": [
    "personal = personal.rename(columns={\n",
    "    'customerID': 'customer_id', \n",
    "    'SeniorCitizen': 'senior_citizen',\n",
    "    'Partner': 'partner',\n",
    "    'Dependents': 'dependents'\n",
    "})\n",
    "\n",
    "print(personal.columns.values)"
   ]
  },
  {
   "cell_type": "code",
   "execution_count": 7,
   "id": "69305913",
   "metadata": {},
   "outputs": [
    {
     "name": "stdout",
     "output_type": "stream",
     "text": [
      "['customer_id' 'internet_service' 'online_security' 'online_backup'\n",
      " 'device_protection' 'tech_support' 'streaming_tv' 'streaming_movies']\n"
     ]
    }
   ],
   "source": [
    "internet = internet.rename(columns={\n",
    "    'customerID': 'customer_id', \n",
    "    'InternetService': 'internet_service',\n",
    "    'OnlineSecurity': 'online_security',\n",
    "    'OnlineBackup': 'online_backup',\n",
    "    'DeviceProtection': 'device_protection', \n",
    "    'TechSupport': 'tech_support',\n",
    "    'StreamingTV': 'streaming_tv',\n",
    "    'StreamingMovies': 'streaming_movies'\n",
    "})\n",
    "\n",
    "print(internet.columns.values)"
   ]
  },
  {
   "cell_type": "code",
   "execution_count": 8,
   "id": "f573e132",
   "metadata": {},
   "outputs": [
    {
     "name": "stdout",
     "output_type": "stream",
     "text": [
      "['customer_id' 'multiple_lines']\n"
     ]
    }
   ],
   "source": [
    "phone = phone.rename(columns={\n",
    "    'customerID': 'customer_id', \n",
    "    'MultipleLines': 'multiple_lines'\n",
    "})\n",
    "\n",
    "print(phone.columns.values)"
   ]
  },
  {
   "cell_type": "markdown",
   "id": "a585c3b4",
   "metadata": {},
   "source": [
    "Создадим новый столбец с целевым признаком *churn* на основе признака *end_date* (наличие даты в *end_date* говорит о том, что клиент ушел - в *churn* будет значение 1, если в *end_date* значение 'No', то в *churn* - 0) и проверим сбалансированность классов:"
   ]
  },
  {
   "cell_type": "code",
   "execution_count": 9,
   "id": "5b906a52",
   "metadata": {},
   "outputs": [
    {
     "data": {
      "text/plain": [
       "0    5174\n",
       "1    1869\n",
       "Name: churn, dtype: int64"
      ]
     },
     "execution_count": 9,
     "metadata": {},
     "output_type": "execute_result"
    }
   ],
   "source": [
    "contract['churn'] = (contract['end_date'] != 'No').astype(int)\n",
    "contract['churn'].value_counts()"
   ]
  },
  {
   "cell_type": "markdown",
   "id": "8085195e",
   "metadata": {},
   "source": [
    "Визуализируем количество классов в целевом признаке:"
   ]
  },
  {
   "cell_type": "code",
   "execution_count": 10,
   "id": "bbed27e1",
   "metadata": {
    "scrolled": false
   },
   "outputs": [
    {
     "data": {
      "image/png": "[encoded data removed]",
      "text/plain": [
       "<Figure size 504x360 with 1 Axes>"
      ]
     },
     "metadata": {
      "needs_background": "light"
     },
     "output_type": "display_data"
    }
   ],
   "source": [
    "plt.figure(figsize=(7,5))\n",
    "sns.set_style('whitegrid')\n",
    "sns.histplot(contract.loc[contract['churn'] == 0, 'churn'], color='royalblue', label='Действующие')\n",
    "sns.histplot(contract.loc[contract['churn'] == 1, 'churn'], color='orange', label='Ушедшие')\n",
    "plt.xticks(np.arange(min(contract['churn']), max(contract['churn'])+1, 1))\n",
    "\n",
    "\n",
    "plt.title('Количество действующих и ушедших клиентов банка', fontsize=16)\n",
    "plt.legend()\n",
    "plt.show()"
   ]
  },
  {
   "cell_type": "markdown",
   "id": "9b0edf95",
   "metadata": {},
   "source": [
    "Мы видим несбалансированность в целевом признаке - действующих клиентов больше, чем ушедших. Дисбаланс классов необходимо будет учесть при разбиении данных на выборки и обучении моделей. Посчитаем долю действующих клиентов:"
   ]
  },
  {
   "cell_type": "code",
   "execution_count": 11,
   "id": "801ed0d2",
   "metadata": {},
   "outputs": [
    {
     "data": {
      "text/plain": [
       "0.73"
      ]
     },
     "execution_count": 11,
     "metadata": {},
     "output_type": "execute_result"
    }
   ],
   "source": [
    "round(len(contract[contract['churn'] == 0]) / len(contract), 2)"
   ]
  },
  {
   "cell_type": "markdown",
   "id": "a6ca4ccc",
   "metadata": {},
   "source": [
    "Доля действующих клиентов составляет 0.73 - то есть *accuracy* константной модели, предсказывающей всем клиентам нули, составит также 0.73."
   ]
  },
  {
   "cell_type": "markdown",
   "id": "54626f5b",
   "metadata": {},
   "source": [
    "При попытке изменить тип данных в признаке *total_charges* с `object`на `float` для построения гистограммы распределения общих трат мы получили ошибку, поэтому проверим значения в данном признаке:"
   ]
  },
  {
   "cell_type": "code",
   "execution_count": 12,
   "id": "f84c8970",
   "metadata": {
    "scrolled": true
   },
   "outputs": [
    {
     "data": {
      "text/plain": [
       "         11\n",
       "20.2     11\n",
       "19.75     9\n",
       "20.05     8\n",
       "19.9      8\n",
       "Name: total_charges, dtype: int64"
      ]
     },
     "execution_count": 12,
     "metadata": {},
     "output_type": "execute_result"
    }
   ],
   "source": [
    "contract['total_charges'].value_counts().head()"
   ]
  },
  {
   "cell_type": "markdown",
   "id": "798b0ea8",
   "metadata": {},
   "source": [
    "Мы видим, что в признаке *total_charges* есть пустые значения. Выведем данные объекты: "
   ]
  },
  {
   "cell_type": "code",
   "execution_count": 13,
   "id": "41d236e9",
   "metadata": {
    "scrolled": true
   },
   "outputs": [
    {
     "data": {
      "text/html": [
       "<div>\n",
       "<style scoped>\n",
       "    .dataframe tbody tr th:only-of-type {\n",
       "        vertical-align: middle;\n",
       "    }\n",
       "\n",
       "    .dataframe tbody tr th {\n",
       "        vertical-align: top;\n",
       "    }\n",
       "\n",
       "    .dataframe thead th {\n",
       "        text-align: right;\n",
       "    }\n",
       "</style>\n",
       "<table border=\"1\" class=\"dataframe\">\n",
       "  <thead>\n",
       "    <tr style=\"text-align: right;\">\n",
       "      <th></th>\n",
       "      <th>customer_id</th>\n",
       "      <th>begin_date</th>\n",
       "      <th>end_date</th>\n",
       "      <th>type</th>\n",
       "      <th>paperless_billing</th>\n",
       "      <th>payment_method</th>\n",
       "      <th>monthly_charges</th>\n",
       "      <th>total_charges</th>\n",
       "      <th>churn</th>\n",
       "    </tr>\n",
       "  </thead>\n",
       "  <tbody>\n",
       "    <tr>\n",
       "      <th>488</th>\n",
       "      <td>4472-LVYGI</td>\n",
       "      <td>2020-02-01</td>\n",
       "      <td>No</td>\n",
       "      <td>Two year</td>\n",
       "      <td>Yes</td>\n",
       "      <td>Bank transfer (automatic)</td>\n",
       "      <td>52.55</td>\n",
       "      <td></td>\n",
       "      <td>0</td>\n",
       "    </tr>\n",
       "    <tr>\n",
       "      <th>753</th>\n",
       "      <td>3115-CZMZD</td>\n",
       "      <td>2020-02-01</td>\n",
       "      <td>No</td>\n",
       "      <td>Two year</td>\n",
       "      <td>No</td>\n",
       "      <td>Mailed check</td>\n",
       "      <td>20.25</td>\n",
       "      <td></td>\n",
       "      <td>0</td>\n",
       "    </tr>\n",
       "    <tr>\n",
       "      <th>936</th>\n",
       "      <td>5709-LVOEQ</td>\n",
       "      <td>2020-02-01</td>\n",
       "      <td>No</td>\n",
       "      <td>Two year</td>\n",
       "      <td>No</td>\n",
       "      <td>Mailed check</td>\n",
       "      <td>80.85</td>\n",
       "      <td></td>\n",
       "      <td>0</td>\n",
       "    </tr>\n",
       "    <tr>\n",
       "      <th>1082</th>\n",
       "      <td>4367-NUYAO</td>\n",
       "      <td>2020-02-01</td>\n",
       "      <td>No</td>\n",
       "      <td>Two year</td>\n",
       "      <td>No</td>\n",
       "      <td>Mailed check</td>\n",
       "      <td>25.75</td>\n",
       "      <td></td>\n",
       "      <td>0</td>\n",
       "    </tr>\n",
       "    <tr>\n",
       "      <th>1340</th>\n",
       "      <td>1371-DWPAZ</td>\n",
       "      <td>2020-02-01</td>\n",
       "      <td>No</td>\n",
       "      <td>Two year</td>\n",
       "      <td>No</td>\n",
       "      <td>Credit card (automatic)</td>\n",
       "      <td>56.05</td>\n",
       "      <td></td>\n",
       "      <td>0</td>\n",
       "    </tr>\n",
       "    <tr>\n",
       "      <th>3331</th>\n",
       "      <td>7644-OMVMY</td>\n",
       "      <td>2020-02-01</td>\n",
       "      <td>No</td>\n",
       "      <td>Two year</td>\n",
       "      <td>No</td>\n",
       "      <td>Mailed check</td>\n",
       "      <td>19.85</td>\n",
       "      <td></td>\n",
       "      <td>0</td>\n",
       "    </tr>\n",
       "    <tr>\n",
       "      <th>3826</th>\n",
       "      <td>3213-VVOLG</td>\n",
       "      <td>2020-02-01</td>\n",
       "      <td>No</td>\n",
       "      <td>Two year</td>\n",
       "      <td>No</td>\n",
       "      <td>Mailed check</td>\n",
       "      <td>25.35</td>\n",
       "      <td></td>\n",
       "      <td>0</td>\n",
       "    </tr>\n",
       "    <tr>\n",
       "      <th>4380</th>\n",
       "      <td>2520-SGTTA</td>\n",
       "      <td>2020-02-01</td>\n",
       "      <td>No</td>\n",
       "      <td>Two year</td>\n",
       "      <td>No</td>\n",
       "      <td>Mailed check</td>\n",
       "      <td>20.00</td>\n",
       "      <td></td>\n",
       "      <td>0</td>\n",
       "    </tr>\n",
       "    <tr>\n",
       "      <th>5218</th>\n",
       "      <td>2923-ARZLG</td>\n",
       "      <td>2020-02-01</td>\n",
       "      <td>No</td>\n",
       "      <td>One year</td>\n",
       "      <td>Yes</td>\n",
       "      <td>Mailed check</td>\n",
       "      <td>19.70</td>\n",
       "      <td></td>\n",
       "      <td>0</td>\n",
       "    </tr>\n",
       "    <tr>\n",
       "      <th>6670</th>\n",
       "      <td>4075-WKNIU</td>\n",
       "      <td>2020-02-01</td>\n",
       "      <td>No</td>\n",
       "      <td>Two year</td>\n",
       "      <td>No</td>\n",
       "      <td>Mailed check</td>\n",
       "      <td>73.35</td>\n",
       "      <td></td>\n",
       "      <td>0</td>\n",
       "    </tr>\n",
       "    <tr>\n",
       "      <th>6754</th>\n",
       "      <td>2775-SEFEE</td>\n",
       "      <td>2020-02-01</td>\n",
       "      <td>No</td>\n",
       "      <td>Two year</td>\n",
       "      <td>Yes</td>\n",
       "      <td>Bank transfer (automatic)</td>\n",
       "      <td>61.90</td>\n",
       "      <td></td>\n",
       "      <td>0</td>\n",
       "    </tr>\n",
       "  </tbody>\n",
       "</table>\n",
       "</div>"
      ],
      "text/plain": [
       "     customer_id  begin_date end_date      type paperless_billing  \\\n",
       "488   4472-LVYGI  2020-02-01       No  Two year               Yes   \n",
       "753   3115-CZMZD  2020-02-01       No  Two year                No   \n",
       "936   5709-LVOEQ  2020-02-01       No  Two year                No   \n",
       "1082  4367-NUYAO  2020-02-01       No  Two year                No   \n",
       "1340  1371-DWPAZ  2020-02-01       No  Two year                No   \n",
       "3331  7644-OMVMY  2020-02-01       No  Two year                No   \n",
       "3826  3213-VVOLG  2020-02-01       No  Two year                No   \n",
       "4380  2520-SGTTA  2020-02-01       No  Two year                No   \n",
       "5218  2923-ARZLG  2020-02-01       No  One year               Yes   \n",
       "6670  4075-WKNIU  2020-02-01       No  Two year                No   \n",
       "6754  2775-SEFEE  2020-02-01       No  Two year               Yes   \n",
       "\n",
       "                 payment_method  monthly_charges total_charges  churn  \n",
       "488   Bank transfer (automatic)            52.55                    0  \n",
       "753                Mailed check            20.25                    0  \n",
       "936                Mailed check            80.85                    0  \n",
       "1082               Mailed check            25.75                    0  \n",
       "1340    Credit card (automatic)            56.05                    0  \n",
       "3331               Mailed check            19.85                    0  \n",
       "3826               Mailed check            25.35                    0  \n",
       "4380               Mailed check            20.00                    0  \n",
       "5218               Mailed check            19.70                    0  \n",
       "6670               Mailed check            73.35                    0  \n",
       "6754  Bank transfer (automatic)            61.90                    0  "
      ]
     },
     "execution_count": 13,
     "metadata": {},
     "output_type": "execute_result"
    }
   ],
   "source": [
    "contract[contract['total_charges'] == ' ']"
   ]
  },
  {
   "cell_type": "markdown",
   "id": "e12e40ac",
   "metadata": {},
   "source": [
    "Дата начала пользования услугами у всех объектов равна 1 февраля 2020 года, что совпадает с датой выгрузки данных. Соответственно, это новые клиенты, заполним их общие траты значением из месячных расходов:"
   ]
  },
  {
   "cell_type": "code",
   "execution_count": 14,
   "id": "61cc8460",
   "metadata": {},
   "outputs": [],
   "source": [
    "contract.loc[contract['total_charges'] == ' ', 'total_charges'] =\\\n",
    "contract.loc[contract['total_charges'] == ' ']['monthly_charges'] "
   ]
  },
  {
   "cell_type": "markdown",
   "id": "16192713",
   "metadata": {},
   "source": [
    "Проверим результат заполнения пропусков:"
   ]
  },
  {
   "cell_type": "code",
   "execution_count": 15,
   "id": "8732760e",
   "metadata": {
    "scrolled": true
   },
   "outputs": [
    {
     "data": {
      "text/html": [
       "<div>\n",
       "<style scoped>\n",
       "    .dataframe tbody tr th:only-of-type {\n",
       "        vertical-align: middle;\n",
       "    }\n",
       "\n",
       "    .dataframe tbody tr th {\n",
       "        vertical-align: top;\n",
       "    }\n",
       "\n",
       "    .dataframe thead th {\n",
       "        text-align: right;\n",
       "    }\n",
       "</style>\n",
       "<table border=\"1\" class=\"dataframe\">\n",
       "  <thead>\n",
       "    <tr style=\"text-align: right;\">\n",
       "      <th></th>\n",
       "      <th>customer_id</th>\n",
       "      <th>begin_date</th>\n",
       "      <th>end_date</th>\n",
       "      <th>type</th>\n",
       "      <th>paperless_billing</th>\n",
       "      <th>payment_method</th>\n",
       "      <th>monthly_charges</th>\n",
       "      <th>total_charges</th>\n",
       "      <th>churn</th>\n",
       "    </tr>\n",
       "  </thead>\n",
       "  <tbody>\n",
       "    <tr>\n",
       "      <th>488</th>\n",
       "      <td>4472-LVYGI</td>\n",
       "      <td>2020-02-01</td>\n",
       "      <td>No</td>\n",
       "      <td>Two year</td>\n",
       "      <td>Yes</td>\n",
       "      <td>Bank transfer (automatic)</td>\n",
       "      <td>52.55</td>\n",
       "      <td>52.55</td>\n",
       "      <td>0</td>\n",
       "    </tr>\n",
       "    <tr>\n",
       "      <th>753</th>\n",
       "      <td>3115-CZMZD</td>\n",
       "      <td>2020-02-01</td>\n",
       "      <td>No</td>\n",
       "      <td>Two year</td>\n",
       "      <td>No</td>\n",
       "      <td>Mailed check</td>\n",
       "      <td>20.25</td>\n",
       "      <td>20.25</td>\n",
       "      <td>0</td>\n",
       "    </tr>\n",
       "    <tr>\n",
       "      <th>936</th>\n",
       "      <td>5709-LVOEQ</td>\n",
       "      <td>2020-02-01</td>\n",
       "      <td>No</td>\n",
       "      <td>Two year</td>\n",
       "      <td>No</td>\n",
       "      <td>Mailed check</td>\n",
       "      <td>80.85</td>\n",
       "      <td>80.85</td>\n",
       "      <td>0</td>\n",
       "    </tr>\n",
       "    <tr>\n",
       "      <th>1082</th>\n",
       "      <td>4367-NUYAO</td>\n",
       "      <td>2020-02-01</td>\n",
       "      <td>No</td>\n",
       "      <td>Two year</td>\n",
       "      <td>No</td>\n",
       "      <td>Mailed check</td>\n",
       "      <td>25.75</td>\n",
       "      <td>25.75</td>\n",
       "      <td>0</td>\n",
       "    </tr>\n",
       "    <tr>\n",
       "      <th>1340</th>\n",
       "      <td>1371-DWPAZ</td>\n",
       "      <td>2020-02-01</td>\n",
       "      <td>No</td>\n",
       "      <td>Two year</td>\n",
       "      <td>No</td>\n",
       "      <td>Credit card (automatic)</td>\n",
       "      <td>56.05</td>\n",
       "      <td>56.05</td>\n",
       "      <td>0</td>\n",
       "    </tr>\n",
       "    <tr>\n",
       "      <th>3331</th>\n",
       "      <td>7644-OMVMY</td>\n",
       "      <td>2020-02-01</td>\n",
       "      <td>No</td>\n",
       "      <td>Two year</td>\n",
       "      <td>No</td>\n",
       "      <td>Mailed check</td>\n",
       "      <td>19.85</td>\n",
       "      <td>19.85</td>\n",
       "      <td>0</td>\n",
       "    </tr>\n",
       "    <tr>\n",
       "      <th>3826</th>\n",
       "      <td>3213-VVOLG</td>\n",
       "      <td>2020-02-01</td>\n",
       "      <td>No</td>\n",
       "      <td>Two year</td>\n",
       "      <td>No</td>\n",
       "      <td>Mailed check</td>\n",
       "      <td>25.35</td>\n",
       "      <td>25.35</td>\n",
       "      <td>0</td>\n",
       "    </tr>\n",
       "    <tr>\n",
       "      <th>4380</th>\n",
       "      <td>2520-SGTTA</td>\n",
       "      <td>2020-02-01</td>\n",
       "      <td>No</td>\n",
       "      <td>Two year</td>\n",
       "      <td>No</td>\n",
       "      <td>Mailed check</td>\n",
       "      <td>20.00</td>\n",
       "      <td>20.0</td>\n",
       "      <td>0</td>\n",
       "    </tr>\n",
       "    <tr>\n",
       "      <th>5218</th>\n",
       "      <td>2923-ARZLG</td>\n",
       "      <td>2020-02-01</td>\n",
       "      <td>No</td>\n",
       "      <td>One year</td>\n",
       "      <td>Yes</td>\n",
       "      <td>Mailed check</td>\n",
       "      <td>19.70</td>\n",
       "      <td>19.7</td>\n",
       "      <td>0</td>\n",
       "    </tr>\n",
       "    <tr>\n",
       "      <th>6670</th>\n",
       "      <td>4075-WKNIU</td>\n",
       "      <td>2020-02-01</td>\n",
       "      <td>No</td>\n",
       "      <td>Two year</td>\n",
       "      <td>No</td>\n",
       "      <td>Mailed check</td>\n",
       "      <td>73.35</td>\n",
       "      <td>73.35</td>\n",
       "      <td>0</td>\n",
       "    </tr>\n",
       "    <tr>\n",
       "      <th>6754</th>\n",
       "      <td>2775-SEFEE</td>\n",
       "      <td>2020-02-01</td>\n",
       "      <td>No</td>\n",
       "      <td>Two year</td>\n",
       "      <td>Yes</td>\n",
       "      <td>Bank transfer (automatic)</td>\n",
       "      <td>61.90</td>\n",
       "      <td>61.9</td>\n",
       "      <td>0</td>\n",
       "    </tr>\n",
       "  </tbody>\n",
       "</table>\n",
       "</div>"
      ],
      "text/plain": [
       "     customer_id  begin_date end_date      type paperless_billing  \\\n",
       "488   4472-LVYGI  2020-02-01       No  Two year               Yes   \n",
       "753   3115-CZMZD  2020-02-01       No  Two year                No   \n",
       "936   5709-LVOEQ  2020-02-01       No  Two year                No   \n",
       "1082  4367-NUYAO  2020-02-01       No  Two year                No   \n",
       "1340  1371-DWPAZ  2020-02-01       No  Two year                No   \n",
       "3331  7644-OMVMY  2020-02-01       No  Two year                No   \n",
       "3826  3213-VVOLG  2020-02-01       No  Two year                No   \n",
       "4380  2520-SGTTA  2020-02-01       No  Two year                No   \n",
       "5218  2923-ARZLG  2020-02-01       No  One year               Yes   \n",
       "6670  4075-WKNIU  2020-02-01       No  Two year                No   \n",
       "6754  2775-SEFEE  2020-02-01       No  Two year               Yes   \n",
       "\n",
       "                 payment_method  monthly_charges total_charges  churn  \n",
       "488   Bank transfer (automatic)            52.55         52.55      0  \n",
       "753                Mailed check            20.25         20.25      0  \n",
       "936                Mailed check            80.85         80.85      0  \n",
       "1082               Mailed check            25.75         25.75      0  \n",
       "1340    Credit card (automatic)            56.05         56.05      0  \n",
       "3331               Mailed check            19.85         19.85      0  \n",
       "3826               Mailed check            25.35         25.35      0  \n",
       "4380               Mailed check            20.00          20.0      0  \n",
       "5218               Mailed check            19.70          19.7      0  \n",
       "6670               Mailed check            73.35         73.35      0  \n",
       "6754  Bank transfer (automatic)            61.90          61.9      0  "
      ]
     },
     "execution_count": 15,
     "metadata": {},
     "output_type": "execute_result"
    }
   ],
   "source": [
    "contract[contract['total_charges'] == contract['monthly_charges']]"
   ]
  },
  {
   "cell_type": "markdown",
   "id": "8ad3f970",
   "metadata": {},
   "source": [
    "Изменим тип данных в столбце *total_charges* на численный:"
   ]
  },
  {
   "cell_type": "code",
   "execution_count": 16,
   "id": "e34f08e5",
   "metadata": {},
   "outputs": [],
   "source": [
    "contract['total_charges'] = contract['total_charges'].astype(float)"
   ]
  },
  {
   "cell_type": "markdown",
   "id": "b2419097",
   "metadata": {},
   "source": [
    "Построим гистограммы распределения общих и ежемесячных трат всех пользователей на услуги, а также в разбивке пользователей по целевому признаку *churn* (действующий / ушедший клиент):"
   ]
  },
  {
   "cell_type": "code",
   "execution_count": 17,
   "id": "1ef5e7ec",
   "metadata": {
    "scrolled": false
   },
   "outputs": [
    {
     "data": {
      "image/png": "[encoded data removed]",
      "text/plain": [
       "<Figure size 1152x360 with 2 Axes>"
      ]
     },
     "metadata": {},
     "output_type": "display_data"
    },
    {
     "data": {
      "image/png": "[encoded data removed]",
      "text/plain": [
       "<Figure size 1152x360 with 2 Axes>"
      ]
     },
     "metadata": {},
     "output_type": "display_data"
    },
    {
     "data": {
      "image/png": "[encoded data removed]",
      "text/plain": [
       "<Figure size 1152x360 with 2 Axes>"
      ]
     },
     "metadata": {},
     "output_type": "display_data"
    }
   ],
   "source": [
    "# функция по построению гистограммы распределения трат пользователей, принимает на вход данные и название графика\n",
    "def charges_hist(data, title):\n",
    "    sns.set_style('whitegrid')\n",
    "\n",
    "    fig, axes = plt.subplots(1, 2, figsize=(16,5))\n",
    "    fig.suptitle(title, fontsize=16)\n",
    "    \n",
    "    # гистограмма общих трат пользователей\n",
    "    ax0 = sns.histplot(ax=axes[0], data=data, x='total_charges', bins=50, color='royalblue')\n",
    "    ax0.set_title('Общие траты')\n",
    "\n",
    "    # гистограмма ежемесячных трат пользователей\n",
    "    ax1 = sns.histplot(ax=axes[1], data=data, x='monthly_charges', bins=50, color='orange')\n",
    "    ax1.set_title('Ежемесячные траты')\n",
    "\n",
    "    plt.show()\n",
    "\n",
    "# визуализация по всем пользователям\n",
    "charges_hist(contract, 'Траты всех пользователей на услуги')\n",
    "\n",
    "# визуализация по действующим пользователям\n",
    "charges_hist(contract[contract['churn'] == 0], 'Траты действующих пользователей на услуги')\n",
    "\n",
    "# визуализация по ушедшим пользователям\n",
    "charges_hist(contract[contract['churn'] == 1], 'Траты ушедших пользователей на услуги')"
   ]
  },
  {
   "cell_type": "markdown",
   "id": "cb7f3f4e",
   "metadata": {},
   "source": [
    "И у действующих, и у ушедших клиентов на графике с общими тратами заметна сильная скошенность вправо - количество пользователей уменьшается при увеличении общих трат. Данное предположение подтверждается графиком ежемесячных трат ушедших пользователей - есть сильный пик при повышении трат. Также и у действующих, и у ушедших пользователей на графике с ежемесячными тратами есть сильный пик в районе минимального значения, равного 20."
   ]
  },
  {
   "cell_type": "markdown",
   "id": "9afa145a",
   "metadata": {},
   "source": [
    "### План работы\n",
    "\n",
    "**1. Предобработка данных**\n",
    "- Изучение общей информации (info, describe, построение графиков распределения численных признаков *total_charges* и *monthly_charges*)\n",
    "- Изменение типов данных: в признаках *begin_date* и *end_date* - с `object` на `datetime`, в признаке *total_charges* - c `object`на `float`\n",
    "- Во всех датасетах в бинарных категориальных признаках используется тип *object*, и только в признаке *SeniorCitizen* использован числовой тип `int`(значения в признаке 0 либо 1). Логично заменить тип данных на `object`, чтобы в дальнейшем при кодировании признаков наши данные были однородными\n",
    "- Проверка на пропуски и аномалии после изменения типов данных и их обработка при необходимости\n",
    "- Объединение таблиц по признаку *customer_id* (сначала таблицы *contract* и *personal*, затем к ним последовательно присоединим *internet*, *phone*)\n",
    "- Обработка пропусков, возникших при объединении таблиц\n",
    "- Расчет коэффициента корреляции Пирсона для количественных признаков, создание новых и удаление неинформативных признаков\n",
    "- Создание целевого признака *churn* на основе признака *end_date* (если в *end_date* указана дата, значит, клиент ушел)\n",
    "\n",
    "**2. Работа с моделями**\n",
    "- Кодирование категориальных признаков техникой One-Hot Encoding для логистической регрессии, для моделей, основанных на деревьях - техникой Ordinal Encoder  \n",
    "- Проверка целевого признака на дисбаланс, при необходимости борьба с дисбалансом\n",
    "- Разбивка данных на обучающую (75%) и тестовую (25%) выборки\n",
    "- Обучение моделей и подбор гиперпараметров с помощью *GridSearchCV*\n",
    "- Сравнение результатов работы моделей (метрики *ROC-AUC* и *Accuracy*) и выбор лучшей модели\n",
    "\n",
    "**3. Тестирование модели**\n",
    "- Проверка качества предсказания выбранной модели на тестовой выборке (метрики *ROC-AUC* и *Accuracy*)\n",
    "\n",
    "**4. Итоговый отчет**\n",
    "- Summary по каждому пункту проделанной работы, выводы по обученной модели и значимости выбранных признаков"
   ]
  },
  {
   "cell_type": "markdown",
   "id": "850888e0",
   "metadata": {},
   "source": [
    "### Объединение таблиц"
   ]
  },
  {
   "cell_type": "markdown",
   "id": "33ab010f",
   "metadata": {},
   "source": [
    "Проведем последовательное объединение таблиц по признаку *customer_id* в новую таблицу *data*. Сначала объединим таблицы *contract* и *personal*, так как в них есть все *customer_id*, затем присоединим остальные таблицы:"
   ]
  },
  {
   "cell_type": "code",
   "execution_count": 18,
   "id": "f7e9210a",
   "metadata": {},
   "outputs": [],
   "source": [
    "data = contract.merge(personal, how='left', on='customer_id') \\\n",
    "               .merge(internet, how='left', on='customer_id') \\\n",
    "               .merge(phone, how='left', on='customer_id') "
   ]
  },
  {
   "cell_type": "markdown",
   "id": "9340e62d",
   "metadata": {},
   "source": [
    "Проверим объединенный датасет на наличие пропусков, аномалий и дубликатов:"
   ]
  },
  {
   "cell_type": "code",
   "execution_count": 19,
   "id": "88980833",
   "metadata": {
    "scrolled": false
   },
   "outputs": [
    {
     "data": {
      "text/html": [
       "<div>\n",
       "<style scoped>\n",
       "    .dataframe tbody tr th:only-of-type {\n",
       "        vertical-align: middle;\n",
       "    }\n",
       "\n",
       "    .dataframe tbody tr th {\n",
       "        vertical-align: top;\n",
       "    }\n",
       "\n",
       "    .dataframe thead th {\n",
       "        text-align: right;\n",
       "    }\n",
       "</style>\n",
       "<table border=\"1\" class=\"dataframe\">\n",
       "  <thead>\n",
       "    <tr style=\"text-align: right;\">\n",
       "      <th></th>\n",
       "      <th>customer_id</th>\n",
       "      <th>begin_date</th>\n",
       "      <th>end_date</th>\n",
       "      <th>type</th>\n",
       "      <th>paperless_billing</th>\n",
       "      <th>payment_method</th>\n",
       "      <th>monthly_charges</th>\n",
       "      <th>total_charges</th>\n",
       "      <th>churn</th>\n",
       "      <th>gender</th>\n",
       "      <th>senior_citizen</th>\n",
       "      <th>partner</th>\n",
       "      <th>dependents</th>\n",
       "      <th>internet_service</th>\n",
       "      <th>online_security</th>\n",
       "      <th>online_backup</th>\n",
       "      <th>device_protection</th>\n",
       "      <th>tech_support</th>\n",
       "      <th>streaming_tv</th>\n",
       "      <th>streaming_movies</th>\n",
       "      <th>multiple_lines</th>\n",
       "    </tr>\n",
       "  </thead>\n",
       "  <tbody>\n",
       "    <tr>\n",
       "      <th>0</th>\n",
       "      <td>7590-VHVEG</td>\n",
       "      <td>2020-01-01</td>\n",
       "      <td>No</td>\n",
       "      <td>Month-to-month</td>\n",
       "      <td>Yes</td>\n",
       "      <td>Electronic check</td>\n",
       "      <td>29.85</td>\n",
       "      <td>29.85</td>\n",
       "      <td>0</td>\n",
       "      <td>Female</td>\n",
       "      <td>0</td>\n",
       "      <td>Yes</td>\n",
       "      <td>No</td>\n",
       "      <td>DSL</td>\n",
       "      <td>No</td>\n",
       "      <td>Yes</td>\n",
       "      <td>No</td>\n",
       "      <td>No</td>\n",
       "      <td>No</td>\n",
       "      <td>No</td>\n",
       "      <td>NaN</td>\n",
       "    </tr>\n",
       "    <tr>\n",
       "      <th>1</th>\n",
       "      <td>5575-GNVDE</td>\n",
       "      <td>2017-04-01</td>\n",
       "      <td>No</td>\n",
       "      <td>One year</td>\n",
       "      <td>No</td>\n",
       "      <td>Mailed check</td>\n",
       "      <td>56.95</td>\n",
       "      <td>1889.50</td>\n",
       "      <td>0</td>\n",
       "      <td>Male</td>\n",
       "      <td>0</td>\n",
       "      <td>No</td>\n",
       "      <td>No</td>\n",
       "      <td>DSL</td>\n",
       "      <td>Yes</td>\n",
       "      <td>No</td>\n",
       "      <td>Yes</td>\n",
       "      <td>No</td>\n",
       "      <td>No</td>\n",
       "      <td>No</td>\n",
       "      <td>No</td>\n",
       "    </tr>\n",
       "    <tr>\n",
       "      <th>2</th>\n",
       "      <td>3668-QPYBK</td>\n",
       "      <td>2019-10-01</td>\n",
       "      <td>2019-12-01 00:00:00</td>\n",
       "      <td>Month-to-month</td>\n",
       "      <td>Yes</td>\n",
       "      <td>Mailed check</td>\n",
       "      <td>53.85</td>\n",
       "      <td>108.15</td>\n",
       "      <td>1</td>\n",
       "      <td>Male</td>\n",
       "      <td>0</td>\n",
       "      <td>No</td>\n",
       "      <td>No</td>\n",
       "      <td>DSL</td>\n",
       "      <td>Yes</td>\n",
       "      <td>Yes</td>\n",
       "      <td>No</td>\n",
       "      <td>No</td>\n",
       "      <td>No</td>\n",
       "      <td>No</td>\n",
       "      <td>No</td>\n",
       "    </tr>\n",
       "    <tr>\n",
       "      <th>3</th>\n",
       "      <td>7795-CFOCW</td>\n",
       "      <td>2016-05-01</td>\n",
       "      <td>No</td>\n",
       "      <td>One year</td>\n",
       "      <td>No</td>\n",
       "      <td>Bank transfer (automatic)</td>\n",
       "      <td>42.30</td>\n",
       "      <td>1840.75</td>\n",
       "      <td>0</td>\n",
       "      <td>Male</td>\n",
       "      <td>0</td>\n",
       "      <td>No</td>\n",
       "      <td>No</td>\n",
       "      <td>DSL</td>\n",
       "      <td>Yes</td>\n",
       "      <td>No</td>\n",
       "      <td>Yes</td>\n",
       "      <td>Yes</td>\n",
       "      <td>No</td>\n",
       "      <td>No</td>\n",
       "      <td>NaN</td>\n",
       "    </tr>\n",
       "    <tr>\n",
       "      <th>4</th>\n",
       "      <td>9237-HQITU</td>\n",
       "      <td>2019-09-01</td>\n",
       "      <td>2019-11-01 00:00:00</td>\n",
       "      <td>Month-to-month</td>\n",
       "      <td>Yes</td>\n",
       "      <td>Electronic check</td>\n",
       "      <td>70.70</td>\n",
       "      <td>151.65</td>\n",
       "      <td>1</td>\n",
       "      <td>Female</td>\n",
       "      <td>0</td>\n",
       "      <td>No</td>\n",
       "      <td>No</td>\n",
       "      <td>Fiber optic</td>\n",
       "      <td>No</td>\n",
       "      <td>No</td>\n",
       "      <td>No</td>\n",
       "      <td>No</td>\n",
       "      <td>No</td>\n",
       "      <td>No</td>\n",
       "      <td>No</td>\n",
       "    </tr>\n",
       "  </tbody>\n",
       "</table>\n",
       "</div>"
      ],
      "text/plain": [
       "  customer_id  begin_date             end_date            type  \\\n",
       "0  7590-VHVEG  2020-01-01                   No  Month-to-month   \n",
       "1  5575-GNVDE  2017-04-01                   No        One year   \n",
       "2  3668-QPYBK  2019-10-01  2019-12-01 00:00:00  Month-to-month   \n",
       "3  7795-CFOCW  2016-05-01                   No        One year   \n",
       "4  9237-HQITU  2019-09-01  2019-11-01 00:00:00  Month-to-month   \n",
       "\n",
       "  paperless_billing             payment_method  monthly_charges  \\\n",
       "0               Yes           Electronic check            29.85   \n",
       "1                No               Mailed check            56.95   \n",
       "2               Yes               Mailed check            53.85   \n",
       "3                No  Bank transfer (automatic)            42.30   \n",
       "4               Yes           Electronic check            70.70   \n",
       "\n",
       "   total_charges  churn  gender  senior_citizen partner dependents  \\\n",
       "0          29.85      0  Female               0     Yes         No   \n",
       "1        1889.50      0    Male               0      No         No   \n",
       "2         108.15      1    Male               0      No         No   \n",
       "3        1840.75      0    Male               0      No         No   \n",
       "4         151.65      1  Female               0      No         No   \n",
       "\n",
       "  internet_service online_security online_backup device_protection  \\\n",
       "0              DSL              No           Yes                No   \n",
       "1              DSL             Yes            No               Yes   \n",
       "2              DSL             Yes           Yes                No   \n",
       "3              DSL             Yes            No               Yes   \n",
       "4      Fiber optic              No            No                No   \n",
       "\n",
       "  tech_support streaming_tv streaming_movies multiple_lines  \n",
       "0           No           No               No            NaN  \n",
       "1           No           No               No             No  \n",
       "2           No           No               No             No  \n",
       "3          Yes           No               No            NaN  \n",
       "4           No           No               No             No  "
      ]
     },
     "metadata": {},
     "output_type": "display_data"
    },
    {
     "name": "stdout",
     "output_type": "stream",
     "text": [
      "<class 'pandas.core.frame.DataFrame'>\n",
      "Int64Index: 7043 entries, 0 to 7042\n",
      "Data columns (total 21 columns):\n",
      " #   Column             Non-Null Count  Dtype  \n",
      "---  ------             --------------  -----  \n",
      " 0   customer_id        7043 non-null   object \n",
      " 1   begin_date         7043 non-null   object \n",
      " 2   end_date           7043 non-null   object \n",
      " 3   type               7043 non-null   object \n",
      " 4   paperless_billing  7043 non-null   object \n",
      " 5   payment_method     7043 non-null   object \n",
      " 6   monthly_charges    7043 non-null   float64\n",
      " 7   total_charges      7043 non-null   float64\n",
      " 8   churn              7043 non-null   int64  \n",
      " 9   gender             7043 non-null   object \n",
      " 10  senior_citizen     7043 non-null   int64  \n",
      " 11  partner            7043 non-null   object \n",
      " 12  dependents         7043 non-null   object \n",
      " 13  internet_service   5517 non-null   object \n",
      " 14  online_security    5517 non-null   object \n",
      " 15  online_backup      5517 non-null   object \n",
      " 16  device_protection  5517 non-null   object \n",
      " 17  tech_support       5517 non-null   object \n",
      " 18  streaming_tv       5517 non-null   object \n",
      " 19  streaming_movies   5517 non-null   object \n",
      " 20  multiple_lines     6361 non-null   object \n",
      "dtypes: float64(2), int64(2), object(17)\n",
      "memory usage: 1.2+ MB\n"
     ]
    },
    {
     "data": {
      "text/plain": [
       "None"
      ]
     },
     "metadata": {},
     "output_type": "display_data"
    },
    {
     "data": {
      "text/html": [
       "<div>\n",
       "<style scoped>\n",
       "    .dataframe tbody tr th:only-of-type {\n",
       "        vertical-align: middle;\n",
       "    }\n",
       "\n",
       "    .dataframe tbody tr th {\n",
       "        vertical-align: top;\n",
       "    }\n",
       "\n",
       "    .dataframe thead th {\n",
       "        text-align: right;\n",
       "    }\n",
       "</style>\n",
       "<table border=\"1\" class=\"dataframe\">\n",
       "  <thead>\n",
       "    <tr style=\"text-align: right;\">\n",
       "      <th></th>\n",
       "      <th>monthly_charges</th>\n",
       "      <th>total_charges</th>\n",
       "      <th>churn</th>\n",
       "      <th>senior_citizen</th>\n",
       "    </tr>\n",
       "  </thead>\n",
       "  <tbody>\n",
       "    <tr>\n",
       "      <th>count</th>\n",
       "      <td>7043.000000</td>\n",
       "      <td>7043.000000</td>\n",
       "      <td>7043.000000</td>\n",
       "      <td>7043.000000</td>\n",
       "    </tr>\n",
       "    <tr>\n",
       "      <th>mean</th>\n",
       "      <td>64.761692</td>\n",
       "      <td>2279.798992</td>\n",
       "      <td>0.265370</td>\n",
       "      <td>0.162147</td>\n",
       "    </tr>\n",
       "    <tr>\n",
       "      <th>std</th>\n",
       "      <td>30.090047</td>\n",
       "      <td>2266.730170</td>\n",
       "      <td>0.441561</td>\n",
       "      <td>0.368612</td>\n",
       "    </tr>\n",
       "    <tr>\n",
       "      <th>min</th>\n",
       "      <td>18.250000</td>\n",
       "      <td>18.800000</td>\n",
       "      <td>0.000000</td>\n",
       "      <td>0.000000</td>\n",
       "    </tr>\n",
       "    <tr>\n",
       "      <th>25%</th>\n",
       "      <td>35.500000</td>\n",
       "      <td>398.550000</td>\n",
       "      <td>0.000000</td>\n",
       "      <td>0.000000</td>\n",
       "    </tr>\n",
       "    <tr>\n",
       "      <th>50%</th>\n",
       "      <td>70.350000</td>\n",
       "      <td>1394.550000</td>\n",
       "      <td>0.000000</td>\n",
       "      <td>0.000000</td>\n",
       "    </tr>\n",
       "    <tr>\n",
       "      <th>75%</th>\n",
       "      <td>89.850000</td>\n",
       "      <td>3786.600000</td>\n",
       "      <td>1.000000</td>\n",
       "      <td>0.000000</td>\n",
       "    </tr>\n",
       "    <tr>\n",
       "      <th>max</th>\n",
       "      <td>118.750000</td>\n",
       "      <td>8684.800000</td>\n",
       "      <td>1.000000</td>\n",
       "      <td>1.000000</td>\n",
       "    </tr>\n",
       "  </tbody>\n",
       "</table>\n",
       "</div>"
      ],
      "text/plain": [
       "       monthly_charges  total_charges        churn  senior_citizen\n",
       "count      7043.000000    7043.000000  7043.000000     7043.000000\n",
       "mean         64.761692    2279.798992     0.265370        0.162147\n",
       "std          30.090047    2266.730170     0.441561        0.368612\n",
       "min          18.250000      18.800000     0.000000        0.000000\n",
       "25%          35.500000     398.550000     0.000000        0.000000\n",
       "50%          70.350000    1394.550000     0.000000        0.000000\n",
       "75%          89.850000    3786.600000     1.000000        0.000000\n",
       "max         118.750000    8684.800000     1.000000        1.000000"
      ]
     },
     "metadata": {},
     "output_type": "display_data"
    },
    {
     "name": "stdout",
     "output_type": "stream",
     "text": [
      "Количество дубликатов в объектах: 0\n",
      "Количество дубликатов в признаке customer_id: 0\n"
     ]
    }
   ],
   "source": [
    "#выводим первые 5 строк таблицы\n",
    "display(data.head())\n",
    "    \n",
    "#выводим информацию о датасете\n",
    "display(data.info())\n",
    "    \n",
    "#выводим описательную статистику данных\n",
    "display(data.describe())\n",
    "    \n",
    "#проверяем наличие явных дубликатов в объектах\n",
    "print('Количество дубликатов в объектах:', data.duplicated().sum())\n",
    "\n",
    "# проверяем уникальность признака *customerID*\n",
    "print('Количество дубликатов в признаке customer_id:', data['customer_id'].duplicated().sum())"
   ]
  },
  {
   "cell_type": "markdown",
   "id": "ff38baea",
   "metadata": {},
   "source": [
    "При объединении таблиц появились пропуски - заполним их после проверки корреляции признаков, иначе можно получить неверный расчет корреляции."
   ]
  },
  {
   "cell_type": "markdown",
   "id": "14310ca6",
   "metadata": {},
   "source": [
    "### Работа с признаками"
   ]
  },
  {
   "cell_type": "markdown",
   "id": "b7dcf8b0",
   "metadata": {},
   "source": [
    "Создадим новый количественный признак *total_days* с количеством дней использования услуг. Для этого сначала заменим все значения \"No\" в *end_date* на дату выгрузки датасета (01.02.2020):"
   ]
  },
  {
   "cell_type": "code",
   "execution_count": 20,
   "id": "026b823c",
   "metadata": {},
   "outputs": [
    {
     "name": "stdout",
     "output_type": "stream",
     "text": [
      "0\n"
     ]
    }
   ],
   "source": [
    "data['end_date'] = data['end_date'].replace(['No'], ['2020-02-01'])\n",
    "print(data[data['end_date'] == 'No'].shape[0])"
   ]
  },
  {
   "cell_type": "markdown",
   "id": "6b01f7a2",
   "metadata": {},
   "source": [
    "Переведем *end_date* и *begin_date* в формат даты:"
   ]
  },
  {
   "cell_type": "code",
   "execution_count": 21,
   "id": "6107c051",
   "metadata": {
    "scrolled": false
   },
   "outputs": [
    {
     "data": {
      "text/html": [
       "<div>\n",
       "<style scoped>\n",
       "    .dataframe tbody tr th:only-of-type {\n",
       "        vertical-align: middle;\n",
       "    }\n",
       "\n",
       "    .dataframe tbody tr th {\n",
       "        vertical-align: top;\n",
       "    }\n",
       "\n",
       "    .dataframe thead th {\n",
       "        text-align: right;\n",
       "    }\n",
       "</style>\n",
       "<table border=\"1\" class=\"dataframe\">\n",
       "  <thead>\n",
       "    <tr style=\"text-align: right;\">\n",
       "      <th></th>\n",
       "      <th>customer_id</th>\n",
       "      <th>begin_date</th>\n",
       "      <th>end_date</th>\n",
       "      <th>type</th>\n",
       "      <th>paperless_billing</th>\n",
       "      <th>payment_method</th>\n",
       "      <th>monthly_charges</th>\n",
       "      <th>total_charges</th>\n",
       "      <th>churn</th>\n",
       "      <th>gender</th>\n",
       "      <th>senior_citizen</th>\n",
       "      <th>partner</th>\n",
       "      <th>dependents</th>\n",
       "      <th>internet_service</th>\n",
       "      <th>online_security</th>\n",
       "      <th>online_backup</th>\n",
       "      <th>device_protection</th>\n",
       "      <th>tech_support</th>\n",
       "      <th>streaming_tv</th>\n",
       "      <th>streaming_movies</th>\n",
       "      <th>multiple_lines</th>\n",
       "    </tr>\n",
       "  </thead>\n",
       "  <tbody>\n",
       "    <tr>\n",
       "      <th>0</th>\n",
       "      <td>7590-VHVEG</td>\n",
       "      <td>2020-01-01</td>\n",
       "      <td>2020-02-01</td>\n",
       "      <td>Month-to-month</td>\n",
       "      <td>Yes</td>\n",
       "      <td>Electronic check</td>\n",
       "      <td>29.85</td>\n",
       "      <td>29.85</td>\n",
       "      <td>0</td>\n",
       "      <td>Female</td>\n",
       "      <td>0</td>\n",
       "      <td>Yes</td>\n",
       "      <td>No</td>\n",
       "      <td>DSL</td>\n",
       "      <td>No</td>\n",
       "      <td>Yes</td>\n",
       "      <td>No</td>\n",
       "      <td>No</td>\n",
       "      <td>No</td>\n",
       "      <td>No</td>\n",
       "      <td>NaN</td>\n",
       "    </tr>\n",
       "    <tr>\n",
       "      <th>1</th>\n",
       "      <td>5575-GNVDE</td>\n",
       "      <td>2017-04-01</td>\n",
       "      <td>2020-02-01</td>\n",
       "      <td>One year</td>\n",
       "      <td>No</td>\n",
       "      <td>Mailed check</td>\n",
       "      <td>56.95</td>\n",
       "      <td>1889.50</td>\n",
       "      <td>0</td>\n",
       "      <td>Male</td>\n",
       "      <td>0</td>\n",
       "      <td>No</td>\n",
       "      <td>No</td>\n",
       "      <td>DSL</td>\n",
       "      <td>Yes</td>\n",
       "      <td>No</td>\n",
       "      <td>Yes</td>\n",
       "      <td>No</td>\n",
       "      <td>No</td>\n",
       "      <td>No</td>\n",
       "      <td>No</td>\n",
       "    </tr>\n",
       "  </tbody>\n",
       "</table>\n",
       "</div>"
      ],
      "text/plain": [
       "  customer_id begin_date   end_date            type paperless_billing  \\\n",
       "0  7590-VHVEG 2020-01-01 2020-02-01  Month-to-month               Yes   \n",
       "1  5575-GNVDE 2017-04-01 2020-02-01        One year                No   \n",
       "\n",
       "     payment_method  monthly_charges  total_charges  churn  gender  \\\n",
       "0  Electronic check            29.85          29.85      0  Female   \n",
       "1      Mailed check            56.95        1889.50      0    Male   \n",
       "\n",
       "   senior_citizen partner dependents internet_service online_security  \\\n",
       "0               0     Yes         No              DSL              No   \n",
       "1               0      No         No              DSL             Yes   \n",
       "\n",
       "  online_backup device_protection tech_support streaming_tv streaming_movies  \\\n",
       "0           Yes                No           No           No               No   \n",
       "1            No               Yes           No           No               No   \n",
       "\n",
       "  multiple_lines  \n",
       "0            NaN  \n",
       "1             No  "
      ]
     },
     "metadata": {},
     "output_type": "display_data"
    },
    {
     "name": "stdout",
     "output_type": "stream",
     "text": [
      "<class 'pandas.core.frame.DataFrame'>\n",
      "Int64Index: 7043 entries, 0 to 7042\n",
      "Data columns (total 21 columns):\n",
      " #   Column             Non-Null Count  Dtype         \n",
      "---  ------             --------------  -----         \n",
      " 0   customer_id        7043 non-null   object        \n",
      " 1   begin_date         7043 non-null   datetime64[ns]\n",
      " 2   end_date           7043 non-null   datetime64[ns]\n",
      " 3   type               7043 non-null   object        \n",
      " 4   paperless_billing  7043 non-null   object        \n",
      " 5   payment_method     7043 non-null   object        \n",
      " 6   monthly_charges    7043 non-null   float64       \n",
      " 7   total_charges      7043 non-null   float64       \n",
      " 8   churn              7043 non-null   int64         \n",
      " 9   gender             7043 non-null   object        \n",
      " 10  senior_citizen     7043 non-null   int64         \n",
      " 11  partner            7043 non-null   object        \n",
      " 12  dependents         7043 non-null   object        \n",
      " 13  internet_service   5517 non-null   object        \n",
      " 14  online_security    5517 non-null   object        \n",
      " 15  online_backup      5517 non-null   object        \n",
      " 16  device_protection  5517 non-null   object        \n",
      " 17  tech_support       5517 non-null   object        \n",
      " 18  streaming_tv       5517 non-null   object        \n",
      " 19  streaming_movies   5517 non-null   object        \n",
      " 20  multiple_lines     6361 non-null   object        \n",
      "dtypes: datetime64[ns](2), float64(2), int64(2), object(15)\n",
      "memory usage: 1.2+ MB\n"
     ]
    }
   ],
   "source": [
    "data['begin_date'] = pd.to_datetime(data['begin_date'], format='%Y-%m-%d')\n",
    "data['end_date'] = pd.to_datetime(data['end_date'], format='%Y-%m-%d')\n",
    "\n",
    "display(data.head(2))\n",
    "data.info()"
   ]
  },
  {
   "cell_type": "markdown",
   "id": "883efd5d",
   "metadata": {},
   "source": [
    "Создадим столбец *total_days* с общим количеством дней использования услуг:"
   ]
  },
  {
   "cell_type": "code",
   "execution_count": 22,
   "id": "1f5ec84c",
   "metadata": {
    "scrolled": false
   },
   "outputs": [
    {
     "data": {
      "text/html": [
       "<div>\n",
       "<style scoped>\n",
       "    .dataframe tbody tr th:only-of-type {\n",
       "        vertical-align: middle;\n",
       "    }\n",
       "\n",
       "    .dataframe tbody tr th {\n",
       "        vertical-align: top;\n",
       "    }\n",
       "\n",
       "    .dataframe thead th {\n",
       "        text-align: right;\n",
       "    }\n",
       "</style>\n",
       "<table border=\"1\" class=\"dataframe\">\n",
       "  <thead>\n",
       "    <tr style=\"text-align: right;\">\n",
       "      <th></th>\n",
       "      <th>customer_id</th>\n",
       "      <th>begin_date</th>\n",
       "      <th>end_date</th>\n",
       "      <th>type</th>\n",
       "      <th>paperless_billing</th>\n",
       "      <th>payment_method</th>\n",
       "      <th>monthly_charges</th>\n",
       "      <th>total_charges</th>\n",
       "      <th>churn</th>\n",
       "      <th>gender</th>\n",
       "      <th>senior_citizen</th>\n",
       "      <th>partner</th>\n",
       "      <th>dependents</th>\n",
       "      <th>internet_service</th>\n",
       "      <th>online_security</th>\n",
       "      <th>online_backup</th>\n",
       "      <th>device_protection</th>\n",
       "      <th>tech_support</th>\n",
       "      <th>streaming_tv</th>\n",
       "      <th>streaming_movies</th>\n",
       "      <th>multiple_lines</th>\n",
       "      <th>total_days</th>\n",
       "    </tr>\n",
       "  </thead>\n",
       "  <tbody>\n",
       "    <tr>\n",
       "      <th>0</th>\n",
       "      <td>7590-VHVEG</td>\n",
       "      <td>2020-01-01</td>\n",
       "      <td>2020-02-01</td>\n",
       "      <td>Month-to-month</td>\n",
       "      <td>Yes</td>\n",
       "      <td>Electronic check</td>\n",
       "      <td>29.85</td>\n",
       "      <td>29.85</td>\n",
       "      <td>0</td>\n",
       "      <td>Female</td>\n",
       "      <td>0</td>\n",
       "      <td>Yes</td>\n",
       "      <td>No</td>\n",
       "      <td>DSL</td>\n",
       "      <td>No</td>\n",
       "      <td>Yes</td>\n",
       "      <td>No</td>\n",
       "      <td>No</td>\n",
       "      <td>No</td>\n",
       "      <td>No</td>\n",
       "      <td>NaN</td>\n",
       "      <td>31</td>\n",
       "    </tr>\n",
       "    <tr>\n",
       "      <th>1</th>\n",
       "      <td>5575-GNVDE</td>\n",
       "      <td>2017-04-01</td>\n",
       "      <td>2020-02-01</td>\n",
       "      <td>One year</td>\n",
       "      <td>No</td>\n",
       "      <td>Mailed check</td>\n",
       "      <td>56.95</td>\n",
       "      <td>1889.50</td>\n",
       "      <td>0</td>\n",
       "      <td>Male</td>\n",
       "      <td>0</td>\n",
       "      <td>No</td>\n",
       "      <td>No</td>\n",
       "      <td>DSL</td>\n",
       "      <td>Yes</td>\n",
       "      <td>No</td>\n",
       "      <td>Yes</td>\n",
       "      <td>No</td>\n",
       "      <td>No</td>\n",
       "      <td>No</td>\n",
       "      <td>No</td>\n",
       "      <td>1036</td>\n",
       "    </tr>\n",
       "    <tr>\n",
       "      <th>2</th>\n",
       "      <td>3668-QPYBK</td>\n",
       "      <td>2019-10-01</td>\n",
       "      <td>2019-12-01</td>\n",
       "      <td>Month-to-month</td>\n",
       "      <td>Yes</td>\n",
       "      <td>Mailed check</td>\n",
       "      <td>53.85</td>\n",
       "      <td>108.15</td>\n",
       "      <td>1</td>\n",
       "      <td>Male</td>\n",
       "      <td>0</td>\n",
       "      <td>No</td>\n",
       "      <td>No</td>\n",
       "      <td>DSL</td>\n",
       "      <td>Yes</td>\n",
       "      <td>Yes</td>\n",
       "      <td>No</td>\n",
       "      <td>No</td>\n",
       "      <td>No</td>\n",
       "      <td>No</td>\n",
       "      <td>No</td>\n",
       "      <td>61</td>\n",
       "    </tr>\n",
       "    <tr>\n",
       "      <th>3</th>\n",
       "      <td>7795-CFOCW</td>\n",
       "      <td>2016-05-01</td>\n",
       "      <td>2020-02-01</td>\n",
       "      <td>One year</td>\n",
       "      <td>No</td>\n",
       "      <td>Bank transfer (automatic)</td>\n",
       "      <td>42.30</td>\n",
       "      <td>1840.75</td>\n",
       "      <td>0</td>\n",
       "      <td>Male</td>\n",
       "      <td>0</td>\n",
       "      <td>No</td>\n",
       "      <td>No</td>\n",
       "      <td>DSL</td>\n",
       "      <td>Yes</td>\n",
       "      <td>No</td>\n",
       "      <td>Yes</td>\n",
       "      <td>Yes</td>\n",
       "      <td>No</td>\n",
       "      <td>No</td>\n",
       "      <td>NaN</td>\n",
       "      <td>1371</td>\n",
       "    </tr>\n",
       "    <tr>\n",
       "      <th>4</th>\n",
       "      <td>9237-HQITU</td>\n",
       "      <td>2019-09-01</td>\n",
       "      <td>2019-11-01</td>\n",
       "      <td>Month-to-month</td>\n",
       "      <td>Yes</td>\n",
       "      <td>Electronic check</td>\n",
       "      <td>70.70</td>\n",
       "      <td>151.65</td>\n",
       "      <td>1</td>\n",
       "      <td>Female</td>\n",
       "      <td>0</td>\n",
       "      <td>No</td>\n",
       "      <td>No</td>\n",
       "      <td>Fiber optic</td>\n",
       "      <td>No</td>\n",
       "      <td>No</td>\n",
       "      <td>No</td>\n",
       "      <td>No</td>\n",
       "      <td>No</td>\n",
       "      <td>No</td>\n",
       "      <td>No</td>\n",
       "      <td>61</td>\n",
       "    </tr>\n",
       "  </tbody>\n",
       "</table>\n",
       "</div>"
      ],
      "text/plain": [
       "  customer_id begin_date   end_date            type paperless_billing  \\\n",
       "0  7590-VHVEG 2020-01-01 2020-02-01  Month-to-month               Yes   \n",
       "1  5575-GNVDE 2017-04-01 2020-02-01        One year                No   \n",
       "2  3668-QPYBK 2019-10-01 2019-12-01  Month-to-month               Yes   \n",
       "3  7795-CFOCW 2016-05-01 2020-02-01        One year                No   \n",
       "4  9237-HQITU 2019-09-01 2019-11-01  Month-to-month               Yes   \n",
       "\n",
       "              payment_method  monthly_charges  total_charges  churn  gender  \\\n",
       "0           Electronic check            29.85          29.85      0  Female   \n",
       "1               Mailed check            56.95        1889.50      0    Male   \n",
       "2               Mailed check            53.85         108.15      1    Male   \n",
       "3  Bank transfer (automatic)            42.30        1840.75      0    Male   \n",
       "4           Electronic check            70.70         151.65      1  Female   \n",
       "\n",
       "   senior_citizen partner dependents internet_service online_security  \\\n",
       "0               0     Yes         No              DSL              No   \n",
       "1               0      No         No              DSL             Yes   \n",
       "2               0      No         No              DSL             Yes   \n",
       "3               0      No         No              DSL             Yes   \n",
       "4               0      No         No      Fiber optic              No   \n",
       "\n",
       "  online_backup device_protection tech_support streaming_tv streaming_movies  \\\n",
       "0           Yes                No           No           No               No   \n",
       "1            No               Yes           No           No               No   \n",
       "2           Yes                No           No           No               No   \n",
       "3            No               Yes          Yes           No               No   \n",
       "4            No                No           No           No               No   \n",
       "\n",
       "  multiple_lines  total_days  \n",
       "0            NaN          31  \n",
       "1             No        1036  \n",
       "2             No          61  \n",
       "3            NaN        1371  \n",
       "4             No          61  "
      ]
     },
     "execution_count": 22,
     "metadata": {},
     "output_type": "execute_result"
    }
   ],
   "source": [
    "data['total_days'] = (data['end_date'] - data['begin_date']).dt.days\n",
    "data.head()"
   ]
  },
  {
   "cell_type": "markdown",
   "id": "945f555f",
   "metadata": {},
   "source": [
    "Дата начала и дата окончания пользования услугами неинформативны для предсказания нашей модели, так как мы работаем не с временными рядами. Удалим данные признаки:"
   ]
  },
  {
   "cell_type": "code",
   "execution_count": 23,
   "id": "0f3d0d44",
   "metadata": {},
   "outputs": [
    {
     "name": "stdout",
     "output_type": "stream",
     "text": [
      "['customer_id' 'type' 'paperless_billing' 'payment_method'\n",
      " 'monthly_charges' 'total_charges' 'churn' 'gender' 'senior_citizen'\n",
      " 'partner' 'dependents' 'internet_service' 'online_security'\n",
      " 'online_backup' 'device_protection' 'tech_support' 'streaming_tv'\n",
      " 'streaming_movies' 'multiple_lines' 'total_days']\n"
     ]
    }
   ],
   "source": [
    "data = data.drop(['end_date', 'begin_date'], axis=1)\n",
    "print(data.columns.values)"
   ]
  },
  {
   "cell_type": "markdown",
   "id": "0f15abbd",
   "metadata": {},
   "source": [
    "Признак *customer_id* также неинформативен для предсказания, переведем его в индекс:"
   ]
  },
  {
   "cell_type": "code",
   "execution_count": 24,
   "id": "d57380ce",
   "metadata": {
    "scrolled": false
   },
   "outputs": [
    {
     "data": {
      "text/html": [
       "<div>\n",
       "<style scoped>\n",
       "    .dataframe tbody tr th:only-of-type {\n",
       "        vertical-align: middle;\n",
       "    }\n",
       "\n",
       "    .dataframe tbody tr th {\n",
       "        vertical-align: top;\n",
       "    }\n",
       "\n",
       "    .dataframe thead th {\n",
       "        text-align: right;\n",
       "    }\n",
       "</style>\n",
       "<table border=\"1\" class=\"dataframe\">\n",
       "  <thead>\n",
       "    <tr style=\"text-align: right;\">\n",
       "      <th></th>\n",
       "      <th>type</th>\n",
       "      <th>paperless_billing</th>\n",
       "      <th>payment_method</th>\n",
       "      <th>monthly_charges</th>\n",
       "      <th>total_charges</th>\n",
       "      <th>churn</th>\n",
       "      <th>gender</th>\n",
       "      <th>senior_citizen</th>\n",
       "      <th>partner</th>\n",
       "      <th>dependents</th>\n",
       "      <th>internet_service</th>\n",
       "      <th>online_security</th>\n",
       "      <th>online_backup</th>\n",
       "      <th>device_protection</th>\n",
       "      <th>tech_support</th>\n",
       "      <th>streaming_tv</th>\n",
       "      <th>streaming_movies</th>\n",
       "      <th>multiple_lines</th>\n",
       "      <th>total_days</th>\n",
       "    </tr>\n",
       "    <tr>\n",
       "      <th>customer_id</th>\n",
       "      <th></th>\n",
       "      <th></th>\n",
       "      <th></th>\n",
       "      <th></th>\n",
       "      <th></th>\n",
       "      <th></th>\n",
       "      <th></th>\n",
       "      <th></th>\n",
       "      <th></th>\n",
       "      <th></th>\n",
       "      <th></th>\n",
       "      <th></th>\n",
       "      <th></th>\n",
       "      <th></th>\n",
       "      <th></th>\n",
       "      <th></th>\n",
       "      <th></th>\n",
       "      <th></th>\n",
       "      <th></th>\n",
       "    </tr>\n",
       "  </thead>\n",
       "  <tbody>\n",
       "    <tr>\n",
       "      <th>7590-VHVEG</th>\n",
       "      <td>Month-to-month</td>\n",
       "      <td>Yes</td>\n",
       "      <td>Electronic check</td>\n",
       "      <td>29.85</td>\n",
       "      <td>29.85</td>\n",
       "      <td>0</td>\n",
       "      <td>Female</td>\n",
       "      <td>0</td>\n",
       "      <td>Yes</td>\n",
       "      <td>No</td>\n",
       "      <td>DSL</td>\n",
       "      <td>No</td>\n",
       "      <td>Yes</td>\n",
       "      <td>No</td>\n",
       "      <td>No</td>\n",
       "      <td>No</td>\n",
       "      <td>No</td>\n",
       "      <td>NaN</td>\n",
       "      <td>31</td>\n",
       "    </tr>\n",
       "    <tr>\n",
       "      <th>5575-GNVDE</th>\n",
       "      <td>One year</td>\n",
       "      <td>No</td>\n",
       "      <td>Mailed check</td>\n",
       "      <td>56.95</td>\n",
       "      <td>1889.50</td>\n",
       "      <td>0</td>\n",
       "      <td>Male</td>\n",
       "      <td>0</td>\n",
       "      <td>No</td>\n",
       "      <td>No</td>\n",
       "      <td>DSL</td>\n",
       "      <td>Yes</td>\n",
       "      <td>No</td>\n",
       "      <td>Yes</td>\n",
       "      <td>No</td>\n",
       "      <td>No</td>\n",
       "      <td>No</td>\n",
       "      <td>No</td>\n",
       "      <td>1036</td>\n",
       "    </tr>\n",
       "  </tbody>\n",
       "</table>\n",
       "</div>"
      ],
      "text/plain": [
       "                       type paperless_billing    payment_method  \\\n",
       "customer_id                                                       \n",
       "7590-VHVEG   Month-to-month               Yes  Electronic check   \n",
       "5575-GNVDE         One year                No      Mailed check   \n",
       "\n",
       "             monthly_charges  total_charges  churn  gender  senior_citizen  \\\n",
       "customer_id                                                                  \n",
       "7590-VHVEG             29.85          29.85      0  Female               0   \n",
       "5575-GNVDE             56.95        1889.50      0    Male               0   \n",
       "\n",
       "            partner dependents internet_service online_security online_backup  \\\n",
       "customer_id                                                                     \n",
       "7590-VHVEG      Yes         No              DSL              No           Yes   \n",
       "5575-GNVDE       No         No              DSL             Yes            No   \n",
       "\n",
       "            device_protection tech_support streaming_tv streaming_movies  \\\n",
       "customer_id                                                                \n",
       "7590-VHVEG                 No           No           No               No   \n",
       "5575-GNVDE                Yes           No           No               No   \n",
       "\n",
       "            multiple_lines  total_days  \n",
       "customer_id                             \n",
       "7590-VHVEG             NaN          31  \n",
       "5575-GNVDE              No        1036  "
      ]
     },
     "execution_count": 24,
     "metadata": {},
     "output_type": "execute_result"
    }
   ],
   "source": [
    "data = data.set_index('customer_id')\n",
    "data.head(2)"
   ]
  },
  {
   "cell_type": "markdown",
   "id": "106daa90",
   "metadata": {},
   "source": [
    "Заменим значения в признаке *SeniorCitizen* на Yes/No вместо 1/0 для однородности данных:"
   ]
  },
  {
   "cell_type": "code",
   "execution_count": 25,
   "id": "e367176a",
   "metadata": {
    "scrolled": true
   },
   "outputs": [
    {
     "data": {
      "text/plain": [
       "No     5901\n",
       "Yes    1142\n",
       "Name: senior_citizen, dtype: int64"
      ]
     },
     "execution_count": 25,
     "metadata": {},
     "output_type": "execute_result"
    }
   ],
   "source": [
    "data['senior_citizen'] = data['senior_citizen'].replace([0], ['No'])\n",
    "data['senior_citizen'] = data['senior_citizen'].replace([1], ['Yes'])\n",
    "\n",
    "data['senior_citizen'].value_counts()"
   ]
  },
  {
   "cell_type": "markdown",
   "id": "781f2694",
   "metadata": {},
   "source": [
    "Рассчитаем корреляцию *Phik (φk)* и проверим наличие зависимостей между признаками:"
   ]
  },
  {
   "cell_type": "code",
   "execution_count": 26,
   "id": "ff100fc7",
   "metadata": {
    "scrolled": false
   },
   "outputs": [
    {
     "data": {
      "image/png": "[encoded data removed]",
      "text/plain": [
       "<Figure size 936x720 with 2 Axes>"
      ]
     },
     "metadata": {},
     "output_type": "display_data"
    }
   ],
   "source": [
    "# расчет коэффициента корреляции Phik\n",
    "interval_cols = ['monthly_charges', 'total_charges', 'total_days']\n",
    "phik_overview = data.phik_matrix(interval_cols=interval_cols)\n",
    "\n",
    "# построение матрицы корреляции\n",
    "plot_correlation_matrix(phik_overview.values, \n",
    "                        x_labels=phik_overview.columns, \n",
    "                        y_labels=phik_overview.index, \n",
    "                        vmin=0, vmax=1, color_map='Greens',\n",
    "                        title=r'Корреляция $\\phi_K$', \n",
    "                        fontsize_factor=1.5, \n",
    "                        figsize=(13, 10))\n",
    "plt.tight_layout()"
   ]
  },
  {
   "cell_type": "markdown",
   "id": "8e7b5c72",
   "metadata": {},
   "source": [
    "Матрица демонстрирует наличие проблемы мультиколлинеарности в данных - между признаками *total_charges* и *total_days* есть сильная прямая корреляция, что логично - чем дольше клиент пользуется услугами, тем выше общая сумма трат. Также есть средняя корреляция между *total_charges* и *monthly_charges*. Среди категориальных признаков заметна достаточно сильная корреляция между *streaming_movies* и *streaming_tv* - можно предположить, что услуга *streaming_movies* включена в *streaming_tv*. \n",
    "\n",
    "Исходя из проведенного анализа корреляции, удалим признаки *total_charges* и *streaming_movies*:"
   ]
  },
  {
   "cell_type": "code",
   "execution_count": 27,
   "id": "c5b37ea9",
   "metadata": {
    "scrolled": true
   },
   "outputs": [
    {
     "name": "stdout",
     "output_type": "stream",
     "text": [
      "['type' 'paperless_billing' 'payment_method' 'monthly_charges' 'churn'\n",
      " 'gender' 'senior_citizen' 'partner' 'dependents' 'internet_service'\n",
      " 'online_security' 'online_backup' 'device_protection' 'tech_support'\n",
      " 'streaming_tv' 'multiple_lines' 'total_days']\n"
     ]
    }
   ],
   "source": [
    "data = data.drop(['total_charges', 'streaming_movies'], axis=1)\n",
    "print(data.columns.values)"
   ]
  },
  {
   "cell_type": "markdown",
   "id": "73414f69",
   "metadata": {},
   "source": [
    "Заполним пропуски, которые возникли при объединении таблиц, значением 'NO' - вероятно, они они говорят о том, что пользователь не пользуется данными услугами:"
   ]
  },
  {
   "cell_type": "code",
   "execution_count": 28,
   "id": "267c2233",
   "metadata": {},
   "outputs": [
    {
     "name": "stdout",
     "output_type": "stream",
     "text": [
      "<class 'pandas.core.frame.DataFrame'>\n",
      "Index: 7043 entries, 7590-VHVEG to 3186-AJIEK\n",
      "Data columns (total 17 columns):\n",
      " #   Column             Non-Null Count  Dtype  \n",
      "---  ------             --------------  -----  \n",
      " 0   type               7043 non-null   object \n",
      " 1   paperless_billing  7043 non-null   object \n",
      " 2   payment_method     7043 non-null   object \n",
      " 3   monthly_charges    7043 non-null   float64\n",
      " 4   churn              7043 non-null   int64  \n",
      " 5   gender             7043 non-null   object \n",
      " 6   senior_citizen     7043 non-null   object \n",
      " 7   partner            7043 non-null   object \n",
      " 8   dependents         7043 non-null   object \n",
      " 9   internet_service   7043 non-null   object \n",
      " 10  online_security    7043 non-null   object \n",
      " 11  online_backup      7043 non-null   object \n",
      " 12  device_protection  7043 non-null   object \n",
      " 13  tech_support       7043 non-null   object \n",
      " 14  streaming_tv       7043 non-null   object \n",
      " 15  multiple_lines     7043 non-null   object \n",
      " 16  total_days         7043 non-null   int64  \n",
      "dtypes: float64(1), int64(2), object(14)\n",
      "memory usage: 990.4+ KB\n"
     ]
    }
   ],
   "source": [
    "for column in ('internet_service', 'online_security', 'online_backup', 'device_protection', \n",
    "               'tech_support', 'streaming_tv', 'multiple_lines'):\n",
    "    data[column] = data[column].fillna('No')\n",
    "    \n",
    "data.info()"
   ]
  },
  {
   "cell_type": "markdown",
   "id": "e7f766b8",
   "metadata": {},
   "source": [
    "### Подготовка выборок"
   ]
  },
  {
   "cell_type": "markdown",
   "id": "74106281",
   "metadata": {},
   "source": [
    "Сохраним признаки в переменной *features*, целевой признак - в переменной *target*:"
   ]
  },
  {
   "cell_type": "code",
   "execution_count": 29,
   "id": "a9c14bfc",
   "metadata": {},
   "outputs": [],
   "source": [
    "# признаки\n",
    "features = data.drop(['churn'], axis=1)\n",
    "\n",
    "# целевой признак\n",
    "target = data['churn']"
   ]
  },
  {
   "cell_type": "code",
   "execution_count": 30,
   "id": "b69c121d",
   "metadata": {},
   "outputs": [],
   "source": [
    "# зададим значение рандомайзера\n",
    "RANDOM_STATE=101022"
   ]
  },
  {
   "cell_type": "markdown",
   "id": "daad2764",
   "metadata": {},
   "source": [
    "Разобьем данные на обучающую (75%) и тестовую (25%) выборки. Так как в целевом признаке присутствует дисбаланс классов, укажем гиперпараметр `stratify=target`:"
   ]
  },
  {
   "cell_type": "code",
   "execution_count": 31,
   "id": "f0bc6e6c",
   "metadata": {
    "scrolled": false
   },
   "outputs": [
    {
     "data": {
      "text/plain": [
       "(5282, 16)"
      ]
     },
     "metadata": {},
     "output_type": "display_data"
    },
    {
     "data": {
      "text/plain": [
       "(1761, 16)"
      ]
     },
     "metadata": {},
     "output_type": "display_data"
    },
    {
     "data": {
      "text/plain": [
       "(5282,)"
      ]
     },
     "metadata": {},
     "output_type": "display_data"
    },
    {
     "data": {
      "text/plain": [
       "(1761,)"
      ]
     },
     "metadata": {},
     "output_type": "display_data"
    }
   ],
   "source": [
    "# разделим данные на обучающую и тестовую выборку\n",
    "features_train, features_test, target_train, target_test = train_test_split(\n",
    "    features, target, test_size=0.25, stratify=target, random_state=RANDOM_STATE)\n",
    "\n",
    "# проверим результат\n",
    "display(features_train.shape, features_test.shape, target_train.shape, target_test.shape)"
   ]
  },
  {
   "cell_type": "markdown",
   "id": "ce9afb42",
   "metadata": {},
   "source": [
    "### Вывод\n",
    "\n",
    "В ходе предобработки данных были выполнены следующие действия:\n",
    "- Столбцы переименованы согласно стандартам *PEP 8*\n",
    "\n",
    "\n",
    "- Исправлены неверные типы данных: \n",
    "  - в признаках *begin_date*, *end_date* были установлены даты\n",
    "  - в *total_charges* изменен тип с текстового на числовой\n",
    "  - в *senior_citizen* числовой тип со значениями 1/0 изменен на текстовый Yes/No для однородности категориальных признаков и избежании проблем при их кодировке\n",
    "  \n",
    "  \n",
    "- Таблицы были объединены в единую по признаку *customer_id*, пропуски, возникшие при объединении таблиц заменены на 'No', так как, вероятно, обозначают, что клиент не пользуется данными услугами\n",
    "\n",
    "\n",
    "- Проведен исследовательский анализ данных:\n",
    "  - обнаружен дисбаланс классов целевого признака (73% действующих клиентов и 27% ушедших)\n",
    "  - исходя из графиков распределения трат пользователей, можно предположить, что чаще расторгают контракт клиенты с высокими тратами \n",
    "  \n",
    "  \n",
    "- Добавлены новые признаки: \n",
    "  - целевой признак *churn* со значениями 0 (действующий клиент) и 1 (ушедший клиент) на основе наличия даты в признаке *end_date*\n",
    "  - признак *total_days* с общим количеством дней использования услуг на основе признаков *begin_date*, *end_date*\n",
    "  \n",
    "  \n",
    "- Удалены признаки:\n",
    "  - *begin_date* и *end_date*, так как они неинформативны для предсказания\n",
    "  - *total_charges* из-за наличия сильной корреляции с признаками *total_days* и *monthly_charges*\n",
    "  - *streaming_movies* - данный признак достаточно высоко коррелирует с признаком *streaming_tv* и по сути входит в него\n",
    "  - *customer_id* был перевед в индекс\n",
    "  \n",
    "  \n",
    "- Подготовлены обучающая (75%) и тестовая (25%) выборка "
   ]
  },
  {
   "cell_type": "markdown",
   "id": "6cd6e47b",
   "metadata": {},
   "source": [
    "## Функции для расчета метрик и подбора гиперпараметров "
   ]
  },
  {
   "cell_type": "markdown",
   "id": "1de807f1",
   "metadata": {},
   "source": [
    "Основной метрикой в данном исследовании является *ROC-AUC*, создадим функцию для подбора гиперпараметров c помощью GridSearchCV. Данная функция выведет гиперпараметры лучшей модели и результат *ROC-AUC*:"
   ]
  },
  {
   "cell_type": "code",
   "execution_count": 32,
   "id": "2a8fc90d",
   "metadata": {},
   "outputs": [],
   "source": [
    "# функция для оценки качества моделей и подборки гиперпараметров кросс-валидацией:\n",
    "def best_model(model, parameters, features, target, model_name):\n",
    "    \n",
    "    # подбор гиперпараметров и расчет ROC-AUC с помощью GridSearchCV\n",
    "    grid = GridSearchCV(model,\n",
    "                        parameters, \n",
    "                        scoring='roc_auc', \n",
    "                        verbose=-1,\n",
    "                        n_jobs=-1)\n",
    "    \n",
    "    grid.fit(features, target)\n",
    "    \n",
    "    print('Лучший результат ROC-AUC:', round(grid.best_score_, 2))\n",
    "    print('')\n",
    "    print(f'Гиперпараметры модели {model_name}:', grid.best_params_)"
   ]
  },
  {
   "cell_type": "markdown",
   "id": "a68b1414",
   "metadata": {},
   "source": [
    "Дополнительно необходимо рассчитать метрику *Accuracy*. Создадим функцию по подсчету данной метрики с использованием кросс-валидации *cross_val_score*:"
   ]
  },
  {
   "cell_type": "code",
   "execution_count": 33,
   "id": "8059bbb5",
   "metadata": {},
   "outputs": [],
   "source": [
    "def accuracy_calculation (model, features, target, model_name):\n",
    "    \n",
    "    score = cross_val_score(model, features, target, scoring='accuracy').mean()\n",
    "    \n",
    "    print(f'Среднее значение Accuracy для модели {model_name}:', round(score, 2))"
   ]
  },
  {
   "cell_type": "markdown",
   "id": "2032d500",
   "metadata": {},
   "source": [
    "### Вывод\n",
    "\n",
    "Для расчета метрик и подбора гиперпараметров моделей были созданы 2 функции:\n",
    "- функция *best_model* с подбором гиперпараметров с помощью *GridSearchCV* и расчетом *ROC-AUC*\n",
    "- функция *accuracy_calculation*, рассчитывающая значение *Accuracy* с применением кросс-валидации *cross_val_score*"
   ]
  },
  {
   "cell_type": "markdown",
   "id": "7d3fb1bf",
   "metadata": {},
   "source": [
    "## Обучение моделей"
   ]
  },
  {
   "cell_type": "markdown",
   "id": "973a836b",
   "metadata": {},
   "source": [
    "В данной работе проведем обучение 3 моделей: *Логистическая регрессия*, *Случайный лес* и *LGBM*. Для подбора гиперпараметров будем использовать *GridSearchCV*. Чтобы не произошло утечки данных во время кросс-валидации, применим *Pipeline*."
   ]
  },
  {
   "cell_type": "markdown",
   "id": "b1abfb06",
   "metadata": {},
   "source": [
    "### Логистическая регрессия"
   ]
  },
  {
   "cell_type": "markdown",
   "id": "20f98ba5",
   "metadata": {},
   "source": [
    "Перед обучением *Логистической регрессии* проведем масштабирование числовых признаков с использованием *Standart Scaler* и кодировку категориальных признаков техникой *One-Hot-Encoding*. \n",
    "\n",
    "Сначала создадим 2 списка - с названиями числовых и категориальных признаков:"
   ]
  },
  {
   "cell_type": "code",
   "execution_count": 34,
   "id": "642f9458",
   "metadata": {},
   "outputs": [],
   "source": [
    "# создаем списки с названиями числовых и категориальных признаков\n",
    "num_features = features_train.select_dtypes(exclude=['object']).columns.tolist()\n",
    "cat_features = features_train.select_dtypes(include=['object']).columns.tolist()"
   ]
  },
  {
   "cell_type": "markdown",
   "id": "d631cd94",
   "metadata": {},
   "source": [
    "*Pipeline* для преобразования признаков:"
   ]
  },
  {
   "cell_type": "code",
   "execution_count": 35,
   "id": "fa4d4212",
   "metadata": {},
   "outputs": [],
   "source": [
    "# cоздание пайплайна\n",
    "\n",
    "# масштабирование числовых признаков\n",
    "num_transformer_ohe = make_pipeline(StandardScaler())\n",
    "\n",
    "# кодирование категориальных признаков техникой OHE\n",
    "cat_transformer_ohe = make_pipeline(OneHotEncoder())\n",
    "\n",
    "# соединяем оба пайплайна\n",
    "preprocessor_logreg = make_column_transformer(\n",
    "    (num_transformer_ohe, num_features),\n",
    "    (cat_transformer_ohe, cat_features))"
   ]
  },
  {
   "cell_type": "markdown",
   "id": "168bf656",
   "metadata": {},
   "source": [
    "Создадим модель *Логистическая регрессия*, проведем подбор гиперпараметров и расчет метрики *ROC-AUC*:"
   ]
  },
  {
   "cell_type": "code",
   "execution_count": 36,
   "id": "caaefcff",
   "metadata": {
    "scrolled": true
   },
   "outputs": [
    {
     "name": "stdout",
     "output_type": "stream",
     "text": [
      "Лучший результат ROC-AUC: 0.84\n",
      "\n",
      "Гиперпараметры модели Логистическая регресия: {'logisticregression__class_weight': 'balanced', 'logisticregression__max_iter': 300, 'logisticregression__random_state': 101022, 'logisticregression__solver': 'sag'}\n",
      "None\n"
     ]
    }
   ],
   "source": [
    "# создаем модель Логистическая регрессия\n",
    "model_logreg = make_pipeline(\n",
    "    preprocessor_logreg, LogisticRegression())\n",
    "\n",
    "# создаем словарь с гиперпараметрами для перебора\n",
    "parameters_logreg = {\n",
    "    'logisticregression__solver': ['newton-cg', 'lbfgs', 'sag', 'saga'],\n",
    "    'logisticregression__random_state': [RANDOM_STATE],\n",
    "    'logisticregression__max_iter': [300],\n",
    "    'logisticregression__class_weight': ['balanced']\n",
    "}\n",
    "\n",
    "# подбор гиперпараметров с помощью функции best_model для Логистической регрессии\n",
    "print(best_model(model_logreg, parameters_logreg, features_train, target_train, 'Логистическая регресия'))"
   ]
  },
  {
   "cell_type": "markdown",
   "id": "bf2e8a9f",
   "metadata": {},
   "source": [
    "Сохраним лучшую модель:"
   ]
  },
  {
   "cell_type": "code",
   "execution_count": 37,
   "id": "236d535d",
   "metadata": {},
   "outputs": [],
   "source": [
    "model_logreg_best = make_pipeline(\n",
    "    preprocessor_logreg,\n",
    "    LogisticRegression(class_weight='balanced',\n",
    "                       max_iter=300, \n",
    "                       random_state = RANDOM_STATE,\n",
    "                       solver='sag'))"
   ]
  },
  {
   "cell_type": "markdown",
   "id": "e7bf89f4",
   "metadata": {},
   "source": [
    "Рассчитаем *Accuracy*:"
   ]
  },
  {
   "cell_type": "code",
   "execution_count": 38,
   "id": "4f10f236",
   "metadata": {},
   "outputs": [
    {
     "name": "stdout",
     "output_type": "stream",
     "text": [
      "Среднее значение Accuracy для модели Логистическая регрессия: 0.75\n",
      "None\n"
     ]
    }
   ],
   "source": [
    "print(accuracy_calculation(model_logreg_best, \n",
    "                           features_train, \n",
    "                           target_train, \n",
    "                          'Логистическая регрессия'))"
   ]
  },
  {
   "cell_type": "markdown",
   "id": "2fe56365",
   "metadata": {},
   "source": [
    "### Случайный лес"
   ]
  },
  {
   "cell_type": "markdown",
   "id": "17057065",
   "metadata": {},
   "source": [
    "Для моделей, основанных на деревьях, не требуется масштабирование признаков, и для кодировки категориальных признаков лучше подходит техника *Ordinal Encoder*. Создадим соответствующий *Pipeline*:"
   ]
  },
  {
   "cell_type": "code",
   "execution_count": 39,
   "id": "a2aa5046",
   "metadata": {},
   "outputs": [],
   "source": [
    "# cоздание пайплайна\n",
    "\n",
    "# кодирование категориальных признаков техникой Ordinal Encoder\n",
    "cat_transformer_ord_enc = make_pipeline(OrdinalEncoder())\n",
    "\n",
    "preprocessor_rfc = make_column_transformer(\n",
    "    (cat_transformer_ord_enc, cat_features))"
   ]
  },
  {
   "cell_type": "markdown",
   "id": "bde50ed1",
   "metadata": {},
   "source": [
    "Проведем подбор гиперпараметров и расчет *ROC-AUC* для модели *Случайный лес*:"
   ]
  },
  {
   "cell_type": "code",
   "execution_count": 40,
   "id": "a5f6a2a1",
   "metadata": {
    "scrolled": true
   },
   "outputs": [
    {
     "name": "stdout",
     "output_type": "stream",
     "text": [
      "Лучший результат ROC-AUC: 0.83\n",
      "\n",
      "Гиперпараметры модели Случайный лес: {'randomforestclassifier__class_weight': 'balanced', 'randomforestclassifier__max_depth': 7, 'randomforestclassifier__n_estimators': 160, 'randomforestclassifier__random_state': 101022}\n",
      "None\n"
     ]
    }
   ],
   "source": [
    "# создаем модель Случайный лес\n",
    "model_rfc = make_pipeline(\n",
    "    preprocessor_rfc, RandomForestClassifier())\n",
    "\n",
    "# создаем словарь с гиперпараметрами для перебора\n",
    "parameters_rfc = {\n",
    "    'randomforestclassifier__class_weight': ['balanced'],\n",
    "    'randomforestclassifier__n_estimators': range(10, 161, 30),\n",
    "    'randomforestclassifier__max_depth': range(1, 11, 3),\n",
    "    'randomforestclassifier__random_state': [RANDOM_STATE]\n",
    "}\n",
    "\n",
    "# подбор гиперпараметров с помощью функции best_model для Случайного леса\n",
    "print(best_model(model_rfc, parameters_rfc, features_train, target_train, 'Случайный лес'))"
   ]
  },
  {
   "cell_type": "markdown",
   "id": "c9c9a44f",
   "metadata": {},
   "source": [
    "Сохраним лучшую модель:"
   ]
  },
  {
   "cell_type": "code",
   "execution_count": 41,
   "id": "f7c3c3e2",
   "metadata": {},
   "outputs": [],
   "source": [
    "model_rfc_best = make_pipeline(\n",
    "    preprocessor_rfc, \n",
    "    RandomForestClassifier(class_weight='balanced',\n",
    "                           max_depth=7,\n",
    "                           n_estimators=160,\n",
    "                           random_state = RANDOM_STATE))"
   ]
  },
  {
   "cell_type": "markdown",
   "id": "4daedb64",
   "metadata": {},
   "source": [
    "Рассчитаем *Accuracy* для лучшей модели: "
   ]
  },
  {
   "cell_type": "code",
   "execution_count": 42,
   "id": "2c7b5161",
   "metadata": {},
   "outputs": [
    {
     "name": "stdout",
     "output_type": "stream",
     "text": [
      "Среднее значение Accuracy для модели Случайный лес: 0.73\n",
      "None\n"
     ]
    }
   ],
   "source": [
    "print(accuracy_calculation(model_rfc_best, \n",
    "                           features_train, \n",
    "                           target_train, \n",
    "                          'Случайный лес'))"
   ]
  },
  {
   "cell_type": "markdown",
   "id": "9ea8a9e1",
   "metadata": {},
   "source": [
    "###  LGBM"
   ]
  },
  {
   "cell_type": "markdown",
   "id": "d513bc65",
   "metadata": {},
   "source": [
    "Для данной модели не требуется проводить кодировку признаков заранее, но необходимо изменить тип данных категориальных признаков на *'category'*:"
   ]
  },
  {
   "cell_type": "code",
   "execution_count": 43,
   "id": "e263b7f5",
   "metadata": {
    "scrolled": true
   },
   "outputs": [
    {
     "name": "stdout",
     "output_type": "stream",
     "text": [
      "<class 'pandas.core.frame.DataFrame'>\n",
      "Index: 5282 entries, 4500-HKANN to 9589-ABEPT\n",
      "Data columns (total 16 columns):\n",
      " #   Column             Non-Null Count  Dtype   \n",
      "---  ------             --------------  -----   \n",
      " 0   type               5282 non-null   category\n",
      " 1   paperless_billing  5282 non-null   category\n",
      " 2   payment_method     5282 non-null   category\n",
      " 3   monthly_charges    5282 non-null   float64 \n",
      " 4   gender             5282 non-null   category\n",
      " 5   senior_citizen     5282 non-null   category\n",
      " 6   partner            5282 non-null   category\n",
      " 7   dependents         5282 non-null   category\n",
      " 8   internet_service   5282 non-null   category\n",
      " 9   online_security    5282 non-null   category\n",
      " 10  online_backup      5282 non-null   category\n",
      " 11  device_protection  5282 non-null   category\n",
      " 12  tech_support       5282 non-null   category\n",
      " 13  streaming_tv       5282 non-null   category\n",
      " 14  multiple_lines     5282 non-null   category\n",
      " 15  total_days         5282 non-null   int64   \n",
      "dtypes: category(14), float64(1), int64(1)\n",
      "memory usage: 197.8+ KB\n"
     ]
    }
   ],
   "source": [
    "features_train_lgbm = features_train\n",
    "features_train_lgbm[cat_features] = features_train_lgbm[cat_features].astype('category')\n",
    "features_train_lgbm.info()"
   ]
  },
  {
   "cell_type": "markdown",
   "id": "7b872276",
   "metadata": {},
   "source": [
    "Подбор гиперпараметров и расчет *ROC-AUC* для модели *LGBM Classifier*:"
   ]
  },
  {
   "cell_type": "code",
   "execution_count": 44,
   "id": "6acf0222",
   "metadata": {
    "scrolled": true
   },
   "outputs": [
    {
     "name": "stdout",
     "output_type": "stream",
     "text": [
      "Лучший результат ROC-AUC: 0.9\n",
      "\n",
      "Гиперпараметры модели LGBM Classifier: {'class_weight': 'balanced', 'learning_rate': 0.3, 'max_depth': 5, 'n_estimators': 150, 'n_jobs': -1, 'num_leaves': 10, 'objective': 'binary', 'random_state': 101022}\n",
      "None\n"
     ]
    }
   ],
   "source": [
    "# создаем модель LGBM Classifier\n",
    "model_lgbm = LGBMClassifier()\n",
    "\n",
    "# создаем словарь с гиперпараметрами для перебора\n",
    "parameters_lgbm = {\n",
    "    'class_weight': ['balanced'],\n",
    "    'num_leaves': [5, 10],\n",
    "    'n_estimators': [10, 50, 100, 150],\n",
    "    'max_depth' : [3, 5, 7],\n",
    "    'learning_rate': [0.01, 0.05, 0.1, 0.2, 0.3],\n",
    "    'random_state': [RANDOM_STATE],\n",
    "    'objective': ['binary'],\n",
    "    'n_jobs': [-1]\n",
    "}\n",
    "\n",
    "# подбор гиперпараметров с помощью функции best_model для LGBM Classifier\n",
    "print(best_model(model_lgbm, parameters_lgbm, features_train_lgbm, target_train, 'LGBM Classifier'))"
   ]
  },
  {
   "cell_type": "markdown",
   "id": "f5e8ac72",
   "metadata": {},
   "source": [
    "Сохраняем лучшую модель:"
   ]
  },
  {
   "cell_type": "code",
   "execution_count": 45,
   "id": "19844533",
   "metadata": {},
   "outputs": [],
   "source": [
    "model_lgbm_best = LGBMClassifier(class_weight='balanced',\n",
    "                                 learning_rate=0.3,\n",
    "                                 max_depth=5,\n",
    "                                 n_estimators=150,\n",
    "                                 n_jobs=-1,\n",
    "                                 num_leaves=10,\n",
    "                                 objective='binary',\n",
    "                                 random_state = RANDOM_STATE)"
   ]
  },
  {
   "cell_type": "markdown",
   "id": "b7885194",
   "metadata": {},
   "source": [
    "Рассчет *Accuracy* для лучшей модели *LGBM*:"
   ]
  },
  {
   "cell_type": "code",
   "execution_count": 46,
   "id": "42a3c344",
   "metadata": {
    "scrolled": true
   },
   "outputs": [
    {
     "name": "stdout",
     "output_type": "stream",
     "text": [
      "Среднее значение Accuracy для модели LGBM Classifier: 0.84\n",
      "None\n"
     ]
    }
   ],
   "source": [
    "print(accuracy_calculation(model_lgbm_best, \n",
    "                           features_train_lgbm, \n",
    "                           target_train, \n",
    "                          'LGBM Classifier'))"
   ]
  },
  {
   "cell_type": "markdown",
   "id": "c1da7195",
   "metadata": {},
   "source": [
    "### Сравнение результатов"
   ]
  },
  {
   "cell_type": "markdown",
   "id": "f82787e6",
   "metadata": {},
   "source": [
    "Оформим результаты предсказаний всех моделей в единую таблицу:"
   ]
  },
  {
   "cell_type": "code",
   "execution_count": 47,
   "id": "474f41e2",
   "metadata": {},
   "outputs": [
    {
     "data": {
      "text/html": [
       "<div>\n",
       "<style scoped>\n",
       "    .dataframe tbody tr th:only-of-type {\n",
       "        vertical-align: middle;\n",
       "    }\n",
       "\n",
       "    .dataframe tbody tr th {\n",
       "        vertical-align: top;\n",
       "    }\n",
       "\n",
       "    .dataframe thead th {\n",
       "        text-align: right;\n",
       "    }\n",
       "</style>\n",
       "<table border=\"1\" class=\"dataframe\">\n",
       "  <thead>\n",
       "    <tr style=\"text-align: right;\">\n",
       "      <th></th>\n",
       "      <th>ROC-AUC</th>\n",
       "      <th>Accuracy</th>\n",
       "    </tr>\n",
       "  </thead>\n",
       "  <tbody>\n",
       "    <tr>\n",
       "      <th>LGBM</th>\n",
       "      <td>0.90</td>\n",
       "      <td>0.84</td>\n",
       "    </tr>\n",
       "    <tr>\n",
       "      <th>Логистическая регрессия</th>\n",
       "      <td>0.84</td>\n",
       "      <td>0.75</td>\n",
       "    </tr>\n",
       "    <tr>\n",
       "      <th>Случайный лес</th>\n",
       "      <td>0.83</td>\n",
       "      <td>0.73</td>\n",
       "    </tr>\n",
       "  </tbody>\n",
       "</table>\n",
       "</div>"
      ],
      "text/plain": [
       "                         ROC-AUC  Accuracy\n",
       "LGBM                        0.90      0.84\n",
       "Логистическая регрессия     0.84      0.75\n",
       "Случайный лес               0.83      0.73"
      ]
     },
     "metadata": {},
     "output_type": "display_data"
    }
   ],
   "source": [
    "score_data = {'ROC-AUC':[0.84, 0.83, 0.90], 'Accuracy':[0.75, 0.73, 0.84]}   \n",
    "score_data = pd.DataFrame(score_data, index =['Логистическая регрессия', 'Случайный лес', 'LGBM'])  \n",
    "\n",
    "display(score_data.sort_values('ROC-AUC', ascending=False))"
   ]
  },
  {
   "cell_type": "markdown",
   "id": "e5c914f5",
   "metadata": {},
   "source": [
    "### Вывод\n",
    "\n",
    "- При обучении *Логистической регрессии* мы масштабировали числовые признаки с помощью *Standart Scaler* и закодировали категориальные признаки техникой *OHE*, для модели *Случайный лес* была произведена кодировка категориальных признаков техникой *Ordinal Encoder*, модель *LGBM* не требует кодировки признаков\n",
    "\n",
    "\n",
    "- Лучший результат как по основной метрике *ROC-AUC*, так и по дополнительной *Accuracy*,  у модели *LGBMClassifier(class_weight='balanced',learning_rate=0.3, max_depth=5, n_estimators=150, num_leaves=10, objective='binary', random_state = 101022)*\n",
    "\n",
    "\n",
    "- На втором месте по метрике *ROC-AUC* модель *LogisticRegression(class_weight='balanced', max_iter=300, random_state = 101022, solver='sag')*\n",
    "\n",
    "\n",
    "- Самый слабый результат предсказания у модели *RandomForestClassifier(class_weight='balanced', max_depth=7, n_estimators=160, random_state=101022)*"
   ]
  },
  {
   "cell_type": "markdown",
   "id": "a4c79185",
   "metadata": {},
   "source": [
    "## Тестирование модели"
   ]
  },
  {
   "cell_type": "markdown",
   "id": "6e350bae",
   "metadata": {},
   "source": [
    "### Проведение тестирования"
   ]
  },
  {
   "cell_type": "markdown",
   "id": "b2cf31bb",
   "metadata": {},
   "source": [
    "Выполним тестирование выбранной нами модели *LGBMClassifier(class_weight='balanced',learning_rate=0.3, max_depth=5, n_estimators=150, num_leaves=10, objective='binary', random_state = 101022)* на тестовой выборке. \n",
    "\n",
    "Предварительно изменим тип категориальных признаков в тестовой выборке:"
   ]
  },
  {
   "cell_type": "code",
   "execution_count": 48,
   "id": "497b8259",
   "metadata": {},
   "outputs": [
    {
     "name": "stdout",
     "output_type": "stream",
     "text": [
      "<class 'pandas.core.frame.DataFrame'>\n",
      "Index: 1761 entries, 7649-SIJJF to 4291-SHSBH\n",
      "Data columns (total 16 columns):\n",
      " #   Column             Non-Null Count  Dtype   \n",
      "---  ------             --------------  -----   \n",
      " 0   type               1761 non-null   category\n",
      " 1   paperless_billing  1761 non-null   category\n",
      " 2   payment_method     1761 non-null   category\n",
      " 3   monthly_charges    1761 non-null   float64 \n",
      " 4   gender             1761 non-null   category\n",
      " 5   senior_citizen     1761 non-null   category\n",
      " 6   partner            1761 non-null   category\n",
      " 7   dependents         1761 non-null   category\n",
      " 8   internet_service   1761 non-null   category\n",
      " 9   online_security    1761 non-null   category\n",
      " 10  online_backup      1761 non-null   category\n",
      " 11  device_protection  1761 non-null   category\n",
      " 12  tech_support       1761 non-null   category\n",
      " 13  streaming_tv       1761 non-null   category\n",
      " 14  multiple_lines     1761 non-null   category\n",
      " 15  total_days         1761 non-null   int64   \n",
      "dtypes: category(14), float64(1), int64(1)\n",
      "memory usage: 67.1+ KB\n"
     ]
    }
   ],
   "source": [
    "features_test_lgbm = features_test\n",
    "features_test_lgbm[cat_features] = features_test_lgbm[cat_features].astype('category')\n",
    "features_test_lgbm.info()"
   ]
  },
  {
   "cell_type": "markdown",
   "id": "e098c3e7",
   "metadata": {},
   "source": [
    "Рассчитаем значение метрик *ROC-AUC* и *Accuracy* на тестовой выборке:"
   ]
  },
  {
   "cell_type": "code",
   "execution_count": 49,
   "id": "8aa17288",
   "metadata": {},
   "outputs": [
    {
     "name": "stdout",
     "output_type": "stream",
     "text": [
      "ROC-AUC на тестовой выборке: 0.91\n",
      "\n",
      "Accuracy на тестовой выборке: 0.83\n"
     ]
    }
   ],
   "source": [
    "model_lgbm_best.fit(features_train_lgbm, target_train)\n",
    "\n",
    "predictions = model_lgbm_best.predict(features_test_lgbm)\n",
    "\n",
    "predicted_probalities_one = model_lgbm_best.predict_proba(features_test_lgbm)[:,1]\n",
    "    \n",
    "print('ROC-AUC на тестовой выборке:', round(roc_auc_score(target_test, predicted_probalities_one), 2))\n",
    "print('')\n",
    "print('Accuracy на тестовой выборке:', round(accuracy_score(target_test, predictions), 2))\n"
   ]
  },
  {
   "cell_type": "markdown",
   "id": "7aec6fdc",
   "metadata": {},
   "source": [
    "### Анализ важности признаков"
   ]
  },
  {
   "cell_type": "markdown",
   "id": "931990e8",
   "metadata": {},
   "source": [
    "Посмотрим на важность признаков для выбранной модели:"
   ]
  },
  {
   "cell_type": "code",
   "execution_count": 50,
   "id": "b98a2c16",
   "metadata": {},
   "outputs": [
    {
     "data": {
      "image/png": "[encoded data removed]",
      "text/plain": [
       "<Figure size 864x648 with 1 Axes>"
      ]
     },
     "metadata": {},
     "output_type": "display_data"
    }
   ],
   "source": [
    "feature_importances = model_lgbm_best.feature_importances_\n",
    "sorted_idx = np.argsort(feature_importances)\n",
    "\n",
    "plt.figure(figsize=(12, 9))\n",
    "\n",
    "plt.barh(range(len(sorted_idx)),\n",
    "        feature_importances[sorted_idx],\n",
    "        align='center',\n",
    "        color='royalblue')\n",
    "\n",
    "plt.yticks(range(len(sorted_idx)),\n",
    "          np.array(features_test_lgbm.columns)[sorted_idx])\n",
    "plt.title('Важность признаков', fontsize=16)\n",
    "\n",
    "plt.show()"
   ]
  },
  {
   "cell_type": "markdown",
   "id": "a7d2d133",
   "metadata": {},
   "source": [
    "### Вывод\n",
    "\n",
    "- Модель *LGBMClassifier(class_weight='balanced',learning_rate=0.3, max_depth=5, n_estimators=150, num_leaves=10, objective='binary', random_state = 101022)* показала высокий результат предсказания на тестовой выборке - целевая метрика *ROC-AUC = 0.91* и успешно прошла проверку.\n",
    "\n",
    "\n",
    "- Значение *Accuracy = 0.83* , что выше значения константной модели, предсказывающей всем клиентам только нули (у константной модели *Accuracy = 0.73*)\n",
    "\n",
    "\n",
    "- При использовании данной модели целевая переменная сильно зависит от признаков *total_days* и *monthly_charges*, также есть зависимость от *type*, *gender*, *payment_method*. Влияние остальных признаков достаточно слабое. "
   ]
  },
  {
   "cell_type": "markdown",
   "id": "b8b237d8",
   "metadata": {},
   "source": [
    "## Итоговый отчет\n",
    "\n",
    "# Описание проекта \n",
    "\n",
    "# Прогноз оттока клиентов оператора связи\n",
    "\n",
    "Оператор связи хочет научиться прогнозировать отток клиентов.\n",
    "\n",
    "**Описание услуг**\n",
    "\n",
    "Оператор предоставляет два основных типа услуг: \n",
    "\n",
    "1. Стационарную телефонную связь\n",
    "2. Интернет\n",
    "\n",
    "Также доступны такие услуги:\n",
    "\n",
    "- Интернет-безопасность: антивирус (*DeviceProtection*) и блокировка небезопасных сайтов (*OnlineSecurity*);\n",
    "- Выделенная линия технической поддержки (*TechSupport*);\n",
    "- Облачное хранилище файлов для резервного копирования данных (*OnlineBackup*);\n",
    "- Стриминговое телевидение (*StreamingTV*) и каталог фильмов (*StreamingMovies*).\n",
    "\n",
    "За услуги клиенты могут платить каждый месяц или заключить договор на 1–2 года. Доступны различные способы расчёта и возможность получения электронного чека.\n",
    "\n",
    "**Цель исследования:**\n",
    "Построить модель, предсказывающую отток клиентов на основе персональных данных о клиентах, информации об их тарифах и договорах. *ROC-AUC* на тестовой выборке должен быть не ниже 0.88.\n",
    "\n",
    "**Метрика оценки качества модели:** *ROC-AUC*, дополнительно *Accuracy*\n",
    "\n",
    "# Изначальный план работы\n",
    "\n",
    "Для проведения исследования был составлен следующий план действий:\n",
    "\n",
    "**1. Предобработка данных**\n",
    "- Изучение общей информации (info, describe, построение графиков распределения численных признаков *total_charges* и *monthly_charges*)\n",
    "- Изменение типов данных: в признаках *begin_date* и *end_date* - с `object` на `datetime`, в признаке *total_charges* - c `object`на `float`\n",
    "- Во всех датасетах в бинарных категориальных признаках используется тип *object*, и только в признаке *SeniorCitizen* использован числовой тип `int`(значения в признаке 0 либо 1). Логично заменить тип данных на `object`, чтобы в дальнейшем при кодировании признаков наши данные были однородными\n",
    "- Проверка на пропуски и аномалии после изменения типов данных и их обработка при необходимости\n",
    "- Объединение таблиц по признаку *customer_id* (сначала таблицы *contract* и *personal*, затем к ним последовательно присоединим *internet*, *phone*)\n",
    "- Обработка пропусков, возникших при объединении таблиц\n",
    "- Расчет коэффициента корреляции Пирсона для количественных признаков, создание новых и удаление неинформативных признаков\n",
    "- Создание целевого признака *churn* на основе признака *end_date* (если в *end_date* указана дата, значит, клиент ушел)\n",
    "\n",
    "**2. Работа с моделями**\n",
    "- Кодирование категориальных признаков техникой One-Hot Encoding для логистической регрессии, для моделей, основанных на деревьях - техникой Ordinal Encoder  \n",
    "- Проверка целевого признака на дисбаланс, при необходимости борьба с дисбалансом\n",
    "- Разбивка данных на обучающую (75%) и тестовую (25%) выборки\n",
    "- Обучение моделей и подбор гиперпараметров с помощью *GridSearchCV*\n",
    "- Сравнение результатов работы моделей (метрики *ROC-AUC* и *Accuracy*) и выбор лучшей модели\n",
    "\n",
    "**3. Тестирование модели**\n",
    "- Проверка качества предсказания выбранной модели на тестовой выборке (метрики *ROC-AUC* и *Accuracy*)\n",
    "\n",
    "**4. Общий вывод**\n",
    "- Summary по каждому пункту проделанной работы, выводы по обученной модели и значимости выбранных признаков\n",
    "\n",
    "\n",
    "\n",
    "В ходе работы практически все пункты плана были выполнены, за исключением расчета коэффициента корреляции Пирсона. Корреляция Пирсона находит линейные зависимости только в чиловых признаках. Так как в наших данных много категориальных признаков, был сделан выбор в пользу расчета корреляции *Phik (φk)* - данный метод показывает зависимости как между числовыми, так и категориальными признаками. Также в разделе \"Тестирование модели\" мы добавили пункт с анализом важности признаков лучшей модели.\n",
    "\n",
    "\n",
    "# Ключевые шаги в решении задачи и качество предсказания итоговой модели\n",
    "\n",
    "**1. Предобработка данных**\n",
    "\n",
    "- При первом взгляде на данные, пропуски и явные дубликаты не были обнаружены. Однако, в ходе проведения работы в признаке *total_charges* были обнаружены скрытые пропуски (вместо значений были указаны пробелы). У всех объектов с пропусками в *total_charges* дата начала пользования услугами равна 1 февраля 2020 года, что совпадает с датой выгрузки данных. Соответственно, это новые клиенты, их общие траты мы заполнили значением из месячных расходов\n",
    "\n",
    "- Названия столбцов были переведены в змеиный регистр согласно стандартам *PEP 8*  и исправлены неверные типы данных: в признаках *begin_date*, *end_date* установлены даты вместо текста, в *total_charges* изменен тип с текстового на числовой, в *senior_citizen* числовой тип со значениями 1/0 изменен на текстовый Yes/No для однородности категориальных признаков и избежании проблем при их кодировке\n",
    "  \n",
    "- Все 4 таблицы мы объединили в единую по признаку *customer_id*. При объединении возникли пропуски, которые мы заполнили значением 'No', что означет, что клиент не пользуется данной услугой\n",
    "\n",
    "- Исследовательский анализ данных показал дисбаланс классов целевого признака (73% действующих клиентов и 27% ушедших), также, исходя из графиков распределения трат пользователей, возникло предположение о том, что чаще расторгают контракт клиенты с высокими тратами - у действующих, и у ушедших клиентов на графике с общими тратами заметна сильная скошенность вправо - количество пользователей уменьшается при увеличении общих трат. Данное предположение подтверждается графиком ежемесячных трат ушедших пользователей - есть сильный пик при повышении трат. \n",
    "  \n",
    "- Добавлены новые признаки с фактом ухода клиента и количеством дней использования услуг, удалены неинформативные (дата начала и завершения использования услуг) и сильно коррелирующие признаки (сумма общих трат клиентов из-за сильной прямой корреляции с 2 признаками: общее количество дней использования услуг и ежемесячные траты клиентов; стриминговые фильмы из-за корреляции с признаком стриминговое телевидение), id клиента переведен в индекс  \n",
    "  \n",
    "- Подготовлены обучающая (75%) и тестовая (25%) выборка \n",
    "\n",
    "**2. Создание функций для подбора гиперпараметров и расчета метрик**\n",
    "\n",
    "- Так как мы не создавали валидационную выборку, были написаны 2 функции с применением кросс-валидации: функция для подбора гиперпараметров c использованием *GridSearchCV* и расчета основной метрики *ROC-AUC*, также функция для расчета *Accuracy* с использованием *cross_val_score*.\n",
    "\n",
    "**3. Результат обучения моделей**\n",
    "- Для модели *Логистическая регрессия* мы предварительно провели масштабирование числовых признаков и кодировку категориальных техникой *OHE*, для *Случайного леса* - кодировка техникой *Ordinal Encoder*. Чтобы при преобразовании признаков не допустить утечку данных, мы использовали *Pipeline*. Для модели *LGBM* тип данных категориальных признаков был изменен на `category`\n",
    "\n",
    "- Лучший результат показала модель *LGBMClassifier(class_weight='balanced',learning_rate=0.3, max_depth=5, n_estimators=150, num_leaves=10, objective='binary', random_state=101022)*: *ROC-AUC = 0.90, Accuracy = 0.84*\n",
    "\n",
    "- На втором месте по основной метрике *ROC-AUC* модель *LogisticRegression(class_weight='balanced', max_iter=300, random_state=101022, solver='sag')*: *ROC-AUC = 0.84, Accuracy = 0.75*, на третьем - *RandomForestClassifier(class_weight='balanced', max_depth=7, n_estimators=160, random_state=101022)*: *ROC-AUC = 0.83, Accuracy = 0.73*\n",
    "\n",
    "**4. Результат тестирования итоговой модели**\n",
    "\n",
    "- Выбранная нами модель *LGBM* успешно прошла проверку на тестовой выборке - результат *ROC-AUC = 0.91*. Значение *Accuracy = 0.83*, что выше, чем у константной модели с предсказанием нулей для всех клиентов (*Accuracy = 0.73*)\n",
    "\n",
    "- При использовании данной модели целевая переменная сильно зависит от признаков *total_days* и *monthly_charges* - значит, мы сделали верный шаг, создав новый признак *total_days*. Также есть зависимость от признаков *type*, *gender*, *payment_method*. Влияние остальных признаков (*partner, paperless_billing, tech_support, multiple_lines, internet_service, device_protection, online_security, dependents, senior_citizen, online_backup, streaming_tv*) достаточно слабое. "
   ]
  },
  {
   "cell_type": "code",
   "execution_count": null,
   "id": "b4741a43",
   "metadata": {},
   "outputs": [],
   "source": []
  }
 ],
 "metadata": {
  "ExecuteTimeLog": [
   {
    "duration": 1126,
    "start_time": "2022-10-16T14:32:39.354Z"
   },
   {
    "duration": 109,
    "start_time": "2022-10-16T14:32:41.405Z"
   },
   {
    "duration": 168,
    "start_time": "2022-10-16T14:32:43.659Z"
   }
  ],
  "kernelspec": {
   "display_name": "Python 3 (ipykernel)",
   "language": "python",
   "name": "python3"
  },
  "language_info": {
   "codemirror_mode": {
    "name": "ipython",
    "version": 3
   },
   "file_extension": ".py",
   "mimetype": "text/x-python",
   "name": "python",
   "nbconvert_exporter": "python",
   "pygments_lexer": "ipython3",
   "version": "3.9.12"
  },
  "toc": {
   "base_numbering": 1,
   "nav_menu": {},
   "number_sections": true,
   "sideBar": true,
   "skip_h1_title": true,
   "title_cell": "Содержание",
   "title_sidebar": "Contents",
   "toc_cell": true,
   "toc_position": {
    "height": "596px",
    "left": "7px",
    "top": "110px",
    "width": "165px"
   },
   "toc_section_display": true,
   "toc_window_display": true
  }
 },
 "nbformat": 4,
 "nbformat_minor": 5
}
