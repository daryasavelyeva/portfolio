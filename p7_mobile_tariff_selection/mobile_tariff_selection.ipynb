{
 "cells": [
  {
   "cell_type": "markdown",
   "id": "c05273fc",
   "metadata": {
    "toc": true
   },
   "source": [
    "<h1>Содержание<span class=\"tocSkip\"></span></h1>\n",
    "<div class=\"toc\"><ul class=\"toc-item\"><li><span><a href=\"#Изучение-данных-из-файла\" data-toc-modified-id=\"Изучение-данных-из-файла-1\"><span class=\"toc-item-num\">1&nbsp;&nbsp;</span>Изучение данных из файла</a></span><ul class=\"toc-item\"><li><span><a href=\"#Вывод\" data-toc-modified-id=\"Вывод-1.1\"><span class=\"toc-item-num\">1.1&nbsp;&nbsp;</span>Вывод</a></span></li></ul></li><li><span><a href=\"#Предобработка-данных\" data-toc-modified-id=\"Предобработка-данных-2\"><span class=\"toc-item-num\">2&nbsp;&nbsp;</span>Предобработка данных</a></span><ul class=\"toc-item\"><li><span><a href=\"#Изменение-типа-данных\" data-toc-modified-id=\"Изменение-типа-данных-2.1\"><span class=\"toc-item-num\">2.1&nbsp;&nbsp;</span>Изменение типа данных</a></span></li><li><span><a href=\"#Проверка-на-дубликаты\" data-toc-modified-id=\"Проверка-на-дубликаты-2.2\"><span class=\"toc-item-num\">2.2&nbsp;&nbsp;</span>Проверка на дубликаты</a></span></li><li><span><a href=\"#Количество-сделанных-звонков-и-израсходованных-минут-разговора-по-месяцам-для-каждого-пользователя\" data-toc-modified-id=\"Количество-сделанных-звонков-и-израсходованных-минут-разговора-по-месяцам-для-каждого-пользователя-2.3\"><span class=\"toc-item-num\">2.3&nbsp;&nbsp;</span>Количество сделанных звонков и израсходованных минут разговора по месяцам для каждого пользователя</a></span></li><li><span><a href=\"#Количество-отправленных-сообщений-по-месяцам-для-каждого-пользователя\" data-toc-modified-id=\"Количество-отправленных-сообщений-по-месяцам-для-каждого-пользователя-2.4\"><span class=\"toc-item-num\">2.4&nbsp;&nbsp;</span>Количество отправленных сообщений по месяцам для каждого пользователя</a></span></li><li><span><a href=\"#Объем-израсходованного-интернет-трафика-по-месяцам-для-каждого-пользователя\" data-toc-modified-id=\"Объем-израсходованного-интернет-трафика-по-месяцам-для-каждого-пользователя-2.5\"><span class=\"toc-item-num\">2.5&nbsp;&nbsp;</span>Объем израсходованного интернет-трафика по месяцам для каждого пользователя</a></span></li><li><span><a href=\"#Помесячная-выручка-с-каждого-пользователя\" data-toc-modified-id=\"Помесячная-выручка-с-каждого-пользователя-2.6\"><span class=\"toc-item-num\">2.6&nbsp;&nbsp;</span>Помесячная выручка с каждого пользователя</a></span></li><li><span><a href=\"#Вывод\" data-toc-modified-id=\"Вывод-2.7\"><span class=\"toc-item-num\">2.7&nbsp;&nbsp;</span>Вывод</a></span></li></ul></li><li><span><a href=\"#Анализ-данных\" data-toc-modified-id=\"Анализ-данных-3\"><span class=\"toc-item-num\">3&nbsp;&nbsp;</span>Анализ данных</a></span><ul class=\"toc-item\"><li><span><a href=\"#Количество-минут-разговора,-которое-требуется-пользователям-каждого-тарифа-в-месяц\" data-toc-modified-id=\"Количество-минут-разговора,-которое-требуется-пользователям-каждого-тарифа-в-месяц-3.1\"><span class=\"toc-item-num\">3.1&nbsp;&nbsp;</span>Количество минут разговора, которое требуется пользователям каждого тарифа в месяц</a></span></li><li><span><a href=\"#Количество-сообщений,-которое-требуется-пользователям-каждого-тарифа-в-месяц\" data-toc-modified-id=\"Количество-сообщений,-которое-требуется-пользователям-каждого-тарифа-в-месяц-3.2\"><span class=\"toc-item-num\">3.2&nbsp;&nbsp;</span>Количество сообщений, которое требуется пользователям каждого тарифа в месяц</a></span></li><li><span><a href=\"#Объем-интернет-трафика,-который-требуется-пользователям-каждого-тарифа-в-месяц\" data-toc-modified-id=\"Объем-интернет-трафика,-который-требуется-пользователям-каждого-тарифа-в-месяц-3.3\"><span class=\"toc-item-num\">3.3&nbsp;&nbsp;</span>Объем интернет-трафика, который требуется пользователям каждого тарифа в месяц</a></span></li><li><span><a href=\"#Вывод\" data-toc-modified-id=\"Вывод-3.4\"><span class=\"toc-item-num\">3.4&nbsp;&nbsp;</span>Вывод</a></span></li></ul></li><li><span><a href=\"#Проверка-гипотез\" data-toc-modified-id=\"Проверка-гипотез-4\"><span class=\"toc-item-num\">4&nbsp;&nbsp;</span>Проверка гипотез</a></span><ul class=\"toc-item\"><li><span><a href=\"#Гипотеза-1:-Средняя-выручка-с-пользователей-тарифов-«Ультра»-и-«Смарт»-различаются\" data-toc-modified-id=\"Гипотеза-1:-Средняя-выручка-с-пользователей-тарифов-«Ультра»-и-«Смарт»-различаются-4.1\"><span class=\"toc-item-num\">4.1&nbsp;&nbsp;</span>Гипотеза 1: Средняя выручка с пользователей тарифов «Ультра» и «Смарт» различаются</a></span></li><li><span><a href=\"#Гипотеза-2:-Cредняя-выручка-пользователей-из-Москвы-отличается-от-выручки-пользователей-из-других-регионов\" data-toc-modified-id=\"Гипотеза-2:-Cредняя-выручка-пользователей-из-Москвы-отличается-от-выручки-пользователей-из-других-регионов-4.2\"><span class=\"toc-item-num\">4.2&nbsp;&nbsp;</span>Гипотеза 2: Cредняя выручка пользователей из Москвы отличается от выручки пользователей из других регионов</a></span></li><li><span><a href=\"#Вывод\" data-toc-modified-id=\"Вывод-4.3\"><span class=\"toc-item-num\">4.3&nbsp;&nbsp;</span>Вывод</a></span></li></ul></li><li><span><a href=\"#Общий-вывод\" data-toc-modified-id=\"Общий-вывод-5\"><span class=\"toc-item-num\">5&nbsp;&nbsp;</span>Общий вывод</a></span></li></ul></div>"
   ]
  },
  {
   "cell_type": "markdown",
   "id": "3e332988",
   "metadata": {},
   "source": [
    "# Определение выгодного тарифа для телеком-компании"
   ]
  },
  {
   "cell_type": "markdown",
   "id": "eb3a334b",
   "metadata": {},
   "source": [
    "Оператор сотовой связи предлагает клиентам два тарифных плана. Чтобы скорректировать рекламный бюджет, нужно понять, какой тариф приносит больше денег. Необходимо выполнить предварительный анализ тарифов на небольшой выборке клиентов (500 пользователей) и сделать вывод, какой тариф лучше.\n",
    "\n",
    "**Примечание:**\n",
    "Компания всегда округляет секунды до минут, а мегабайты — до гигабайт. Каждый звонок округляется отдельно: даже если он длился всего 1 секунду, будет засчитан как 1 минута.\n",
    "Для веб-трафика отдельные сессии не считаются. Вместо этого общая сумма за месяц округляется в бо́льшую сторону. Если абонент использует 1025 мегабайт в этом месяце, с него возьмут плату за 2 гигабайта.\n",
    "В данных есть звонки с нулевой продолжительностью - нулями обозначены пропущенные звонки.\n",
    "\n",
    "**План работы:**\n",
    "\n",
    "1. Изучение общей информации о данных\n",
    "2. Подготовка данных\n",
    " - Исправление типов данных\n",
    " - Поиск и исправление ошибок в данных\n",
    " - Расчет для каждого пользователя:\n",
    "   - количества сделанных звонков и израсходованных минут разговора по месяцам\n",
    "   - количества отправленных сообщений по месяцам\n",
    "   - объема израсходованного интернет-трафика по месяцам\n",
    "   - помесячной выручки с каждого пользователя\n",
    "3. Анализ поведения клиентов\n",
    "4. Проверка гипотез\n",
    "  - средняя выручка пользователей тарифов «Ультра» и «Смарт» различаются\n",
    "  - средняя выручка пользователей из Москвы отличается от выручки пользователей из других регионов\n",
    "5. Общий вывод"
   ]
  },
  {
   "cell_type": "markdown",
   "id": "1cb847e0",
   "metadata": {},
   "source": [
    "## Изучение данных из файла"
   ]
  },
  {
   "cell_type": "markdown",
   "id": "332dcdb9",
   "metadata": {},
   "source": [
    "Загрузим необходимые библиотеки:"
   ]
  },
  {
   "cell_type": "code",
   "execution_count": 1,
   "id": "bf0ea59c",
   "metadata": {},
   "outputs": [],
   "source": [
    "import pandas as pd\n",
    "pd.set_option('display.max_columns', None) \n",
    "pd.set_option('display.max_rows', None)\n",
    "\n",
    "import numpy as np\n",
    "\n",
    "from functools import reduce\n",
    "\n",
    "from matplotlib import pyplot as plt\n",
    "import seaborn as sns\n",
    "\n",
    "from scipy import stats as st\n",
    "from scipy.stats import levene"
   ]
  },
  {
   "cell_type": "markdown",
   "id": "a6021e3a",
   "metadata": {},
   "source": [
    "Откроем файлы с данными и изучим общую информацию.\n",
    "\n",
    "**Информация о пользователях**"
   ]
  },
  {
   "cell_type": "code",
   "execution_count": 2,
   "id": "572ade8e",
   "metadata": {},
   "outputs": [
    {
     "data": {
      "text/html": [
       "<div>\n",
       "<style scoped>\n",
       "    .dataframe tbody tr th:only-of-type {\n",
       "        vertical-align: middle;\n",
       "    }\n",
       "\n",
       "    .dataframe tbody tr th {\n",
       "        vertical-align: top;\n",
       "    }\n",
       "\n",
       "    .dataframe thead th {\n",
       "        text-align: right;\n",
       "    }\n",
       "</style>\n",
       "<table border=\"1\" class=\"dataframe\">\n",
       "  <thead>\n",
       "    <tr style=\"text-align: right;\">\n",
       "      <th></th>\n",
       "      <th>user_id</th>\n",
       "      <th>age</th>\n",
       "      <th>churn_date</th>\n",
       "      <th>city</th>\n",
       "      <th>first_name</th>\n",
       "      <th>last_name</th>\n",
       "      <th>reg_date</th>\n",
       "      <th>tariff</th>\n",
       "    </tr>\n",
       "  </thead>\n",
       "  <tbody>\n",
       "    <tr>\n",
       "      <th>0</th>\n",
       "      <td>1000</td>\n",
       "      <td>52</td>\n",
       "      <td>NaN</td>\n",
       "      <td>Краснодар</td>\n",
       "      <td>Рафаил</td>\n",
       "      <td>Верещагин</td>\n",
       "      <td>2018-05-25</td>\n",
       "      <td>ultra</td>\n",
       "    </tr>\n",
       "    <tr>\n",
       "      <th>1</th>\n",
       "      <td>1001</td>\n",
       "      <td>41</td>\n",
       "      <td>NaN</td>\n",
       "      <td>Москва</td>\n",
       "      <td>Иван</td>\n",
       "      <td>Ежов</td>\n",
       "      <td>2018-11-01</td>\n",
       "      <td>smart</td>\n",
       "    </tr>\n",
       "    <tr>\n",
       "      <th>2</th>\n",
       "      <td>1002</td>\n",
       "      <td>59</td>\n",
       "      <td>NaN</td>\n",
       "      <td>Стерлитамак</td>\n",
       "      <td>Евгений</td>\n",
       "      <td>Абрамович</td>\n",
       "      <td>2018-06-17</td>\n",
       "      <td>smart</td>\n",
       "    </tr>\n",
       "    <tr>\n",
       "      <th>3</th>\n",
       "      <td>1003</td>\n",
       "      <td>23</td>\n",
       "      <td>NaN</td>\n",
       "      <td>Москва</td>\n",
       "      <td>Белла</td>\n",
       "      <td>Белякова</td>\n",
       "      <td>2018-08-17</td>\n",
       "      <td>ultra</td>\n",
       "    </tr>\n",
       "    <tr>\n",
       "      <th>4</th>\n",
       "      <td>1004</td>\n",
       "      <td>68</td>\n",
       "      <td>NaN</td>\n",
       "      <td>Новокузнецк</td>\n",
       "      <td>Татьяна</td>\n",
       "      <td>Авдеенко</td>\n",
       "      <td>2018-05-14</td>\n",
       "      <td>ultra</td>\n",
       "    </tr>\n",
       "  </tbody>\n",
       "</table>\n",
       "</div>"
      ],
      "text/plain": [
       "   user_id  age churn_date         city first_name  last_name    reg_date  \\\n",
       "0     1000   52        NaN    Краснодар     Рафаил  Верещагин  2018-05-25   \n",
       "1     1001   41        NaN       Москва       Иван       Ежов  2018-11-01   \n",
       "2     1002   59        NaN  Стерлитамак    Евгений  Абрамович  2018-06-17   \n",
       "3     1003   23        NaN       Москва      Белла   Белякова  2018-08-17   \n",
       "4     1004   68        NaN  Новокузнецк    Татьяна   Авдеенко  2018-05-14   \n",
       "\n",
       "  tariff  \n",
       "0  ultra  \n",
       "1  smart  \n",
       "2  smart  \n",
       "3  ultra  \n",
       "4  ultra  "
      ]
     },
     "execution_count": 2,
     "metadata": {},
     "output_type": "execute_result"
    }
   ],
   "source": [
    "try:\n",
    "    users = pd.read_csv('/datasets/users.csv')\n",
    "except:\n",
    "    users = pd.read_csv('/Users/Dasha/project_4_mobile_operator/users.csv')\n",
    "users.head()"
   ]
  },
  {
   "cell_type": "code",
   "execution_count": 3,
   "id": "4acf600c",
   "metadata": {},
   "outputs": [
    {
     "name": "stdout",
     "output_type": "stream",
     "text": [
      "<class 'pandas.core.frame.DataFrame'>\n",
      "RangeIndex: 500 entries, 0 to 499\n",
      "Data columns (total 8 columns):\n",
      " #   Column      Non-Null Count  Dtype \n",
      "---  ------      --------------  ----- \n",
      " 0   user_id     500 non-null    int64 \n",
      " 1   age         500 non-null    int64 \n",
      " 2   churn_date  38 non-null     object\n",
      " 3   city        500 non-null    object\n",
      " 4   first_name  500 non-null    object\n",
      " 5   last_name   500 non-null    object\n",
      " 6   reg_date    500 non-null    object\n",
      " 7   tariff      500 non-null    object\n",
      "dtypes: int64(2), object(6)\n",
      "memory usage: 31.4+ KB\n"
     ]
    }
   ],
   "source": [
    "users.info()"
   ]
  },
  {
   "cell_type": "code",
   "execution_count": 4,
   "id": "533cb848",
   "metadata": {},
   "outputs": [
    {
     "data": {
      "text/html": [
       "<div>\n",
       "<style scoped>\n",
       "    .dataframe tbody tr th:only-of-type {\n",
       "        vertical-align: middle;\n",
       "    }\n",
       "\n",
       "    .dataframe tbody tr th {\n",
       "        vertical-align: top;\n",
       "    }\n",
       "\n",
       "    .dataframe thead th {\n",
       "        text-align: right;\n",
       "    }\n",
       "</style>\n",
       "<table border=\"1\" class=\"dataframe\">\n",
       "  <thead>\n",
       "    <tr style=\"text-align: right;\">\n",
       "      <th></th>\n",
       "      <th>user_id</th>\n",
       "      <th>age</th>\n",
       "    </tr>\n",
       "  </thead>\n",
       "  <tbody>\n",
       "    <tr>\n",
       "      <th>count</th>\n",
       "      <td>500.000000</td>\n",
       "      <td>500.00000</td>\n",
       "    </tr>\n",
       "    <tr>\n",
       "      <th>mean</th>\n",
       "      <td>1249.500000</td>\n",
       "      <td>46.58800</td>\n",
       "    </tr>\n",
       "    <tr>\n",
       "      <th>std</th>\n",
       "      <td>144.481833</td>\n",
       "      <td>16.66763</td>\n",
       "    </tr>\n",
       "    <tr>\n",
       "      <th>min</th>\n",
       "      <td>1000.000000</td>\n",
       "      <td>18.00000</td>\n",
       "    </tr>\n",
       "    <tr>\n",
       "      <th>25%</th>\n",
       "      <td>1124.750000</td>\n",
       "      <td>32.00000</td>\n",
       "    </tr>\n",
       "    <tr>\n",
       "      <th>50%</th>\n",
       "      <td>1249.500000</td>\n",
       "      <td>46.00000</td>\n",
       "    </tr>\n",
       "    <tr>\n",
       "      <th>75%</th>\n",
       "      <td>1374.250000</td>\n",
       "      <td>62.00000</td>\n",
       "    </tr>\n",
       "    <tr>\n",
       "      <th>max</th>\n",
       "      <td>1499.000000</td>\n",
       "      <td>75.00000</td>\n",
       "    </tr>\n",
       "  </tbody>\n",
       "</table>\n",
       "</div>"
      ],
      "text/plain": [
       "           user_id        age\n",
       "count   500.000000  500.00000\n",
       "mean   1249.500000   46.58800\n",
       "std     144.481833   16.66763\n",
       "min    1000.000000   18.00000\n",
       "25%    1124.750000   32.00000\n",
       "50%    1249.500000   46.00000\n",
       "75%    1374.250000   62.00000\n",
       "max    1499.000000   75.00000"
      ]
     },
     "execution_count": 4,
     "metadata": {},
     "output_type": "execute_result"
    }
   ],
   "source": [
    "users.describe()"
   ]
  },
  {
   "cell_type": "markdown",
   "id": "dcd6b2be",
   "metadata": {},
   "source": [
    "В датафрейме с пользователями мы видим в столбцах `churn_date` и `reg_date` неверный тип данных, а в столбце `churn_date` есть только 38 значиний, остальное - пропуски (значит, что 38 пользователей прекратили использовать тариф на момент выгрузки). \n",
    "\n",
    "**Информация о звонках**"
   ]
  },
  {
   "cell_type": "code",
   "execution_count": 5,
   "id": "6243de1a",
   "metadata": {},
   "outputs": [
    {
     "data": {
      "text/html": [
       "<div>\n",
       "<style scoped>\n",
       "    .dataframe tbody tr th:only-of-type {\n",
       "        vertical-align: middle;\n",
       "    }\n",
       "\n",
       "    .dataframe tbody tr th {\n",
       "        vertical-align: top;\n",
       "    }\n",
       "\n",
       "    .dataframe thead th {\n",
       "        text-align: right;\n",
       "    }\n",
       "</style>\n",
       "<table border=\"1\" class=\"dataframe\">\n",
       "  <thead>\n",
       "    <tr style=\"text-align: right;\">\n",
       "      <th></th>\n",
       "      <th>id</th>\n",
       "      <th>call_date</th>\n",
       "      <th>duration</th>\n",
       "      <th>user_id</th>\n",
       "    </tr>\n",
       "  </thead>\n",
       "  <tbody>\n",
       "    <tr>\n",
       "      <th>0</th>\n",
       "      <td>1000_0</td>\n",
       "      <td>2018-07-25</td>\n",
       "      <td>0.00</td>\n",
       "      <td>1000</td>\n",
       "    </tr>\n",
       "    <tr>\n",
       "      <th>1</th>\n",
       "      <td>1000_1</td>\n",
       "      <td>2018-08-17</td>\n",
       "      <td>0.00</td>\n",
       "      <td>1000</td>\n",
       "    </tr>\n",
       "    <tr>\n",
       "      <th>2</th>\n",
       "      <td>1000_2</td>\n",
       "      <td>2018-06-11</td>\n",
       "      <td>2.85</td>\n",
       "      <td>1000</td>\n",
       "    </tr>\n",
       "    <tr>\n",
       "      <th>3</th>\n",
       "      <td>1000_3</td>\n",
       "      <td>2018-09-21</td>\n",
       "      <td>13.80</td>\n",
       "      <td>1000</td>\n",
       "    </tr>\n",
       "    <tr>\n",
       "      <th>4</th>\n",
       "      <td>1000_4</td>\n",
       "      <td>2018-12-15</td>\n",
       "      <td>5.18</td>\n",
       "      <td>1000</td>\n",
       "    </tr>\n",
       "  </tbody>\n",
       "</table>\n",
       "</div>"
      ],
      "text/plain": [
       "       id   call_date  duration  user_id\n",
       "0  1000_0  2018-07-25      0.00     1000\n",
       "1  1000_1  2018-08-17      0.00     1000\n",
       "2  1000_2  2018-06-11      2.85     1000\n",
       "3  1000_3  2018-09-21     13.80     1000\n",
       "4  1000_4  2018-12-15      5.18     1000"
      ]
     },
     "execution_count": 5,
     "metadata": {},
     "output_type": "execute_result"
    }
   ],
   "source": [
    "try:\n",
    "    calls = pd.read_csv('/datasets/calls.csv')\n",
    "except:\n",
    "    calls = pd.read_csv('/Users/Dasha/project_4_mobile_operator/calls.csv')\n",
    "calls.head()"
   ]
  },
  {
   "cell_type": "code",
   "execution_count": 6,
   "id": "b91eaf6b",
   "metadata": {},
   "outputs": [
    {
     "name": "stdout",
     "output_type": "stream",
     "text": [
      "<class 'pandas.core.frame.DataFrame'>\n",
      "RangeIndex: 202607 entries, 0 to 202606\n",
      "Data columns (total 4 columns):\n",
      " #   Column     Non-Null Count   Dtype  \n",
      "---  ------     --------------   -----  \n",
      " 0   id         202607 non-null  object \n",
      " 1   call_date  202607 non-null  object \n",
      " 2   duration   202607 non-null  float64\n",
      " 3   user_id    202607 non-null  int64  \n",
      "dtypes: float64(1), int64(1), object(2)\n",
      "memory usage: 6.2+ MB\n"
     ]
    }
   ],
   "source": [
    "calls.info()"
   ]
  },
  {
   "cell_type": "code",
   "execution_count": 7,
   "id": "e02161b4",
   "metadata": {
    "scrolled": false
   },
   "outputs": [
    {
     "data": {
      "text/html": [
       "<div>\n",
       "<style scoped>\n",
       "    .dataframe tbody tr th:only-of-type {\n",
       "        vertical-align: middle;\n",
       "    }\n",
       "\n",
       "    .dataframe tbody tr th {\n",
       "        vertical-align: top;\n",
       "    }\n",
       "\n",
       "    .dataframe thead th {\n",
       "        text-align: right;\n",
       "    }\n",
       "</style>\n",
       "<table border=\"1\" class=\"dataframe\">\n",
       "  <thead>\n",
       "    <tr style=\"text-align: right;\">\n",
       "      <th></th>\n",
       "      <th>duration</th>\n",
       "      <th>user_id</th>\n",
       "    </tr>\n",
       "  </thead>\n",
       "  <tbody>\n",
       "    <tr>\n",
       "      <th>count</th>\n",
       "      <td>202607.000000</td>\n",
       "      <td>202607.000000</td>\n",
       "    </tr>\n",
       "    <tr>\n",
       "      <th>mean</th>\n",
       "      <td>6.755887</td>\n",
       "      <td>1253.940619</td>\n",
       "    </tr>\n",
       "    <tr>\n",
       "      <th>std</th>\n",
       "      <td>5.843365</td>\n",
       "      <td>144.722751</td>\n",
       "    </tr>\n",
       "    <tr>\n",
       "      <th>min</th>\n",
       "      <td>0.000000</td>\n",
       "      <td>1000.000000</td>\n",
       "    </tr>\n",
       "    <tr>\n",
       "      <th>25%</th>\n",
       "      <td>1.300000</td>\n",
       "      <td>1126.000000</td>\n",
       "    </tr>\n",
       "    <tr>\n",
       "      <th>50%</th>\n",
       "      <td>6.000000</td>\n",
       "      <td>1260.000000</td>\n",
       "    </tr>\n",
       "    <tr>\n",
       "      <th>75%</th>\n",
       "      <td>10.700000</td>\n",
       "      <td>1379.000000</td>\n",
       "    </tr>\n",
       "    <tr>\n",
       "      <th>max</th>\n",
       "      <td>38.000000</td>\n",
       "      <td>1499.000000</td>\n",
       "    </tr>\n",
       "  </tbody>\n",
       "</table>\n",
       "</div>"
      ],
      "text/plain": [
       "            duration        user_id\n",
       "count  202607.000000  202607.000000\n",
       "mean        6.755887    1253.940619\n",
       "std         5.843365     144.722751\n",
       "min         0.000000    1000.000000\n",
       "25%         1.300000    1126.000000\n",
       "50%         6.000000    1260.000000\n",
       "75%        10.700000    1379.000000\n",
       "max        38.000000    1499.000000"
      ]
     },
     "execution_count": 7,
     "metadata": {},
     "output_type": "execute_result"
    }
   ],
   "source": [
    "calls.describe()"
   ]
  },
  {
   "cell_type": "markdown",
   "id": "117afcd0",
   "metadata": {},
   "source": [
    "В данных о звонках есть неверный тип данных в столбцах `id` и `call_date`."
   ]
  },
  {
   "cell_type": "markdown",
   "id": "5ee6314c",
   "metadata": {},
   "source": [
    "**Информация о сообщениях**"
   ]
  },
  {
   "cell_type": "code",
   "execution_count": 8,
   "id": "2397cefb",
   "metadata": {},
   "outputs": [
    {
     "data": {
      "text/html": [
       "<div>\n",
       "<style scoped>\n",
       "    .dataframe tbody tr th:only-of-type {\n",
       "        vertical-align: middle;\n",
       "    }\n",
       "\n",
       "    .dataframe tbody tr th {\n",
       "        vertical-align: top;\n",
       "    }\n",
       "\n",
       "    .dataframe thead th {\n",
       "        text-align: right;\n",
       "    }\n",
       "</style>\n",
       "<table border=\"1\" class=\"dataframe\">\n",
       "  <thead>\n",
       "    <tr style=\"text-align: right;\">\n",
       "      <th></th>\n",
       "      <th>id</th>\n",
       "      <th>message_date</th>\n",
       "      <th>user_id</th>\n",
       "    </tr>\n",
       "  </thead>\n",
       "  <tbody>\n",
       "    <tr>\n",
       "      <th>0</th>\n",
       "      <td>1000_0</td>\n",
       "      <td>2018-06-27</td>\n",
       "      <td>1000</td>\n",
       "    </tr>\n",
       "    <tr>\n",
       "      <th>1</th>\n",
       "      <td>1000_1</td>\n",
       "      <td>2018-10-08</td>\n",
       "      <td>1000</td>\n",
       "    </tr>\n",
       "    <tr>\n",
       "      <th>2</th>\n",
       "      <td>1000_2</td>\n",
       "      <td>2018-08-04</td>\n",
       "      <td>1000</td>\n",
       "    </tr>\n",
       "    <tr>\n",
       "      <th>3</th>\n",
       "      <td>1000_3</td>\n",
       "      <td>2018-06-16</td>\n",
       "      <td>1000</td>\n",
       "    </tr>\n",
       "    <tr>\n",
       "      <th>4</th>\n",
       "      <td>1000_4</td>\n",
       "      <td>2018-12-05</td>\n",
       "      <td>1000</td>\n",
       "    </tr>\n",
       "  </tbody>\n",
       "</table>\n",
       "</div>"
      ],
      "text/plain": [
       "       id message_date  user_id\n",
       "0  1000_0   2018-06-27     1000\n",
       "1  1000_1   2018-10-08     1000\n",
       "2  1000_2   2018-08-04     1000\n",
       "3  1000_3   2018-06-16     1000\n",
       "4  1000_4   2018-12-05     1000"
      ]
     },
     "execution_count": 8,
     "metadata": {},
     "output_type": "execute_result"
    }
   ],
   "source": [
    "try:\n",
    "    messages = pd.read_csv('/datasets/messages.csv')\n",
    "except:\n",
    "    messages = pd.read_csv('/Users/Dasha/project_4_mobile_operator/messages.csv')\n",
    "messages.head()"
   ]
  },
  {
   "cell_type": "code",
   "execution_count": 9,
   "id": "10cc2bac",
   "metadata": {},
   "outputs": [
    {
     "name": "stdout",
     "output_type": "stream",
     "text": [
      "<class 'pandas.core.frame.DataFrame'>\n",
      "RangeIndex: 123036 entries, 0 to 123035\n",
      "Data columns (total 3 columns):\n",
      " #   Column        Non-Null Count   Dtype \n",
      "---  ------        --------------   ----- \n",
      " 0   id            123036 non-null  object\n",
      " 1   message_date  123036 non-null  object\n",
      " 2   user_id       123036 non-null  int64 \n",
      "dtypes: int64(1), object(2)\n",
      "memory usage: 2.8+ MB\n"
     ]
    }
   ],
   "source": [
    "messages.info()"
   ]
  },
  {
   "cell_type": "markdown",
   "id": "5035a1af",
   "metadata": {},
   "source": [
    "Метод describe() здесь неинформативен, так как числовые значения только в столбце `user_id`. В датасете с сообщениями неверный тип данных в столбцах `id` и `message_date`."
   ]
  },
  {
   "cell_type": "markdown",
   "id": "c4818c66",
   "metadata": {},
   "source": [
    "\n",
    "**Информация об интернет-сессиях**"
   ]
  },
  {
   "cell_type": "code",
   "execution_count": 10,
   "id": "92ddb5c2",
   "metadata": {},
   "outputs": [
    {
     "data": {
      "text/html": [
       "<div>\n",
       "<style scoped>\n",
       "    .dataframe tbody tr th:only-of-type {\n",
       "        vertical-align: middle;\n",
       "    }\n",
       "\n",
       "    .dataframe tbody tr th {\n",
       "        vertical-align: top;\n",
       "    }\n",
       "\n",
       "    .dataframe thead th {\n",
       "        text-align: right;\n",
       "    }\n",
       "</style>\n",
       "<table border=\"1\" class=\"dataframe\">\n",
       "  <thead>\n",
       "    <tr style=\"text-align: right;\">\n",
       "      <th></th>\n",
       "      <th>id</th>\n",
       "      <th>mb_used</th>\n",
       "      <th>session_date</th>\n",
       "      <th>user_id</th>\n",
       "    </tr>\n",
       "  </thead>\n",
       "  <tbody>\n",
       "    <tr>\n",
       "      <th>0</th>\n",
       "      <td>1000_0</td>\n",
       "      <td>112.95</td>\n",
       "      <td>2018-11-25</td>\n",
       "      <td>1000</td>\n",
       "    </tr>\n",
       "    <tr>\n",
       "      <th>1</th>\n",
       "      <td>1000_1</td>\n",
       "      <td>1052.81</td>\n",
       "      <td>2018-09-07</td>\n",
       "      <td>1000</td>\n",
       "    </tr>\n",
       "    <tr>\n",
       "      <th>2</th>\n",
       "      <td>1000_2</td>\n",
       "      <td>1197.26</td>\n",
       "      <td>2018-06-25</td>\n",
       "      <td>1000</td>\n",
       "    </tr>\n",
       "    <tr>\n",
       "      <th>3</th>\n",
       "      <td>1000_3</td>\n",
       "      <td>550.27</td>\n",
       "      <td>2018-08-22</td>\n",
       "      <td>1000</td>\n",
       "    </tr>\n",
       "    <tr>\n",
       "      <th>4</th>\n",
       "      <td>1000_4</td>\n",
       "      <td>302.56</td>\n",
       "      <td>2018-09-24</td>\n",
       "      <td>1000</td>\n",
       "    </tr>\n",
       "  </tbody>\n",
       "</table>\n",
       "</div>"
      ],
      "text/plain": [
       "       id  mb_used session_date  user_id\n",
       "0  1000_0   112.95   2018-11-25     1000\n",
       "1  1000_1  1052.81   2018-09-07     1000\n",
       "2  1000_2  1197.26   2018-06-25     1000\n",
       "3  1000_3   550.27   2018-08-22     1000\n",
       "4  1000_4   302.56   2018-09-24     1000"
      ]
     },
     "execution_count": 10,
     "metadata": {},
     "output_type": "execute_result"
    }
   ],
   "source": [
    "try:\n",
    "    internet = pd.read_csv('/datasets/internet.csv', index_col=0)\n",
    "except:\n",
    "    internet = pd.read_csv('/Users/Dasha/project_4_mobile_operator/internet.csv', index_col=0)\n",
    "internet.head()"
   ]
  },
  {
   "cell_type": "code",
   "execution_count": 11,
   "id": "7d8aa3f6",
   "metadata": {},
   "outputs": [
    {
     "name": "stdout",
     "output_type": "stream",
     "text": [
      "<class 'pandas.core.frame.DataFrame'>\n",
      "Int64Index: 149396 entries, 0 to 149395\n",
      "Data columns (total 4 columns):\n",
      " #   Column        Non-Null Count   Dtype  \n",
      "---  ------        --------------   -----  \n",
      " 0   id            149396 non-null  object \n",
      " 1   mb_used       149396 non-null  float64\n",
      " 2   session_date  149396 non-null  object \n",
      " 3   user_id       149396 non-null  int64  \n",
      "dtypes: float64(1), int64(1), object(2)\n",
      "memory usage: 5.7+ MB\n"
     ]
    }
   ],
   "source": [
    "internet.info()"
   ]
  },
  {
   "cell_type": "code",
   "execution_count": 12,
   "id": "4b2ae107",
   "metadata": {},
   "outputs": [
    {
     "data": {
      "text/html": [
       "<div>\n",
       "<style scoped>\n",
       "    .dataframe tbody tr th:only-of-type {\n",
       "        vertical-align: middle;\n",
       "    }\n",
       "\n",
       "    .dataframe tbody tr th {\n",
       "        vertical-align: top;\n",
       "    }\n",
       "\n",
       "    .dataframe thead th {\n",
       "        text-align: right;\n",
       "    }\n",
       "</style>\n",
       "<table border=\"1\" class=\"dataframe\">\n",
       "  <thead>\n",
       "    <tr style=\"text-align: right;\">\n",
       "      <th></th>\n",
       "      <th>mb_used</th>\n",
       "      <th>user_id</th>\n",
       "    </tr>\n",
       "  </thead>\n",
       "  <tbody>\n",
       "    <tr>\n",
       "      <th>count</th>\n",
       "      <td>149396.000000</td>\n",
       "      <td>149396.000000</td>\n",
       "    </tr>\n",
       "    <tr>\n",
       "      <th>mean</th>\n",
       "      <td>370.192426</td>\n",
       "      <td>1252.099842</td>\n",
       "    </tr>\n",
       "    <tr>\n",
       "      <th>std</th>\n",
       "      <td>278.300951</td>\n",
       "      <td>144.050823</td>\n",
       "    </tr>\n",
       "    <tr>\n",
       "      <th>min</th>\n",
       "      <td>0.000000</td>\n",
       "      <td>1000.000000</td>\n",
       "    </tr>\n",
       "    <tr>\n",
       "      <th>25%</th>\n",
       "      <td>138.187500</td>\n",
       "      <td>1130.000000</td>\n",
       "    </tr>\n",
       "    <tr>\n",
       "      <th>50%</th>\n",
       "      <td>348.015000</td>\n",
       "      <td>1251.000000</td>\n",
       "    </tr>\n",
       "    <tr>\n",
       "      <th>75%</th>\n",
       "      <td>559.552500</td>\n",
       "      <td>1380.000000</td>\n",
       "    </tr>\n",
       "    <tr>\n",
       "      <th>max</th>\n",
       "      <td>1724.830000</td>\n",
       "      <td>1499.000000</td>\n",
       "    </tr>\n",
       "  </tbody>\n",
       "</table>\n",
       "</div>"
      ],
      "text/plain": [
       "             mb_used        user_id\n",
       "count  149396.000000  149396.000000\n",
       "mean      370.192426    1252.099842\n",
       "std       278.300951     144.050823\n",
       "min         0.000000    1000.000000\n",
       "25%       138.187500    1130.000000\n",
       "50%       348.015000    1251.000000\n",
       "75%       559.552500    1380.000000\n",
       "max      1724.830000    1499.000000"
      ]
     },
     "execution_count": 12,
     "metadata": {},
     "output_type": "execute_result"
    }
   ],
   "source": [
    "internet.describe()"
   ]
  },
  {
   "cell_type": "markdown",
   "id": "5e802d79",
   "metadata": {},
   "source": [
    "В датафрейме с интернет-сессиями в столбцах `id` и `session_date` мы видим неверные типы данных."
   ]
  },
  {
   "cell_type": "markdown",
   "id": "5bfd184c",
   "metadata": {},
   "source": [
    "\n",
    "**Информация о тарифах**"
   ]
  },
  {
   "cell_type": "code",
   "execution_count": 13,
   "id": "76991802",
   "metadata": {},
   "outputs": [
    {
     "data": {
      "text/html": [
       "<div>\n",
       "<style scoped>\n",
       "    .dataframe tbody tr th:only-of-type {\n",
       "        vertical-align: middle;\n",
       "    }\n",
       "\n",
       "    .dataframe tbody tr th {\n",
       "        vertical-align: top;\n",
       "    }\n",
       "\n",
       "    .dataframe thead th {\n",
       "        text-align: right;\n",
       "    }\n",
       "</style>\n",
       "<table border=\"1\" class=\"dataframe\">\n",
       "  <thead>\n",
       "    <tr style=\"text-align: right;\">\n",
       "      <th></th>\n",
       "      <th>messages_included</th>\n",
       "      <th>mb_per_month_included</th>\n",
       "      <th>minutes_included</th>\n",
       "      <th>rub_monthly_fee</th>\n",
       "      <th>rub_per_gb</th>\n",
       "      <th>rub_per_message</th>\n",
       "      <th>rub_per_minute</th>\n",
       "      <th>tariff_name</th>\n",
       "    </tr>\n",
       "  </thead>\n",
       "  <tbody>\n",
       "    <tr>\n",
       "      <th>0</th>\n",
       "      <td>50</td>\n",
       "      <td>15360</td>\n",
       "      <td>500</td>\n",
       "      <td>550</td>\n",
       "      <td>200</td>\n",
       "      <td>3</td>\n",
       "      <td>3</td>\n",
       "      <td>smart</td>\n",
       "    </tr>\n",
       "    <tr>\n",
       "      <th>1</th>\n",
       "      <td>1000</td>\n",
       "      <td>30720</td>\n",
       "      <td>3000</td>\n",
       "      <td>1950</td>\n",
       "      <td>150</td>\n",
       "      <td>1</td>\n",
       "      <td>1</td>\n",
       "      <td>ultra</td>\n",
       "    </tr>\n",
       "  </tbody>\n",
       "</table>\n",
       "</div>"
      ],
      "text/plain": [
       "   messages_included  mb_per_month_included  minutes_included  \\\n",
       "0                 50                  15360               500   \n",
       "1               1000                  30720              3000   \n",
       "\n",
       "   rub_monthly_fee  rub_per_gb  rub_per_message  rub_per_minute tariff_name  \n",
       "0              550         200                3               3       smart  \n",
       "1             1950         150                1               1       ultra  "
      ]
     },
     "execution_count": 13,
     "metadata": {},
     "output_type": "execute_result"
    }
   ],
   "source": [
    "try:\n",
    "    tariffs = pd.read_csv('/datasets/tariffs.csv')\n",
    "except:\n",
    "    tariffs = pd.read_csv('/Users/Dasha/project_4_mobile_operator/tariffs.csv')\n",
    "tariffs"
   ]
  },
  {
   "cell_type": "code",
   "execution_count": 14,
   "id": "637296f5",
   "metadata": {},
   "outputs": [
    {
     "name": "stdout",
     "output_type": "stream",
     "text": [
      "<class 'pandas.core.frame.DataFrame'>\n",
      "RangeIndex: 2 entries, 0 to 1\n",
      "Data columns (total 8 columns):\n",
      " #   Column                 Non-Null Count  Dtype \n",
      "---  ------                 --------------  ----- \n",
      " 0   messages_included      2 non-null      int64 \n",
      " 1   mb_per_month_included  2 non-null      int64 \n",
      " 2   minutes_included       2 non-null      int64 \n",
      " 3   rub_monthly_fee        2 non-null      int64 \n",
      " 4   rub_per_gb             2 non-null      int64 \n",
      " 5   rub_per_message        2 non-null      int64 \n",
      " 6   rub_per_minute         2 non-null      int64 \n",
      " 7   tariff_name            2 non-null      object\n",
      "dtypes: int64(7), object(1)\n",
      "memory usage: 256.0+ bytes\n"
     ]
    }
   ],
   "source": [
    "tariffs.info()"
   ]
  },
  {
   "cell_type": "markdown",
   "id": "7946362b",
   "metadata": {},
   "source": [
    "Так как этот датафрейм содержит описание тарифов, метод describe() здесь также неинформативен. В данных о тарифах проблем не видно."
   ]
  },
  {
   "cell_type": "markdown",
   "id": "3b22ca00",
   "metadata": {},
   "source": [
    "### Вывод\n",
    "\n",
    "Мы выявили следующие проблемы в данных:\n",
    "- В датафрейме `users` неверный тип данных в столбцах `churn_date` и `reg_date`;\n",
    "- В датафрейме `calls` неверный тип данных в столбцах `id`и `call_date`;\n",
    "- В датафрейме `messages` неверный тип данных в столбцах `id` и `message_date`;\n",
    "- В датафрейме `internet` неверный тип данных в столбцах `id`и `session_date` неверные типы данных, также похоже есть лишний столбец, дублирующий индексы"
   ]
  },
  {
   "cell_type": "markdown",
   "id": "368f786a",
   "metadata": {},
   "source": [
    "## Предобработка данных"
   ]
  },
  {
   "cell_type": "markdown",
   "id": "710418bb",
   "metadata": {},
   "source": [
    "### Изменение типа данных"
   ]
  },
  {
   "cell_type": "markdown",
   "id": "cc40be81",
   "metadata": {},
   "source": [
    "**Информация о пользователях**\n",
    "\n",
    "Переведем текстовые данные в даты в столбцах с датой регистрации и датой прекращения пользования тарифом:"
   ]
  },
  {
   "cell_type": "code",
   "execution_count": 15,
   "id": "64b2116e",
   "metadata": {
    "scrolled": true
   },
   "outputs": [
    {
     "name": "stdout",
     "output_type": "stream",
     "text": [
      "<class 'pandas.core.frame.DataFrame'>\n",
      "RangeIndex: 500 entries, 0 to 499\n",
      "Data columns (total 8 columns):\n",
      " #   Column      Non-Null Count  Dtype         \n",
      "---  ------      --------------  -----         \n",
      " 0   user_id     500 non-null    int64         \n",
      " 1   age         500 non-null    int64         \n",
      " 2   churn_date  38 non-null     datetime64[ns]\n",
      " 3   city        500 non-null    object        \n",
      " 4   first_name  500 non-null    object        \n",
      " 5   last_name   500 non-null    object        \n",
      " 6   reg_date    500 non-null    datetime64[ns]\n",
      " 7   tariff      500 non-null    object        \n",
      "dtypes: datetime64[ns](2), int64(2), object(4)\n",
      "memory usage: 31.4+ KB\n"
     ]
    }
   ],
   "source": [
    "users['churn_date'] = pd.to_datetime(users['churn_date'], format='%Y-%m-%d')\n",
    "users['reg_date'] = pd.to_datetime(users['reg_date'], format='%Y-%m-%d')\n",
    "users.info()"
   ]
  },
  {
   "cell_type": "code",
   "execution_count": 16,
   "id": "83b08369",
   "metadata": {
    "scrolled": true
   },
   "outputs": [
    {
     "data": {
      "text/html": [
       "<div>\n",
       "<style scoped>\n",
       "    .dataframe tbody tr th:only-of-type {\n",
       "        vertical-align: middle;\n",
       "    }\n",
       "\n",
       "    .dataframe tbody tr th {\n",
       "        vertical-align: top;\n",
       "    }\n",
       "\n",
       "    .dataframe thead th {\n",
       "        text-align: right;\n",
       "    }\n",
       "</style>\n",
       "<table border=\"1\" class=\"dataframe\">\n",
       "  <thead>\n",
       "    <tr style=\"text-align: right;\">\n",
       "      <th></th>\n",
       "      <th>user_id</th>\n",
       "      <th>age</th>\n",
       "      <th>churn_date</th>\n",
       "      <th>city</th>\n",
       "      <th>first_name</th>\n",
       "      <th>last_name</th>\n",
       "      <th>reg_date</th>\n",
       "      <th>tariff</th>\n",
       "    </tr>\n",
       "  </thead>\n",
       "  <tbody>\n",
       "    <tr>\n",
       "      <th>0</th>\n",
       "      <td>1000</td>\n",
       "      <td>52</td>\n",
       "      <td>NaT</td>\n",
       "      <td>Краснодар</td>\n",
       "      <td>Рафаил</td>\n",
       "      <td>Верещагин</td>\n",
       "      <td>2018-05-25</td>\n",
       "      <td>ultra</td>\n",
       "    </tr>\n",
       "    <tr>\n",
       "      <th>1</th>\n",
       "      <td>1001</td>\n",
       "      <td>41</td>\n",
       "      <td>NaT</td>\n",
       "      <td>Москва</td>\n",
       "      <td>Иван</td>\n",
       "      <td>Ежов</td>\n",
       "      <td>2018-11-01</td>\n",
       "      <td>smart</td>\n",
       "    </tr>\n",
       "    <tr>\n",
       "      <th>2</th>\n",
       "      <td>1002</td>\n",
       "      <td>59</td>\n",
       "      <td>NaT</td>\n",
       "      <td>Стерлитамак</td>\n",
       "      <td>Евгений</td>\n",
       "      <td>Абрамович</td>\n",
       "      <td>2018-06-17</td>\n",
       "      <td>smart</td>\n",
       "    </tr>\n",
       "    <tr>\n",
       "      <th>3</th>\n",
       "      <td>1003</td>\n",
       "      <td>23</td>\n",
       "      <td>NaT</td>\n",
       "      <td>Москва</td>\n",
       "      <td>Белла</td>\n",
       "      <td>Белякова</td>\n",
       "      <td>2018-08-17</td>\n",
       "      <td>ultra</td>\n",
       "    </tr>\n",
       "    <tr>\n",
       "      <th>4</th>\n",
       "      <td>1004</td>\n",
       "      <td>68</td>\n",
       "      <td>NaT</td>\n",
       "      <td>Новокузнецк</td>\n",
       "      <td>Татьяна</td>\n",
       "      <td>Авдеенко</td>\n",
       "      <td>2018-05-14</td>\n",
       "      <td>ultra</td>\n",
       "    </tr>\n",
       "  </tbody>\n",
       "</table>\n",
       "</div>"
      ],
      "text/plain": [
       "   user_id  age churn_date         city first_name  last_name   reg_date  \\\n",
       "0     1000   52        NaT    Краснодар     Рафаил  Верещагин 2018-05-25   \n",
       "1     1001   41        NaT       Москва       Иван       Ежов 2018-11-01   \n",
       "2     1002   59        NaT  Стерлитамак    Евгений  Абрамович 2018-06-17   \n",
       "3     1003   23        NaT       Москва      Белла   Белякова 2018-08-17   \n",
       "4     1004   68        NaT  Новокузнецк    Татьяна   Авдеенко 2018-05-14   \n",
       "\n",
       "  tariff  \n",
       "0  ultra  \n",
       "1  smart  \n",
       "2  smart  \n",
       "3  ultra  \n",
       "4  ultra  "
      ]
     },
     "execution_count": 16,
     "metadata": {},
     "output_type": "execute_result"
    }
   ],
   "source": [
    "users.head()"
   ]
  },
  {
   "cell_type": "markdown",
   "id": "5382b4c5",
   "metadata": {},
   "source": [
    "**Информация о звонках**\n",
    "\n",
    "Изменим тип данных в колонке с уникальным номером звонка на числовой и в дате звонка - на дату:"
   ]
  },
  {
   "cell_type": "code",
   "execution_count": 17,
   "id": "3a68841f",
   "metadata": {},
   "outputs": [
    {
     "name": "stdout",
     "output_type": "stream",
     "text": [
      "<class 'pandas.core.frame.DataFrame'>\n",
      "RangeIndex: 202607 entries, 0 to 202606\n",
      "Data columns (total 4 columns):\n",
      " #   Column     Non-Null Count   Dtype         \n",
      "---  ------     --------------   -----         \n",
      " 0   id         202607 non-null  int64         \n",
      " 1   call_date  202607 non-null  datetime64[ns]\n",
      " 2   duration   202607 non-null  float64       \n",
      " 3   user_id    202607 non-null  int64         \n",
      "dtypes: datetime64[ns](1), float64(1), int64(2)\n",
      "memory usage: 6.2 MB\n"
     ]
    }
   ],
   "source": [
    "calls['id'] = calls['id'].astype(int)\n",
    "calls['call_date'] = pd.to_datetime(calls['call_date'], format='%Y-%m-%d')\n",
    "calls.info()"
   ]
  },
  {
   "cell_type": "markdown",
   "id": "9644851e",
   "metadata": {},
   "source": [
    "Так как оператор округляет длительность каждого звонка до целых минут в большую сторону, округлим значения столбца с длительностью разговора:"
   ]
  },
  {
   "cell_type": "code",
   "execution_count": 18,
   "id": "2ecbb247",
   "metadata": {
    "scrolled": true
   },
   "outputs": [
    {
     "data": {
      "text/html": [
       "<div>\n",
       "<style scoped>\n",
       "    .dataframe tbody tr th:only-of-type {\n",
       "        vertical-align: middle;\n",
       "    }\n",
       "\n",
       "    .dataframe tbody tr th {\n",
       "        vertical-align: top;\n",
       "    }\n",
       "\n",
       "    .dataframe thead th {\n",
       "        text-align: right;\n",
       "    }\n",
       "</style>\n",
       "<table border=\"1\" class=\"dataframe\">\n",
       "  <thead>\n",
       "    <tr style=\"text-align: right;\">\n",
       "      <th></th>\n",
       "      <th>id</th>\n",
       "      <th>call_date</th>\n",
       "      <th>duration</th>\n",
       "      <th>user_id</th>\n",
       "    </tr>\n",
       "  </thead>\n",
       "  <tbody>\n",
       "    <tr>\n",
       "      <th>0</th>\n",
       "      <td>10000</td>\n",
       "      <td>2018-07-25</td>\n",
       "      <td>0</td>\n",
       "      <td>1000</td>\n",
       "    </tr>\n",
       "    <tr>\n",
       "      <th>1</th>\n",
       "      <td>10001</td>\n",
       "      <td>2018-08-17</td>\n",
       "      <td>0</td>\n",
       "      <td>1000</td>\n",
       "    </tr>\n",
       "    <tr>\n",
       "      <th>2</th>\n",
       "      <td>10002</td>\n",
       "      <td>2018-06-11</td>\n",
       "      <td>3</td>\n",
       "      <td>1000</td>\n",
       "    </tr>\n",
       "    <tr>\n",
       "      <th>3</th>\n",
       "      <td>10003</td>\n",
       "      <td>2018-09-21</td>\n",
       "      <td>14</td>\n",
       "      <td>1000</td>\n",
       "    </tr>\n",
       "    <tr>\n",
       "      <th>4</th>\n",
       "      <td>10004</td>\n",
       "      <td>2018-12-15</td>\n",
       "      <td>6</td>\n",
       "      <td>1000</td>\n",
       "    </tr>\n",
       "  </tbody>\n",
       "</table>\n",
       "</div>"
      ],
      "text/plain": [
       "      id  call_date  duration  user_id\n",
       "0  10000 2018-07-25         0     1000\n",
       "1  10001 2018-08-17         0     1000\n",
       "2  10002 2018-06-11         3     1000\n",
       "3  10003 2018-09-21        14     1000\n",
       "4  10004 2018-12-15         6     1000"
      ]
     },
     "execution_count": 18,
     "metadata": {},
     "output_type": "execute_result"
    }
   ],
   "source": [
    "calls['duration'] = np.ceil(calls['duration']).astype(int)\n",
    "calls.head()"
   ]
  },
  {
   "cell_type": "markdown",
   "id": "9a3b87b6",
   "metadata": {},
   "source": [
    "**Информация о сообщениях**\n",
    "\n",
    "Исправим текстовый тип данных в столбце с уникальным номером сообщения на числовой, в столбце с датой сообщения - на дату:"
   ]
  },
  {
   "cell_type": "code",
   "execution_count": 19,
   "id": "43e73431",
   "metadata": {
    "scrolled": true
   },
   "outputs": [
    {
     "name": "stdout",
     "output_type": "stream",
     "text": [
      "<class 'pandas.core.frame.DataFrame'>\n",
      "RangeIndex: 123036 entries, 0 to 123035\n",
      "Data columns (total 3 columns):\n",
      " #   Column        Non-Null Count   Dtype         \n",
      "---  ------        --------------   -----         \n",
      " 0   id            123036 non-null  int64         \n",
      " 1   message_date  123036 non-null  datetime64[ns]\n",
      " 2   user_id       123036 non-null  int64         \n",
      "dtypes: datetime64[ns](1), int64(2)\n",
      "memory usage: 2.8 MB\n"
     ]
    }
   ],
   "source": [
    "messages['id'] = messages['id'].astype(int)\n",
    "messages['message_date'] = pd.to_datetime(messages['message_date'], format='%Y-%m-%d')\n",
    "messages.info()"
   ]
  },
  {
   "cell_type": "code",
   "execution_count": 20,
   "id": "25ac08c7",
   "metadata": {},
   "outputs": [
    {
     "data": {
      "text/html": [
       "<div>\n",
       "<style scoped>\n",
       "    .dataframe tbody tr th:only-of-type {\n",
       "        vertical-align: middle;\n",
       "    }\n",
       "\n",
       "    .dataframe tbody tr th {\n",
       "        vertical-align: top;\n",
       "    }\n",
       "\n",
       "    .dataframe thead th {\n",
       "        text-align: right;\n",
       "    }\n",
       "</style>\n",
       "<table border=\"1\" class=\"dataframe\">\n",
       "  <thead>\n",
       "    <tr style=\"text-align: right;\">\n",
       "      <th></th>\n",
       "      <th>id</th>\n",
       "      <th>message_date</th>\n",
       "      <th>user_id</th>\n",
       "    </tr>\n",
       "  </thead>\n",
       "  <tbody>\n",
       "    <tr>\n",
       "      <th>0</th>\n",
       "      <td>10000</td>\n",
       "      <td>2018-06-27</td>\n",
       "      <td>1000</td>\n",
       "    </tr>\n",
       "    <tr>\n",
       "      <th>1</th>\n",
       "      <td>10001</td>\n",
       "      <td>2018-10-08</td>\n",
       "      <td>1000</td>\n",
       "    </tr>\n",
       "    <tr>\n",
       "      <th>2</th>\n",
       "      <td>10002</td>\n",
       "      <td>2018-08-04</td>\n",
       "      <td>1000</td>\n",
       "    </tr>\n",
       "    <tr>\n",
       "      <th>3</th>\n",
       "      <td>10003</td>\n",
       "      <td>2018-06-16</td>\n",
       "      <td>1000</td>\n",
       "    </tr>\n",
       "    <tr>\n",
       "      <th>4</th>\n",
       "      <td>10004</td>\n",
       "      <td>2018-12-05</td>\n",
       "      <td>1000</td>\n",
       "    </tr>\n",
       "  </tbody>\n",
       "</table>\n",
       "</div>"
      ],
      "text/plain": [
       "      id message_date  user_id\n",
       "0  10000   2018-06-27     1000\n",
       "1  10001   2018-10-08     1000\n",
       "2  10002   2018-08-04     1000\n",
       "3  10003   2018-06-16     1000\n",
       "4  10004   2018-12-05     1000"
      ]
     },
     "execution_count": 20,
     "metadata": {},
     "output_type": "execute_result"
    }
   ],
   "source": [
    "messages.head()"
   ]
  },
  {
   "cell_type": "markdown",
   "id": "849e10d6",
   "metadata": {},
   "source": [
    "**Информация об интернет сессиях**"
   ]
  },
  {
   "cell_type": "markdown",
   "id": "8c1149aa",
   "metadata": {},
   "source": [
    "Изменим тип столбца с уникальным номером интернет-сессии на числовой, тип столбца с датой сессии - на дату:"
   ]
  },
  {
   "cell_type": "code",
   "execution_count": 21,
   "id": "ddb68aef",
   "metadata": {},
   "outputs": [
    {
     "name": "stdout",
     "output_type": "stream",
     "text": [
      "<class 'pandas.core.frame.DataFrame'>\n",
      "Int64Index: 149396 entries, 0 to 149395\n",
      "Data columns (total 4 columns):\n",
      " #   Column        Non-Null Count   Dtype         \n",
      "---  ------        --------------   -----         \n",
      " 0   id            149396 non-null  int64         \n",
      " 1   mb_used       149396 non-null  float64       \n",
      " 2   session_date  149396 non-null  datetime64[ns]\n",
      " 3   user_id       149396 non-null  int64         \n",
      "dtypes: datetime64[ns](1), float64(1), int64(2)\n",
      "memory usage: 5.7 MB\n"
     ]
    }
   ],
   "source": [
    "internet['id'] = internet['id'].astype(int)\n",
    "internet['session_date'] = pd.to_datetime(internet['session_date'], format='%Y-%m-%d')\n",
    "internet.info()"
   ]
  },
  {
   "cell_type": "code",
   "execution_count": 22,
   "id": "e2da36d8",
   "metadata": {},
   "outputs": [
    {
     "data": {
      "text/html": [
       "<div>\n",
       "<style scoped>\n",
       "    .dataframe tbody tr th:only-of-type {\n",
       "        vertical-align: middle;\n",
       "    }\n",
       "\n",
       "    .dataframe tbody tr th {\n",
       "        vertical-align: top;\n",
       "    }\n",
       "\n",
       "    .dataframe thead th {\n",
       "        text-align: right;\n",
       "    }\n",
       "</style>\n",
       "<table border=\"1\" class=\"dataframe\">\n",
       "  <thead>\n",
       "    <tr style=\"text-align: right;\">\n",
       "      <th></th>\n",
       "      <th>id</th>\n",
       "      <th>mb_used</th>\n",
       "      <th>session_date</th>\n",
       "      <th>user_id</th>\n",
       "    </tr>\n",
       "  </thead>\n",
       "  <tbody>\n",
       "    <tr>\n",
       "      <th>0</th>\n",
       "      <td>10000</td>\n",
       "      <td>112.95</td>\n",
       "      <td>2018-11-25</td>\n",
       "      <td>1000</td>\n",
       "    </tr>\n",
       "    <tr>\n",
       "      <th>1</th>\n",
       "      <td>10001</td>\n",
       "      <td>1052.81</td>\n",
       "      <td>2018-09-07</td>\n",
       "      <td>1000</td>\n",
       "    </tr>\n",
       "    <tr>\n",
       "      <th>2</th>\n",
       "      <td>10002</td>\n",
       "      <td>1197.26</td>\n",
       "      <td>2018-06-25</td>\n",
       "      <td>1000</td>\n",
       "    </tr>\n",
       "    <tr>\n",
       "      <th>3</th>\n",
       "      <td>10003</td>\n",
       "      <td>550.27</td>\n",
       "      <td>2018-08-22</td>\n",
       "      <td>1000</td>\n",
       "    </tr>\n",
       "    <tr>\n",
       "      <th>4</th>\n",
       "      <td>10004</td>\n",
       "      <td>302.56</td>\n",
       "      <td>2018-09-24</td>\n",
       "      <td>1000</td>\n",
       "    </tr>\n",
       "  </tbody>\n",
       "</table>\n",
       "</div>"
      ],
      "text/plain": [
       "      id  mb_used session_date  user_id\n",
       "0  10000   112.95   2018-11-25     1000\n",
       "1  10001  1052.81   2018-09-07     1000\n",
       "2  10002  1197.26   2018-06-25     1000\n",
       "3  10003   550.27   2018-08-22     1000\n",
       "4  10004   302.56   2018-09-24     1000"
      ]
     },
     "execution_count": 22,
     "metadata": {},
     "output_type": "execute_result"
    }
   ],
   "source": [
    "internet.head()"
   ]
  },
  {
   "cell_type": "markdown",
   "id": "df9386e5",
   "metadata": {},
   "source": [
    "### Проверка на дубликаты"
   ]
  },
  {
   "cell_type": "code",
   "execution_count": 23,
   "id": "9bb1b3d8",
   "metadata": {},
   "outputs": [
    {
     "data": {
      "text/plain": [
       "0"
      ]
     },
     "execution_count": 23,
     "metadata": {},
     "output_type": "execute_result"
    }
   ],
   "source": [
    "users.duplicated().sum()"
   ]
  },
  {
   "cell_type": "code",
   "execution_count": 24,
   "id": "9ead3c4d",
   "metadata": {},
   "outputs": [
    {
     "data": {
      "text/plain": [
       "0"
      ]
     },
     "execution_count": 24,
     "metadata": {},
     "output_type": "execute_result"
    }
   ],
   "source": [
    "calls.duplicated().sum()"
   ]
  },
  {
   "cell_type": "code",
   "execution_count": 25,
   "id": "7fae3aac",
   "metadata": {},
   "outputs": [
    {
     "data": {
      "text/plain": [
       "0"
      ]
     },
     "execution_count": 25,
     "metadata": {},
     "output_type": "execute_result"
    }
   ],
   "source": [
    "messages.duplicated().sum()"
   ]
  },
  {
   "cell_type": "code",
   "execution_count": 26,
   "id": "86b5ad21",
   "metadata": {},
   "outputs": [
    {
     "data": {
      "text/plain": [
       "0"
      ]
     },
     "execution_count": 26,
     "metadata": {},
     "output_type": "execute_result"
    }
   ],
   "source": [
    "internet.duplicated().sum()"
   ]
  },
  {
   "cell_type": "markdown",
   "id": "0c5b3b69",
   "metadata": {},
   "source": [
    "Явные дубликаты не обнаружены."
   ]
  },
  {
   "cell_type": "markdown",
   "id": "b67d7c4a",
   "metadata": {},
   "source": [
    "### Количество сделанных звонков и израсходованных минут разговора по месяцам для каждого пользователя\n",
    "\n",
    "Нам необходимо рассчитать количество сделанных звонков и израсходованных минут разговора по месяцам. Добавим столбец с месяцем в датафрейм со звонками:"
   ]
  },
  {
   "cell_type": "code",
   "execution_count": 27,
   "id": "f93d6fe1",
   "metadata": {},
   "outputs": [],
   "source": [
    "calls['month'] = calls['call_date'].astype('datetime64[M]')"
   ]
  },
  {
   "cell_type": "code",
   "execution_count": 28,
   "id": "edc1f1fd",
   "metadata": {
    "scrolled": true
   },
   "outputs": [
    {
     "data": {
      "text/html": [
       "<div>\n",
       "<style scoped>\n",
       "    .dataframe tbody tr th:only-of-type {\n",
       "        vertical-align: middle;\n",
       "    }\n",
       "\n",
       "    .dataframe tbody tr th {\n",
       "        vertical-align: top;\n",
       "    }\n",
       "\n",
       "    .dataframe thead th {\n",
       "        text-align: right;\n",
       "    }\n",
       "</style>\n",
       "<table border=\"1\" class=\"dataframe\">\n",
       "  <thead>\n",
       "    <tr style=\"text-align: right;\">\n",
       "      <th></th>\n",
       "      <th>id</th>\n",
       "      <th>call_date</th>\n",
       "      <th>duration</th>\n",
       "      <th>user_id</th>\n",
       "      <th>month</th>\n",
       "    </tr>\n",
       "  </thead>\n",
       "  <tbody>\n",
       "    <tr>\n",
       "      <th>0</th>\n",
       "      <td>10000</td>\n",
       "      <td>2018-07-25</td>\n",
       "      <td>0</td>\n",
       "      <td>1000</td>\n",
       "      <td>2018-07-01</td>\n",
       "    </tr>\n",
       "    <tr>\n",
       "      <th>1</th>\n",
       "      <td>10001</td>\n",
       "      <td>2018-08-17</td>\n",
       "      <td>0</td>\n",
       "      <td>1000</td>\n",
       "      <td>2018-08-01</td>\n",
       "    </tr>\n",
       "    <tr>\n",
       "      <th>2</th>\n",
       "      <td>10002</td>\n",
       "      <td>2018-06-11</td>\n",
       "      <td>3</td>\n",
       "      <td>1000</td>\n",
       "      <td>2018-06-01</td>\n",
       "    </tr>\n",
       "    <tr>\n",
       "      <th>3</th>\n",
       "      <td>10003</td>\n",
       "      <td>2018-09-21</td>\n",
       "      <td>14</td>\n",
       "      <td>1000</td>\n",
       "      <td>2018-09-01</td>\n",
       "    </tr>\n",
       "    <tr>\n",
       "      <th>4</th>\n",
       "      <td>10004</td>\n",
       "      <td>2018-12-15</td>\n",
       "      <td>6</td>\n",
       "      <td>1000</td>\n",
       "      <td>2018-12-01</td>\n",
       "    </tr>\n",
       "  </tbody>\n",
       "</table>\n",
       "</div>"
      ],
      "text/plain": [
       "      id  call_date  duration  user_id      month\n",
       "0  10000 2018-07-25         0     1000 2018-07-01\n",
       "1  10001 2018-08-17         0     1000 2018-08-01\n",
       "2  10002 2018-06-11         3     1000 2018-06-01\n",
       "3  10003 2018-09-21        14     1000 2018-09-01\n",
       "4  10004 2018-12-15         6     1000 2018-12-01"
      ]
     },
     "execution_count": 28,
     "metadata": {},
     "output_type": "execute_result"
    }
   ],
   "source": [
    "calls.head()"
   ]
  },
  {
   "cell_type": "markdown",
   "id": "38149349",
   "metadata": {},
   "source": [
    "Построим сводную таблицу с количеством сделанных звонков и израсходованных минут разговора по месяцам для каждого пользователя:"
   ]
  },
  {
   "cell_type": "code",
   "execution_count": 29,
   "id": "36d611b7",
   "metadata": {},
   "outputs": [
    {
     "data": {
      "text/html": [
       "<div>\n",
       "<style scoped>\n",
       "    .dataframe tbody tr th:only-of-type {\n",
       "        vertical-align: middle;\n",
       "    }\n",
       "\n",
       "    .dataframe tbody tr th {\n",
       "        vertical-align: top;\n",
       "    }\n",
       "\n",
       "    .dataframe thead th {\n",
       "        text-align: right;\n",
       "    }\n",
       "</style>\n",
       "<table border=\"1\" class=\"dataframe\">\n",
       "  <thead>\n",
       "    <tr style=\"text-align: right;\">\n",
       "      <th></th>\n",
       "      <th>user_id</th>\n",
       "      <th>month</th>\n",
       "      <th>calls_duration_month</th>\n",
       "      <th>calls_count_month</th>\n",
       "    </tr>\n",
       "  </thead>\n",
       "  <tbody>\n",
       "    <tr>\n",
       "      <th>0</th>\n",
       "      <td>1000</td>\n",
       "      <td>2018-05-01</td>\n",
       "      <td>159</td>\n",
       "      <td>22</td>\n",
       "    </tr>\n",
       "    <tr>\n",
       "      <th>1</th>\n",
       "      <td>1000</td>\n",
       "      <td>2018-06-01</td>\n",
       "      <td>172</td>\n",
       "      <td>43</td>\n",
       "    </tr>\n",
       "    <tr>\n",
       "      <th>2</th>\n",
       "      <td>1000</td>\n",
       "      <td>2018-07-01</td>\n",
       "      <td>340</td>\n",
       "      <td>47</td>\n",
       "    </tr>\n",
       "    <tr>\n",
       "      <th>3</th>\n",
       "      <td>1000</td>\n",
       "      <td>2018-08-01</td>\n",
       "      <td>408</td>\n",
       "      <td>52</td>\n",
       "    </tr>\n",
       "    <tr>\n",
       "      <th>4</th>\n",
       "      <td>1000</td>\n",
       "      <td>2018-09-01</td>\n",
       "      <td>466</td>\n",
       "      <td>58</td>\n",
       "    </tr>\n",
       "  </tbody>\n",
       "</table>\n",
       "</div>"
      ],
      "text/plain": [
       "   user_id      month  calls_duration_month  calls_count_month\n",
       "0     1000 2018-05-01                   159                 22\n",
       "1     1000 2018-06-01                   172                 43\n",
       "2     1000 2018-07-01                   340                 47\n",
       "3     1000 2018-08-01                   408                 52\n",
       "4     1000 2018-09-01                   466                 58"
      ]
     },
     "execution_count": 29,
     "metadata": {},
     "output_type": "execute_result"
    }
   ],
   "source": [
    "calls_pivot = calls.pivot_table(index=['user_id', 'month'],  \n",
    "                                values=['id', 'duration'],\n",
    "                                aggfunc={'id': 'count', 'duration': 'sum'})\\\n",
    "                                .reset_index()\\\n",
    "                                .rename(columns={'duration':'calls_duration_month','id':'calls_count_month'})\n",
    "calls_pivot.head()"
   ]
  },
  {
   "cell_type": "markdown",
   "id": "7228f44d",
   "metadata": {},
   "source": [
    "### Количество отправленных сообщений по месяцам для каждого пользователя\n",
    "\n",
    "Посчитаем количество отправленных сообщений по месяцам для каждого пользователя. В датафрейм с сообщениями добавим столбец с месяцем: "
   ]
  },
  {
   "cell_type": "code",
   "execution_count": 30,
   "id": "4249fc5f",
   "metadata": {},
   "outputs": [],
   "source": [
    "messages['month'] = messages['message_date'].astype('datetime64[M]')"
   ]
  },
  {
   "cell_type": "code",
   "execution_count": 31,
   "id": "857b736d",
   "metadata": {},
   "outputs": [
    {
     "data": {
      "text/html": [
       "<div>\n",
       "<style scoped>\n",
       "    .dataframe tbody tr th:only-of-type {\n",
       "        vertical-align: middle;\n",
       "    }\n",
       "\n",
       "    .dataframe tbody tr th {\n",
       "        vertical-align: top;\n",
       "    }\n",
       "\n",
       "    .dataframe thead th {\n",
       "        text-align: right;\n",
       "    }\n",
       "</style>\n",
       "<table border=\"1\" class=\"dataframe\">\n",
       "  <thead>\n",
       "    <tr style=\"text-align: right;\">\n",
       "      <th></th>\n",
       "      <th>id</th>\n",
       "      <th>message_date</th>\n",
       "      <th>user_id</th>\n",
       "      <th>month</th>\n",
       "    </tr>\n",
       "  </thead>\n",
       "  <tbody>\n",
       "    <tr>\n",
       "      <th>0</th>\n",
       "      <td>10000</td>\n",
       "      <td>2018-06-27</td>\n",
       "      <td>1000</td>\n",
       "      <td>2018-06-01</td>\n",
       "    </tr>\n",
       "    <tr>\n",
       "      <th>1</th>\n",
       "      <td>10001</td>\n",
       "      <td>2018-10-08</td>\n",
       "      <td>1000</td>\n",
       "      <td>2018-10-01</td>\n",
       "    </tr>\n",
       "    <tr>\n",
       "      <th>2</th>\n",
       "      <td>10002</td>\n",
       "      <td>2018-08-04</td>\n",
       "      <td>1000</td>\n",
       "      <td>2018-08-01</td>\n",
       "    </tr>\n",
       "    <tr>\n",
       "      <th>3</th>\n",
       "      <td>10003</td>\n",
       "      <td>2018-06-16</td>\n",
       "      <td>1000</td>\n",
       "      <td>2018-06-01</td>\n",
       "    </tr>\n",
       "    <tr>\n",
       "      <th>4</th>\n",
       "      <td>10004</td>\n",
       "      <td>2018-12-05</td>\n",
       "      <td>1000</td>\n",
       "      <td>2018-12-01</td>\n",
       "    </tr>\n",
       "  </tbody>\n",
       "</table>\n",
       "</div>"
      ],
      "text/plain": [
       "      id message_date  user_id      month\n",
       "0  10000   2018-06-27     1000 2018-06-01\n",
       "1  10001   2018-10-08     1000 2018-10-01\n",
       "2  10002   2018-08-04     1000 2018-08-01\n",
       "3  10003   2018-06-16     1000 2018-06-01\n",
       "4  10004   2018-12-05     1000 2018-12-01"
      ]
     },
     "execution_count": 31,
     "metadata": {},
     "output_type": "execute_result"
    }
   ],
   "source": [
    "messages.head()"
   ]
  },
  {
   "cell_type": "markdown",
   "id": "3aee7a07",
   "metadata": {},
   "source": [
    "Построим сводную таблицу с количеством отправленных сообщений в месяц для каждого пользователя:"
   ]
  },
  {
   "cell_type": "code",
   "execution_count": 32,
   "id": "58fb62b5",
   "metadata": {},
   "outputs": [
    {
     "data": {
      "text/html": [
       "<div>\n",
       "<style scoped>\n",
       "    .dataframe tbody tr th:only-of-type {\n",
       "        vertical-align: middle;\n",
       "    }\n",
       "\n",
       "    .dataframe tbody tr th {\n",
       "        vertical-align: top;\n",
       "    }\n",
       "\n",
       "    .dataframe thead th {\n",
       "        text-align: right;\n",
       "    }\n",
       "</style>\n",
       "<table border=\"1\" class=\"dataframe\">\n",
       "  <thead>\n",
       "    <tr style=\"text-align: right;\">\n",
       "      <th></th>\n",
       "      <th>user_id</th>\n",
       "      <th>month</th>\n",
       "      <th>messages_count_month</th>\n",
       "    </tr>\n",
       "  </thead>\n",
       "  <tbody>\n",
       "    <tr>\n",
       "      <th>0</th>\n",
       "      <td>1000</td>\n",
       "      <td>2018-05-01</td>\n",
       "      <td>22</td>\n",
       "    </tr>\n",
       "    <tr>\n",
       "      <th>1</th>\n",
       "      <td>1000</td>\n",
       "      <td>2018-06-01</td>\n",
       "      <td>60</td>\n",
       "    </tr>\n",
       "    <tr>\n",
       "      <th>2</th>\n",
       "      <td>1000</td>\n",
       "      <td>2018-07-01</td>\n",
       "      <td>75</td>\n",
       "    </tr>\n",
       "    <tr>\n",
       "      <th>3</th>\n",
       "      <td>1000</td>\n",
       "      <td>2018-08-01</td>\n",
       "      <td>81</td>\n",
       "    </tr>\n",
       "    <tr>\n",
       "      <th>4</th>\n",
       "      <td>1000</td>\n",
       "      <td>2018-09-01</td>\n",
       "      <td>57</td>\n",
       "    </tr>\n",
       "  </tbody>\n",
       "</table>\n",
       "</div>"
      ],
      "text/plain": [
       "   user_id      month  messages_count_month\n",
       "0     1000 2018-05-01                    22\n",
       "1     1000 2018-06-01                    60\n",
       "2     1000 2018-07-01                    75\n",
       "3     1000 2018-08-01                    81\n",
       "4     1000 2018-09-01                    57"
      ]
     },
     "execution_count": 32,
     "metadata": {},
     "output_type": "execute_result"
    }
   ],
   "source": [
    "messages_pivot = messages.pivot_table(index = ['user_id', 'month'], \n",
    "                                     values = 'id', \n",
    "                                     aggfunc='count')\\\n",
    "                                     .reset_index()\\\n",
    "                                     .rename(columns={'id':'messages_count_month'})\n",
    "messages_pivot.head() "
   ]
  },
  {
   "cell_type": "markdown",
   "id": "946f9988",
   "metadata": {},
   "source": [
    "### Объем израсходованного интернет-трафика по месяцам для каждого пользователя\n",
    "Теперь посчитаем объем израсходованного интернет-трафика по месяцам. Добавим столбец с месяцем в датафрейм с интернет-сессиями:"
   ]
  },
  {
   "cell_type": "code",
   "execution_count": 33,
   "id": "0850ae7b",
   "metadata": {},
   "outputs": [],
   "source": [
    "internet['month'] = internet['session_date'].astype('datetime64[M]')"
   ]
  },
  {
   "cell_type": "code",
   "execution_count": 34,
   "id": "3f3a1d48",
   "metadata": {
    "scrolled": true
   },
   "outputs": [
    {
     "data": {
      "text/html": [
       "<div>\n",
       "<style scoped>\n",
       "    .dataframe tbody tr th:only-of-type {\n",
       "        vertical-align: middle;\n",
       "    }\n",
       "\n",
       "    .dataframe tbody tr th {\n",
       "        vertical-align: top;\n",
       "    }\n",
       "\n",
       "    .dataframe thead th {\n",
       "        text-align: right;\n",
       "    }\n",
       "</style>\n",
       "<table border=\"1\" class=\"dataframe\">\n",
       "  <thead>\n",
       "    <tr style=\"text-align: right;\">\n",
       "      <th></th>\n",
       "      <th>id</th>\n",
       "      <th>mb_used</th>\n",
       "      <th>session_date</th>\n",
       "      <th>user_id</th>\n",
       "      <th>month</th>\n",
       "    </tr>\n",
       "  </thead>\n",
       "  <tbody>\n",
       "    <tr>\n",
       "      <th>0</th>\n",
       "      <td>10000</td>\n",
       "      <td>112.95</td>\n",
       "      <td>2018-11-25</td>\n",
       "      <td>1000</td>\n",
       "      <td>2018-11-01</td>\n",
       "    </tr>\n",
       "    <tr>\n",
       "      <th>1</th>\n",
       "      <td>10001</td>\n",
       "      <td>1052.81</td>\n",
       "      <td>2018-09-07</td>\n",
       "      <td>1000</td>\n",
       "      <td>2018-09-01</td>\n",
       "    </tr>\n",
       "    <tr>\n",
       "      <th>2</th>\n",
       "      <td>10002</td>\n",
       "      <td>1197.26</td>\n",
       "      <td>2018-06-25</td>\n",
       "      <td>1000</td>\n",
       "      <td>2018-06-01</td>\n",
       "    </tr>\n",
       "    <tr>\n",
       "      <th>3</th>\n",
       "      <td>10003</td>\n",
       "      <td>550.27</td>\n",
       "      <td>2018-08-22</td>\n",
       "      <td>1000</td>\n",
       "      <td>2018-08-01</td>\n",
       "    </tr>\n",
       "    <tr>\n",
       "      <th>4</th>\n",
       "      <td>10004</td>\n",
       "      <td>302.56</td>\n",
       "      <td>2018-09-24</td>\n",
       "      <td>1000</td>\n",
       "      <td>2018-09-01</td>\n",
       "    </tr>\n",
       "  </tbody>\n",
       "</table>\n",
       "</div>"
      ],
      "text/plain": [
       "      id  mb_used session_date  user_id      month\n",
       "0  10000   112.95   2018-11-25     1000 2018-11-01\n",
       "1  10001  1052.81   2018-09-07     1000 2018-09-01\n",
       "2  10002  1197.26   2018-06-25     1000 2018-06-01\n",
       "3  10003   550.27   2018-08-22     1000 2018-08-01\n",
       "4  10004   302.56   2018-09-24     1000 2018-09-01"
      ]
     },
     "execution_count": 34,
     "metadata": {},
     "output_type": "execute_result"
    }
   ],
   "source": [
    "internet.head()"
   ]
  },
  {
   "cell_type": "markdown",
   "id": "d28d1986",
   "metadata": {},
   "source": [
    "Построим сводную таблицу с количеством израсходованных мегабайт интернет-трафика по месяцам для каждого пользователя:"
   ]
  },
  {
   "cell_type": "code",
   "execution_count": 35,
   "id": "7adf61d1",
   "metadata": {},
   "outputs": [
    {
     "data": {
      "text/html": [
       "<div>\n",
       "<style scoped>\n",
       "    .dataframe tbody tr th:only-of-type {\n",
       "        vertical-align: middle;\n",
       "    }\n",
       "\n",
       "    .dataframe tbody tr th {\n",
       "        vertical-align: top;\n",
       "    }\n",
       "\n",
       "    .dataframe thead th {\n",
       "        text-align: right;\n",
       "    }\n",
       "</style>\n",
       "<table border=\"1\" class=\"dataframe\">\n",
       "  <thead>\n",
       "    <tr style=\"text-align: right;\">\n",
       "      <th></th>\n",
       "      <th>user_id</th>\n",
       "      <th>month</th>\n",
       "      <th>mb_used_month</th>\n",
       "    </tr>\n",
       "  </thead>\n",
       "  <tbody>\n",
       "    <tr>\n",
       "      <th>0</th>\n",
       "      <td>1000</td>\n",
       "      <td>2018-05-01</td>\n",
       "      <td>2253.49</td>\n",
       "    </tr>\n",
       "    <tr>\n",
       "      <th>1</th>\n",
       "      <td>1000</td>\n",
       "      <td>2018-06-01</td>\n",
       "      <td>23233.77</td>\n",
       "    </tr>\n",
       "    <tr>\n",
       "      <th>2</th>\n",
       "      <td>1000</td>\n",
       "      <td>2018-07-01</td>\n",
       "      <td>14003.64</td>\n",
       "    </tr>\n",
       "    <tr>\n",
       "      <th>3</th>\n",
       "      <td>1000</td>\n",
       "      <td>2018-08-01</td>\n",
       "      <td>14055.93</td>\n",
       "    </tr>\n",
       "    <tr>\n",
       "      <th>4</th>\n",
       "      <td>1000</td>\n",
       "      <td>2018-09-01</td>\n",
       "      <td>14568.91</td>\n",
       "    </tr>\n",
       "  </tbody>\n",
       "</table>\n",
       "</div>"
      ],
      "text/plain": [
       "   user_id      month  mb_used_month\n",
       "0     1000 2018-05-01        2253.49\n",
       "1     1000 2018-06-01       23233.77\n",
       "2     1000 2018-07-01       14003.64\n",
       "3     1000 2018-08-01       14055.93\n",
       "4     1000 2018-09-01       14568.91"
      ]
     },
     "execution_count": 35,
     "metadata": {},
     "output_type": "execute_result"
    }
   ],
   "source": [
    "internet_pivot = internet.pivot_table(index = ['user_id', 'month'], \n",
    "                                     values = 'mb_used', \n",
    "                                     aggfunc='sum')\\\n",
    "                                     .reset_index()\\\n",
    "                                     .rename(columns={'mb_used':'mb_used_month'})\n",
    "internet_pivot.head()"
   ]
  },
  {
   "cell_type": "markdown",
   "id": "36da4024",
   "metadata": {},
   "source": [
    "### Помесячная выручка с каждого пользователя \n",
    "\n",
    "Сгруппируем в таблицу `data`три сводные таблицы : данные о звонках, сообщениях и интернет-трафике за месяц для каждого пользователя."
   ]
  },
  {
   "cell_type": "code",
   "execution_count": 36,
   "id": "c9653eca",
   "metadata": {},
   "outputs": [
    {
     "data": {
      "text/html": [
       "<div>\n",
       "<style scoped>\n",
       "    .dataframe tbody tr th:only-of-type {\n",
       "        vertical-align: middle;\n",
       "    }\n",
       "\n",
       "    .dataframe tbody tr th {\n",
       "        vertical-align: top;\n",
       "    }\n",
       "\n",
       "    .dataframe thead th {\n",
       "        text-align: right;\n",
       "    }\n",
       "</style>\n",
       "<table border=\"1\" class=\"dataframe\">\n",
       "  <thead>\n",
       "    <tr style=\"text-align: right;\">\n",
       "      <th></th>\n",
       "      <th>user_id</th>\n",
       "      <th>month</th>\n",
       "      <th>calls_duration_month</th>\n",
       "      <th>calls_count_month</th>\n",
       "      <th>messages_count_month</th>\n",
       "      <th>mb_used_month</th>\n",
       "    </tr>\n",
       "  </thead>\n",
       "  <tbody>\n",
       "    <tr>\n",
       "      <th>0</th>\n",
       "      <td>1000</td>\n",
       "      <td>2018-05-01</td>\n",
       "      <td>159.0</td>\n",
       "      <td>22.0</td>\n",
       "      <td>22.0</td>\n",
       "      <td>2253.49</td>\n",
       "    </tr>\n",
       "    <tr>\n",
       "      <th>1</th>\n",
       "      <td>1000</td>\n",
       "      <td>2018-06-01</td>\n",
       "      <td>172.0</td>\n",
       "      <td>43.0</td>\n",
       "      <td>60.0</td>\n",
       "      <td>23233.77</td>\n",
       "    </tr>\n",
       "    <tr>\n",
       "      <th>2</th>\n",
       "      <td>1000</td>\n",
       "      <td>2018-07-01</td>\n",
       "      <td>340.0</td>\n",
       "      <td>47.0</td>\n",
       "      <td>75.0</td>\n",
       "      <td>14003.64</td>\n",
       "    </tr>\n",
       "    <tr>\n",
       "      <th>3</th>\n",
       "      <td>1000</td>\n",
       "      <td>2018-08-01</td>\n",
       "      <td>408.0</td>\n",
       "      <td>52.0</td>\n",
       "      <td>81.0</td>\n",
       "      <td>14055.93</td>\n",
       "    </tr>\n",
       "    <tr>\n",
       "      <th>4</th>\n",
       "      <td>1000</td>\n",
       "      <td>2018-09-01</td>\n",
       "      <td>466.0</td>\n",
       "      <td>58.0</td>\n",
       "      <td>57.0</td>\n",
       "      <td>14568.91</td>\n",
       "    </tr>\n",
       "  </tbody>\n",
       "</table>\n",
       "</div>"
      ],
      "text/plain": [
       "   user_id      month  calls_duration_month  calls_count_month  \\\n",
       "0     1000 2018-05-01                 159.0               22.0   \n",
       "1     1000 2018-06-01                 172.0               43.0   \n",
       "2     1000 2018-07-01                 340.0               47.0   \n",
       "3     1000 2018-08-01                 408.0               52.0   \n",
       "4     1000 2018-09-01                 466.0               58.0   \n",
       "\n",
       "   messages_count_month  mb_used_month  \n",
       "0                  22.0        2253.49  \n",
       "1                  60.0       23233.77  \n",
       "2                  75.0       14003.64  \n",
       "3                  81.0       14055.93  \n",
       "4                  57.0       14568.91  "
      ]
     },
     "execution_count": 36,
     "metadata": {},
     "output_type": "execute_result"
    }
   ],
   "source": [
    "data_frames = [calls_pivot, messages_pivot, internet_pivot]\n",
    "data = reduce(lambda  left,right: pd.merge(left,right,on=['user_id', 'month'],\n",
    "                                            how='outer'), data_frames)\n",
    "data.head()"
   ]
  },
  {
   "cell_type": "markdown",
   "id": "bec60847",
   "metadata": {},
   "source": [
    "Теперь к таблице `data` присоединим таблицу `users`:"
   ]
  },
  {
   "cell_type": "code",
   "execution_count": 37,
   "id": "9a2978e7",
   "metadata": {
    "scrolled": true
   },
   "outputs": [
    {
     "data": {
      "text/html": [
       "<div>\n",
       "<style scoped>\n",
       "    .dataframe tbody tr th:only-of-type {\n",
       "        vertical-align: middle;\n",
       "    }\n",
       "\n",
       "    .dataframe tbody tr th {\n",
       "        vertical-align: top;\n",
       "    }\n",
       "\n",
       "    .dataframe thead th {\n",
       "        text-align: right;\n",
       "    }\n",
       "</style>\n",
       "<table border=\"1\" class=\"dataframe\">\n",
       "  <thead>\n",
       "    <tr style=\"text-align: right;\">\n",
       "      <th></th>\n",
       "      <th>user_id</th>\n",
       "      <th>month</th>\n",
       "      <th>calls_duration_month</th>\n",
       "      <th>calls_count_month</th>\n",
       "      <th>messages_count_month</th>\n",
       "      <th>mb_used_month</th>\n",
       "      <th>age</th>\n",
       "      <th>churn_date</th>\n",
       "      <th>city</th>\n",
       "      <th>first_name</th>\n",
       "      <th>last_name</th>\n",
       "      <th>reg_date</th>\n",
       "      <th>tariff</th>\n",
       "    </tr>\n",
       "  </thead>\n",
       "  <tbody>\n",
       "    <tr>\n",
       "      <th>0</th>\n",
       "      <td>1000</td>\n",
       "      <td>2018-05-01</td>\n",
       "      <td>159.0</td>\n",
       "      <td>22.0</td>\n",
       "      <td>22.0</td>\n",
       "      <td>2253.49</td>\n",
       "      <td>52</td>\n",
       "      <td>NaT</td>\n",
       "      <td>Краснодар</td>\n",
       "      <td>Рафаил</td>\n",
       "      <td>Верещагин</td>\n",
       "      <td>2018-05-25</td>\n",
       "      <td>ultra</td>\n",
       "    </tr>\n",
       "    <tr>\n",
       "      <th>1</th>\n",
       "      <td>1000</td>\n",
       "      <td>2018-06-01</td>\n",
       "      <td>172.0</td>\n",
       "      <td>43.0</td>\n",
       "      <td>60.0</td>\n",
       "      <td>23233.77</td>\n",
       "      <td>52</td>\n",
       "      <td>NaT</td>\n",
       "      <td>Краснодар</td>\n",
       "      <td>Рафаил</td>\n",
       "      <td>Верещагин</td>\n",
       "      <td>2018-05-25</td>\n",
       "      <td>ultra</td>\n",
       "    </tr>\n",
       "    <tr>\n",
       "      <th>2</th>\n",
       "      <td>1000</td>\n",
       "      <td>2018-07-01</td>\n",
       "      <td>340.0</td>\n",
       "      <td>47.0</td>\n",
       "      <td>75.0</td>\n",
       "      <td>14003.64</td>\n",
       "      <td>52</td>\n",
       "      <td>NaT</td>\n",
       "      <td>Краснодар</td>\n",
       "      <td>Рафаил</td>\n",
       "      <td>Верещагин</td>\n",
       "      <td>2018-05-25</td>\n",
       "      <td>ultra</td>\n",
       "    </tr>\n",
       "    <tr>\n",
       "      <th>3</th>\n",
       "      <td>1000</td>\n",
       "      <td>2018-08-01</td>\n",
       "      <td>408.0</td>\n",
       "      <td>52.0</td>\n",
       "      <td>81.0</td>\n",
       "      <td>14055.93</td>\n",
       "      <td>52</td>\n",
       "      <td>NaT</td>\n",
       "      <td>Краснодар</td>\n",
       "      <td>Рафаил</td>\n",
       "      <td>Верещагин</td>\n",
       "      <td>2018-05-25</td>\n",
       "      <td>ultra</td>\n",
       "    </tr>\n",
       "    <tr>\n",
       "      <th>4</th>\n",
       "      <td>1000</td>\n",
       "      <td>2018-09-01</td>\n",
       "      <td>466.0</td>\n",
       "      <td>58.0</td>\n",
       "      <td>57.0</td>\n",
       "      <td>14568.91</td>\n",
       "      <td>52</td>\n",
       "      <td>NaT</td>\n",
       "      <td>Краснодар</td>\n",
       "      <td>Рафаил</td>\n",
       "      <td>Верещагин</td>\n",
       "      <td>2018-05-25</td>\n",
       "      <td>ultra</td>\n",
       "    </tr>\n",
       "  </tbody>\n",
       "</table>\n",
       "</div>"
      ],
      "text/plain": [
       "   user_id      month  calls_duration_month  calls_count_month  \\\n",
       "0     1000 2018-05-01                 159.0               22.0   \n",
       "1     1000 2018-06-01                 172.0               43.0   \n",
       "2     1000 2018-07-01                 340.0               47.0   \n",
       "3     1000 2018-08-01                 408.0               52.0   \n",
       "4     1000 2018-09-01                 466.0               58.0   \n",
       "\n",
       "   messages_count_month  mb_used_month  age churn_date       city first_name  \\\n",
       "0                  22.0        2253.49   52        NaT  Краснодар     Рафаил   \n",
       "1                  60.0       23233.77   52        NaT  Краснодар     Рафаил   \n",
       "2                  75.0       14003.64   52        NaT  Краснодар     Рафаил   \n",
       "3                  81.0       14055.93   52        NaT  Краснодар     Рафаил   \n",
       "4                  57.0       14568.91   52        NaT  Краснодар     Рафаил   \n",
       "\n",
       "   last_name   reg_date tariff  \n",
       "0  Верещагин 2018-05-25  ultra  \n",
       "1  Верещагин 2018-05-25  ultra  \n",
       "2  Верещагин 2018-05-25  ultra  \n",
       "3  Верещагин 2018-05-25  ultra  \n",
       "4  Верещагин 2018-05-25  ultra  "
      ]
     },
     "execution_count": 37,
     "metadata": {},
     "output_type": "execute_result"
    }
   ],
   "source": [
    "data = data.merge(users, on='user_id')\n",
    "data.head()"
   ]
  },
  {
   "cell_type": "markdown",
   "id": "4ee68bce",
   "metadata": {},
   "source": [
    "Далее следует подтянуть условия тарифа в таблицу `data`. Посмотрим на таблицу `tariffs`:"
   ]
  },
  {
   "cell_type": "code",
   "execution_count": 38,
   "id": "d52423d5",
   "metadata": {
    "scrolled": true
   },
   "outputs": [
    {
     "data": {
      "text/html": [
       "<div>\n",
       "<style scoped>\n",
       "    .dataframe tbody tr th:only-of-type {\n",
       "        vertical-align: middle;\n",
       "    }\n",
       "\n",
       "    .dataframe tbody tr th {\n",
       "        vertical-align: top;\n",
       "    }\n",
       "\n",
       "    .dataframe thead th {\n",
       "        text-align: right;\n",
       "    }\n",
       "</style>\n",
       "<table border=\"1\" class=\"dataframe\">\n",
       "  <thead>\n",
       "    <tr style=\"text-align: right;\">\n",
       "      <th></th>\n",
       "      <th>messages_included</th>\n",
       "      <th>mb_per_month_included</th>\n",
       "      <th>minutes_included</th>\n",
       "      <th>rub_monthly_fee</th>\n",
       "      <th>rub_per_gb</th>\n",
       "      <th>rub_per_message</th>\n",
       "      <th>rub_per_minute</th>\n",
       "      <th>tariff_name</th>\n",
       "    </tr>\n",
       "  </thead>\n",
       "  <tbody>\n",
       "    <tr>\n",
       "      <th>0</th>\n",
       "      <td>50</td>\n",
       "      <td>15360</td>\n",
       "      <td>500</td>\n",
       "      <td>550</td>\n",
       "      <td>200</td>\n",
       "      <td>3</td>\n",
       "      <td>3</td>\n",
       "      <td>smart</td>\n",
       "    </tr>\n",
       "    <tr>\n",
       "      <th>1</th>\n",
       "      <td>1000</td>\n",
       "      <td>30720</td>\n",
       "      <td>3000</td>\n",
       "      <td>1950</td>\n",
       "      <td>150</td>\n",
       "      <td>1</td>\n",
       "      <td>1</td>\n",
       "      <td>ultra</td>\n",
       "    </tr>\n",
       "  </tbody>\n",
       "</table>\n",
       "</div>"
      ],
      "text/plain": [
       "   messages_included  mb_per_month_included  minutes_included  \\\n",
       "0                 50                  15360               500   \n",
       "1               1000                  30720              3000   \n",
       "\n",
       "   rub_monthly_fee  rub_per_gb  rub_per_message  rub_per_minute tariff_name  \n",
       "0              550         200                3               3       smart  \n",
       "1             1950         150                1               1       ultra  "
      ]
     },
     "execution_count": 38,
     "metadata": {},
     "output_type": "execute_result"
    }
   ],
   "source": [
    "tariffs"
   ]
  },
  {
   "cell_type": "markdown",
   "id": "048a0c51",
   "metadata": {},
   "source": [
    "Переименуем столбец `tariff_name` на `tariff` для дальнейшего объединения по данному столбцу:"
   ]
  },
  {
   "cell_type": "code",
   "execution_count": 39,
   "id": "17681109",
   "metadata": {},
   "outputs": [
    {
     "data": {
      "text/html": [
       "<div>\n",
       "<style scoped>\n",
       "    .dataframe tbody tr th:only-of-type {\n",
       "        vertical-align: middle;\n",
       "    }\n",
       "\n",
       "    .dataframe tbody tr th {\n",
       "        vertical-align: top;\n",
       "    }\n",
       "\n",
       "    .dataframe thead th {\n",
       "        text-align: right;\n",
       "    }\n",
       "</style>\n",
       "<table border=\"1\" class=\"dataframe\">\n",
       "  <thead>\n",
       "    <tr style=\"text-align: right;\">\n",
       "      <th></th>\n",
       "      <th>messages_included</th>\n",
       "      <th>mb_per_month_included</th>\n",
       "      <th>minutes_included</th>\n",
       "      <th>rub_monthly_fee</th>\n",
       "      <th>rub_per_gb</th>\n",
       "      <th>rub_per_message</th>\n",
       "      <th>rub_per_minute</th>\n",
       "      <th>tariff</th>\n",
       "    </tr>\n",
       "  </thead>\n",
       "  <tbody>\n",
       "    <tr>\n",
       "      <th>0</th>\n",
       "      <td>50</td>\n",
       "      <td>15360</td>\n",
       "      <td>500</td>\n",
       "      <td>550</td>\n",
       "      <td>200</td>\n",
       "      <td>3</td>\n",
       "      <td>3</td>\n",
       "      <td>smart</td>\n",
       "    </tr>\n",
       "    <tr>\n",
       "      <th>1</th>\n",
       "      <td>1000</td>\n",
       "      <td>30720</td>\n",
       "      <td>3000</td>\n",
       "      <td>1950</td>\n",
       "      <td>150</td>\n",
       "      <td>1</td>\n",
       "      <td>1</td>\n",
       "      <td>ultra</td>\n",
       "    </tr>\n",
       "  </tbody>\n",
       "</table>\n",
       "</div>"
      ],
      "text/plain": [
       "   messages_included  mb_per_month_included  minutes_included  \\\n",
       "0                 50                  15360               500   \n",
       "1               1000                  30720              3000   \n",
       "\n",
       "   rub_monthly_fee  rub_per_gb  rub_per_message  rub_per_minute tariff  \n",
       "0              550         200                3               3  smart  \n",
       "1             1950         150                1               1  ultra  "
      ]
     },
     "execution_count": 39,
     "metadata": {},
     "output_type": "execute_result"
    }
   ],
   "source": [
    "tariffs = tariffs.rename(columns={'tariff_name': 'tariff'})\n",
    "tariffs"
   ]
  },
  {
   "cell_type": "markdown",
   "id": "88297dce",
   "metadata": {},
   "source": [
    "Объединим таблицы `data` и `tariff`:"
   ]
  },
  {
   "cell_type": "code",
   "execution_count": 40,
   "id": "5e64edb4",
   "metadata": {},
   "outputs": [
    {
     "data": {
      "text/html": [
       "<div>\n",
       "<style scoped>\n",
       "    .dataframe tbody tr th:only-of-type {\n",
       "        vertical-align: middle;\n",
       "    }\n",
       "\n",
       "    .dataframe tbody tr th {\n",
       "        vertical-align: top;\n",
       "    }\n",
       "\n",
       "    .dataframe thead th {\n",
       "        text-align: right;\n",
       "    }\n",
       "</style>\n",
       "<table border=\"1\" class=\"dataframe\">\n",
       "  <thead>\n",
       "    <tr style=\"text-align: right;\">\n",
       "      <th></th>\n",
       "      <th>user_id</th>\n",
       "      <th>month</th>\n",
       "      <th>calls_duration_month</th>\n",
       "      <th>calls_count_month</th>\n",
       "      <th>messages_count_month</th>\n",
       "      <th>mb_used_month</th>\n",
       "      <th>age</th>\n",
       "      <th>churn_date</th>\n",
       "      <th>city</th>\n",
       "      <th>first_name</th>\n",
       "      <th>last_name</th>\n",
       "      <th>reg_date</th>\n",
       "      <th>tariff</th>\n",
       "      <th>messages_included</th>\n",
       "      <th>mb_per_month_included</th>\n",
       "      <th>minutes_included</th>\n",
       "      <th>rub_monthly_fee</th>\n",
       "      <th>rub_per_gb</th>\n",
       "      <th>rub_per_message</th>\n",
       "      <th>rub_per_minute</th>\n",
       "    </tr>\n",
       "  </thead>\n",
       "  <tbody>\n",
       "    <tr>\n",
       "      <th>0</th>\n",
       "      <td>1000</td>\n",
       "      <td>2018-05-01</td>\n",
       "      <td>159.0</td>\n",
       "      <td>22.0</td>\n",
       "      <td>22.0</td>\n",
       "      <td>2253.49</td>\n",
       "      <td>52</td>\n",
       "      <td>NaT</td>\n",
       "      <td>Краснодар</td>\n",
       "      <td>Рафаил</td>\n",
       "      <td>Верещагин</td>\n",
       "      <td>2018-05-25</td>\n",
       "      <td>ultra</td>\n",
       "      <td>1000</td>\n",
       "      <td>30720</td>\n",
       "      <td>3000</td>\n",
       "      <td>1950</td>\n",
       "      <td>150</td>\n",
       "      <td>1</td>\n",
       "      <td>1</td>\n",
       "    </tr>\n",
       "    <tr>\n",
       "      <th>1</th>\n",
       "      <td>1000</td>\n",
       "      <td>2018-06-01</td>\n",
       "      <td>172.0</td>\n",
       "      <td>43.0</td>\n",
       "      <td>60.0</td>\n",
       "      <td>23233.77</td>\n",
       "      <td>52</td>\n",
       "      <td>NaT</td>\n",
       "      <td>Краснодар</td>\n",
       "      <td>Рафаил</td>\n",
       "      <td>Верещагин</td>\n",
       "      <td>2018-05-25</td>\n",
       "      <td>ultra</td>\n",
       "      <td>1000</td>\n",
       "      <td>30720</td>\n",
       "      <td>3000</td>\n",
       "      <td>1950</td>\n",
       "      <td>150</td>\n",
       "      <td>1</td>\n",
       "      <td>1</td>\n",
       "    </tr>\n",
       "    <tr>\n",
       "      <th>2</th>\n",
       "      <td>1000</td>\n",
       "      <td>2018-07-01</td>\n",
       "      <td>340.0</td>\n",
       "      <td>47.0</td>\n",
       "      <td>75.0</td>\n",
       "      <td>14003.64</td>\n",
       "      <td>52</td>\n",
       "      <td>NaT</td>\n",
       "      <td>Краснодар</td>\n",
       "      <td>Рафаил</td>\n",
       "      <td>Верещагин</td>\n",
       "      <td>2018-05-25</td>\n",
       "      <td>ultra</td>\n",
       "      <td>1000</td>\n",
       "      <td>30720</td>\n",
       "      <td>3000</td>\n",
       "      <td>1950</td>\n",
       "      <td>150</td>\n",
       "      <td>1</td>\n",
       "      <td>1</td>\n",
       "    </tr>\n",
       "    <tr>\n",
       "      <th>3</th>\n",
       "      <td>1000</td>\n",
       "      <td>2018-08-01</td>\n",
       "      <td>408.0</td>\n",
       "      <td>52.0</td>\n",
       "      <td>81.0</td>\n",
       "      <td>14055.93</td>\n",
       "      <td>52</td>\n",
       "      <td>NaT</td>\n",
       "      <td>Краснодар</td>\n",
       "      <td>Рафаил</td>\n",
       "      <td>Верещагин</td>\n",
       "      <td>2018-05-25</td>\n",
       "      <td>ultra</td>\n",
       "      <td>1000</td>\n",
       "      <td>30720</td>\n",
       "      <td>3000</td>\n",
       "      <td>1950</td>\n",
       "      <td>150</td>\n",
       "      <td>1</td>\n",
       "      <td>1</td>\n",
       "    </tr>\n",
       "    <tr>\n",
       "      <th>4</th>\n",
       "      <td>1000</td>\n",
       "      <td>2018-09-01</td>\n",
       "      <td>466.0</td>\n",
       "      <td>58.0</td>\n",
       "      <td>57.0</td>\n",
       "      <td>14568.91</td>\n",
       "      <td>52</td>\n",
       "      <td>NaT</td>\n",
       "      <td>Краснодар</td>\n",
       "      <td>Рафаил</td>\n",
       "      <td>Верещагин</td>\n",
       "      <td>2018-05-25</td>\n",
       "      <td>ultra</td>\n",
       "      <td>1000</td>\n",
       "      <td>30720</td>\n",
       "      <td>3000</td>\n",
       "      <td>1950</td>\n",
       "      <td>150</td>\n",
       "      <td>1</td>\n",
       "      <td>1</td>\n",
       "    </tr>\n",
       "  </tbody>\n",
       "</table>\n",
       "</div>"
      ],
      "text/plain": [
       "   user_id      month  calls_duration_month  calls_count_month  \\\n",
       "0     1000 2018-05-01                 159.0               22.0   \n",
       "1     1000 2018-06-01                 172.0               43.0   \n",
       "2     1000 2018-07-01                 340.0               47.0   \n",
       "3     1000 2018-08-01                 408.0               52.0   \n",
       "4     1000 2018-09-01                 466.0               58.0   \n",
       "\n",
       "   messages_count_month  mb_used_month  age churn_date       city first_name  \\\n",
       "0                  22.0        2253.49   52        NaT  Краснодар     Рафаил   \n",
       "1                  60.0       23233.77   52        NaT  Краснодар     Рафаил   \n",
       "2                  75.0       14003.64   52        NaT  Краснодар     Рафаил   \n",
       "3                  81.0       14055.93   52        NaT  Краснодар     Рафаил   \n",
       "4                  57.0       14568.91   52        NaT  Краснодар     Рафаил   \n",
       "\n",
       "   last_name   reg_date tariff  messages_included  mb_per_month_included  \\\n",
       "0  Верещагин 2018-05-25  ultra               1000                  30720   \n",
       "1  Верещагин 2018-05-25  ultra               1000                  30720   \n",
       "2  Верещагин 2018-05-25  ultra               1000                  30720   \n",
       "3  Верещагин 2018-05-25  ultra               1000                  30720   \n",
       "4  Верещагин 2018-05-25  ultra               1000                  30720   \n",
       "\n",
       "   minutes_included  rub_monthly_fee  rub_per_gb  rub_per_message  \\\n",
       "0              3000             1950         150                1   \n",
       "1              3000             1950         150                1   \n",
       "2              3000             1950         150                1   \n",
       "3              3000             1950         150                1   \n",
       "4              3000             1950         150                1   \n",
       "\n",
       "   rub_per_minute  \n",
       "0               1  \n",
       "1               1  \n",
       "2               1  \n",
       "3               1  \n",
       "4               1  "
      ]
     },
     "execution_count": 40,
     "metadata": {},
     "output_type": "execute_result"
    }
   ],
   "source": [
    "data = data.merge(tariffs, on='tariff')\n",
    "data.head()"
   ]
  },
  {
   "cell_type": "markdown",
   "id": "994f543b",
   "metadata": {},
   "source": [
    "Изучим общую информацию о получившемся датафрейме:"
   ]
  },
  {
   "cell_type": "code",
   "execution_count": 41,
   "id": "438399cb",
   "metadata": {},
   "outputs": [
    {
     "name": "stdout",
     "output_type": "stream",
     "text": [
      "<class 'pandas.core.frame.DataFrame'>\n",
      "Int64Index: 3214 entries, 0 to 3213\n",
      "Data columns (total 20 columns):\n",
      " #   Column                 Non-Null Count  Dtype         \n",
      "---  ------                 --------------  -----         \n",
      " 0   user_id                3214 non-null   int64         \n",
      " 1   month                  3214 non-null   datetime64[ns]\n",
      " 2   calls_duration_month   3174 non-null   float64       \n",
      " 3   calls_count_month      3174 non-null   float64       \n",
      " 4   messages_count_month   2717 non-null   float64       \n",
      " 5   mb_used_month          3203 non-null   float64       \n",
      " 6   age                    3214 non-null   int64         \n",
      " 7   churn_date             187 non-null    datetime64[ns]\n",
      " 8   city                   3214 non-null   object        \n",
      " 9   first_name             3214 non-null   object        \n",
      " 10  last_name              3214 non-null   object        \n",
      " 11  reg_date               3214 non-null   datetime64[ns]\n",
      " 12  tariff                 3214 non-null   object        \n",
      " 13  messages_included      3214 non-null   int64         \n",
      " 14  mb_per_month_included  3214 non-null   int64         \n",
      " 15  minutes_included       3214 non-null   int64         \n",
      " 16  rub_monthly_fee        3214 non-null   int64         \n",
      " 17  rub_per_gb             3214 non-null   int64         \n",
      " 18  rub_per_message        3214 non-null   int64         \n",
      " 19  rub_per_minute         3214 non-null   int64         \n",
      "dtypes: datetime64[ns](3), float64(4), int64(9), object(4)\n",
      "memory usage: 527.3+ KB\n"
     ]
    }
   ],
   "source": [
    "data.info()"
   ]
  },
  {
   "cell_type": "markdown",
   "id": "5daae2b2",
   "metadata": {},
   "source": [
    "Пропуски в столбцах `calls_duration_month`, `calls_count_month`, `sms_count_month` и `mb_used_month` логично заполнить нулями - некоторые пользователи не совершали звонков / не отправляли смс / не пользовались интернетом."
   ]
  },
  {
   "cell_type": "code",
   "execution_count": 42,
   "id": "2fd9a2ae",
   "metadata": {},
   "outputs": [],
   "source": [
    "data['calls_duration_month'] = data['calls_duration_month'].fillna(0)\n",
    "data['calls_count_month'] = data['calls_count_month'].fillna(0)\n",
    "data['messages_count_month'] = data['messages_count_month'].fillna(0)\n",
    "data['mb_used_month'] = data['mb_used_month'].fillna(0)"
   ]
  },
  {
   "cell_type": "markdown",
   "id": "5b06cc23",
   "metadata": {},
   "source": [
    "Проверим результат заполнения пропусков:"
   ]
  },
  {
   "cell_type": "code",
   "execution_count": 43,
   "id": "8abfe34b",
   "metadata": {},
   "outputs": [
    {
     "data": {
      "text/plain": [
       "user_id                     0\n",
       "month                       0\n",
       "calls_duration_month        0\n",
       "calls_count_month           0\n",
       "messages_count_month        0\n",
       "mb_used_month               0\n",
       "age                         0\n",
       "churn_date               3027\n",
       "city                        0\n",
       "first_name                  0\n",
       "last_name                   0\n",
       "reg_date                    0\n",
       "tariff                      0\n",
       "messages_included           0\n",
       "mb_per_month_included       0\n",
       "minutes_included            0\n",
       "rub_monthly_fee             0\n",
       "rub_per_gb                  0\n",
       "rub_per_message             0\n",
       "rub_per_minute              0\n",
       "dtype: int64"
      ]
     },
     "execution_count": 43,
     "metadata": {},
     "output_type": "execute_result"
    }
   ],
   "source": [
    "data.isna().sum()"
   ]
  },
  {
   "cell_type": "markdown",
   "id": "c7c38885",
   "metadata": {},
   "source": [
    "Проверим, есть ли явные дубликаты:"
   ]
  },
  {
   "cell_type": "code",
   "execution_count": 44,
   "id": "10235921",
   "metadata": {
    "scrolled": true
   },
   "outputs": [
    {
     "data": {
      "text/plain": [
       "0"
      ]
     },
     "execution_count": 44,
     "metadata": {},
     "output_type": "execute_result"
    }
   ],
   "source": [
    "data.duplicated().sum()"
   ]
  },
  {
   "cell_type": "code",
   "execution_count": 45,
   "id": "b84d17de",
   "metadata": {
    "scrolled": true
   },
   "outputs": [
    {
     "data": {
      "text/html": [
       "<div>\n",
       "<style scoped>\n",
       "    .dataframe tbody tr th:only-of-type {\n",
       "        vertical-align: middle;\n",
       "    }\n",
       "\n",
       "    .dataframe tbody tr th {\n",
       "        vertical-align: top;\n",
       "    }\n",
       "\n",
       "    .dataframe thead th {\n",
       "        text-align: right;\n",
       "    }\n",
       "</style>\n",
       "<table border=\"1\" class=\"dataframe\">\n",
       "  <thead>\n",
       "    <tr style=\"text-align: right;\">\n",
       "      <th></th>\n",
       "      <th>user_id</th>\n",
       "      <th>month</th>\n",
       "      <th>calls_duration_month</th>\n",
       "      <th>calls_count_month</th>\n",
       "      <th>messages_count_month</th>\n",
       "      <th>mb_used_month</th>\n",
       "      <th>age</th>\n",
       "      <th>churn_date</th>\n",
       "      <th>city</th>\n",
       "      <th>first_name</th>\n",
       "      <th>last_name</th>\n",
       "      <th>reg_date</th>\n",
       "      <th>tariff</th>\n",
       "      <th>messages_included</th>\n",
       "      <th>mb_per_month_included</th>\n",
       "      <th>minutes_included</th>\n",
       "      <th>rub_monthly_fee</th>\n",
       "      <th>rub_per_gb</th>\n",
       "      <th>rub_per_message</th>\n",
       "      <th>rub_per_minute</th>\n",
       "    </tr>\n",
       "  </thead>\n",
       "  <tbody>\n",
       "    <tr>\n",
       "      <th>0</th>\n",
       "      <td>1000</td>\n",
       "      <td>2018-05-01</td>\n",
       "      <td>159.0</td>\n",
       "      <td>22.0</td>\n",
       "      <td>22.0</td>\n",
       "      <td>2253.49</td>\n",
       "      <td>52</td>\n",
       "      <td>NaT</td>\n",
       "      <td>Краснодар</td>\n",
       "      <td>Рафаил</td>\n",
       "      <td>Верещагин</td>\n",
       "      <td>2018-05-25</td>\n",
       "      <td>ultra</td>\n",
       "      <td>1000</td>\n",
       "      <td>30720</td>\n",
       "      <td>3000</td>\n",
       "      <td>1950</td>\n",
       "      <td>150</td>\n",
       "      <td>1</td>\n",
       "      <td>1</td>\n",
       "    </tr>\n",
       "    <tr>\n",
       "      <th>1</th>\n",
       "      <td>1000</td>\n",
       "      <td>2018-06-01</td>\n",
       "      <td>172.0</td>\n",
       "      <td>43.0</td>\n",
       "      <td>60.0</td>\n",
       "      <td>23233.77</td>\n",
       "      <td>52</td>\n",
       "      <td>NaT</td>\n",
       "      <td>Краснодар</td>\n",
       "      <td>Рафаил</td>\n",
       "      <td>Верещагин</td>\n",
       "      <td>2018-05-25</td>\n",
       "      <td>ultra</td>\n",
       "      <td>1000</td>\n",
       "      <td>30720</td>\n",
       "      <td>3000</td>\n",
       "      <td>1950</td>\n",
       "      <td>150</td>\n",
       "      <td>1</td>\n",
       "      <td>1</td>\n",
       "    </tr>\n",
       "    <tr>\n",
       "      <th>2</th>\n",
       "      <td>1000</td>\n",
       "      <td>2018-07-01</td>\n",
       "      <td>340.0</td>\n",
       "      <td>47.0</td>\n",
       "      <td>75.0</td>\n",
       "      <td>14003.64</td>\n",
       "      <td>52</td>\n",
       "      <td>NaT</td>\n",
       "      <td>Краснодар</td>\n",
       "      <td>Рафаил</td>\n",
       "      <td>Верещагин</td>\n",
       "      <td>2018-05-25</td>\n",
       "      <td>ultra</td>\n",
       "      <td>1000</td>\n",
       "      <td>30720</td>\n",
       "      <td>3000</td>\n",
       "      <td>1950</td>\n",
       "      <td>150</td>\n",
       "      <td>1</td>\n",
       "      <td>1</td>\n",
       "    </tr>\n",
       "    <tr>\n",
       "      <th>3</th>\n",
       "      <td>1000</td>\n",
       "      <td>2018-08-01</td>\n",
       "      <td>408.0</td>\n",
       "      <td>52.0</td>\n",
       "      <td>81.0</td>\n",
       "      <td>14055.93</td>\n",
       "      <td>52</td>\n",
       "      <td>NaT</td>\n",
       "      <td>Краснодар</td>\n",
       "      <td>Рафаил</td>\n",
       "      <td>Верещагин</td>\n",
       "      <td>2018-05-25</td>\n",
       "      <td>ultra</td>\n",
       "      <td>1000</td>\n",
       "      <td>30720</td>\n",
       "      <td>3000</td>\n",
       "      <td>1950</td>\n",
       "      <td>150</td>\n",
       "      <td>1</td>\n",
       "      <td>1</td>\n",
       "    </tr>\n",
       "    <tr>\n",
       "      <th>4</th>\n",
       "      <td>1000</td>\n",
       "      <td>2018-09-01</td>\n",
       "      <td>466.0</td>\n",
       "      <td>58.0</td>\n",
       "      <td>57.0</td>\n",
       "      <td>14568.91</td>\n",
       "      <td>52</td>\n",
       "      <td>NaT</td>\n",
       "      <td>Краснодар</td>\n",
       "      <td>Рафаил</td>\n",
       "      <td>Верещагин</td>\n",
       "      <td>2018-05-25</td>\n",
       "      <td>ultra</td>\n",
       "      <td>1000</td>\n",
       "      <td>30720</td>\n",
       "      <td>3000</td>\n",
       "      <td>1950</td>\n",
       "      <td>150</td>\n",
       "      <td>1</td>\n",
       "      <td>1</td>\n",
       "    </tr>\n",
       "  </tbody>\n",
       "</table>\n",
       "</div>"
      ],
      "text/plain": [
       "   user_id      month  calls_duration_month  calls_count_month  \\\n",
       "0     1000 2018-05-01                 159.0               22.0   \n",
       "1     1000 2018-06-01                 172.0               43.0   \n",
       "2     1000 2018-07-01                 340.0               47.0   \n",
       "3     1000 2018-08-01                 408.0               52.0   \n",
       "4     1000 2018-09-01                 466.0               58.0   \n",
       "\n",
       "   messages_count_month  mb_used_month  age churn_date       city first_name  \\\n",
       "0                  22.0        2253.49   52        NaT  Краснодар     Рафаил   \n",
       "1                  60.0       23233.77   52        NaT  Краснодар     Рафаил   \n",
       "2                  75.0       14003.64   52        NaT  Краснодар     Рафаил   \n",
       "3                  81.0       14055.93   52        NaT  Краснодар     Рафаил   \n",
       "4                  57.0       14568.91   52        NaT  Краснодар     Рафаил   \n",
       "\n",
       "   last_name   reg_date tariff  messages_included  mb_per_month_included  \\\n",
       "0  Верещагин 2018-05-25  ultra               1000                  30720   \n",
       "1  Верещагин 2018-05-25  ultra               1000                  30720   \n",
       "2  Верещагин 2018-05-25  ultra               1000                  30720   \n",
       "3  Верещагин 2018-05-25  ultra               1000                  30720   \n",
       "4  Верещагин 2018-05-25  ultra               1000                  30720   \n",
       "\n",
       "   minutes_included  rub_monthly_fee  rub_per_gb  rub_per_message  \\\n",
       "0              3000             1950         150                1   \n",
       "1              3000             1950         150                1   \n",
       "2              3000             1950         150                1   \n",
       "3              3000             1950         150                1   \n",
       "4              3000             1950         150                1   \n",
       "\n",
       "   rub_per_minute  \n",
       "0               1  \n",
       "1               1  \n",
       "2               1  \n",
       "3               1  \n",
       "4               1  "
      ]
     },
     "execution_count": 45,
     "metadata": {},
     "output_type": "execute_result"
    }
   ],
   "source": [
    "data.head()"
   ]
  },
  {
   "cell_type": "markdown",
   "id": "6c782f19",
   "metadata": {},
   "source": [
    "Напишем функцию `above_the_tariff`, с помощью которой вычтем бесплатный лимит из суммарного количества звонков, сообщений и интернет-трафика и умножим остаток на значение из тарифного плана. Так как для веб-трафика отдельные сессии не считаются, а вместо этого общая сумма за месяц округляется в бо́льшую сторону, при переводе мегабайт в гигабайты сверх трафика будем использовать округление вверх `np.ceil`"
   ]
  },
  {
   "cell_type": "code",
   "execution_count": 46,
   "id": "8784093e",
   "metadata": {},
   "outputs": [],
   "source": [
    "def above_the_tariff(row):\n",
    "    minutes = (row['calls_duration_month'] - row['minutes_included']) * row['rub_per_minute']\n",
    "    sms = (row['messages_count_month'] - row['messages_included']) * row['rub_per_message']\n",
    "    mbs = np.ceil((row['mb_used_month'] - row['mb_per_month_included']) / 1024) * row['rub_per_gb']\n",
    "    total = 0\n",
    "    for i in [minutes, sms, mbs]:\n",
    "        if i > 0:\n",
    "            total += i\n",
    "    return total"
   ]
  },
  {
   "cell_type": "markdown",
   "id": "f670dfb2",
   "metadata": {},
   "source": [
    "В датафрейме `data`  создадим новый столбец `extra_paid` c помесячной суммой платежа сверх тарифа для каждого пользователя:"
   ]
  },
  {
   "cell_type": "code",
   "execution_count": 47,
   "id": "8bab1cd0",
   "metadata": {},
   "outputs": [],
   "source": [
    "data['extra_paid'] = data.apply(lambda x: above_the_tariff(x), axis=1)"
   ]
  },
  {
   "cell_type": "markdown",
   "id": "1d1127ef",
   "metadata": {},
   "source": [
    "Теперь создадим столбец `total_paid` с общей помесячной выручкой с каждого абонента - к тратам сверх тарифа прибавим абонентскую плату, соответствующую тарифному плану:\n"
   ]
  },
  {
   "cell_type": "code",
   "execution_count": 48,
   "id": "0f83ecef",
   "metadata": {},
   "outputs": [],
   "source": [
    "data['total_paid'] = data['rub_monthly_fee'] + data['extra_paid']"
   ]
  },
  {
   "cell_type": "markdown",
   "id": "0c1aa8b7",
   "metadata": {},
   "source": [
    "Проверим результат расчетов - отсортируем по возрастанию помесячную выручку с каждого абонента и посмотрим на пользователей с максимальными тратами:"
   ]
  },
  {
   "cell_type": "code",
   "execution_count": 49,
   "id": "e5f3cac7",
   "metadata": {},
   "outputs": [
    {
     "data": {
      "text/html": [
       "<div>\n",
       "<style scoped>\n",
       "    .dataframe tbody tr th:only-of-type {\n",
       "        vertical-align: middle;\n",
       "    }\n",
       "\n",
       "    .dataframe tbody tr th {\n",
       "        vertical-align: top;\n",
       "    }\n",
       "\n",
       "    .dataframe thead th {\n",
       "        text-align: right;\n",
       "    }\n",
       "</style>\n",
       "<table border=\"1\" class=\"dataframe\">\n",
       "  <thead>\n",
       "    <tr style=\"text-align: right;\">\n",
       "      <th></th>\n",
       "      <th>user_id</th>\n",
       "      <th>month</th>\n",
       "      <th>calls_duration_month</th>\n",
       "      <th>calls_count_month</th>\n",
       "      <th>messages_count_month</th>\n",
       "      <th>mb_used_month</th>\n",
       "      <th>age</th>\n",
       "      <th>churn_date</th>\n",
       "      <th>city</th>\n",
       "      <th>first_name</th>\n",
       "      <th>last_name</th>\n",
       "      <th>reg_date</th>\n",
       "      <th>tariff</th>\n",
       "      <th>messages_included</th>\n",
       "      <th>mb_per_month_included</th>\n",
       "      <th>minutes_included</th>\n",
       "      <th>rub_monthly_fee</th>\n",
       "      <th>rub_per_gb</th>\n",
       "      <th>rub_per_message</th>\n",
       "      <th>rub_per_minute</th>\n",
       "      <th>extra_paid</th>\n",
       "      <th>total_paid</th>\n",
       "    </tr>\n",
       "  </thead>\n",
       "  <tbody>\n",
       "    <tr>\n",
       "      <th>2298</th>\n",
       "      <td>1286</td>\n",
       "      <td>2018-12-01</td>\n",
       "      <td>739.0</td>\n",
       "      <td>95.0</td>\n",
       "      <td>68.0</td>\n",
       "      <td>35108.07</td>\n",
       "      <td>19</td>\n",
       "      <td>NaT</td>\n",
       "      <td>Москва</td>\n",
       "      <td>Рашид</td>\n",
       "      <td>Троицкий</td>\n",
       "      <td>2018-11-27</td>\n",
       "      <td>smart</td>\n",
       "      <td>50</td>\n",
       "      <td>15360</td>\n",
       "      <td>500</td>\n",
       "      <td>550</td>\n",
       "      <td>200</td>\n",
       "      <td>3</td>\n",
       "      <td>3</td>\n",
       "      <td>4771.0</td>\n",
       "      <td>5321.0</td>\n",
       "    </tr>\n",
       "    <tr>\n",
       "      <th>2177</th>\n",
       "      <td>1261</td>\n",
       "      <td>2018-12-01</td>\n",
       "      <td>1074.0</td>\n",
       "      <td>141.0</td>\n",
       "      <td>22.0</td>\n",
       "      <td>32650.91</td>\n",
       "      <td>46</td>\n",
       "      <td>NaT</td>\n",
       "      <td>Казань</td>\n",
       "      <td>Мадина</td>\n",
       "      <td>Пантелеева</td>\n",
       "      <td>2018-10-30</td>\n",
       "      <td>smart</td>\n",
       "      <td>50</td>\n",
       "      <td>15360</td>\n",
       "      <td>500</td>\n",
       "      <td>550</td>\n",
       "      <td>200</td>\n",
       "      <td>3</td>\n",
       "      <td>3</td>\n",
       "      <td>5122.0</td>\n",
       "      <td>5672.0</td>\n",
       "    </tr>\n",
       "    <tr>\n",
       "      <th>3156</th>\n",
       "      <td>1486</td>\n",
       "      <td>2018-11-01</td>\n",
       "      <td>764.0</td>\n",
       "      <td>108.0</td>\n",
       "      <td>96.0</td>\n",
       "      <td>36266.11</td>\n",
       "      <td>35</td>\n",
       "      <td>NaT</td>\n",
       "      <td>Нижний Новгород</td>\n",
       "      <td>Матвей</td>\n",
       "      <td>Моргунов</td>\n",
       "      <td>2018-10-31</td>\n",
       "      <td>smart</td>\n",
       "      <td>50</td>\n",
       "      <td>15360</td>\n",
       "      <td>500</td>\n",
       "      <td>550</td>\n",
       "      <td>200</td>\n",
       "      <td>3</td>\n",
       "      <td>3</td>\n",
       "      <td>5130.0</td>\n",
       "      <td>5680.0</td>\n",
       "    </tr>\n",
       "    <tr>\n",
       "      <th>1183</th>\n",
       "      <td>1042</td>\n",
       "      <td>2018-12-01</td>\n",
       "      <td>728.0</td>\n",
       "      <td>121.0</td>\n",
       "      <td>75.0</td>\n",
       "      <td>37165.69</td>\n",
       "      <td>42</td>\n",
       "      <td>NaT</td>\n",
       "      <td>Хабаровск</td>\n",
       "      <td>Константин</td>\n",
       "      <td>Добрынин</td>\n",
       "      <td>2018-11-25</td>\n",
       "      <td>smart</td>\n",
       "      <td>50</td>\n",
       "      <td>15360</td>\n",
       "      <td>500</td>\n",
       "      <td>550</td>\n",
       "      <td>200</td>\n",
       "      <td>3</td>\n",
       "      <td>3</td>\n",
       "      <td>5159.0</td>\n",
       "      <td>5709.0</td>\n",
       "    </tr>\n",
       "    <tr>\n",
       "      <th>3157</th>\n",
       "      <td>1486</td>\n",
       "      <td>2018-12-01</td>\n",
       "      <td>1007.0</td>\n",
       "      <td>133.0</td>\n",
       "      <td>83.0</td>\n",
       "      <td>38552.45</td>\n",
       "      <td>35</td>\n",
       "      <td>NaT</td>\n",
       "      <td>Нижний Новгород</td>\n",
       "      <td>Матвей</td>\n",
       "      <td>Моргунов</td>\n",
       "      <td>2018-10-31</td>\n",
       "      <td>smart</td>\n",
       "      <td>50</td>\n",
       "      <td>15360</td>\n",
       "      <td>500</td>\n",
       "      <td>550</td>\n",
       "      <td>200</td>\n",
       "      <td>3</td>\n",
       "      <td>3</td>\n",
       "      <td>6220.0</td>\n",
       "      <td>6770.0</td>\n",
       "    </tr>\n",
       "  </tbody>\n",
       "</table>\n",
       "</div>"
      ],
      "text/plain": [
       "      user_id      month  calls_duration_month  calls_count_month  \\\n",
       "2298     1286 2018-12-01                 739.0               95.0   \n",
       "2177     1261 2018-12-01                1074.0              141.0   \n",
       "3156     1486 2018-11-01                 764.0              108.0   \n",
       "1183     1042 2018-12-01                 728.0              121.0   \n",
       "3157     1486 2018-12-01                1007.0              133.0   \n",
       "\n",
       "      messages_count_month  mb_used_month  age churn_date             city  \\\n",
       "2298                  68.0       35108.07   19        NaT           Москва   \n",
       "2177                  22.0       32650.91   46        NaT           Казань   \n",
       "3156                  96.0       36266.11   35        NaT  Нижний Новгород   \n",
       "1183                  75.0       37165.69   42        NaT        Хабаровск   \n",
       "3157                  83.0       38552.45   35        NaT  Нижний Новгород   \n",
       "\n",
       "      first_name   last_name   reg_date tariff  messages_included  \\\n",
       "2298       Рашид    Троицкий 2018-11-27  smart                 50   \n",
       "2177      Мадина  Пантелеева 2018-10-30  smart                 50   \n",
       "3156      Матвей    Моргунов 2018-10-31  smart                 50   \n",
       "1183  Константин    Добрынин 2018-11-25  smart                 50   \n",
       "3157      Матвей    Моргунов 2018-10-31  smart                 50   \n",
       "\n",
       "      mb_per_month_included  minutes_included  rub_monthly_fee  rub_per_gb  \\\n",
       "2298                  15360               500              550         200   \n",
       "2177                  15360               500              550         200   \n",
       "3156                  15360               500              550         200   \n",
       "1183                  15360               500              550         200   \n",
       "3157                  15360               500              550         200   \n",
       "\n",
       "      rub_per_message  rub_per_minute  extra_paid  total_paid  \n",
       "2298                3               3      4771.0      5321.0  \n",
       "2177                3               3      5122.0      5672.0  \n",
       "3156                3               3      5130.0      5680.0  \n",
       "1183                3               3      5159.0      5709.0  \n",
       "3157                3               3      6220.0      6770.0  "
      ]
     },
     "execution_count": 49,
     "metadata": {},
     "output_type": "execute_result"
    }
   ],
   "source": [
    "data.sort_values(by='total_paid').tail()"
   ]
  },
  {
   "cell_type": "markdown",
   "id": "90810649",
   "metadata": {},
   "source": [
    "### Вывод\n",
    "\n",
    "В ходе предобработки данных мы выполнили следующие действия:\n",
    "\n",
    "- Исправили неверные типы данных, также в датафрейме `internet` удалили лишний столбец, дублирующий индексы;\n",
    "- Проверили наличие явных дубликатов (не обнаружено):\n",
    "- Построили сводную таблицу `calls_pivot`с количеством сделанных звонков и израсходованных минут разговора по месяцам для каждого пользователя;\n",
    "- Построили сводную таблицу `messages_pivot` с количеством отправленных сообщений в месяц для каждого пользователя;\n",
    "- Построили сводную таблицу `internet_pivot` с объемом израсходованного интернет-трафика по месяцам для каждого пользователя;\n",
    "- Построили сводную таблицу `data` с помесячной выручкой с каждого пользователя"
   ]
  },
  {
   "cell_type": "markdown",
   "id": "6202bd99",
   "metadata": {},
   "source": [
    "## Анализ данных\n",
    "\n",
    "Опишем поведение клиентов оператора, исходя из выборки. Выясним, сколько минут разговора, сколько сообщений и какой объём интернет-трафика требуется пользователям каждого тарифа в месяц. Посчитаем среднее количество, дисперсию и стандартное отклонение. Построим гистограммы и опишем распределения."
   ]
  },
  {
   "cell_type": "markdown",
   "id": "74f537ca",
   "metadata": {},
   "source": [
    "### Количество минут разговора, которое требуется пользователям каждого тарифа в месяц"
   ]
  },
  {
   "cell_type": "markdown",
   "id": "6e0315c5",
   "metadata": {},
   "source": [
    "Посчитаем среднее количество, дисперсию и стандартное отклонение количества минут разговора пользователей тарифов \"Смарт и \"Ультра\" в месяц."
   ]
  },
  {
   "cell_type": "code",
   "execution_count": 50,
   "id": "8330bf03",
   "metadata": {
    "scrolled": true
   },
   "outputs": [
    {
     "data": {
      "text/html": [
       "<style type=\"text/css\">\n",
       "</style>\n",
       "<table id=\"T_b03ef\">\n",
       "  <thead>\n",
       "    <tr>\n",
       "      <th class=\"blank level0\" >&nbsp;</th>\n",
       "      <th id=\"T_b03ef_level0_col0\" class=\"col_heading level0 col0\" colspan=\"3\">calls_duration_month</th>\n",
       "    </tr>\n",
       "    <tr>\n",
       "      <th class=\"blank level1\" >&nbsp;</th>\n",
       "      <th id=\"T_b03ef_level1_col0\" class=\"col_heading level1 col0\" >mean</th>\n",
       "      <th id=\"T_b03ef_level1_col1\" class=\"col_heading level1 col1\" >var</th>\n",
       "      <th id=\"T_b03ef_level1_col2\" class=\"col_heading level1 col2\" >std</th>\n",
       "    </tr>\n",
       "    <tr>\n",
       "      <th class=\"index_name level0\" >tariff</th>\n",
       "      <th class=\"blank col0\" >&nbsp;</th>\n",
       "      <th class=\"blank col1\" >&nbsp;</th>\n",
       "      <th class=\"blank col2\" >&nbsp;</th>\n",
       "    </tr>\n",
       "  </thead>\n",
       "  <tbody>\n",
       "    <tr>\n",
       "      <th id=\"T_b03ef_level0_row0\" class=\"row_heading level0 row0\" >smart</th>\n",
       "      <td id=\"T_b03ef_row0_col0\" class=\"data row0 col0\" >417.93</td>\n",
       "      <td id=\"T_b03ef_row0_col1\" class=\"data row0 col1\" >36219.32</td>\n",
       "      <td id=\"T_b03ef_row0_col2\" class=\"data row0 col2\" >190.31</td>\n",
       "    </tr>\n",
       "    <tr>\n",
       "      <th id=\"T_b03ef_level0_row1\" class=\"row_heading level0 row1\" >ultra</th>\n",
       "      <td id=\"T_b03ef_row1_col0\" class=\"data row1 col0\" >526.62</td>\n",
       "      <td id=\"T_b03ef_row1_col1\" class=\"data row1 col1\" >100873.63</td>\n",
       "      <td id=\"T_b03ef_row1_col2\" class=\"data row1 col2\" >317.61</td>\n",
       "    </tr>\n",
       "  </tbody>\n",
       "</table>\n"
      ],
      "text/plain": [
       "<pandas.io.formats.style.Styler at 0x7fc32901f790>"
      ]
     },
     "execution_count": 50,
     "metadata": {},
     "output_type": "execute_result"
    }
   ],
   "source": [
    "data.groupby('tariff')\\\n",
    "  .agg({'calls_duration_month':['mean','var','std']})\\\n",
    "  .style.format('{:.2f}')"
   ]
  },
  {
   "cell_type": "markdown",
   "id": "43f443ad",
   "metadata": {},
   "source": [
    "Построим гистограммы и диаграммы размаха для пользователей тарифов \"Смарт\" и \"Ультра\":"
   ]
  },
  {
   "cell_type": "code",
   "execution_count": 51,
   "id": "95a17470",
   "metadata": {
    "scrolled": false
   },
   "outputs": [
    {
     "data": {
      "image/png": "[encoded data removed]",
      "text/plain": [
       "<Figure size 1152x360 with 2 Axes>"
      ]
     },
     "metadata": {},
     "output_type": "display_data"
    }
   ],
   "source": [
    "sns.set() \n",
    "\n",
    "fig, axes = plt.subplots(1, 2, figsize=(16, 5))\n",
    "fig.suptitle('Количество минут разговора в месяц')\n",
    "\n",
    "sns.histplot(ax=axes[0], data=data, x='calls_duration_month', hue='tariff', bins=10, element='step')\n",
    "axes[0].set_title('Гистограмма')\n",
    "\n",
    "sns.boxplot(ax=axes[1], data=data, x='tariff', y='calls_duration_month')\n",
    "axes[1].set_title('Диаграмма размаха')\n",
    "\n",
    "plt.show()"
   ]
  },
  {
   "cell_type": "markdown",
   "id": "cf0cc5f1",
   "metadata": {},
   "source": [
    "- В среднем на тарифе \"Смарт\" пользователи разговаривают 418 минут в месяц - то есть пользователи близки к тарифному лимиту в 500 минут. Также на гистограмме мы видим, что есть пользователи, которые превышают лимит. Большинство абонентов укладывается в 608 минут.\n",
    "- На тарифе \"Ультра\" в среднем пользователи тратят 527 минут в месяц. Большинству абонентов требуется не более 845 минут. Лимит на данном тарифе 3000 минут, то есть у пользователей остается много неизрасходованных минут."
   ]
  },
  {
   "cell_type": "markdown",
   "id": "4eff9046",
   "metadata": {},
   "source": [
    "### Количество сообщений, которое требуется пользователям каждого тарифа в месяц\n",
    "Посчитаем среднее количество, дисперсию и стандартное отклонение количества сообщений пользователей тарифов \"Смарт и \"Ультра\" в месяц."
   ]
  },
  {
   "cell_type": "code",
   "execution_count": 52,
   "id": "ecefb753",
   "metadata": {},
   "outputs": [
    {
     "data": {
      "text/html": [
       "<style type=\"text/css\">\n",
       "</style>\n",
       "<table id=\"T_6128d\">\n",
       "  <thead>\n",
       "    <tr>\n",
       "      <th class=\"blank level0\" >&nbsp;</th>\n",
       "      <th id=\"T_6128d_level0_col0\" class=\"col_heading level0 col0\" colspan=\"3\">messages_count_month</th>\n",
       "    </tr>\n",
       "    <tr>\n",
       "      <th class=\"blank level1\" >&nbsp;</th>\n",
       "      <th id=\"T_6128d_level1_col0\" class=\"col_heading level1 col0\" >mean</th>\n",
       "      <th id=\"T_6128d_level1_col1\" class=\"col_heading level1 col1\" >var</th>\n",
       "      <th id=\"T_6128d_level1_col2\" class=\"col_heading level1 col2\" >std</th>\n",
       "    </tr>\n",
       "    <tr>\n",
       "      <th class=\"index_name level0\" >tariff</th>\n",
       "      <th class=\"blank col0\" >&nbsp;</th>\n",
       "      <th class=\"blank col1\" >&nbsp;</th>\n",
       "      <th class=\"blank col2\" >&nbsp;</th>\n",
       "    </tr>\n",
       "  </thead>\n",
       "  <tbody>\n",
       "    <tr>\n",
       "      <th id=\"T_6128d_level0_row0\" class=\"row_heading level0 row0\" >smart</th>\n",
       "      <td id=\"T_6128d_row0_col0\" class=\"data row0 col0\" >33.38</td>\n",
       "      <td id=\"T_6128d_row0_col1\" class=\"data row0 col1\" >796.81</td>\n",
       "      <td id=\"T_6128d_row0_col2\" class=\"data row0 col2\" >28.23</td>\n",
       "    </tr>\n",
       "    <tr>\n",
       "      <th id=\"T_6128d_level0_row1\" class=\"row_heading level0 row1\" >ultra</th>\n",
       "      <td id=\"T_6128d_row1_col0\" class=\"data row1 col0\" >49.36</td>\n",
       "      <td id=\"T_6128d_row1_col1\" class=\"data row1 col1\" >2285.27</td>\n",
       "      <td id=\"T_6128d_row1_col2\" class=\"data row1 col2\" >47.80</td>\n",
       "    </tr>\n",
       "  </tbody>\n",
       "</table>\n"
      ],
      "text/plain": [
       "<pandas.io.formats.style.Styler at 0x7fc3258575b0>"
      ]
     },
     "execution_count": 52,
     "metadata": {},
     "output_type": "execute_result"
    }
   ],
   "source": [
    "data.groupby('tariff')\\\n",
    "  .agg({'messages_count_month':['mean','var','std']})\\\n",
    "  .style.format('{:.2f}')"
   ]
  },
  {
   "cell_type": "markdown",
   "id": "b6634f6c",
   "metadata": {},
   "source": [
    "Построим гистограммы и диаграммы размаха для пользователей тарифов \"Смарт\" и \"Ультра\":"
   ]
  },
  {
   "cell_type": "code",
   "execution_count": 53,
   "id": "5456fe83",
   "metadata": {
    "scrolled": false
   },
   "outputs": [
    {
     "data": {
      "image/png": "[encoded data removed]",
      "text/plain": [
       "<Figure size 1152x360 with 2 Axes>"
      ]
     },
     "metadata": {},
     "output_type": "display_data"
    }
   ],
   "source": [
    "fig, axes = plt.subplots(1, 2, figsize=(16, 5))\n",
    "fig.suptitle('Количество сообщений в месяц')\n",
    "\n",
    "sns.histplot(ax=axes[0], data=data, x='messages_count_month', bins=10, hue='tariff', element='step')\n",
    "axes[0].set_title('Гистограмма')\n",
    "\n",
    "sns.boxplot(ax=axes[1], data=data, x='tariff', y='messages_count_month')\n",
    "axes[1].set_title('Диаграмма размаха')\n",
    "\n",
    "plt.show()"
   ]
  },
  {
   "cell_type": "markdown",
   "id": "4ef638ba",
   "metadata": {},
   "source": [
    "- Среднее количество сообщений на тарифе \"Смарт\" в месяц - 33 сообщения. Но встречаются пользователи, которые не укладываются в лимит 50 сообщений. Практически все пользователи отправляют не более 61 сообщения в месяц;\n",
    "- На тарифе \"Ультра\" в среднем абоненты отправляют 49 сообщений в месяц. Основная масса пользователей отправляет не более 97 сообщений. Так как лимит на данном тарифе 1000 сообщений - мы снова видим, что у пользователей есть большой запас."
   ]
  },
  {
   "cell_type": "markdown",
   "id": "f5d9f55d",
   "metadata": {},
   "source": [
    "### Объем интернет-трафика, который требуется пользователям каждого тарифа в месяц\n",
    "\n",
    "На тарифе \"Смарт\" лимит равен 15 Гб (15360 Мб), на тарифе \"Ультра\" - 30 Гб (30720 Мб). Посчитаем среднее количество, дисперсию и стандартное отклонение интернет-трафика пользователей каждого тарифа в месяц."
   ]
  },
  {
   "cell_type": "code",
   "execution_count": 54,
   "id": "683575c4",
   "metadata": {},
   "outputs": [
    {
     "data": {
      "text/html": [
       "<style type=\"text/css\">\n",
       "</style>\n",
       "<table id=\"T_aab32\">\n",
       "  <thead>\n",
       "    <tr>\n",
       "      <th class=\"blank level0\" >&nbsp;</th>\n",
       "      <th id=\"T_aab32_level0_col0\" class=\"col_heading level0 col0\" colspan=\"3\">mb_used_month</th>\n",
       "    </tr>\n",
       "    <tr>\n",
       "      <th class=\"blank level1\" >&nbsp;</th>\n",
       "      <th id=\"T_aab32_level1_col0\" class=\"col_heading level1 col0\" >mean</th>\n",
       "      <th id=\"T_aab32_level1_col1\" class=\"col_heading level1 col1\" >var</th>\n",
       "      <th id=\"T_aab32_level1_col2\" class=\"col_heading level1 col2\" >std</th>\n",
       "    </tr>\n",
       "    <tr>\n",
       "      <th class=\"index_name level0\" >tariff</th>\n",
       "      <th class=\"blank col0\" >&nbsp;</th>\n",
       "      <th class=\"blank col1\" >&nbsp;</th>\n",
       "      <th class=\"blank col2\" >&nbsp;</th>\n",
       "    </tr>\n",
       "  </thead>\n",
       "  <tbody>\n",
       "    <tr>\n",
       "      <th id=\"T_aab32_level0_row0\" class=\"row_heading level0 row0\" >smart</th>\n",
       "      <td id=\"T_aab32_row0_col0\" class=\"data row0 col0\" >16208.39</td>\n",
       "      <td id=\"T_aab32_row0_col1\" class=\"data row0 col1\" >34462496.46</td>\n",
       "      <td id=\"T_aab32_row0_col2\" class=\"data row0 col2\" >5870.48</td>\n",
       "    </tr>\n",
       "    <tr>\n",
       "      <th id=\"T_aab32_level0_row1\" class=\"row_heading level0 row1\" >ultra</th>\n",
       "      <td id=\"T_aab32_row1_col0\" class=\"data row1 col0\" >19468.81</td>\n",
       "      <td id=\"T_aab32_row1_col1\" class=\"data row1 col1\" >101751013.78</td>\n",
       "      <td id=\"T_aab32_row1_col2\" class=\"data row1 col2\" >10087.17</td>\n",
       "    </tr>\n",
       "  </tbody>\n",
       "</table>\n"
      ],
      "text/plain": [
       "<pandas.io.formats.style.Styler at 0x7fc325833940>"
      ]
     },
     "execution_count": 54,
     "metadata": {},
     "output_type": "execute_result"
    }
   ],
   "source": [
    "data.groupby('tariff')\\\n",
    "  .agg({'mb_used_month':['mean','var','std']})\\\n",
    "  .style.format('{:.2f}')"
   ]
  },
  {
   "cell_type": "markdown",
   "id": "b88c31e1",
   "metadata": {},
   "source": [
    "Построим гистограммы и диаграммы размаха для пользователей тарифов \"Смарт\" и \"Ультра\":"
   ]
  },
  {
   "cell_type": "code",
   "execution_count": 55,
   "id": "e8fb2d31",
   "metadata": {
    "scrolled": false
   },
   "outputs": [
    {
     "data": {
      "image/png": "[encoded data removed]",
      "text/plain": [
       "<Figure size 1152x360 with 2 Axes>"
      ]
     },
     "metadata": {},
     "output_type": "display_data"
    }
   ],
   "source": [
    "fig, axes = plt.subplots(1, 2, figsize=(16, 5))\n",
    "fig.suptitle('Объем интернет-трафика в месяц')\n",
    "\n",
    "sns.histplot(ax=axes[0], data=data, bins=10, x='mb_used_month', hue='tariff', element='step')\n",
    "axes[0].set_title('Гистограмма')\n",
    "\n",
    "sns.boxplot(ax=axes[1], data=data, x='tariff', y='mb_used_month')\n",
    "axes[1].set_title('Диаграмма размаха')\n",
    "\n",
    "plt.show()"
   ]
  },
  {
   "cell_type": "markdown",
   "id": "c1164824",
   "metadata": {},
   "source": [
    "- Средний объем интернет-трафика на тарифе \"Смарт\" в месяц - около 16 Гб. Большая часть значений находится в пределах 22 Гб. Соответственно, многие пользователи превышают лимит в 15 Гб;\n",
    "- На тарифе \"Ультра\" средний объем интернет-трафика - около 19 Гб. Основная масса значений находится в пределах 29 Гб, что укладывается в лимит 30 Гб. Однако, на гграфиках мы видим нечастые случаи превышения тарифного лимита."
   ]
  },
  {
   "cell_type": "markdown",
   "id": "f2b0ce6a",
   "metadata": {},
   "source": [
    "### Вывод\n",
    "\n",
    "- По количеству минут разговора в месяц многие пользователи тарифа \"Смарт\" близки к тарифному лимиту в 500 минут или даже превышают его. На тарифе \"Ультра\" у пользователей к концу месяца остается очень большой запас неизрасходованных минут из предоставленных 3000 минут;\n",
    "\n",
    "- Пользователи обоих тарифов достаточно редко пользуются смс-сообщениями. Но снова разница в том, что на тарифе \"Смарт\" встречается превышения лимита (50 сообщений), а на тарифе \"Ультра\" с лимитом в 1000 собщений у пользователей сохраняется большой запас;\n",
    "\n",
    "- На тарифе \"Смарт\" многие пользователи превышают пакетный лимит объема интернет-трафика в 15 Гб. На тарифе \"Ультра\" , в основном, клиенты укладываются в лимит 30 Гб., но есть нечастые случаи превышения тарифного лимита.\n",
    "\n",
    "- В целом мы видим, что поведение клиентов двух тарифных планов достаточно отличается, а также у клиентов тарифа \"Смарт\" достаточно много различий внутри своей выборки, в то время как поведение клиентов тарифа \"Ультра\" более схоже."
   ]
  },
  {
   "cell_type": "markdown",
   "id": "b931afe7",
   "metadata": {},
   "source": [
    "## Проверка гипотез"
   ]
  },
  {
   "cell_type": "code",
   "execution_count": 56,
   "id": "26a8b0f5",
   "metadata": {},
   "outputs": [
    {
     "data": {
      "text/plain": [
       "smart    2229\n",
       "ultra     985\n",
       "Name: tariff, dtype: int64"
      ]
     },
     "execution_count": 56,
     "metadata": {},
     "output_type": "execute_result"
    }
   ],
   "source": [
    "data['tariff'].value_counts()"
   ]
  },
  {
   "cell_type": "markdown",
   "id": "41aff978",
   "metadata": {},
   "source": [
    "### Гипотеза 1: Средняя выручка с пользователей тарифов «Ультра» и «Смарт» различаются\n",
    "\n",
    "Сформулируем нулевую гипотезу H0 и альтернативную гипотезу H1. H0 всегда формулируется так, чтобы использовать знак равенства, а альтернативная гипотеза H₁ - это утверждение, которое принимается верным, если отбрасывается H0. В нашем случае Н1 будет двусторонней - различаться средняя выручка может как в большую, так и в меньшую сторону. \n",
    "- Н0: \"Средняя выручка с пользователей тарифов «Ультра» и «Смарт» равны\"\n",
    "- Н1: \"Средняя выручка с пользователей тарифов «Ультра» и «Смарт» не равны\""
   ]
  },
  {
   "cell_type": "markdown",
   "id": "387bdddd",
   "metadata": {},
   "source": [
    "Напишем функцию для удаления выбросов, используя метод трех сигм:"
   ]
  },
  {
   "cell_type": "code",
   "execution_count": 57,
   "id": "7e0227b2",
   "metadata": {},
   "outputs": [],
   "source": [
    "def remove_outliers(df_in, col_name):\n",
    "    mean = df_in[col_name].mean()\n",
    "    std = df_in[col_name].std()\n",
    "    df_out = df_in.loc[(df_in[col_name] >= mean - (3 * std)) & (df_in[col_name] <= mean + (3 * std))]\n",
    "    return df_out"
   ]
  },
  {
   "cell_type": "markdown",
   "id": "9fe0e0a2",
   "metadata": {},
   "source": [
    "Объявим переменную `data_smart`, поместим в нее пользователей с тарифом \"Смарт\" и избавимся от выбросов в столбце\n",
    "с помесячной выручкой с каждого пользователя:"
   ]
  },
  {
   "cell_type": "code",
   "execution_count": 58,
   "id": "20aa6002",
   "metadata": {},
   "outputs": [],
   "source": [
    "data_smart = data[data['tariff'] == 'smart']\n",
    "data_smart = remove_outliers(data_smart, 'total_paid')"
   ]
  },
  {
   "cell_type": "markdown",
   "id": "038e6d43",
   "metadata": {},
   "source": [
    "Также объявим переменную `data_ultra`, поместим в нее пользователей с тарифом \"Ультра\" и избавимся от выбросов в столбце с помесячной выручкой с каждого пользователя:"
   ]
  },
  {
   "cell_type": "code",
   "execution_count": 59,
   "id": "8ce0926c",
   "metadata": {},
   "outputs": [],
   "source": [
    "data_ultra = data[data['tariff'] == 'ultra']\n",
    "data_ultra = remove_outliers(data_ultra, 'total_paid')"
   ]
  },
  {
   "cell_type": "markdown",
   "id": "0e0d8ec8",
   "metadata": {},
   "source": [
    "Посмотрим на размеры выборок:"
   ]
  },
  {
   "cell_type": "code",
   "execution_count": 60,
   "id": "efdb1387",
   "metadata": {},
   "outputs": [
    {
     "data": {
      "text/plain": [
       "2202"
      ]
     },
     "execution_count": 60,
     "metadata": {},
     "output_type": "execute_result"
    }
   ],
   "source": [
    "len(data_smart)"
   ]
  },
  {
   "cell_type": "code",
   "execution_count": 61,
   "id": "d2e84c3c",
   "metadata": {
    "scrolled": true
   },
   "outputs": [
    {
     "data": {
      "text/plain": [
       "951"
      ]
     },
     "execution_count": 61,
     "metadata": {},
     "output_type": "execute_result"
    }
   ],
   "source": [
    "len(data_ultra)"
   ]
  },
  {
   "cell_type": "markdown",
   "id": "b157d01e",
   "metadata": {},
   "source": [
    "Размер выборки с пользователями тарифом \"Смарт\" более, чем в 2 раза больше выборки с пользователями тарифом \"Ультра\".\n",
    "\n",
    "Для обоих тарифов посчитаем среднее количество, дисперсию и стандартное отклонение помесячной выручки с кажого пользователя и построим гистограммы и диаграммы размаха:"
   ]
  },
  {
   "cell_type": "code",
   "execution_count": 62,
   "id": "b7c36efc",
   "metadata": {},
   "outputs": [
    {
     "data": {
      "text/html": [
       "<style type=\"text/css\">\n",
       "</style>\n",
       "<table id=\"T_6e2ba\">\n",
       "  <thead>\n",
       "    <tr>\n",
       "      <th class=\"blank level0\" >&nbsp;</th>\n",
       "      <th id=\"T_6e2ba_level0_col0\" class=\"col_heading level0 col0\" >total_paid</th>\n",
       "    </tr>\n",
       "  </thead>\n",
       "  <tbody>\n",
       "    <tr>\n",
       "      <th id=\"T_6e2ba_level0_row0\" class=\"row_heading level0 row0\" >mean</th>\n",
       "      <td id=\"T_6e2ba_row0_col0\" class=\"data row0 col0\" >1250.49</td>\n",
       "    </tr>\n",
       "    <tr>\n",
       "      <th id=\"T_6e2ba_level0_row1\" class=\"row_heading level0 row1\" >var</th>\n",
       "      <td id=\"T_6e2ba_row1_col0\" class=\"data row1 col0\" >542203.30</td>\n",
       "    </tr>\n",
       "    <tr>\n",
       "      <th id=\"T_6e2ba_level0_row2\" class=\"row_heading level0 row2\" >std</th>\n",
       "      <td id=\"T_6e2ba_row2_col0\" class=\"data row2 col0\" >736.34</td>\n",
       "    </tr>\n",
       "  </tbody>\n",
       "</table>\n"
      ],
      "text/plain": [
       "<pandas.io.formats.style.Styler at 0x7fc328560a00>"
      ]
     },
     "execution_count": 62,
     "metadata": {},
     "output_type": "execute_result"
    }
   ],
   "source": [
    "data_smart.agg({'total_paid':['mean','var','std']}).style.format('{:.2f}')"
   ]
  },
  {
   "cell_type": "code",
   "execution_count": 63,
   "id": "963953bb",
   "metadata": {
    "scrolled": false
   },
   "outputs": [
    {
     "data": {
      "text/html": [
       "<style type=\"text/css\">\n",
       "</style>\n",
       "<table id=\"T_298ee\">\n",
       "  <thead>\n",
       "    <tr>\n",
       "      <th class=\"blank level0\" >&nbsp;</th>\n",
       "      <th id=\"T_298ee_level0_col0\" class=\"col_heading level0 col0\" >total_paid</th>\n",
       "    </tr>\n",
       "  </thead>\n",
       "  <tbody>\n",
       "    <tr>\n",
       "      <th id=\"T_298ee_level0_row0\" class=\"row_heading level0 row0\" >mean</th>\n",
       "      <td id=\"T_298ee_row0_col0\" class=\"data row0 col0\" >2012.15</td>\n",
       "    </tr>\n",
       "    <tr>\n",
       "      <th id=\"T_298ee_level0_row1\" class=\"row_heading level0 row1\" >var</th>\n",
       "      <td id=\"T_298ee_row1_col0\" class=\"data row1 col0\" >44307.60</td>\n",
       "    </tr>\n",
       "    <tr>\n",
       "      <th id=\"T_298ee_level0_row2\" class=\"row_heading level0 row2\" >std</th>\n",
       "      <td id=\"T_298ee_row2_col0\" class=\"data row2 col0\" >210.49</td>\n",
       "    </tr>\n",
       "  </tbody>\n",
       "</table>\n"
      ],
      "text/plain": [
       "<pandas.io.formats.style.Styler at 0x7fc32828c070>"
      ]
     },
     "execution_count": 63,
     "metadata": {},
     "output_type": "execute_result"
    }
   ],
   "source": [
    "data_ultra.agg({'total_paid':['mean','var','std']}).style.format('{:.2f}')"
   ]
  },
  {
   "cell_type": "code",
   "execution_count": 64,
   "id": "b7570652",
   "metadata": {
    "scrolled": false
   },
   "outputs": [
    {
     "data": {
      "image/png": "[encoded data removed]",
      "text/plain": [
       "<Figure size 1152x360 with 2 Axes>"
      ]
     },
     "metadata": {},
     "output_type": "display_data"
    }
   ],
   "source": [
    "fig, axes = plt.subplots(1, 2, figsize=(16, 5))\n",
    "fig.suptitle('Средняя выручка с пользователей тарифов')\n",
    "\n",
    "sns.histplot(ax=axes[0], element='step', bins=10,  alpha=0.3, \n",
    "                                         data=pd.DataFrame({'smart': data_smart['total_paid'], \n",
    "                                                            'ultra': data_ultra['total_paid']}))\n",
    "axes[0].set_title('Гистограмма')\n",
    "\n",
    "sns.boxplot(ax=axes[1], data=pd.DataFrame({'smart': data_smart['total_paid'],\n",
    "                                           'ultra': data_ultra['total_paid']}))\n",
    "axes[1].set_title('Диаграмма размаха')\n",
    "\n",
    "plt.show()"
   ]
  },
  {
   "cell_type": "markdown",
   "id": "17fe6ac7",
   "metadata": {},
   "source": [
    "Среднее помесячной выручки с каждого пользователя на тарифе \"Смарт - 1250 руб\", на тарифе \"Ультра\" ощутимо выше - 2021 руб. Пользователи тарифа \"Смарт\" в наших выборках часто доплачивают за услуги сверх включенного пакета, абоненты тарифа \"Ультра\" укладываются в лимит. Дисперсии наших выборок также сильно отличаются - 542203 у \"Смарта\" и 44307 у \"Ультры\", то есть абоненты \"Смарта\" сильнее отличаются друг от друга при использовании тарифного плана, в то время как поведение между собой клиентов \"Ультры\" более схоже, что хорошо видно и на графиках.\n",
    "\n",
    "Проведем тест Левене, который проверяет нулевую гипотезу о том, что дисперсии генеральных совокупностей наших выборок равны:"
   ]
  },
  {
   "cell_type": "code",
   "execution_count": 65,
   "id": "3320ba62",
   "metadata": {},
   "outputs": [
    {
     "name": "stdout",
     "output_type": "stream",
     "text": [
      "p-value: 3.0523689915787166e-185\n",
      "Отклонить гипотезу о равенстве дисперсий\n"
     ]
    }
   ],
   "source": [
    "# критический уровень статистической значимости\n",
    "alpha = .05\n",
    "\n",
    "stat, p = levene(data_smart['total_paid'], data_ultra['total_paid'], center='median')\n",
    "\n",
    "print('p-value:', p)\n",
    "\n",
    "if p < alpha:\n",
    "    print('Отклонить гипотезу о равенстве дисперсий')\n",
    "else:\n",
    "    print('Принять гипотезу о равенстве дисперсий')"
   ]
  },
  {
   "cell_type": "markdown",
   "id": "58547b75",
   "metadata": {},
   "source": [
    "Для проверки гипотез мы будем использовать `t-тест`, так как наши генеральные совокупности не зависят друг от друга и размеры выборок достаточно большие. Однако, тест Левене отклонил гипотезу о том, что дисперсии генеральных совокупностей равны.  Также размеры наших выборок не равны между собой и поведение клиентов тарифов в наших выборках имеет много различий, поэтому укажем параметр `equal_val=False`."
   ]
  },
  {
   "cell_type": "code",
   "execution_count": 66,
   "id": "90c9cbbb",
   "metadata": {},
   "outputs": [
    {
     "name": "stdout",
     "output_type": "stream",
     "text": [
      "p-value: 0.0\n",
      "Отвергаем нулевую гипотезу\n"
     ]
    }
   ],
   "source": [
    "alpha = .05\n",
    "\n",
    "# проверка гипотезы о равенстве средних двух независимых совокупностей\n",
    "results = st.ttest_ind(\n",
    "    data_smart['total_paid'], \n",
    "    data_ultra['total_paid'],\n",
    "    equal_var = False\n",
    "    )\n",
    "\n",
    "# вывод на экран получившегося p-значения\n",
    "print('p-value:', results.pvalue)\n",
    "\n",
    "# сравниваем получившееся p-значение с заданным уровнем статистической значимости\n",
    "if results.pvalue < alpha:\n",
    "    print(\"Отвергаем нулевую гипотезу\")\n",
    "else:\n",
    "    print(\"Не получилось отвергнуть нулевую гипотезу\")"
   ]
  },
  {
   "cell_type": "markdown",
   "id": "317ec9b7",
   "metadata": {},
   "source": [
    "Вероятность получить данные, соответсвующие нулевой гипотезе очень низка, поэтому Н0 отвергается. Это значит, что принимается альтернативная гипотеза \"Средняя выручка с пользователей тарифов «Ультра» и «Смарт» не равны\". \n",
    "\n",
    "Это неудивительно, так как мы видели, что между двумя выборками достаточно много различий, и, кроме того, поведение клиентов на тарифе \"Смарт\" сильно отличается внутри выборки."
   ]
  },
  {
   "cell_type": "markdown",
   "id": "7903dafc",
   "metadata": {},
   "source": [
    "### Гипотеза 2: Cредняя выручка пользователей из Москвы отличается от выручки пользователей из других регионов\n",
    "\n",
    "Сформулируем нулевую гипотезу H0 и альтернативную гипотезу H1. Здесь Н1 также будет двусторонней.\n",
    "- Н0: \"Cредняя выручка пользователей из Москвы равна выручке пользователей из других регионов\"\n",
    "- Н1: \"Cредняя выручка пользователей из Москвы не равна выручке пользователей из других регионов\""
   ]
  },
  {
   "cell_type": "code",
   "execution_count": 67,
   "id": "56c78b7d",
   "metadata": {
    "scrolled": true
   },
   "outputs": [
    {
     "data": {
      "text/html": [
       "<div>\n",
       "<style scoped>\n",
       "    .dataframe tbody tr th:only-of-type {\n",
       "        vertical-align: middle;\n",
       "    }\n",
       "\n",
       "    .dataframe tbody tr th {\n",
       "        vertical-align: top;\n",
       "    }\n",
       "\n",
       "    .dataframe thead th {\n",
       "        text-align: right;\n",
       "    }\n",
       "</style>\n",
       "<table border=\"1\" class=\"dataframe\">\n",
       "  <thead>\n",
       "    <tr style=\"text-align: right;\">\n",
       "      <th></th>\n",
       "      <th>user_id</th>\n",
       "      <th>month</th>\n",
       "      <th>calls_duration_month</th>\n",
       "      <th>calls_count_month</th>\n",
       "      <th>messages_count_month</th>\n",
       "      <th>mb_used_month</th>\n",
       "      <th>age</th>\n",
       "      <th>churn_date</th>\n",
       "      <th>city</th>\n",
       "      <th>first_name</th>\n",
       "      <th>last_name</th>\n",
       "      <th>reg_date</th>\n",
       "      <th>tariff</th>\n",
       "      <th>messages_included</th>\n",
       "      <th>mb_per_month_included</th>\n",
       "      <th>minutes_included</th>\n",
       "      <th>rub_monthly_fee</th>\n",
       "      <th>rub_per_gb</th>\n",
       "      <th>rub_per_message</th>\n",
       "      <th>rub_per_minute</th>\n",
       "      <th>extra_paid</th>\n",
       "      <th>total_paid</th>\n",
       "    </tr>\n",
       "  </thead>\n",
       "  <tbody>\n",
       "    <tr>\n",
       "      <th>0</th>\n",
       "      <td>1000</td>\n",
       "      <td>2018-05-01</td>\n",
       "      <td>159.0</td>\n",
       "      <td>22.0</td>\n",
       "      <td>22.0</td>\n",
       "      <td>2253.49</td>\n",
       "      <td>52</td>\n",
       "      <td>NaT</td>\n",
       "      <td>Краснодар</td>\n",
       "      <td>Рафаил</td>\n",
       "      <td>Верещагин</td>\n",
       "      <td>2018-05-25</td>\n",
       "      <td>ultra</td>\n",
       "      <td>1000</td>\n",
       "      <td>30720</td>\n",
       "      <td>3000</td>\n",
       "      <td>1950</td>\n",
       "      <td>150</td>\n",
       "      <td>1</td>\n",
       "      <td>1</td>\n",
       "      <td>0.0</td>\n",
       "      <td>1950.0</td>\n",
       "    </tr>\n",
       "    <tr>\n",
       "      <th>1</th>\n",
       "      <td>1000</td>\n",
       "      <td>2018-06-01</td>\n",
       "      <td>172.0</td>\n",
       "      <td>43.0</td>\n",
       "      <td>60.0</td>\n",
       "      <td>23233.77</td>\n",
       "      <td>52</td>\n",
       "      <td>NaT</td>\n",
       "      <td>Краснодар</td>\n",
       "      <td>Рафаил</td>\n",
       "      <td>Верещагин</td>\n",
       "      <td>2018-05-25</td>\n",
       "      <td>ultra</td>\n",
       "      <td>1000</td>\n",
       "      <td>30720</td>\n",
       "      <td>3000</td>\n",
       "      <td>1950</td>\n",
       "      <td>150</td>\n",
       "      <td>1</td>\n",
       "      <td>1</td>\n",
       "      <td>0.0</td>\n",
       "      <td>1950.0</td>\n",
       "    </tr>\n",
       "    <tr>\n",
       "      <th>2</th>\n",
       "      <td>1000</td>\n",
       "      <td>2018-07-01</td>\n",
       "      <td>340.0</td>\n",
       "      <td>47.0</td>\n",
       "      <td>75.0</td>\n",
       "      <td>14003.64</td>\n",
       "      <td>52</td>\n",
       "      <td>NaT</td>\n",
       "      <td>Краснодар</td>\n",
       "      <td>Рафаил</td>\n",
       "      <td>Верещагин</td>\n",
       "      <td>2018-05-25</td>\n",
       "      <td>ultra</td>\n",
       "      <td>1000</td>\n",
       "      <td>30720</td>\n",
       "      <td>3000</td>\n",
       "      <td>1950</td>\n",
       "      <td>150</td>\n",
       "      <td>1</td>\n",
       "      <td>1</td>\n",
       "      <td>0.0</td>\n",
       "      <td>1950.0</td>\n",
       "    </tr>\n",
       "    <tr>\n",
       "      <th>3</th>\n",
       "      <td>1000</td>\n",
       "      <td>2018-08-01</td>\n",
       "      <td>408.0</td>\n",
       "      <td>52.0</td>\n",
       "      <td>81.0</td>\n",
       "      <td>14055.93</td>\n",
       "      <td>52</td>\n",
       "      <td>NaT</td>\n",
       "      <td>Краснодар</td>\n",
       "      <td>Рафаил</td>\n",
       "      <td>Верещагин</td>\n",
       "      <td>2018-05-25</td>\n",
       "      <td>ultra</td>\n",
       "      <td>1000</td>\n",
       "      <td>30720</td>\n",
       "      <td>3000</td>\n",
       "      <td>1950</td>\n",
       "      <td>150</td>\n",
       "      <td>1</td>\n",
       "      <td>1</td>\n",
       "      <td>0.0</td>\n",
       "      <td>1950.0</td>\n",
       "    </tr>\n",
       "    <tr>\n",
       "      <th>4</th>\n",
       "      <td>1000</td>\n",
       "      <td>2018-09-01</td>\n",
       "      <td>466.0</td>\n",
       "      <td>58.0</td>\n",
       "      <td>57.0</td>\n",
       "      <td>14568.91</td>\n",
       "      <td>52</td>\n",
       "      <td>NaT</td>\n",
       "      <td>Краснодар</td>\n",
       "      <td>Рафаил</td>\n",
       "      <td>Верещагин</td>\n",
       "      <td>2018-05-25</td>\n",
       "      <td>ultra</td>\n",
       "      <td>1000</td>\n",
       "      <td>30720</td>\n",
       "      <td>3000</td>\n",
       "      <td>1950</td>\n",
       "      <td>150</td>\n",
       "      <td>1</td>\n",
       "      <td>1</td>\n",
       "      <td>0.0</td>\n",
       "      <td>1950.0</td>\n",
       "    </tr>\n",
       "  </tbody>\n",
       "</table>\n",
       "</div>"
      ],
      "text/plain": [
       "   user_id      month  calls_duration_month  calls_count_month  \\\n",
       "0     1000 2018-05-01                 159.0               22.0   \n",
       "1     1000 2018-06-01                 172.0               43.0   \n",
       "2     1000 2018-07-01                 340.0               47.0   \n",
       "3     1000 2018-08-01                 408.0               52.0   \n",
       "4     1000 2018-09-01                 466.0               58.0   \n",
       "\n",
       "   messages_count_month  mb_used_month  age churn_date       city first_name  \\\n",
       "0                  22.0        2253.49   52        NaT  Краснодар     Рафаил   \n",
       "1                  60.0       23233.77   52        NaT  Краснодар     Рафаил   \n",
       "2                  75.0       14003.64   52        NaT  Краснодар     Рафаил   \n",
       "3                  81.0       14055.93   52        NaT  Краснодар     Рафаил   \n",
       "4                  57.0       14568.91   52        NaT  Краснодар     Рафаил   \n",
       "\n",
       "   last_name   reg_date tariff  messages_included  mb_per_month_included  \\\n",
       "0  Верещагин 2018-05-25  ultra               1000                  30720   \n",
       "1  Верещагин 2018-05-25  ultra               1000                  30720   \n",
       "2  Верещагин 2018-05-25  ultra               1000                  30720   \n",
       "3  Верещагин 2018-05-25  ultra               1000                  30720   \n",
       "4  Верещагин 2018-05-25  ultra               1000                  30720   \n",
       "\n",
       "   minutes_included  rub_monthly_fee  rub_per_gb  rub_per_message  \\\n",
       "0              3000             1950         150                1   \n",
       "1              3000             1950         150                1   \n",
       "2              3000             1950         150                1   \n",
       "3              3000             1950         150                1   \n",
       "4              3000             1950         150                1   \n",
       "\n",
       "   rub_per_minute  extra_paid  total_paid  \n",
       "0               1         0.0      1950.0  \n",
       "1               1         0.0      1950.0  \n",
       "2               1         0.0      1950.0  \n",
       "3               1         0.0      1950.0  \n",
       "4               1         0.0      1950.0  "
      ]
     },
     "execution_count": 67,
     "metadata": {},
     "output_type": "execute_result"
    }
   ],
   "source": [
    "data.head()"
   ]
  },
  {
   "cell_type": "markdown",
   "id": "6451d938",
   "metadata": {},
   "source": [
    "Создадим датафрейм `data_moscow` с пользователями из Москвы и датафрейм `data_regions` с пользователями из других регионов:"
   ]
  },
  {
   "cell_type": "code",
   "execution_count": 68,
   "id": "f45045a4",
   "metadata": {},
   "outputs": [],
   "source": [
    "data_moscow = data[data['city'] == 'Москва']"
   ]
  },
  {
   "cell_type": "code",
   "execution_count": 69,
   "id": "25fbe557",
   "metadata": {},
   "outputs": [],
   "source": [
    "data_regions= data[data['city'] != 'Москва']"
   ]
  },
  {
   "cell_type": "markdown",
   "id": "00129094",
   "metadata": {},
   "source": [
    "Избавимся от выбросов в обоих датафреймах:"
   ]
  },
  {
   "cell_type": "code",
   "execution_count": 70,
   "id": "096c7012",
   "metadata": {},
   "outputs": [],
   "source": [
    "data_moscow = remove_outliers(data_moscow, 'total_paid')"
   ]
  },
  {
   "cell_type": "code",
   "execution_count": 71,
   "id": "e75f9043",
   "metadata": {},
   "outputs": [],
   "source": [
    "data_regions = remove_outliers(data_regions, 'total_paid')"
   ]
  },
  {
   "cell_type": "markdown",
   "id": "c79bb04c",
   "metadata": {},
   "source": [
    "Посмотрим на размеры выборок:"
   ]
  },
  {
   "cell_type": "code",
   "execution_count": 72,
   "id": "bffa3d05",
   "metadata": {},
   "outputs": [
    {
     "data": {
      "text/plain": [
       "607"
      ]
     },
     "execution_count": 72,
     "metadata": {},
     "output_type": "execute_result"
    }
   ],
   "source": [
    "len(data_moscow)"
   ]
  },
  {
   "cell_type": "code",
   "execution_count": 73,
   "id": "bb2726ea",
   "metadata": {},
   "outputs": [
    {
     "data": {
      "text/plain": [
       "2583"
      ]
     },
     "execution_count": 73,
     "metadata": {},
     "output_type": "execute_result"
    }
   ],
   "source": [
    "len(data_regions)"
   ]
  },
  {
   "cell_type": "markdown",
   "id": "2f9cd14a",
   "metadata": {},
   "source": [
    "Размер выборки с пользователями из других регионов гораздо больше (в 4 раза), чем выборки с пользователями из Москвы.\n",
    "\n",
    "Для обоих выборок посчитаем среднее количество, дисперсию и стандартное отклонение помесячной выручки с кажого пользователя, построим гистограммы и диаграммы размаха:"
   ]
  },
  {
   "cell_type": "code",
   "execution_count": 74,
   "id": "0696684c",
   "metadata": {},
   "outputs": [
    {
     "data": {
      "text/html": [
       "<style type=\"text/css\">\n",
       "</style>\n",
       "<table id=\"T_87fab\">\n",
       "  <thead>\n",
       "    <tr>\n",
       "      <th class=\"blank level0\" >&nbsp;</th>\n",
       "      <th id=\"T_87fab_level0_col0\" class=\"col_heading level0 col0\" >total_paid</th>\n",
       "    </tr>\n",
       "  </thead>\n",
       "  <tbody>\n",
       "    <tr>\n",
       "      <th id=\"T_87fab_level0_row0\" class=\"row_heading level0 row0\" >mean</th>\n",
       "      <td id=\"T_87fab_row0_col0\" class=\"data row0 col0\" >1528.26</td>\n",
       "    </tr>\n",
       "    <tr>\n",
       "      <th id=\"T_87fab_level0_row1\" class=\"row_heading level0 row1\" >var</th>\n",
       "      <td id=\"T_87fab_row1_col0\" class=\"data row1 col0\" >515149.69</td>\n",
       "    </tr>\n",
       "    <tr>\n",
       "      <th id=\"T_87fab_level0_row2\" class=\"row_heading level0 row2\" >std</th>\n",
       "      <td id=\"T_87fab_row2_col0\" class=\"data row2 col0\" >717.74</td>\n",
       "    </tr>\n",
       "  </tbody>\n",
       "</table>\n"
      ],
      "text/plain": [
       "<pandas.io.formats.style.Styler at 0x7fc32826d9a0>"
      ]
     },
     "execution_count": 74,
     "metadata": {},
     "output_type": "execute_result"
    }
   ],
   "source": [
    "data_moscow.agg({'total_paid':['mean','var','std']}).style.format('{:.2f}')"
   ]
  },
  {
   "cell_type": "code",
   "execution_count": 75,
   "id": "f46c5361",
   "metadata": {},
   "outputs": [
    {
     "data": {
      "text/html": [
       "<style type=\"text/css\">\n",
       "</style>\n",
       "<table id=\"T_54970\">\n",
       "  <thead>\n",
       "    <tr>\n",
       "      <th class=\"blank level0\" >&nbsp;</th>\n",
       "      <th id=\"T_54970_level0_col0\" class=\"col_heading level0 col0\" >total_paid</th>\n",
       "    </tr>\n",
       "  </thead>\n",
       "  <tbody>\n",
       "    <tr>\n",
       "      <th id=\"T_54970_level0_row0\" class=\"row_heading level0 row0\" >mean</th>\n",
       "      <td id=\"T_54970_row0_col0\" class=\"data row0 col0\" >1499.80</td>\n",
       "    </tr>\n",
       "    <tr>\n",
       "      <th id=\"T_54970_level0_row1\" class=\"row_heading level0 row1\" >var</th>\n",
       "      <td id=\"T_54970_row1_col0\" class=\"data row1 col0\" >573163.88</td>\n",
       "    </tr>\n",
       "    <tr>\n",
       "      <th id=\"T_54970_level0_row2\" class=\"row_heading level0 row2\" >std</th>\n",
       "      <td id=\"T_54970_row2_col0\" class=\"data row2 col0\" >757.08</td>\n",
       "    </tr>\n",
       "  </tbody>\n",
       "</table>\n"
      ],
      "text/plain": [
       "<pandas.io.formats.style.Styler at 0x7fc325818d30>"
      ]
     },
     "execution_count": 75,
     "metadata": {},
     "output_type": "execute_result"
    }
   ],
   "source": [
    "data_regions.agg({'total_paid':['mean','var','std']}).style.format('{:.2f}')"
   ]
  },
  {
   "cell_type": "code",
   "execution_count": 76,
   "id": "c0abac12",
   "metadata": {
    "scrolled": false
   },
   "outputs": [
    {
     "data": {
      "image/png": "[encoded data removed]",
      "text/plain": [
       "<Figure size 1152x360 with 2 Axes>"
      ]
     },
     "metadata": {},
     "output_type": "display_data"
    }
   ],
   "source": [
    "fig, axes = plt.subplots(1, 2, figsize=(16, 5))\n",
    "fig.suptitle('Средняя выручка с пользователей тарифов')\n",
    "\n",
    "sns.histplot(ax=axes[0], element='step', bins=10,  alpha=0.3, \n",
    "                                         data=pd.DataFrame({'Moscow': data_moscow['total_paid'], \n",
    "                                                            'Regions': data_regions['total_paid']}))\n",
    "axes[0].set_title('Гистограмма')\n",
    "\n",
    "sns.boxplot(ax=axes[1], data=pd.DataFrame({'Moscow': data_moscow['total_paid'],\n",
    "                                           'Regions': data_regions['total_paid']}))\n",
    "axes[1].set_title('Диаграмма размаха')\n",
    "\n",
    "plt.show()"
   ]
  },
  {
   "cell_type": "markdown",
   "id": "b2fbf732",
   "metadata": {},
   "source": [
    "Среднее у обоих выборок около 1500 руб., дисперсии также близки - у выборки с пользователями из Москвы дисперсия равна 515150, у других регионов - 573164. На графиках мы видим очень схожее распределение и разброс значений.\n",
    "\n",
    "Проведем тест Левене для сравнения дисперсий генеральных совокупностей:"
   ]
  },
  {
   "cell_type": "code",
   "execution_count": 77,
   "id": "fedfaf1f",
   "metadata": {},
   "outputs": [
    {
     "name": "stdout",
     "output_type": "stream",
     "text": [
      "p-value: 0.015098291616036718\n",
      "Отклонить гипотезу о равенстве дисперсий\n"
     ]
    }
   ],
   "source": [
    "alpha = .05\n",
    "\n",
    "stat, p = levene(data_moscow['total_paid'], data_regions['total_paid'], center='median')\n",
    "\n",
    "print('p-value:', p)\n",
    "\n",
    "if p < alpha:\n",
    "    print('Отклонить гипотезу о равенстве дисперсий')\n",
    "else:\n",
    "    print('Принять гипотезу о равенстве дисперсий')"
   ]
  },
  {
   "cell_type": "markdown",
   "id": "bc431e37",
   "metadata": {},
   "source": [
    "Для проверки гипотез снова обратимся к `t-тесту` (генеральные совокупности не завияст друг от друга и размеры выборок достаточно большие). Судя по графикам, поведение клиентов в Москве и других регионах схоже, однако, тест Левене отклонил гипотезу о равенстве дисперсий генеральных совокупностей, также размер выборок у нас разный, поэтому укажем параметр `equal_val=False`"
   ]
  },
  {
   "cell_type": "code",
   "execution_count": 78,
   "id": "a5a7b337",
   "metadata": {},
   "outputs": [
    {
     "name": "stdout",
     "output_type": "stream",
     "text": [
      "p-value: 0.38451055713279236\n",
      "Не получилось отвергнуть нулевую гипотезу\n"
     ]
    }
   ],
   "source": [
    "alpha = .05\n",
    "\n",
    "# проверка гипотезы о равенстве средних двух независимых совокупностей\n",
    "results = st.ttest_ind(\n",
    "    data_moscow['total_paid'], \n",
    "    data_regions['total_paid'],\n",
    "    equal_var = False)\n",
    "\n",
    "# вывод на экран получившегося p-значения\n",
    "print('p-value:', results.pvalue)\n",
    "\n",
    "# сравниваем получившееся p-значение с заданным уровнем статистической значимости\n",
    "if results.pvalue < alpha:\n",
    "    print(\"Отвергаем нулевую гипотезу\")\n",
    "else:\n",
    "    print(\"Не получилось отвергнуть нулевую гипотезу\")"
   ]
  },
  {
   "cell_type": "markdown",
   "id": "2a57d5d9",
   "metadata": {},
   "source": [
    "При сравнении наших выборок с вероятностью 38% мы можем получить подтверждение нашей нулевой гипотезы Н0 \"Cредняя выручка пользователей из Москвы равна выручке пользователей из других регионов\", а значит, мы отвергаем альтернативную гипотезу Н1 \"Cредняя выручка пользователей из Москвы не равна выручке пользователей из других регионов\"."
   ]
  },
  {
   "cell_type": "markdown",
   "id": "fa9ecb74",
   "metadata": {},
   "source": [
    "### Вывод\n",
    "- Данные не противоречат гипотезе \"Средняя выручка пользователей тарифов «Ультра» и «Смарт» различаются\" - гипотеза принимается;\n",
    "- Гипотеза \"Средняя выручка пользователей из Москвы отличается от выручки пользователей из других регионов\" отвергается."
   ]
  },
  {
   "cell_type": "markdown",
   "id": "9aad4aaa",
   "metadata": {},
   "source": [
    "## Общий вывод"
   ]
  },
  {
   "cell_type": "markdown",
   "id": "59ff6465",
   "metadata": {},
   "source": [
    "**Результат предобработки данных:**\n",
    "\n",
    "- Были обнаружены и исправлены неверные типы данных;\n",
    "- Проведена проверка на пропущенные значения и явные дубликаты (не обнаружены);\n",
    "- Произведены дополнительные расчеты и построены сводные таблицы для дальнейшего использования при анализе данных\n",
    "\n",
    "**Результат анализа данных:**\n",
    "\n",
    "- По количеству минут разговора в месяц многие пользователи тарифа \"Смарт\" близки к тарифному лимиту в 500 минут,  многие превышают его. На тарифе \"Ультра\" у пользователей к концу месяца остается очень большой запас неизрасходованных минут из предоставленных 3000 минут;\n",
    "- Пользователи обоих тарифов достаточно редко пользуются смс-сообщениями. Однако, снова разница в том, что на тарифе \"Смарт\" встречается превышения лимита (50 сообщений), а на тарифе \"Ультра\" с лимитом в 1000 собщений у пользователей сохраняется большой запас;\n",
    "- На тарифе \"Смарт\" многие пользователи превышают пакетный лимит объема интернет-трафика в 15 Гб. На тарифе \"Ультра\" , в основном, клиенты укладываются в лимит 30 Гб., превышение тарифного лимита происходит редко.\n",
    "- Поведение клиентов тарифов \"Смарт\" и \"Ультра\" различается, а также у клиентов тарифа \"Смарт\" достаточно много отличий внутри своей выборки, в то время как поведение клиентов тарифа \"Ультра\" более схоже между собой.\n",
    "\n",
    "**Результат проверки гипотез:**\n",
    "\n",
    "- Гипотеза \"Средняя выручка пользователей тарифов «Ультра» и «Смарт» различаются\" была принята. Результат ожидаемый, так как в ходе анализа мы выявили существенные различия между клиентами двух тарифов;\n",
    "- Гипотеза \"Средняя выручка пользователей из Москвы отличается от выручки пользователей из других регионов\" была отвергнута, что также ожидаемо, потому что при анализе пользователей из Москвы и других регинов особых различимых обнаружено не было.\n",
    "\n",
    "**Рекомендации оператору мобильной связи:**\n",
    "\n",
    "- Обратить внимание на типы данных в столбцах и исправить при необходимости;\n",
    "- Подумать над оптимизацией тарифов - пользователям \"Смарт\" явно недостаточно включенных в тариф услуг, у пользователей тарифа \"Ультра\", наоборот, остается очень много неиспользованных услуг. "
   ]
  }
 ],
 "metadata": {
  "ExecuteTimeLog": [
   {
    "duration": 465,
    "start_time": "2022-05-11T21:19:44.516Z"
   },
   {
    "duration": 43,
    "start_time": "2022-05-11T21:19:44.983Z"
   },
   {
    "duration": 15,
    "start_time": "2022-05-11T21:19:45.029Z"
   },
   {
    "duration": 20,
    "start_time": "2022-05-11T21:19:45.046Z"
   },
   {
    "duration": 181,
    "start_time": "2022-05-11T21:19:45.068Z"
   },
   {
    "duration": 28,
    "start_time": "2022-05-11T21:19:45.251Z"
   },
   {
    "duration": 52,
    "start_time": "2022-05-11T21:19:45.281Z"
   },
   {
    "duration": 102,
    "start_time": "2022-05-11T21:19:45.335Z"
   },
   {
    "duration": 19,
    "start_time": "2022-05-11T21:19:45.439Z"
   },
   {
    "duration": 151,
    "start_time": "2022-05-11T21:19:45.461Z"
   },
   {
    "duration": 29,
    "start_time": "2022-05-11T21:19:45.614Z"
   },
   {
    "duration": 33,
    "start_time": "2022-05-11T21:19:45.645Z"
   },
   {
    "duration": 21,
    "start_time": "2022-05-11T21:19:45.680Z"
   },
   {
    "duration": 34,
    "start_time": "2022-05-11T21:19:45.703Z"
   },
   {
    "duration": 21,
    "start_time": "2022-05-11T21:19:45.739Z"
   },
   {
    "duration": 17,
    "start_time": "2022-05-11T21:19:45.762Z"
   },
   {
    "duration": 79,
    "start_time": "2022-05-11T21:19:45.781Z"
   },
   {
    "duration": 10,
    "start_time": "2022-05-11T21:19:45.862Z"
   },
   {
    "duration": 47,
    "start_time": "2022-05-11T21:19:45.873Z"
   },
   {
    "duration": 18,
    "start_time": "2022-05-11T21:19:45.921Z"
   },
   {
    "duration": 16,
    "start_time": "2022-05-11T21:19:45.940Z"
   },
   {
    "duration": 13,
    "start_time": "2022-05-11T21:19:45.958Z"
   },
   {
    "duration": 21,
    "start_time": "2022-05-11T21:19:45.973Z"
   },
   {
    "duration": 58,
    "start_time": "2022-05-11T21:19:45.996Z"
   },
   {
    "duration": 8,
    "start_time": "2022-05-11T21:19:46.056Z"
   },
   {
    "duration": 17,
    "start_time": "2022-05-11T21:19:46.065Z"
   },
   {
    "duration": 70,
    "start_time": "2022-05-11T21:19:46.083Z"
   },
   {
    "duration": 27,
    "start_time": "2022-05-11T21:19:46.158Z"
   },
   {
    "duration": 27,
    "start_time": "2022-05-11T21:19:46.187Z"
   },
   {
    "duration": 24,
    "start_time": "2022-05-11T21:19:46.234Z"
   },
   {
    "duration": 8,
    "start_time": "2022-05-11T21:19:46.260Z"
   },
   {
    "duration": 69,
    "start_time": "2022-05-11T21:19:46.270Z"
   },
   {
    "duration": 16,
    "start_time": "2022-05-11T21:19:46.340Z"
   },
   {
    "duration": 7,
    "start_time": "2022-05-11T21:19:46.358Z"
   },
   {
    "duration": 44,
    "start_time": "2022-05-11T21:19:46.367Z"
   },
   {
    "duration": 32,
    "start_time": "2022-05-11T21:19:46.413Z"
   },
   {
    "duration": 10,
    "start_time": "2022-05-11T21:19:46.447Z"
   },
   {
    "duration": 36,
    "start_time": "2022-05-11T21:19:46.458Z"
   },
   {
    "duration": 39,
    "start_time": "2022-05-11T21:19:46.495Z"
   },
   {
    "duration": 17,
    "start_time": "2022-05-11T21:19:46.535Z"
   },
   {
    "duration": 21,
    "start_time": "2022-05-11T21:19:46.554Z"
   },
   {
    "duration": 8,
    "start_time": "2022-05-11T21:19:46.576Z"
   },
   {
    "duration": 17,
    "start_time": "2022-05-11T21:19:46.586Z"
   },
   {
    "duration": 48,
    "start_time": "2022-05-11T21:19:46.605Z"
   },
   {
    "duration": 14,
    "start_time": "2022-05-11T21:19:46.654Z"
   },
   {
    "duration": 5,
    "start_time": "2022-05-11T21:19:46.669Z"
   },
   {
    "duration": 17,
    "start_time": "2022-05-11T21:19:46.676Z"
   },
   {
    "duration": 11,
    "start_time": "2022-05-11T21:19:46.694Z"
   },
   {
    "duration": 43,
    "start_time": "2022-05-11T21:19:46.707Z"
   },
   {
    "duration": 7,
    "start_time": "2022-05-11T21:19:46.752Z"
   },
   {
    "duration": 150,
    "start_time": "2022-05-11T21:19:46.761Z"
   },
   {
    "duration": 5,
    "start_time": "2022-05-11T21:19:46.912Z"
   },
   {
    "duration": 33,
    "start_time": "2022-05-11T21:19:46.918Z"
   },
   {
    "duration": 513,
    "start_time": "2022-05-11T21:19:46.952Z"
   },
   {
    "duration": 182,
    "start_time": "2022-05-11T21:19:47.466Z"
   },
   {
    "duration": 178,
    "start_time": "2022-05-11T21:19:47.650Z"
   },
   {
    "duration": 10,
    "start_time": "2022-05-11T21:19:47.833Z"
   },
   {
    "duration": 229,
    "start_time": "2022-05-11T21:19:47.845Z"
   },
   {
    "duration": 163,
    "start_time": "2022-05-11T21:19:48.076Z"
   },
   {
    "duration": 12,
    "start_time": "2022-05-11T21:19:48.241Z"
   },
   {
    "duration": 186,
    "start_time": "2022-05-11T21:19:48.254Z"
   },
   {
    "duration": 160,
    "start_time": "2022-05-11T21:19:48.442Z"
   },
   {
    "duration": 6,
    "start_time": "2022-05-11T21:19:48.604Z"
   },
   {
    "duration": 21,
    "start_time": "2022-05-11T21:19:48.612Z"
   },
   {
    "duration": 8,
    "start_time": "2022-05-11T21:19:48.635Z"
   },
   {
    "duration": 7,
    "start_time": "2022-05-11T21:19:48.645Z"
   },
   {
    "duration": 5,
    "start_time": "2022-05-11T21:19:48.653Z"
   },
   {
    "duration": 5,
    "start_time": "2022-05-11T21:19:48.660Z"
   },
   {
    "duration": 10,
    "start_time": "2022-05-11T21:19:48.667Z"
   },
   {
    "duration": 8,
    "start_time": "2022-05-11T21:19:48.679Z"
   },
   {
    "duration": 189,
    "start_time": "2022-05-11T21:19:48.689Z"
   },
   {
    "duration": 173,
    "start_time": "2022-05-11T21:19:48.880Z"
   },
   {
    "duration": 469,
    "start_time": "2022-05-11T21:19:49.055Z"
   },
   {
    "duration": 21,
    "start_time": "2022-05-11T21:19:49.526Z"
   },
   {
    "duration": 7,
    "start_time": "2022-05-11T21:19:49.548Z"
   },
   {
    "duration": 7,
    "start_time": "2022-05-11T21:19:49.557Z"
   },
   {
    "duration": 6,
    "start_time": "2022-05-11T21:19:49.566Z"
   },
   {
    "duration": 8,
    "start_time": "2022-05-11T21:19:49.574Z"
   },
   {
    "duration": 6,
    "start_time": "2022-05-11T21:19:49.584Z"
   },
   {
    "duration": 7,
    "start_time": "2022-05-11T21:19:49.592Z"
   },
   {
    "duration": 37,
    "start_time": "2022-05-11T21:19:49.600Z"
   },
   {
    "duration": 8,
    "start_time": "2022-05-11T21:19:49.643Z"
   },
   {
    "duration": 192,
    "start_time": "2022-05-11T21:19:49.652Z"
   },
   {
    "duration": 188,
    "start_time": "2022-05-11T21:19:49.846Z"
   },
   {
    "duration": 6,
    "start_time": "2022-05-11T21:19:50.035Z"
   },
   {
    "duration": 21,
    "start_time": "2022-05-11T21:22:02.217Z"
   },
   {
    "duration": 53,
    "start_time": "2022-05-17T20:12:25.370Z"
   },
   {
    "duration": 469,
    "start_time": "2022-05-17T20:12:30.858Z"
   },
   {
    "duration": 102,
    "start_time": "2022-05-17T20:12:31.329Z"
   },
   {
    "duration": 13,
    "start_time": "2022-05-17T20:12:31.433Z"
   },
   {
    "duration": 24,
    "start_time": "2022-05-17T20:12:31.448Z"
   },
   {
    "duration": 507,
    "start_time": "2022-05-17T20:12:31.473Z"
   },
   {
    "duration": 27,
    "start_time": "2022-05-17T20:12:31.982Z"
   },
   {
    "duration": 30,
    "start_time": "2022-05-17T20:12:32.010Z"
   },
   {
    "duration": 286,
    "start_time": "2022-05-17T20:12:32.042Z"
   },
   {
    "duration": 19,
    "start_time": "2022-05-17T20:12:32.330Z"
   },
   {
    "duration": 440,
    "start_time": "2022-05-17T20:12:32.351Z"
   },
   {
    "duration": 20,
    "start_time": "2022-05-17T20:12:32.793Z"
   },
   {
    "duration": 22,
    "start_time": "2022-05-17T20:12:32.815Z"
   },
   {
    "duration": 73,
    "start_time": "2022-05-17T20:12:32.838Z"
   },
   {
    "duration": 10,
    "start_time": "2022-05-17T20:12:32.913Z"
   },
   {
    "duration": 15,
    "start_time": "2022-05-17T20:12:32.925Z"
   },
   {
    "duration": 15,
    "start_time": "2022-05-17T20:12:32.941Z"
   },
   {
    "duration": 63,
    "start_time": "2022-05-17T20:12:32.958Z"
   },
   {
    "duration": 10,
    "start_time": "2022-05-17T20:12:33.027Z"
   },
   {
    "duration": 38,
    "start_time": "2022-05-17T20:12:33.038Z"
   },
   {
    "duration": 7,
    "start_time": "2022-05-17T20:12:33.077Z"
   },
   {
    "duration": 65,
    "start_time": "2022-05-17T20:12:33.085Z"
   },
   {
    "duration": 8,
    "start_time": "2022-05-17T20:12:33.151Z"
   },
   {
    "duration": 12,
    "start_time": "2022-05-17T20:12:33.161Z"
   },
   {
    "duration": 67,
    "start_time": "2022-05-17T20:12:33.175Z"
   },
   {
    "duration": 24,
    "start_time": "2022-05-17T20:12:33.244Z"
   },
   {
    "duration": 26,
    "start_time": "2022-05-17T20:12:33.270Z"
   },
   {
    "duration": 40,
    "start_time": "2022-05-17T20:12:33.297Z"
   },
   {
    "duration": 7,
    "start_time": "2022-05-17T20:12:33.341Z"
   },
   {
    "duration": 46,
    "start_time": "2022-05-17T20:12:33.349Z"
   },
   {
    "duration": 14,
    "start_time": "2022-05-17T20:12:33.396Z"
   },
   {
    "duration": 8,
    "start_time": "2022-05-17T20:12:33.426Z"
   },
   {
    "duration": 26,
    "start_time": "2022-05-17T20:12:33.435Z"
   },
   {
    "duration": 15,
    "start_time": "2022-05-17T20:12:33.463Z"
   },
   {
    "duration": 8,
    "start_time": "2022-05-17T20:12:33.480Z"
   },
   {
    "duration": 55,
    "start_time": "2022-05-17T20:12:33.489Z"
   },
   {
    "duration": 2,
    "start_time": "2022-05-17T20:12:33.545Z"
   },
   {
    "duration": 6,
    "start_time": "2022-05-17T20:12:33.549Z"
   },
   {
    "duration": 20,
    "start_time": "2022-05-17T20:12:33.556Z"
   },
   {
    "duration": 16,
    "start_time": "2022-05-17T20:12:33.578Z"
   },
   {
    "duration": 7,
    "start_time": "2022-05-17T20:12:33.595Z"
   },
   {
    "duration": 24,
    "start_time": "2022-05-17T20:12:33.604Z"
   },
   {
    "duration": 21,
    "start_time": "2022-05-17T20:12:33.630Z"
   },
   {
    "duration": 12,
    "start_time": "2022-05-17T20:12:33.653Z"
   },
   {
    "duration": 5,
    "start_time": "2022-05-17T20:12:33.667Z"
   },
   {
    "duration": 8,
    "start_time": "2022-05-17T20:12:33.673Z"
   },
   {
    "duration": 48,
    "start_time": "2022-05-17T20:12:33.683Z"
   },
   {
    "duration": 16,
    "start_time": "2022-05-17T20:12:33.732Z"
   },
   {
    "duration": 5,
    "start_time": "2022-05-17T20:12:33.749Z"
   },
   {
    "duration": 123,
    "start_time": "2022-05-17T20:12:33.756Z"
   },
   {
    "duration": 4,
    "start_time": "2022-05-17T20:12:33.881Z"
   },
   {
    "duration": 23,
    "start_time": "2022-05-17T20:12:33.886Z"
   },
   {
    "duration": 473,
    "start_time": "2022-05-17T20:12:33.911Z"
   },
   {
    "duration": 903,
    "start_time": "2022-05-17T20:12:34.386Z"
   },
   {
    "duration": 9,
    "start_time": "2022-05-17T20:12:35.290Z"
   },
   {
    "duration": 310,
    "start_time": "2022-05-17T20:12:35.301Z"
   },
   {
    "duration": 16,
    "start_time": "2022-05-17T20:12:35.612Z"
   },
   {
    "duration": 362,
    "start_time": "2022-05-17T20:12:35.630Z"
   },
   {
    "duration": 6,
    "start_time": "2022-05-17T20:12:35.994Z"
   },
   {
    "duration": 11,
    "start_time": "2022-05-17T20:12:36.001Z"
   },
   {
    "duration": 16,
    "start_time": "2022-05-17T20:12:36.014Z"
   },
   {
    "duration": 10,
    "start_time": "2022-05-17T20:12:36.032Z"
   },
   {
    "duration": 8,
    "start_time": "2022-05-17T20:12:36.043Z"
   },
   {
    "duration": 5,
    "start_time": "2022-05-17T20:12:36.053Z"
   },
   {
    "duration": 11,
    "start_time": "2022-05-17T20:12:36.060Z"
   },
   {
    "duration": 8,
    "start_time": "2022-05-17T20:12:36.073Z"
   },
   {
    "duration": 313,
    "start_time": "2022-05-17T20:12:36.082Z"
   },
   {
    "duration": 6,
    "start_time": "2022-05-17T20:12:36.397Z"
   },
   {
    "duration": 8,
    "start_time": "2022-05-17T20:12:36.405Z"
   },
   {
    "duration": 54,
    "start_time": "2022-05-17T20:12:36.428Z"
   },
   {
    "duration": 18,
    "start_time": "2022-05-17T20:12:36.484Z"
   },
   {
    "duration": 27,
    "start_time": "2022-05-17T20:12:36.504Z"
   },
   {
    "duration": 9,
    "start_time": "2022-05-17T20:12:36.532Z"
   },
   {
    "duration": 8,
    "start_time": "2022-05-17T20:12:36.543Z"
   },
   {
    "duration": 8,
    "start_time": "2022-05-17T20:12:36.552Z"
   },
   {
    "duration": 7,
    "start_time": "2022-05-17T20:12:36.561Z"
   },
   {
    "duration": 5,
    "start_time": "2022-05-17T20:12:36.569Z"
   },
   {
    "duration": 10,
    "start_time": "2022-05-17T20:12:36.575Z"
   },
   {
    "duration": 11,
    "start_time": "2022-05-17T20:12:36.586Z"
   },
   {
    "duration": 352,
    "start_time": "2022-05-17T20:12:36.599Z"
   },
   {
    "duration": 5,
    "start_time": "2022-05-17T20:12:36.953Z"
   },
   {
    "duration": 16,
    "start_time": "2022-05-17T20:12:36.960Z"
   },
   {
    "duration": 56,
    "start_time": "2022-05-17T20:13:11.121Z"
   },
   {
    "duration": 1076,
    "start_time": "2022-05-17T20:13:34.341Z"
   },
   {
    "duration": 12,
    "start_time": "2022-05-17T20:14:00.727Z"
   },
   {
    "duration": 480,
    "start_time": "2022-05-17T20:14:11.053Z"
   },
   {
    "duration": 12,
    "start_time": "2022-05-17T20:14:36.240Z"
   },
   {
    "duration": 6,
    "start_time": "2022-05-17T20:14:52.241Z"
   },
   {
    "duration": 6,
    "start_time": "2022-05-17T20:14:59.579Z"
   },
   {
    "duration": 103,
    "start_time": "2022-05-17T20:15:20.712Z"
   },
   {
    "duration": 57,
    "start_time": "2022-05-17T20:15:31.388Z"
   },
   {
    "duration": 13,
    "start_time": "2022-05-17T20:15:37.952Z"
   },
   {
    "duration": 4,
    "start_time": "2022-05-17T20:15:52.786Z"
   },
   {
    "duration": 4,
    "start_time": "2022-05-17T20:15:58.586Z"
   },
   {
    "duration": 3,
    "start_time": "2022-05-17T20:16:23.199Z"
   },
   {
    "duration": 4,
    "start_time": "2022-05-17T20:16:30.946Z"
   },
   {
    "duration": 4,
    "start_time": "2022-05-17T20:16:37.393Z"
   },
   {
    "duration": 5,
    "start_time": "2022-05-17T20:17:41.127Z"
   },
   {
    "duration": 6,
    "start_time": "2022-05-17T20:17:48.223Z"
   },
   {
    "duration": 7,
    "start_time": "2022-05-17T20:17:58.117Z"
   },
   {
    "duration": 4,
    "start_time": "2022-05-17T20:18:04.706Z"
   }
  ],
  "kernelspec": {
   "display_name": "Python 3 (ipykernel)",
   "language": "python",
   "name": "python3"
  },
  "language_info": {
   "codemirror_mode": {
    "name": "ipython",
    "version": 3
   },
   "file_extension": ".py",
   "mimetype": "text/x-python",
   "name": "python",
   "nbconvert_exporter": "python",
   "pygments_lexer": "ipython3",
   "version": "3.9.12"
  },
  "toc": {
   "base_numbering": 1,
   "nav_menu": {},
   "number_sections": true,
   "sideBar": true,
   "skip_h1_title": true,
   "title_cell": "Содержание",
   "title_sidebar": "Contents",
   "toc_cell": true,
   "toc_position": {},
   "toc_section_display": true,
   "toc_window_display": true
  }
 },
 "nbformat": 4,
 "nbformat_minor": 5
}
