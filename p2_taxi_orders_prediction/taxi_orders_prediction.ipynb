{
 "cells": [
  {
   "cell_type": "markdown",
   "id": "d214463f",
   "metadata": {
    "toc": true
   },
   "source": [
    "<h1>Содержание<span class=\"tocSkip\"></span></h1>\n",
    "<div class=\"toc\"><ul class=\"toc-item\"><li><span><a href=\"#Подготовка-данных\" data-toc-modified-id=\"Подготовка-данных-1\"><span class=\"toc-item-num\">1&nbsp;&nbsp;</span>Подготовка данных</a></span><ul class=\"toc-item\"><li><span><a href=\"#Общая-информация-о-данных\" data-toc-modified-id=\"Общая-информация-о-данных-1.1\"><span class=\"toc-item-num\">1.1&nbsp;&nbsp;</span>Общая информация о данных</a></span></li><li><span><a href=\"#Ресемплирование-данных\" data-toc-modified-id=\"Ресемплирование-данных-1.2\"><span class=\"toc-item-num\">1.2&nbsp;&nbsp;</span>Ресемплирование данных</a></span></li><li><span><a href=\"#Вывод\" data-toc-modified-id=\"Вывод-1.3\"><span class=\"toc-item-num\">1.3&nbsp;&nbsp;</span>Вывод</a></span></li></ul></li><li><span><a href=\"#Анализ-данных\" data-toc-modified-id=\"Анализ-данных-2\"><span class=\"toc-item-num\">2&nbsp;&nbsp;</span>Анализ данных</a></span><ul class=\"toc-item\"><li><span><a href=\"#Скользящее-среднее-и-скользящее-стандартное-отклонение\" data-toc-modified-id=\"Скользящее-среднее-и-скользящее-стандартное-отклонение-2.1\"><span class=\"toc-item-num\">2.1&nbsp;&nbsp;</span>Скользящее среднее и скользящее стандартное отклонение</a></span></li><li><span><a href=\"#Тренд-и-сезонность\" data-toc-modified-id=\"Тренд-и-сезонность-2.2\"><span class=\"toc-item-num\">2.2&nbsp;&nbsp;</span>Тренд и сезонность</a></span></li><li><span><a href=\"#Вывод\" data-toc-modified-id=\"Вывод-2.3\"><span class=\"toc-item-num\">2.3&nbsp;&nbsp;</span>Вывод</a></span></li></ul></li><li><span><a href=\"#Обучение-моделей\" data-toc-modified-id=\"Обучение-моделей-3\"><span class=\"toc-item-num\">3&nbsp;&nbsp;</span>Обучение моделей</a></span><ul class=\"toc-item\"><li><span><a href=\"#Создание-признаков\" data-toc-modified-id=\"Создание-признаков-3.1\"><span class=\"toc-item-num\">3.1&nbsp;&nbsp;</span>Создание признаков</a></span></li><li><span><a href=\"#Подготовка-выборок\" data-toc-modified-id=\"Подготовка-выборок-3.2\"><span class=\"toc-item-num\">3.2&nbsp;&nbsp;</span>Подготовка выборок</a></span></li><li><span><a href=\"#Функция-для-оценки-моделей-и-подбора-гиперпараметров\" data-toc-modified-id=\"Функция-для-оценки-моделей-и-подбора-гиперпараметров-3.3\"><span class=\"toc-item-num\">3.3&nbsp;&nbsp;</span>Функция для оценки моделей и подбора гиперпараметров</a></span></li><li><span><a href=\"#Случайный-лес\" data-toc-modified-id=\"Случайный-лес-3.4\"><span class=\"toc-item-num\">3.4&nbsp;&nbsp;</span>Случайный лес</a></span></li><li><span><a href=\"#LightGBM\" data-toc-modified-id=\"LightGBM-3.5\"><span class=\"toc-item-num\">3.5&nbsp;&nbsp;</span>LightGBM</a></span></li><li><span><a href=\"#Линейная-регрессия\" data-toc-modified-id=\"Линейная-регрессия-3.6\"><span class=\"toc-item-num\">3.6&nbsp;&nbsp;</span>Линейная регрессия</a></span></li><li><span><a href=\"#Сравнение-результатов\" data-toc-modified-id=\"Сравнение-результатов-3.7\"><span class=\"toc-item-num\">3.7&nbsp;&nbsp;</span>Сравнение результатов</a></span></li><li><span><a href=\"#Вывод\" data-toc-modified-id=\"Вывод-3.8\"><span class=\"toc-item-num\">3.8&nbsp;&nbsp;</span>Вывод</a></span></li></ul></li><li><span><a href=\"#Тестирование-модели\" data-toc-modified-id=\"Тестирование-модели-4\"><span class=\"toc-item-num\">4&nbsp;&nbsp;</span>Тестирование модели</a></span><ul class=\"toc-item\"><li><span><a href=\"#Вывод\" data-toc-modified-id=\"Вывод-4.1\"><span class=\"toc-item-num\">4.1&nbsp;&nbsp;</span>Вывод</a></span></li></ul></li><li><span><a href=\"#Общий-вывод\" data-toc-modified-id=\"Общий-вывод-5\"><span class=\"toc-item-num\">5&nbsp;&nbsp;</span>Общий вывод</a></span></li></ul></div>"
   ]
  },
  {
   "cell_type": "markdown",
   "id": "7587fba4",
   "metadata": {},
   "source": [
    "# Определение количества заказов такси "
   ]
  },
  {
   "cell_type": "markdown",
   "id": "245fdedc",
   "metadata": {},
   "source": [
    "**Описание проекта**\n",
    "\n",
    "Сервис по заказу такси собрал исторические данные о заказах такси в аэропортах. Необходимо построить модель для предсказания количества заказов такси на следующий час, чтобы привлекать больше водителей в период пиковой нагрузки. \n",
    "\n",
    "Значение метрики *RMSE* на тестовой выборке должно быть не больше 48. Размер тестовой выборки установить 10% от исходных данных\n",
    "\n",
    "**План выполнения проекта**\n",
    "\n",
    "1. Загрузка данных и их ресемплирование по одному часу\n",
    "2. Анализ данных\n",
    "3. Обучение нескольких моделей с различными гиперпараметрами\n",
    "4. Проверка данных на тестовой выборке\n",
    "5. Вывод\n"
   ]
  },
  {
   "cell_type": "markdown",
   "id": "1fb758f9",
   "metadata": {},
   "source": [
    "## Подготовка данных\n",
    "### Общая информация о данных\n",
    "\n",
    "Загрузим необходимые библиотеки:"
   ]
  },
  {
   "cell_type": "code",
   "execution_count": 1,
   "id": "d10d4c32",
   "metadata": {},
   "outputs": [],
   "source": [
    "import pandas as pd\n",
    "pd.set_option('display.max_columns', None) \n",
    "pd.set_option('display.max_rows', None) \n",
    "\n",
    "import matplotlib.pyplot as plt\n",
    "\n",
    "from statsmodels.tsa.seasonal import seasonal_decompose\n",
    "\n",
    "from sklearn.model_selection import train_test_split, GridSearchCV, TimeSeriesSplit\n",
    "from sklearn.metrics import mean_squared_error\n",
    "\n",
    "from sklearn.ensemble import RandomForestRegressor\n",
    "from lightgbm import LGBMRegressor\n",
    "from sklearn.linear_model import LinearRegression\n",
    "\n",
    "import time"
   ]
  },
  {
   "cell_type": "markdown",
   "id": "912b42d0",
   "metadata": {},
   "source": [
    "Загрузим данные:"
   ]
  },
  {
   "cell_type": "code",
   "execution_count": 2,
   "id": "2239a98e",
   "metadata": {},
   "outputs": [],
   "source": [
    "# при загрузке изменим тип данных в столбце с датами на datetime64,\n",
    "# устанавливать его в качестве индекса на данном этапе не будем, чтобы проверить данные на явные дубликаты\n",
    "\n",
    "try:\n",
    "    data = pd.read_csv('/datasets/taxi.csv', parse_dates=[0]) \n",
    "except:\n",
    "    data = pd.read_csv('/Users/Dasha/time_series_project_taxi/taxi.csv', parse_dates=[0])"
   ]
  },
  {
   "cell_type": "markdown",
   "id": "1886ab76",
   "metadata": {},
   "source": [
    "Изучим информацию о данных:"
   ]
  },
  {
   "cell_type": "code",
   "execution_count": 3,
   "id": "4f64c547",
   "metadata": {},
   "outputs": [
    {
     "data": {
      "text/html": [
       "<div>\n",
       "<style scoped>\n",
       "    .dataframe tbody tr th:only-of-type {\n",
       "        vertical-align: middle;\n",
       "    }\n",
       "\n",
       "    .dataframe tbody tr th {\n",
       "        vertical-align: top;\n",
       "    }\n",
       "\n",
       "    .dataframe thead th {\n",
       "        text-align: right;\n",
       "    }\n",
       "</style>\n",
       "<table border=\"1\" class=\"dataframe\">\n",
       "  <thead>\n",
       "    <tr style=\"text-align: right;\">\n",
       "      <th></th>\n",
       "      <th>datetime</th>\n",
       "      <th>num_orders</th>\n",
       "    </tr>\n",
       "  </thead>\n",
       "  <tbody>\n",
       "    <tr>\n",
       "      <th>0</th>\n",
       "      <td>2018-03-01 00:00:00</td>\n",
       "      <td>9</td>\n",
       "    </tr>\n",
       "    <tr>\n",
       "      <th>1</th>\n",
       "      <td>2018-03-01 00:10:00</td>\n",
       "      <td>14</td>\n",
       "    </tr>\n",
       "    <tr>\n",
       "      <th>2</th>\n",
       "      <td>2018-03-01 00:20:00</td>\n",
       "      <td>28</td>\n",
       "    </tr>\n",
       "    <tr>\n",
       "      <th>3</th>\n",
       "      <td>2018-03-01 00:30:00</td>\n",
       "      <td>20</td>\n",
       "    </tr>\n",
       "    <tr>\n",
       "      <th>4</th>\n",
       "      <td>2018-03-01 00:40:00</td>\n",
       "      <td>32</td>\n",
       "    </tr>\n",
       "  </tbody>\n",
       "</table>\n",
       "</div>"
      ],
      "text/plain": [
       "             datetime  num_orders\n",
       "0 2018-03-01 00:00:00           9\n",
       "1 2018-03-01 00:10:00          14\n",
       "2 2018-03-01 00:20:00          28\n",
       "3 2018-03-01 00:30:00          20\n",
       "4 2018-03-01 00:40:00          32"
      ]
     },
     "metadata": {},
     "output_type": "display_data"
    },
    {
     "name": "stdout",
     "output_type": "stream",
     "text": [
      "<class 'pandas.core.frame.DataFrame'>\n",
      "RangeIndex: 26496 entries, 0 to 26495\n",
      "Data columns (total 2 columns):\n",
      " #   Column      Non-Null Count  Dtype         \n",
      "---  ------      --------------  -----         \n",
      " 0   datetime    26496 non-null  datetime64[ns]\n",
      " 1   num_orders  26496 non-null  int64         \n",
      "dtypes: datetime64[ns](1), int64(1)\n",
      "memory usage: 414.1 KB\n"
     ]
    },
    {
     "data": {
      "text/plain": [
       "None"
      ]
     },
     "metadata": {},
     "output_type": "display_data"
    },
    {
     "data": {
      "text/html": [
       "<div>\n",
       "<style scoped>\n",
       "    .dataframe tbody tr th:only-of-type {\n",
       "        vertical-align: middle;\n",
       "    }\n",
       "\n",
       "    .dataframe tbody tr th {\n",
       "        vertical-align: top;\n",
       "    }\n",
       "\n",
       "    .dataframe thead th {\n",
       "        text-align: right;\n",
       "    }\n",
       "</style>\n",
       "<table border=\"1\" class=\"dataframe\">\n",
       "  <thead>\n",
       "    <tr style=\"text-align: right;\">\n",
       "      <th></th>\n",
       "      <th>num_orders</th>\n",
       "    </tr>\n",
       "  </thead>\n",
       "  <tbody>\n",
       "    <tr>\n",
       "      <th>count</th>\n",
       "      <td>26496.000000</td>\n",
       "    </tr>\n",
       "    <tr>\n",
       "      <th>mean</th>\n",
       "      <td>14.070463</td>\n",
       "    </tr>\n",
       "    <tr>\n",
       "      <th>std</th>\n",
       "      <td>9.211330</td>\n",
       "    </tr>\n",
       "    <tr>\n",
       "      <th>min</th>\n",
       "      <td>0.000000</td>\n",
       "    </tr>\n",
       "    <tr>\n",
       "      <th>25%</th>\n",
       "      <td>8.000000</td>\n",
       "    </tr>\n",
       "    <tr>\n",
       "      <th>50%</th>\n",
       "      <td>13.000000</td>\n",
       "    </tr>\n",
       "    <tr>\n",
       "      <th>75%</th>\n",
       "      <td>19.000000</td>\n",
       "    </tr>\n",
       "    <tr>\n",
       "      <th>max</th>\n",
       "      <td>119.000000</td>\n",
       "    </tr>\n",
       "  </tbody>\n",
       "</table>\n",
       "</div>"
      ],
      "text/plain": [
       "         num_orders\n",
       "count  26496.000000\n",
       "mean      14.070463\n",
       "std        9.211330\n",
       "min        0.000000\n",
       "25%        8.000000\n",
       "50%       13.000000\n",
       "75%       19.000000\n",
       "max      119.000000"
      ]
     },
     "metadata": {},
     "output_type": "display_data"
    },
    {
     "name": "stdout",
     "output_type": "stream",
     "text": [
      "Количество дубликатов в объектах: 0\n"
     ]
    }
   ],
   "source": [
    "#выводим первые 5 строк таблицы\n",
    "display(data.head())\n",
    "    \n",
    "#выводим информацию о датасете\n",
    "display(data.info())\n",
    "    \n",
    "#выводим описательную статистику данных\n",
    "display(data.describe())\n",
    "    \n",
    "#проверяем наличие явных дубликатов в объектах\n",
    "print('Количество дубликатов в объектах:', data.duplicated().sum())"
   ]
  },
  {
   "cell_type": "markdown",
   "id": "05d200b0",
   "metadata": {},
   "source": [
    "Проблем в данных не обнаружено - пропуски и явные дубликаты отсутствуют, типы данных в порядке."
   ]
  },
  {
   "cell_type": "markdown",
   "id": "a2e4593d",
   "metadata": {},
   "source": [
    "###  Ресемплирование данных"
   ]
  },
  {
   "cell_type": "markdown",
   "id": "69ffb395",
   "metadata": {},
   "source": [
    "Отсортируем данные, чтобы они точно были расположены в хронологическом порядке:"
   ]
  },
  {
   "cell_type": "code",
   "execution_count": 4,
   "id": "330c841d",
   "metadata": {
    "scrolled": true
   },
   "outputs": [
    {
     "name": "stdout",
     "output_type": "stream",
     "text": [
      "True\n",
      "<class 'pandas.core.frame.DataFrame'>\n",
      "DatetimeIndex: 26496 entries, 2018-03-01 00:00:00 to 2018-08-31 23:50:00\n",
      "Data columns (total 1 columns):\n",
      " #   Column      Non-Null Count  Dtype\n",
      "---  ------      --------------  -----\n",
      " 0   num_orders  26496 non-null  int64\n",
      "dtypes: int64(1)\n",
      "memory usage: 414.0 KB\n",
      "None\n"
     ]
    }
   ],
   "source": [
    "# установим индекс таблицы равным столбцу datetime\n",
    "data.set_index('datetime', inplace=True)\n",
    "\n",
    "#отсортируем индексы\n",
    "data = data.sort_index()\n",
    "\n",
    "#проверим хронологию\n",
    "print(data.index.is_monotonic)\n",
    "print(data.info())"
   ]
  },
  {
   "cell_type": "markdown",
   "id": "eb7a2780",
   "metadata": {},
   "source": [
    "Мы видим, что в нашем распоряжении данные с 1 марта по 31 августа 2018 года с 10-ти минутным интервалом. Выполним ресемплирование (изменение интервала) данных по 1 часу:"
   ]
  },
  {
   "cell_type": "code",
   "execution_count": 5,
   "id": "0ad7e32f",
   "metadata": {
    "scrolled": true
   },
   "outputs": [
    {
     "data": {
      "text/html": [
       "<div>\n",
       "<style scoped>\n",
       "    .dataframe tbody tr th:only-of-type {\n",
       "        vertical-align: middle;\n",
       "    }\n",
       "\n",
       "    .dataframe tbody tr th {\n",
       "        vertical-align: top;\n",
       "    }\n",
       "\n",
       "    .dataframe thead th {\n",
       "        text-align: right;\n",
       "    }\n",
       "</style>\n",
       "<table border=\"1\" class=\"dataframe\">\n",
       "  <thead>\n",
       "    <tr style=\"text-align: right;\">\n",
       "      <th></th>\n",
       "      <th>num_orders</th>\n",
       "    </tr>\n",
       "    <tr>\n",
       "      <th>datetime</th>\n",
       "      <th></th>\n",
       "    </tr>\n",
       "  </thead>\n",
       "  <tbody>\n",
       "    <tr>\n",
       "      <th>2018-03-01 00:00:00</th>\n",
       "      <td>124</td>\n",
       "    </tr>\n",
       "    <tr>\n",
       "      <th>2018-03-01 01:00:00</th>\n",
       "      <td>85</td>\n",
       "    </tr>\n",
       "    <tr>\n",
       "      <th>2018-03-01 02:00:00</th>\n",
       "      <td>71</td>\n",
       "    </tr>\n",
       "    <tr>\n",
       "      <th>2018-03-01 03:00:00</th>\n",
       "      <td>66</td>\n",
       "    </tr>\n",
       "    <tr>\n",
       "      <th>2018-03-01 04:00:00</th>\n",
       "      <td>43</td>\n",
       "    </tr>\n",
       "  </tbody>\n",
       "</table>\n",
       "</div>"
      ],
      "text/plain": [
       "                     num_orders\n",
       "datetime                       \n",
       "2018-03-01 00:00:00         124\n",
       "2018-03-01 01:00:00          85\n",
       "2018-03-01 02:00:00          71\n",
       "2018-03-01 03:00:00          66\n",
       "2018-03-01 04:00:00          43"
      ]
     },
     "execution_count": 5,
     "metadata": {},
     "output_type": "execute_result"
    }
   ],
   "source": [
    "data = data.resample('1H').sum()\n",
    "data.head()"
   ]
  },
  {
   "cell_type": "markdown",
   "id": "f1874839",
   "metadata": {},
   "source": [
    "### Вывод\n",
    "\n",
    "- Пропуски и явные дубликаты в данных отсутствуют\n",
    "- Мы провели ресемплирование данных по 1 часу, изначальный интервал составлял 10 минут"
   ]
  },
  {
   "cell_type": "markdown",
   "id": "cf1c3fba",
   "metadata": {},
   "source": [
    "## Анализ данных"
   ]
  },
  {
   "cell_type": "markdown",
   "id": "02680dbe",
   "metadata": {},
   "source": [
    "### Скользящее среднее и скользящее стандартное отклонение\n",
    "\n",
    "Построим график скользящего среднего и скользящего стандартного отклонения. Так у нас внутридневные зависимости, размер окна установим 24 (количество часов в сутках)"
   ]
  },
  {
   "cell_type": "code",
   "execution_count": 6,
   "id": "1d63985e",
   "metadata": {
    "scrolled": false
   },
   "outputs": [
    {
     "data": {
      "image/png": "[encoded data removed]",
      "text/plain": [
       "<Figure size 720x360 with 1 Axes>"
      ]
     },
     "metadata": {
      "needs_background": "light"
     },
     "output_type": "display_data"
    }
   ],
   "source": [
    "data['rolling_mean'] = data['num_orders'].rolling(24).mean() # скользящее среднее\n",
    "data['std_mean'] = data['num_orders'].rolling(24).std() # скользящее стандартное отклонение \n",
    "\n",
    "data.plot(figsize=(10, 5), color=['lightblue','b', 'm'])\n",
    "plt.title('Скользящее среднее и скользящее стандартное отклонение', fontsize=(14))\n",
    "plt.show()"
   ]
  },
  {
   "cell_type": "markdown",
   "id": "53ca0e26",
   "metadata": {},
   "source": [
    "Мы видим, что скользящее среднее возрастает - такси заказывают все чаще.  Скользящее стандартное отклонение также меняется - в августе оно явно сильнее, чем в другие месяцы."
   ]
  },
  {
   "cell_type": "markdown",
   "id": "cc5aa16e",
   "metadata": {},
   "source": [
    "### Тренд и сезонность\n",
    "\n",
    "Проанализируем тренд и сезонную компоненту временного ряда:\n",
    "\n",
    "Предварительно необходимо удалить из данных столбцы со скользящим средним и скользящим стандартным отклонением:"
   ]
  },
  {
   "cell_type": "code",
   "execution_count": 7,
   "id": "3cfe82c4",
   "metadata": {},
   "outputs": [],
   "source": [
    "data.drop(['rolling_mean', 'std_mean'], axis=1, inplace=True)"
   ]
  },
  {
   "cell_type": "markdown",
   "id": "a7899425",
   "metadata": {},
   "source": [
    "**Тренд**"
   ]
  },
  {
   "cell_type": "code",
   "execution_count": 8,
   "id": "764bdcc7",
   "metadata": {
    "scrolled": true
   },
   "outputs": [
    {
     "data": {
      "image/png": "[encoded data removed]",
      "text/plain": [
       "<Figure size 720x288 with 1 Axes>"
      ]
     },
     "metadata": {
      "needs_background": "light"
     },
     "output_type": "display_data"
    }
   ],
   "source": [
    "decomposed = seasonal_decompose(data) # раскладываем временной ряд на тренд, сезонность и остаток\n",
    "\n",
    "decomposed.trend.plot(figsize=(10, 4), color='cadetblue')\n",
    "plt.title('Тренд временного ряда', fontsize=(14))\n",
    "plt.show()"
   ]
  },
  {
   "cell_type": "markdown",
   "id": "1df4d885",
   "metadata": {},
   "source": [
    "График с трендом, аналогично скользящему среднему, демонстрирует ежемесячное увеличение числа заказов такси. Особенно быстрый рост в августе."
   ]
  },
  {
   "cell_type": "markdown",
   "id": "222a4b5f",
   "metadata": {},
   "source": [
    "**Сезонность**\n",
    "\n",
    "Построим график с сезонной составляющей. Так как нам необходим прогноз на ближайший час, рассмотрим недельный период - так мы поймем, есть ли закономерности, повторяющиеся каждый день."
   ]
  },
  {
   "cell_type": "code",
   "execution_count": 9,
   "id": "0d801b8e",
   "metadata": {
    "scrolled": true
   },
   "outputs": [
    {
     "data": {
      "image/png": "[encoded data removed]",
      "text/plain": [
       "<Figure size 720x288 with 1 Axes>"
      ]
     },
     "metadata": {
      "needs_background": "light"
     },
     "output_type": "display_data"
    }
   ],
   "source": [
    "decomposed.seasonal['2018-08-01 00:00:00':'2018-08-07 23:50:00'].plot(figsize=(10, 4),\n",
    "                                                                      color='cadetblue')\n",
    "plt.title('Сезонность временного ряда за неделю', fontsize=(14))\n",
    "plt.show()"
   ]
  },
  {
   "cell_type": "markdown",
   "id": "e14c5b29",
   "metadata": {},
   "source": [
    "Сезонность прослеживается - ежедневно пик заказа такси приходится на ночное время, а ранним утром такси практически не заказывают. Чтобы лучше понять интервалы сезонности, построим график за 1 сутки:"
   ]
  },
  {
   "cell_type": "code",
   "execution_count": 10,
   "id": "f7f1016a",
   "metadata": {
    "scrolled": true
   },
   "outputs": [
    {
     "data": {
      "image/png": "[encoded data removed]",
      "text/plain": [
       "<Figure size 720x288 with 1 Axes>"
      ]
     },
     "metadata": {
      "needs_background": "light"
     },
     "output_type": "display_data"
    }
   ],
   "source": [
    "decomposed.seasonal['2018-08-01 00:00:00':'2018-08-01 23:50:00'].plot(figsize=(10, 4),\n",
    "                                                                      color='cadetblue')\n",
    "plt.title('Сезонность временного ряда за день', fontsize=(14))\n",
    "plt.show()"
   ]
  },
  {
   "cell_type": "markdown",
   "id": "55e41a57",
   "metadata": {},
   "source": [
    "Проверим стационарность временного ряда, применив тест Дики - Фуллера:"
   ]
  },
  {
   "cell_type": "code",
   "execution_count": 11,
   "id": "c53c041c",
   "metadata": {},
   "outputs": [
    {
     "name": "stdout",
     "output_type": "stream",
     "text": [
      "Наш ряд стационарный\n"
     ]
    }
   ],
   "source": [
    "# код ревьювера\n",
    "from statsmodels.tsa.stattools import adfuller\n",
    "\n",
    "ts = data['num_orders']\n",
    "st_test = adfuller(ts, regression='ctt')\n",
    "\n",
    "\n",
    "if st_test[1] < 0.05:\n",
    "    print('Наш ряд стационарный')\n",
    "else:\n",
    "    print('Ряд нестационарный')"
   ]
  },
  {
   "cell_type": "markdown",
   "id": "d0ff05ea",
   "metadata": {},
   "source": [
    "### Вывод\n",
    "- Временной ряд стационарный, что хороша для прогнозирования\n",
    "- Скользящее среднее числа заказов растет, скользящее стандартное отклонение в августе сильнее, чем в другие месяцы\n",
    "- Виден тренд на ежемесячное увеличение числа заказов такси\n",
    "- Прослеживается сезонность - самый пик заказов приходится на полночь, также количество заказов такси возрастает в районе 2 ночи, 10 утра и 16 часов дня. В районе 6 утра сильный спад числа заказов такси"
   ]
  },
  {
   "cell_type": "markdown",
   "id": "eee1a611",
   "metadata": {},
   "source": [
    "## Обучение моделей"
   ]
  },
  {
   "cell_type": "markdown",
   "id": "5eb52ee9",
   "metadata": {},
   "source": [
    "### Создание признаков"
   ]
  },
  {
   "cell_type": "markdown",
   "id": "a50075a8",
   "metadata": {},
   "source": [
    "Создадим функцию функцию *make_features()* , чтобы прибавить к данным новые признаки:\n",
    "\n",
    "- Календарные признаки: день недели и час, исходя из объема данных (март - август 2018 г) и горизонта прогнозирования (1 час)\n",
    "\n",
    "- Отстающие значения, чтобы понять, будет ли функция *x(t)* расти или уменьшаться\n",
    "\n",
    "- Скользящее среднее, не включающее в себя текущее значение ряда, чтобы не допустить утечку целевого признака в признак"
   ]
  },
  {
   "cell_type": "code",
   "execution_count": 12,
   "id": "e72d93be",
   "metadata": {
    "scrolled": true
   },
   "outputs": [
    {
     "data": {
      "text/html": [
       "<div>\n",
       "<style scoped>\n",
       "    .dataframe tbody tr th:only-of-type {\n",
       "        vertical-align: middle;\n",
       "    }\n",
       "\n",
       "    .dataframe tbody tr th {\n",
       "        vertical-align: top;\n",
       "    }\n",
       "\n",
       "    .dataframe thead th {\n",
       "        text-align: right;\n",
       "    }\n",
       "</style>\n",
       "<table border=\"1\" class=\"dataframe\">\n",
       "  <thead>\n",
       "    <tr style=\"text-align: right;\">\n",
       "      <th></th>\n",
       "      <th>num_orders</th>\n",
       "      <th>dayofweek</th>\n",
       "      <th>hour</th>\n",
       "      <th>lag_1</th>\n",
       "      <th>lag_25</th>\n",
       "      <th>rolling_mean</th>\n",
       "    </tr>\n",
       "    <tr>\n",
       "      <th>datetime</th>\n",
       "      <th></th>\n",
       "      <th></th>\n",
       "      <th></th>\n",
       "      <th></th>\n",
       "      <th></th>\n",
       "      <th></th>\n",
       "    </tr>\n",
       "  </thead>\n",
       "  <tbody>\n",
       "    <tr>\n",
       "      <th>2018-03-01 00:00:00</th>\n",
       "      <td>124</td>\n",
       "      <td>3</td>\n",
       "      <td>0</td>\n",
       "      <td>NaN</td>\n",
       "      <td>NaN</td>\n",
       "      <td>NaN</td>\n",
       "    </tr>\n",
       "    <tr>\n",
       "      <th>2018-03-01 01:00:00</th>\n",
       "      <td>85</td>\n",
       "      <td>3</td>\n",
       "      <td>1</td>\n",
       "      <td>124.0</td>\n",
       "      <td>NaN</td>\n",
       "      <td>NaN</td>\n",
       "    </tr>\n",
       "    <tr>\n",
       "      <th>2018-03-01 02:00:00</th>\n",
       "      <td>71</td>\n",
       "      <td>3</td>\n",
       "      <td>2</td>\n",
       "      <td>85.0</td>\n",
       "      <td>NaN</td>\n",
       "      <td>NaN</td>\n",
       "    </tr>\n",
       "    <tr>\n",
       "      <th>2018-03-01 03:00:00</th>\n",
       "      <td>66</td>\n",
       "      <td>3</td>\n",
       "      <td>3</td>\n",
       "      <td>71.0</td>\n",
       "      <td>NaN</td>\n",
       "      <td>NaN</td>\n",
       "    </tr>\n",
       "    <tr>\n",
       "      <th>2018-03-01 04:00:00</th>\n",
       "      <td>43</td>\n",
       "      <td>3</td>\n",
       "      <td>4</td>\n",
       "      <td>66.0</td>\n",
       "      <td>NaN</td>\n",
       "      <td>NaN</td>\n",
       "    </tr>\n",
       "    <tr>\n",
       "      <th>2018-03-01 05:00:00</th>\n",
       "      <td>6</td>\n",
       "      <td>3</td>\n",
       "      <td>5</td>\n",
       "      <td>43.0</td>\n",
       "      <td>NaN</td>\n",
       "      <td>NaN</td>\n",
       "    </tr>\n",
       "    <tr>\n",
       "      <th>2018-03-01 06:00:00</th>\n",
       "      <td>12</td>\n",
       "      <td>3</td>\n",
       "      <td>6</td>\n",
       "      <td>6.0</td>\n",
       "      <td>NaN</td>\n",
       "      <td>NaN</td>\n",
       "    </tr>\n",
       "    <tr>\n",
       "      <th>2018-03-01 07:00:00</th>\n",
       "      <td>15</td>\n",
       "      <td>3</td>\n",
       "      <td>7</td>\n",
       "      <td>12.0</td>\n",
       "      <td>NaN</td>\n",
       "      <td>NaN</td>\n",
       "    </tr>\n",
       "    <tr>\n",
       "      <th>2018-03-01 08:00:00</th>\n",
       "      <td>34</td>\n",
       "      <td>3</td>\n",
       "      <td>8</td>\n",
       "      <td>15.0</td>\n",
       "      <td>NaN</td>\n",
       "      <td>NaN</td>\n",
       "    </tr>\n",
       "    <tr>\n",
       "      <th>2018-03-01 09:00:00</th>\n",
       "      <td>69</td>\n",
       "      <td>3</td>\n",
       "      <td>9</td>\n",
       "      <td>34.0</td>\n",
       "      <td>NaN</td>\n",
       "      <td>NaN</td>\n",
       "    </tr>\n",
       "    <tr>\n",
       "      <th>2018-03-01 10:00:00</th>\n",
       "      <td>64</td>\n",
       "      <td>3</td>\n",
       "      <td>10</td>\n",
       "      <td>69.0</td>\n",
       "      <td>NaN</td>\n",
       "      <td>NaN</td>\n",
       "    </tr>\n",
       "    <tr>\n",
       "      <th>2018-03-01 11:00:00</th>\n",
       "      <td>96</td>\n",
       "      <td>3</td>\n",
       "      <td>11</td>\n",
       "      <td>64.0</td>\n",
       "      <td>NaN</td>\n",
       "      <td>NaN</td>\n",
       "    </tr>\n",
       "    <tr>\n",
       "      <th>2018-03-01 12:00:00</th>\n",
       "      <td>30</td>\n",
       "      <td>3</td>\n",
       "      <td>12</td>\n",
       "      <td>96.0</td>\n",
       "      <td>NaN</td>\n",
       "      <td>NaN</td>\n",
       "    </tr>\n",
       "    <tr>\n",
       "      <th>2018-03-01 13:00:00</th>\n",
       "      <td>32</td>\n",
       "      <td>3</td>\n",
       "      <td>13</td>\n",
       "      <td>30.0</td>\n",
       "      <td>NaN</td>\n",
       "      <td>NaN</td>\n",
       "    </tr>\n",
       "    <tr>\n",
       "      <th>2018-03-01 14:00:00</th>\n",
       "      <td>48</td>\n",
       "      <td>3</td>\n",
       "      <td>14</td>\n",
       "      <td>32.0</td>\n",
       "      <td>NaN</td>\n",
       "      <td>NaN</td>\n",
       "    </tr>\n",
       "    <tr>\n",
       "      <th>2018-03-01 15:00:00</th>\n",
       "      <td>66</td>\n",
       "      <td>3</td>\n",
       "      <td>15</td>\n",
       "      <td>48.0</td>\n",
       "      <td>NaN</td>\n",
       "      <td>NaN</td>\n",
       "    </tr>\n",
       "    <tr>\n",
       "      <th>2018-03-01 16:00:00</th>\n",
       "      <td>43</td>\n",
       "      <td>3</td>\n",
       "      <td>16</td>\n",
       "      <td>66.0</td>\n",
       "      <td>NaN</td>\n",
       "      <td>NaN</td>\n",
       "    </tr>\n",
       "    <tr>\n",
       "      <th>2018-03-01 17:00:00</th>\n",
       "      <td>44</td>\n",
       "      <td>3</td>\n",
       "      <td>17</td>\n",
       "      <td>43.0</td>\n",
       "      <td>NaN</td>\n",
       "      <td>NaN</td>\n",
       "    </tr>\n",
       "    <tr>\n",
       "      <th>2018-03-01 18:00:00</th>\n",
       "      <td>73</td>\n",
       "      <td>3</td>\n",
       "      <td>18</td>\n",
       "      <td>44.0</td>\n",
       "      <td>NaN</td>\n",
       "      <td>NaN</td>\n",
       "    </tr>\n",
       "    <tr>\n",
       "      <th>2018-03-01 19:00:00</th>\n",
       "      <td>45</td>\n",
       "      <td>3</td>\n",
       "      <td>19</td>\n",
       "      <td>73.0</td>\n",
       "      <td>NaN</td>\n",
       "      <td>NaN</td>\n",
       "    </tr>\n",
       "    <tr>\n",
       "      <th>2018-03-01 20:00:00</th>\n",
       "      <td>61</td>\n",
       "      <td>3</td>\n",
       "      <td>20</td>\n",
       "      <td>45.0</td>\n",
       "      <td>NaN</td>\n",
       "      <td>NaN</td>\n",
       "    </tr>\n",
       "    <tr>\n",
       "      <th>2018-03-01 21:00:00</th>\n",
       "      <td>66</td>\n",
       "      <td>3</td>\n",
       "      <td>21</td>\n",
       "      <td>61.0</td>\n",
       "      <td>NaN</td>\n",
       "      <td>NaN</td>\n",
       "    </tr>\n",
       "    <tr>\n",
       "      <th>2018-03-01 22:00:00</th>\n",
       "      <td>113</td>\n",
       "      <td>3</td>\n",
       "      <td>22</td>\n",
       "      <td>66.0</td>\n",
       "      <td>NaN</td>\n",
       "      <td>NaN</td>\n",
       "    </tr>\n",
       "    <tr>\n",
       "      <th>2018-03-01 23:00:00</th>\n",
       "      <td>58</td>\n",
       "      <td>3</td>\n",
       "      <td>23</td>\n",
       "      <td>113.0</td>\n",
       "      <td>NaN</td>\n",
       "      <td>NaN</td>\n",
       "    </tr>\n",
       "    <tr>\n",
       "      <th>2018-03-02 00:00:00</th>\n",
       "      <td>90</td>\n",
       "      <td>4</td>\n",
       "      <td>0</td>\n",
       "      <td>58.0</td>\n",
       "      <td>NaN</td>\n",
       "      <td>56.833333</td>\n",
       "    </tr>\n",
       "    <tr>\n",
       "      <th>2018-03-02 01:00:00</th>\n",
       "      <td>120</td>\n",
       "      <td>4</td>\n",
       "      <td>1</td>\n",
       "      <td>90.0</td>\n",
       "      <td>124.0</td>\n",
       "      <td>55.416667</td>\n",
       "    </tr>\n",
       "    <tr>\n",
       "      <th>2018-03-02 02:00:00</th>\n",
       "      <td>75</td>\n",
       "      <td>4</td>\n",
       "      <td>2</td>\n",
       "      <td>120.0</td>\n",
       "      <td>85.0</td>\n",
       "      <td>56.875000</td>\n",
       "    </tr>\n",
       "    <tr>\n",
       "      <th>2018-03-02 03:00:00</th>\n",
       "      <td>64</td>\n",
       "      <td>4</td>\n",
       "      <td>3</td>\n",
       "      <td>75.0</td>\n",
       "      <td>71.0</td>\n",
       "      <td>57.041667</td>\n",
       "    </tr>\n",
       "    <tr>\n",
       "      <th>2018-03-02 04:00:00</th>\n",
       "      <td>20</td>\n",
       "      <td>4</td>\n",
       "      <td>4</td>\n",
       "      <td>64.0</td>\n",
       "      <td>66.0</td>\n",
       "      <td>56.958333</td>\n",
       "    </tr>\n",
       "    <tr>\n",
       "      <th>2018-03-02 05:00:00</th>\n",
       "      <td>11</td>\n",
       "      <td>4</td>\n",
       "      <td>5</td>\n",
       "      <td>20.0</td>\n",
       "      <td>43.0</td>\n",
       "      <td>56.000000</td>\n",
       "    </tr>\n",
       "    <tr>\n",
       "      <th>2018-03-02 06:00:00</th>\n",
       "      <td>11</td>\n",
       "      <td>4</td>\n",
       "      <td>6</td>\n",
       "      <td>11.0</td>\n",
       "      <td>6.0</td>\n",
       "      <td>56.208333</td>\n",
       "    </tr>\n",
       "    <tr>\n",
       "      <th>2018-03-02 07:00:00</th>\n",
       "      <td>7</td>\n",
       "      <td>4</td>\n",
       "      <td>7</td>\n",
       "      <td>11.0</td>\n",
       "      <td>12.0</td>\n",
       "      <td>56.166667</td>\n",
       "    </tr>\n",
       "    <tr>\n",
       "      <th>2018-03-02 08:00:00</th>\n",
       "      <td>46</td>\n",
       "      <td>4</td>\n",
       "      <td>8</td>\n",
       "      <td>7.0</td>\n",
       "      <td>15.0</td>\n",
       "      <td>55.833333</td>\n",
       "    </tr>\n",
       "    <tr>\n",
       "      <th>2018-03-02 09:00:00</th>\n",
       "      <td>45</td>\n",
       "      <td>4</td>\n",
       "      <td>9</td>\n",
       "      <td>46.0</td>\n",
       "      <td>34.0</td>\n",
       "      <td>56.333333</td>\n",
       "    </tr>\n",
       "    <tr>\n",
       "      <th>2018-03-02 10:00:00</th>\n",
       "      <td>54</td>\n",
       "      <td>4</td>\n",
       "      <td>10</td>\n",
       "      <td>45.0</td>\n",
       "      <td>69.0</td>\n",
       "      <td>55.333333</td>\n",
       "    </tr>\n",
       "    <tr>\n",
       "      <th>2018-03-02 11:00:00</th>\n",
       "      <td>91</td>\n",
       "      <td>4</td>\n",
       "      <td>11</td>\n",
       "      <td>54.0</td>\n",
       "      <td>64.0</td>\n",
       "      <td>54.916667</td>\n",
       "    </tr>\n",
       "    <tr>\n",
       "      <th>2018-03-02 12:00:00</th>\n",
       "      <td>36</td>\n",
       "      <td>4</td>\n",
       "      <td>12</td>\n",
       "      <td>91.0</td>\n",
       "      <td>96.0</td>\n",
       "      <td>54.708333</td>\n",
       "    </tr>\n",
       "    <tr>\n",
       "      <th>2018-03-02 13:00:00</th>\n",
       "      <td>45</td>\n",
       "      <td>4</td>\n",
       "      <td>13</td>\n",
       "      <td>36.0</td>\n",
       "      <td>30.0</td>\n",
       "      <td>54.958333</td>\n",
       "    </tr>\n",
       "    <tr>\n",
       "      <th>2018-03-02 14:00:00</th>\n",
       "      <td>44</td>\n",
       "      <td>4</td>\n",
       "      <td>14</td>\n",
       "      <td>45.0</td>\n",
       "      <td>32.0</td>\n",
       "      <td>55.500000</td>\n",
       "    </tr>\n",
       "    <tr>\n",
       "      <th>2018-03-02 15:00:00</th>\n",
       "      <td>59</td>\n",
       "      <td>4</td>\n",
       "      <td>15</td>\n",
       "      <td>44.0</td>\n",
       "      <td>48.0</td>\n",
       "      <td>55.333333</td>\n",
       "    </tr>\n",
       "    <tr>\n",
       "      <th>2018-03-02 16:00:00</th>\n",
       "      <td>82</td>\n",
       "      <td>4</td>\n",
       "      <td>16</td>\n",
       "      <td>59.0</td>\n",
       "      <td>66.0</td>\n",
       "      <td>55.041667</td>\n",
       "    </tr>\n",
       "    <tr>\n",
       "      <th>2018-03-02 17:00:00</th>\n",
       "      <td>83</td>\n",
       "      <td>4</td>\n",
       "      <td>17</td>\n",
       "      <td>82.0</td>\n",
       "      <td>43.0</td>\n",
       "      <td>56.666667</td>\n",
       "    </tr>\n",
       "    <tr>\n",
       "      <th>2018-03-02 18:00:00</th>\n",
       "      <td>89</td>\n",
       "      <td>4</td>\n",
       "      <td>18</td>\n",
       "      <td>83.0</td>\n",
       "      <td>44.0</td>\n",
       "      <td>58.291667</td>\n",
       "    </tr>\n",
       "    <tr>\n",
       "      <th>2018-03-02 19:00:00</th>\n",
       "      <td>49</td>\n",
       "      <td>4</td>\n",
       "      <td>19</td>\n",
       "      <td>89.0</td>\n",
       "      <td>73.0</td>\n",
       "      <td>58.958333</td>\n",
       "    </tr>\n",
       "    <tr>\n",
       "      <th>2018-03-02 20:00:00</th>\n",
       "      <td>93</td>\n",
       "      <td>4</td>\n",
       "      <td>20</td>\n",
       "      <td>49.0</td>\n",
       "      <td>45.0</td>\n",
       "      <td>59.125000</td>\n",
       "    </tr>\n",
       "    <tr>\n",
       "      <th>2018-03-02 21:00:00</th>\n",
       "      <td>101</td>\n",
       "      <td>4</td>\n",
       "      <td>21</td>\n",
       "      <td>93.0</td>\n",
       "      <td>61.0</td>\n",
       "      <td>60.458333</td>\n",
       "    </tr>\n",
       "    <tr>\n",
       "      <th>2018-03-02 22:00:00</th>\n",
       "      <td>119</td>\n",
       "      <td>4</td>\n",
       "      <td>22</td>\n",
       "      <td>101.0</td>\n",
       "      <td>66.0</td>\n",
       "      <td>61.916667</td>\n",
       "    </tr>\n",
       "    <tr>\n",
       "      <th>2018-03-02 23:00:00</th>\n",
       "      <td>72</td>\n",
       "      <td>4</td>\n",
       "      <td>23</td>\n",
       "      <td>119.0</td>\n",
       "      <td>113.0</td>\n",
       "      <td>62.166667</td>\n",
       "    </tr>\n",
       "    <tr>\n",
       "      <th>2018-03-03 00:00:00</th>\n",
       "      <td>163</td>\n",
       "      <td>5</td>\n",
       "      <td>0</td>\n",
       "      <td>72.0</td>\n",
       "      <td>58.0</td>\n",
       "      <td>62.750000</td>\n",
       "    </tr>\n",
       "    <tr>\n",
       "      <th>2018-03-03 01:00:00</th>\n",
       "      <td>108</td>\n",
       "      <td>5</td>\n",
       "      <td>1</td>\n",
       "      <td>163.0</td>\n",
       "      <td>90.0</td>\n",
       "      <td>65.791667</td>\n",
       "    </tr>\n",
       "  </tbody>\n",
       "</table>\n",
       "</div>"
      ],
      "text/plain": [
       "                     num_orders  dayofweek  hour  lag_1  lag_25  rolling_mean\n",
       "datetime                                                                     \n",
       "2018-03-01 00:00:00         124          3     0    NaN     NaN           NaN\n",
       "2018-03-01 01:00:00          85          3     1  124.0     NaN           NaN\n",
       "2018-03-01 02:00:00          71          3     2   85.0     NaN           NaN\n",
       "2018-03-01 03:00:00          66          3     3   71.0     NaN           NaN\n",
       "2018-03-01 04:00:00          43          3     4   66.0     NaN           NaN\n",
       "2018-03-01 05:00:00           6          3     5   43.0     NaN           NaN\n",
       "2018-03-01 06:00:00          12          3     6    6.0     NaN           NaN\n",
       "2018-03-01 07:00:00          15          3     7   12.0     NaN           NaN\n",
       "2018-03-01 08:00:00          34          3     8   15.0     NaN           NaN\n",
       "2018-03-01 09:00:00          69          3     9   34.0     NaN           NaN\n",
       "2018-03-01 10:00:00          64          3    10   69.0     NaN           NaN\n",
       "2018-03-01 11:00:00          96          3    11   64.0     NaN           NaN\n",
       "2018-03-01 12:00:00          30          3    12   96.0     NaN           NaN\n",
       "2018-03-01 13:00:00          32          3    13   30.0     NaN           NaN\n",
       "2018-03-01 14:00:00          48          3    14   32.0     NaN           NaN\n",
       "2018-03-01 15:00:00          66          3    15   48.0     NaN           NaN\n",
       "2018-03-01 16:00:00          43          3    16   66.0     NaN           NaN\n",
       "2018-03-01 17:00:00          44          3    17   43.0     NaN           NaN\n",
       "2018-03-01 18:00:00          73          3    18   44.0     NaN           NaN\n",
       "2018-03-01 19:00:00          45          3    19   73.0     NaN           NaN\n",
       "2018-03-01 20:00:00          61          3    20   45.0     NaN           NaN\n",
       "2018-03-01 21:00:00          66          3    21   61.0     NaN           NaN\n",
       "2018-03-01 22:00:00         113          3    22   66.0     NaN           NaN\n",
       "2018-03-01 23:00:00          58          3    23  113.0     NaN           NaN\n",
       "2018-03-02 00:00:00          90          4     0   58.0     NaN     56.833333\n",
       "2018-03-02 01:00:00         120          4     1   90.0   124.0     55.416667\n",
       "2018-03-02 02:00:00          75          4     2  120.0    85.0     56.875000\n",
       "2018-03-02 03:00:00          64          4     3   75.0    71.0     57.041667\n",
       "2018-03-02 04:00:00          20          4     4   64.0    66.0     56.958333\n",
       "2018-03-02 05:00:00          11          4     5   20.0    43.0     56.000000\n",
       "2018-03-02 06:00:00          11          4     6   11.0     6.0     56.208333\n",
       "2018-03-02 07:00:00           7          4     7   11.0    12.0     56.166667\n",
       "2018-03-02 08:00:00          46          4     8    7.0    15.0     55.833333\n",
       "2018-03-02 09:00:00          45          4     9   46.0    34.0     56.333333\n",
       "2018-03-02 10:00:00          54          4    10   45.0    69.0     55.333333\n",
       "2018-03-02 11:00:00          91          4    11   54.0    64.0     54.916667\n",
       "2018-03-02 12:00:00          36          4    12   91.0    96.0     54.708333\n",
       "2018-03-02 13:00:00          45          4    13   36.0    30.0     54.958333\n",
       "2018-03-02 14:00:00          44          4    14   45.0    32.0     55.500000\n",
       "2018-03-02 15:00:00          59          4    15   44.0    48.0     55.333333\n",
       "2018-03-02 16:00:00          82          4    16   59.0    66.0     55.041667\n",
       "2018-03-02 17:00:00          83          4    17   82.0    43.0     56.666667\n",
       "2018-03-02 18:00:00          89          4    18   83.0    44.0     58.291667\n",
       "2018-03-02 19:00:00          49          4    19   89.0    73.0     58.958333\n",
       "2018-03-02 20:00:00          93          4    20   49.0    45.0     59.125000\n",
       "2018-03-02 21:00:00         101          4    21   93.0    61.0     60.458333\n",
       "2018-03-02 22:00:00         119          4    22  101.0    66.0     61.916667\n",
       "2018-03-02 23:00:00          72          4    23  119.0   113.0     62.166667\n",
       "2018-03-03 00:00:00         163          5     0   72.0    58.0     62.750000\n",
       "2018-03-03 01:00:00         108          5     1  163.0    90.0     65.791667"
      ]
     },
     "execution_count": 12,
     "metadata": {},
     "output_type": "execute_result"
    }
   ],
   "source": [
    "# функция для создания новых признаков\n",
    "def make_features(data, max_lag, rolling_mean_size):\n",
    "    # добавляем календарные признаки\n",
    "    data['dayofweek'] = data.index.dayofweek # признак 'день недели'\n",
    "    data['hour'] = data.index.hour # признак 'час'\n",
    "    \n",
    "    # добавляем отстающие значения (1 час и 1 сутки)\n",
    "    for lag in range(1, max_lag + 25, 24):\n",
    "        data['lag_{}'.format(lag)] = data['num_orders'].shift(lag)\n",
    "        \n",
    "    # добавляем скользящее среднее без текущего значения ряда\n",
    "    data['rolling_mean'] = data['num_orders'].shift().rolling(rolling_mean_size).mean()\n",
    "\n",
    "# так как в данных присутствует внутридневная зависимость, применим функцию к нашим данным,\n",
    "# передав значение аргументов 'rolling_mean_size'= 24\n",
    "# 'max_lag'= 2' для создания отстающих значений на час и на сутки\n",
    "make_features(data, 2, 24)\n",
    "\n",
    "data.head(50)"
   ]
  },
  {
   "cell_type": "markdown",
   "id": "4f83167c",
   "metadata": {},
   "source": [
    "### Подготовка выборок\n",
    "\n",
    "Разобьем данные на обучающую (90%) и тестовую (10%) выборки. Так как объекты временного ряда нельзя перемешивать, укажем гиперпараметр `shuffle=False`:"
   ]
  },
  {
   "cell_type": "code",
   "execution_count": 13,
   "id": "97c407e5",
   "metadata": {},
   "outputs": [
    {
     "name": "stdout",
     "output_type": "stream",
     "text": [
      "2018-03-02 01:00:00 2018-08-13 13:00:00\n",
      "2018-08-13 14:00:00 2018-08-31 23:00:00\n"
     ]
    }
   ],
   "source": [
    "# разбивка данных на обучающущю и тестовую выборки\n",
    "train, test = train_test_split(data, shuffle=False, test_size=0.1) \n",
    "\n",
    "# заполним пропуски в обучающей выборке\n",
    "train = train.dropna()\n",
    "\n",
    "# проверка корректности разбивки\n",
    "print(train.index.min(), train.index.max())\n",
    "print(test.index.min(), test.index.max())"
   ]
  },
  {
   "cell_type": "markdown",
   "id": "8b23d046",
   "metadata": {},
   "source": [
    "Разбивка проведена корректно.\n",
    "\n",
    "Сохраним признаки в переменную `features`, целевой признак - в переменную `target`:"
   ]
  },
  {
   "cell_type": "code",
   "execution_count": 14,
   "id": "32c4fa9c",
   "metadata": {},
   "outputs": [],
   "source": [
    "features_train = train.drop(['num_orders'], axis=1)\n",
    "target_train = train['num_orders']\n",
    "\n",
    "features_test = test.drop(['num_orders'], axis=1)\n",
    "target_test = test['num_orders']"
   ]
  },
  {
   "cell_type": "markdown",
   "id": "3e1082a2",
   "metadata": {},
   "source": [
    "### Функция для оценки моделей и подбора гиперпараметров\n",
    "\n",
    "Чтобы избежать проблемы подглядывания при работе с временным рядом, проверять качество моделей будем с помощью кросс-валидации на скользящей основе:\n",
    "\n",
    "- подготовим блоки для кросс-валидации с помощью *TimeSeriesSplit()*\n",
    "- проведем оценку качества моделей и подбор гиперпараметров с помощью *GridSearchCV()*\n",
    "\n",
    "Рассчитаем количество блоков для кросс-валидации так, чтобы один блок был примерно равен тестовой выборке:"
   ]
  },
  {
   "cell_type": "code",
   "execution_count": 15,
   "id": "e7842098",
   "metadata": {},
   "outputs": [
    {
     "data": {
      "text/plain": [
       "9"
      ]
     },
     "execution_count": 15,
     "metadata": {},
     "output_type": "execute_result"
    }
   ],
   "source": [
    "N_SPLITS = round(len(train) / len(test))\n",
    "N_SPLITS "
   ]
  },
  {
   "cell_type": "markdown",
   "id": "6f698c36",
   "metadata": {},
   "source": [
    "Создадим функцию `best_model` для оценки качества моделей и подборки гиперпараметров кросс-валидацией:"
   ]
  },
  {
   "cell_type": "code",
   "execution_count": 16,
   "id": "9a6b2795",
   "metadata": {},
   "outputs": [],
   "source": [
    "# функция для оценки качества моделей и подборки гиперпараметров кросс-валидацией:\n",
    "def best_model(model, parameters, features_train, target_train):\n",
    "    \n",
    "    # подготовка блоков для кросс-валидации\n",
    "    tscv = TimeSeriesSplit(n_splits=N_SPLITS)\n",
    "    \n",
    "    # подбор гиперпараметров и расчет RMSE с помощью GridSearchCV\n",
    "    grid = GridSearchCV(model, parameters, cv=tscv, scoring='neg_root_mean_squared_error', n_jobs=-1)\n",
    "    grid.fit(features_train, target_train)\n",
    "    \n",
    "    #сохраним лучшую модель\n",
    "    model_best = grid.best_estimator_\n",
    "    print('Лучший результат RMSE:', abs(round(grid.best_score_)))\n",
    "    print('')\n",
    "    print('Модель и гиперпараметры:', model_best)"
   ]
  },
  {
   "cell_type": "markdown",
   "id": "c005396f",
   "metadata": {},
   "source": [
    "### Случайный лес"
   ]
  },
  {
   "cell_type": "code",
   "execution_count": 17,
   "id": "2c753fcc",
   "metadata": {},
   "outputs": [],
   "source": [
    "#Объявляем константную переменную со значением рандомайзера\n",
    "RANDOM_STATE=12345"
   ]
  },
  {
   "cell_type": "code",
   "execution_count": 18,
   "id": "6f0e86dc",
   "metadata": {
    "scrolled": false
   },
   "outputs": [
    {
     "name": "stdout",
     "output_type": "stream",
     "text": [
      "Лучший результат RMSE: 25\n",
      "\n",
      "Модель и гиперпараметры: RandomForestRegressor(max_depth=9, n_estimators=32, n_jobs=-1,\n",
      "                      random_state=12345)\n"
     ]
    }
   ],
   "source": [
    "# создаем модель Случайный лес\n",
    "model_rfr = RandomForestRegressor()\n",
    "\n",
    "# создаем словарь с гиперпараметрами для перебора\n",
    "parameters_rfr = {\n",
    "    'n_estimators': range(2, 33, 5),\n",
    "    'max_depth': range(1, 10, 2),\n",
    "    'n_jobs': [-1],\n",
    "    'random_state': [RANDOM_STATE]\n",
    "}\n",
    "\n",
    "# подбор гиперпараметров и расчет RMSE\n",
    "best_model(model_rfr, parameters_rfr, features_train, target_train)"
   ]
  },
  {
   "cell_type": "markdown",
   "id": "7ae6bf03",
   "metadata": {},
   "source": [
    "### LightGBM"
   ]
  },
  {
   "cell_type": "code",
   "execution_count": 19,
   "id": "926462bf",
   "metadata": {
    "scrolled": true
   },
   "outputs": [
    {
     "name": "stdout",
     "output_type": "stream",
     "text": [
      "Лучший результат RMSE: 24\n",
      "\n",
      "Модель и гиперпараметры: LGBMRegressor(max_depth=15, n_estimators=50, random_state=12345, verbose=-1)\n",
      "CPU times: user 39 s, sys: 263 ms, total: 39.3 s\n",
      "Wall time: 39.6 s\n"
     ]
    }
   ],
   "source": [
    "%%time\n",
    "# создаем модель LightGBM\n",
    "model_lgbm = LGBMRegressor()\n",
    " \n",
    "# создаем словарь с гиперпараметрами для перебора\n",
    "parameters_lgbm = {\n",
    "    'num_leaves': [10, 20, 31], \n",
    "    'n_estimators': [10, 50, 100],\n",
    "    'max_depth' : [10, 15],\n",
    "    'verbose': [-1],\n",
    "    'n_jobs': [-1],\n",
    "    'random_state': [RANDOM_STATE]\n",
    "}\n",
    "\n",
    "# подбор гиперпараметров и расчет RMSE\n",
    "best_model(model_lgbm, parameters_lgbm, features_train, target_train)"
   ]
  },
  {
   "cell_type": "markdown",
   "id": "e749d569",
   "metadata": {},
   "source": [
    "### Линейная регрессия"
   ]
  },
  {
   "cell_type": "code",
   "execution_count": 20,
   "id": "a6901a18",
   "metadata": {},
   "outputs": [
    {
     "name": "stdout",
     "output_type": "stream",
     "text": [
      "Лучший результат RMSE: 31\n",
      "\n",
      "Модель и гиперпараметры: LinearRegression(n_jobs=-1)\n"
     ]
    }
   ],
   "source": [
    "# создаем модель Линейная регрессия\n",
    "model_lr = LinearRegression()\n",
    "\n",
    "parameters_lr = {'n_jobs': [-1]}\n",
    "    \n",
    "# подбор гиперпараметров и расчет RMSE\n",
    "best_model(model_lr, parameters_lr, features_train, target_train)"
   ]
  },
  {
   "cell_type": "markdown",
   "id": "847da6bc",
   "metadata": {},
   "source": [
    "### Сравнение результатов"
   ]
  },
  {
   "cell_type": "markdown",
   "id": "75f4c775",
   "metadata": {},
   "source": [
    "Оформим значения метрики *RMSE* для всех моделей в сводную таблицу. Так как *RMSE* это корень средней квадратичной ошибки, чем меньше ее знаение, тем качественнее предсказание модели."
   ]
  },
  {
   "cell_type": "code",
   "execution_count": 21,
   "id": "b2ef479b",
   "metadata": {
    "scrolled": true
   },
   "outputs": [
    {
     "data": {
      "text/html": [
       "<div>\n",
       "<style scoped>\n",
       "    .dataframe tbody tr th:only-of-type {\n",
       "        vertical-align: middle;\n",
       "    }\n",
       "\n",
       "    .dataframe tbody tr th {\n",
       "        vertical-align: top;\n",
       "    }\n",
       "\n",
       "    .dataframe thead th {\n",
       "        text-align: right;\n",
       "    }\n",
       "</style>\n",
       "<table border=\"1\" class=\"dataframe\">\n",
       "  <thead>\n",
       "    <tr style=\"text-align: right;\">\n",
       "      <th></th>\n",
       "      <th>RMSE</th>\n",
       "    </tr>\n",
       "  </thead>\n",
       "  <tbody>\n",
       "    <tr>\n",
       "      <th>LightGBM</th>\n",
       "      <td>24</td>\n",
       "    </tr>\n",
       "    <tr>\n",
       "      <th>Случайный лес</th>\n",
       "      <td>25</td>\n",
       "    </tr>\n",
       "    <tr>\n",
       "      <th>Линейная регрессия</th>\n",
       "      <td>31</td>\n",
       "    </tr>\n",
       "  </tbody>\n",
       "</table>\n",
       "</div>"
      ],
      "text/plain": [
       "                    RMSE\n",
       "LightGBM              24\n",
       "Случайный лес         25\n",
       "Линейная регрессия    31"
      ]
     },
     "execution_count": 21,
     "metadata": {},
     "output_type": "execute_result"
    }
   ],
   "source": [
    "score_data = pd.DataFrame(\n",
    "   \n",
    "    data=[\n",
    "        25,\n",
    "        24,\n",
    "        31\n",
    "    ],\n",
    "    \n",
    "    index=[\n",
    "        'Случайный лес', \n",
    "        'LightGBM',\n",
    "        'Линейная регрессия'\n",
    "    ],\n",
    "    \n",
    "    columns=['RMSE']\n",
    ")\n",
    "score_data.sort_values('RMSE')"
   ]
  },
  {
   "cell_type": "markdown",
   "id": "fc21be7f",
   "metadata": {},
   "source": [
    "### Вывод\n",
    "\n",
    "- Мы прибавили к данным новые признаки: \n",
    "  - календарные признаки (неделя, день, час)\n",
    "  - отстающие значения\n",
    "  - скользящее среднее без текущее значение ряда\n",
    "\n",
    "- Мы оценивали качество предсказания и подбирали гиперпараметры, используя кросс-валидацию на скользящей основе: \n",
    "  - ***лучшее качество предсказания показала модель LGBMRegressor(max_depth=15, n_estimators=50, random_state=12345, verbose=-1): RMSE = 24***\n",
    "  - у модели *RandomForestRegressor(max_depth=9, n_estimators=32, n_jobs=-1, random_state=12345)* результат чуть ниже: *RMSE* = 25\n",
    "  - самое низкое качество предсказания у *LinearRegression()*: *RMSE* = 31"
   ]
  },
  {
   "cell_type": "markdown",
   "id": "a9ae716a",
   "metadata": {},
   "source": [
    "## Тестирование модели"
   ]
  },
  {
   "cell_type": "markdown",
   "id": "1beac926",
   "metadata": {},
   "source": [
    "Проведем проверку выбранной нами модели *LGBMRegressor(max_depth=15, n_estimators=50, random_state=12345, verbose=-1)* на тестовой выборке:"
   ]
  },
  {
   "cell_type": "code",
   "execution_count": 22,
   "id": "dbe352a9",
   "metadata": {},
   "outputs": [
    {
     "name": "stdout",
     "output_type": "stream",
     "text": [
      "RMSE для модели LightGBM на тестовой выборке: 43\n"
     ]
    }
   ],
   "source": [
    "# создаем модель LightGBM с подобранными гиперпараметрами\n",
    "model_lgbm_best = LGBMRegressor(\n",
    "    max_depth=15, \n",
    "    n_estimators=50,  \n",
    "    random_state=12345, \n",
    "    verbose=-1)\n",
    " \n",
    "# обучаем модель на тренировочной выборке\n",
    "model_lgbm_best.fit(features_train, target_train)\n",
    "\n",
    "# получаем предсказания на тестовой выборке\n",
    "predictions = model_lgbm_best.predict(features_test)\n",
    "\n",
    "#расчет RMSE\n",
    "print('RMSE для модели LightGBM на тестовой выборке:', \n",
    "      round(mean_squared_error(target_test, predictions, squared=False)))"
   ]
  },
  {
   "cell_type": "markdown",
   "id": "19203b6b",
   "metadata": {},
   "source": [
    "### Вывод\n",
    "Модель *LGBMRegressor(max_depth=15, n_estimators=50, random_state=12345, verbose=-1)* успешно прошла проверку на тестовой выборке с результатом *RMSE* = 43. По условию задачи *RMSE* на тестовой выборке должно быть не больше 48."
   ]
  },
  {
   "cell_type": "markdown",
   "id": "c8e07f28",
   "metadata": {},
   "source": [
    "## Общий вывод\n",
    "\n",
    "**Результат подготовки данных**\n",
    "\n",
    "При подготовке данных было выполнено ресемплирование по 1 часу\n",
    "\n",
    "**Результат анализа данных**\n",
    "\n",
    "С помощью анализа построенных графиков мы выяснили, что скользящее среднее числа заказов растет, скользящее стандартное отклонение в августе сильнее, чем в другие месяцы. Отчетливо виден тренд на ежемесячное увеличение числа заказов такси. Прослеживается сезонность - самый пик заказов приходится на полночь, в районе 6 утра сильный спад заказов. Результат теста Дики - Фуллера показал, что временной ряд стационарный\n",
    "\n",
    "**Результат обучения моделей**\n",
    "\n",
    "В ходе обучения мы проверяли качество предсказания моделей и подбирали гиперпараметрами с помощью кросс-валидации на скользящей основе, используя *TimeSeriesSplit()* и *GridSearchCV*. Лучший результат показала модель  *LGBMRegressor(max_depth=15, n_estimators=50, random_state=12345, verbose=-1)*: *RMSE* = 24\n",
    "\n",
    "**Результат тестирования модели**\n",
    "\n",
    "Тест прошел успешно. Модель *LGBMRegressor(max_depth=15, n_estimators=50, random_state=12345, verbose=-1)* на тестовой выборке показала значение *RMSE* = 43, преодолев бейзлайн из условия задания, равный 48."
   ]
  }
 ],
 "metadata": {
  "ExecuteTimeLog": [
   {
    "duration": 1710,
    "start_time": "2022-08-29T09:56:59.698Z"
   },
   {
    "duration": 115,
    "start_time": "2022-08-29T09:57:01.410Z"
   },
   {
    "duration": 35,
    "start_time": "2022-08-29T09:57:01.527Z"
   },
   {
    "duration": 11,
    "start_time": "2022-08-29T09:57:01.564Z"
   },
   {
    "duration": 26,
    "start_time": "2022-08-29T09:57:01.577Z"
   },
   {
    "duration": 336,
    "start_time": "2022-08-29T09:57:01.605Z"
   },
   {
    "duration": 5,
    "start_time": "2022-08-29T09:57:01.943Z"
   },
   {
    "duration": 288,
    "start_time": "2022-08-29T09:57:01.949Z"
   },
   {
    "duration": 166,
    "start_time": "2022-08-29T09:57:02.239Z"
   },
   {
    "duration": 171,
    "start_time": "2022-08-29T09:57:02.408Z"
   },
   {
    "duration": 1921,
    "start_time": "2022-08-29T09:57:02.581Z"
   },
   {
    "duration": 57,
    "start_time": "2022-08-29T11:10:16.397Z"
   },
   {
    "duration": 953,
    "start_time": "2022-08-29T11:14:07.861Z"
   },
   {
    "duration": 1670,
    "start_time": "2022-08-29T11:14:14.920Z"
   },
   {
    "duration": 124,
    "start_time": "2022-08-29T11:14:16.592Z"
   },
   {
    "duration": 35,
    "start_time": "2022-08-29T11:14:16.718Z"
   },
   {
    "duration": 21,
    "start_time": "2022-08-29T11:14:16.755Z"
   },
   {
    "duration": 30,
    "start_time": "2022-08-29T11:14:16.778Z"
   },
   {
    "duration": 379,
    "start_time": "2022-08-29T11:14:16.810Z"
   },
   {
    "duration": 6,
    "start_time": "2022-08-29T11:14:17.191Z"
   },
   {
    "duration": 363,
    "start_time": "2022-08-29T11:14:17.198Z"
   },
   {
    "duration": 173,
    "start_time": "2022-08-29T11:14:17.563Z"
   },
   {
    "duration": 188,
    "start_time": "2022-08-29T11:14:17.740Z"
   },
   {
    "duration": 2176,
    "start_time": "2022-08-29T11:14:17.930Z"
   },
   {
    "duration": 96,
    "start_time": "2022-08-29T11:14:20.108Z"
   },
   {
    "duration": 359,
    "start_time": "2022-08-29T11:14:20.205Z"
   },
   {
    "duration": 4,
    "start_time": "2022-08-29T11:14:20.566Z"
   },
   {
    "duration": 54,
    "start_time": "2022-08-29T11:14:20.572Z"
   },
   {
    "duration": 21,
    "start_time": "2022-08-29T11:14:20.628Z"
   },
   {
    "duration": 43,
    "start_time": "2022-08-29T11:14:20.650Z"
   },
   {
    "duration": 21,
    "start_time": "2022-08-29T11:14:20.694Z"
   },
   {
    "duration": 25,
    "start_time": "2022-08-29T11:14:20.717Z"
   },
   {
    "duration": 16,
    "start_time": "2022-08-29T11:14:20.744Z"
   },
   {
    "duration": 19965,
    "start_time": "2022-08-29T11:14:20.762Z"
   },
   {
    "duration": 0,
    "start_time": "2022-08-29T11:14:40.729Z"
   },
   {
    "duration": 0,
    "start_time": "2022-08-29T11:14:40.731Z"
   },
   {
    "duration": 0,
    "start_time": "2022-08-29T11:14:40.732Z"
   },
   {
    "duration": 0,
    "start_time": "2022-08-29T11:14:40.734Z"
   },
   {
    "duration": 2708,
    "start_time": "2022-08-29T11:15:37.198Z"
   },
   {
    "duration": 91,
    "start_time": "2022-08-29T11:32:01.358Z"
   },
   {
    "duration": 65,
    "start_time": "2022-08-29T11:50:46.214Z"
   },
   {
    "duration": 1410,
    "start_time": "2022-08-29T11:50:59.248Z"
   },
   {
    "duration": 51,
    "start_time": "2022-08-29T11:51:00.660Z"
   },
   {
    "duration": 36,
    "start_time": "2022-08-29T11:51:00.713Z"
   },
   {
    "duration": 33,
    "start_time": "2022-08-29T11:51:00.752Z"
   },
   {
    "duration": 42,
    "start_time": "2022-08-29T11:51:00.787Z"
   },
   {
    "duration": 387,
    "start_time": "2022-08-29T11:51:00.831Z"
   },
   {
    "duration": 6,
    "start_time": "2022-08-29T11:51:01.220Z"
   },
   {
    "duration": 344,
    "start_time": "2022-08-29T11:51:01.229Z"
   },
   {
    "duration": 184,
    "start_time": "2022-08-29T11:51:01.575Z"
   },
   {
    "duration": 196,
    "start_time": "2022-08-29T11:51:01.762Z"
   },
   {
    "duration": 1547,
    "start_time": "2022-08-29T11:51:01.960Z"
   },
   {
    "duration": 210,
    "start_time": "2022-08-29T11:51:03.509Z"
   },
   {
    "duration": 10,
    "start_time": "2022-08-29T11:51:03.720Z"
   },
   {
    "duration": 6,
    "start_time": "2022-08-29T11:51:03.732Z"
   },
   {
    "duration": 8,
    "start_time": "2022-08-29T11:51:03.740Z"
   },
   {
    "duration": 6,
    "start_time": "2022-08-29T11:51:03.750Z"
   },
   {
    "duration": 8,
    "start_time": "2022-08-29T11:51:03.757Z"
   },
   {
    "duration": 3226,
    "start_time": "2022-08-29T11:51:03.766Z"
   },
   {
    "duration": 0,
    "start_time": "2022-08-29T11:51:06.994Z"
   },
   {
    "duration": 0,
    "start_time": "2022-08-29T11:51:06.996Z"
   },
   {
    "duration": 0,
    "start_time": "2022-08-29T11:51:06.997Z"
   },
   {
    "duration": 0,
    "start_time": "2022-08-29T11:51:06.998Z"
   },
   {
    "duration": 23,
    "start_time": "2022-08-29T11:53:46.422Z"
   },
   {
    "duration": 24,
    "start_time": "2022-08-29T11:54:07.571Z"
   },
   {
    "duration": 15,
    "start_time": "2022-08-29T11:54:19.709Z"
   },
   {
    "duration": 22,
    "start_time": "2022-08-29T11:54:36.262Z"
   },
   {
    "duration": 769,
    "start_time": "2022-08-29T11:54:48.029Z"
   },
   {
    "duration": 21,
    "start_time": "2022-08-29T11:55:08.377Z"
   },
   {
    "duration": 27,
    "start_time": "2022-08-29T11:55:24.006Z"
   },
   {
    "duration": 24,
    "start_time": "2022-08-29T12:08:21.384Z"
   },
   {
    "duration": 24,
    "start_time": "2022-08-29T12:08:47.352Z"
   },
   {
    "duration": 24,
    "start_time": "2022-08-29T12:15:05.998Z"
   },
   {
    "duration": 1423,
    "start_time": "2022-08-29T12:17:16.758Z"
   },
   {
    "duration": 50,
    "start_time": "2022-08-29T12:17:18.183Z"
   },
   {
    "duration": 39,
    "start_time": "2022-08-29T12:17:18.235Z"
   },
   {
    "duration": 28,
    "start_time": "2022-08-29T12:17:18.277Z"
   },
   {
    "duration": 14,
    "start_time": "2022-08-29T12:17:18.308Z"
   },
   {
    "duration": 401,
    "start_time": "2022-08-29T12:17:18.324Z"
   },
   {
    "duration": 5,
    "start_time": "2022-08-29T12:17:18.727Z"
   },
   {
    "duration": 340,
    "start_time": "2022-08-29T12:17:18.734Z"
   },
   {
    "duration": 177,
    "start_time": "2022-08-29T12:17:19.076Z"
   },
   {
    "duration": 178,
    "start_time": "2022-08-29T12:17:19.257Z"
   },
   {
    "duration": 3173,
    "start_time": "2022-08-29T12:17:19.437Z"
   },
   {
    "duration": 205,
    "start_time": "2022-08-29T12:17:22.612Z"
   },
   {
    "duration": 8,
    "start_time": "2022-08-29T12:17:22.819Z"
   },
   {
    "duration": 5,
    "start_time": "2022-08-29T12:17:22.829Z"
   },
   {
    "duration": 8,
    "start_time": "2022-08-29T12:17:22.836Z"
   },
   {
    "duration": 9,
    "start_time": "2022-08-29T12:17:22.846Z"
   },
   {
    "duration": 8,
    "start_time": "2022-08-29T12:17:22.857Z"
   },
   {
    "duration": 16706,
    "start_time": "2022-08-29T12:17:22.866Z"
   },
   {
    "duration": 453473,
    "start_time": "2022-08-29T12:17:39.574Z"
   },
   {
    "duration": 0,
    "start_time": "2022-08-29T12:25:13.049Z"
   },
   {
    "duration": 0,
    "start_time": "2022-08-29T12:25:13.051Z"
   },
   {
    "duration": 0,
    "start_time": "2022-08-29T12:25:13.103Z"
   },
   {
    "duration": 53,
    "start_time": "2022-08-29T12:25:17.942Z"
   },
   {
    "duration": 138725,
    "start_time": "2022-08-29T12:27:34.519Z"
   },
   {
    "duration": 5,
    "start_time": "2022-08-29T12:30:08.829Z"
   },
   {
    "duration": 4,
    "start_time": "2022-08-29T12:30:35.370Z"
   },
   {
    "duration": 4,
    "start_time": "2022-08-29T12:30:39.945Z"
   },
   {
    "duration": 4,
    "start_time": "2022-08-29T12:30:45.927Z"
   },
   {
    "duration": 4,
    "start_time": "2022-08-29T12:30:52.617Z"
   },
   {
    "duration": 32342,
    "start_time": "2022-08-29T12:31:10.497Z"
   },
   {
    "duration": 1412,
    "start_time": "2022-08-29T12:34:22.584Z"
   },
   {
    "duration": 62,
    "start_time": "2022-08-29T12:34:23.997Z"
   },
   {
    "duration": 34,
    "start_time": "2022-08-29T12:34:24.061Z"
   },
   {
    "duration": 17,
    "start_time": "2022-08-29T12:34:24.097Z"
   },
   {
    "duration": 29,
    "start_time": "2022-08-29T12:34:24.118Z"
   },
   {
    "duration": 367,
    "start_time": "2022-08-29T12:34:24.149Z"
   },
   {
    "duration": 5,
    "start_time": "2022-08-29T12:34:24.518Z"
   },
   {
    "duration": 323,
    "start_time": "2022-08-29T12:34:24.527Z"
   },
   {
    "duration": 190,
    "start_time": "2022-08-29T12:34:24.852Z"
   },
   {
    "duration": 190,
    "start_time": "2022-08-29T12:34:25.045Z"
   },
   {
    "duration": 3269,
    "start_time": "2022-08-29T12:34:25.236Z"
   },
   {
    "duration": 128,
    "start_time": "2022-08-29T12:34:28.507Z"
   },
   {
    "duration": 9,
    "start_time": "2022-08-29T12:34:28.637Z"
   },
   {
    "duration": 6,
    "start_time": "2022-08-29T12:34:28.648Z"
   },
   {
    "duration": 12,
    "start_time": "2022-08-29T12:34:28.655Z"
   },
   {
    "duration": 11,
    "start_time": "2022-08-29T12:34:28.668Z"
   },
   {
    "duration": 8,
    "start_time": "2022-08-29T12:34:28.681Z"
   },
   {
    "duration": 17744,
    "start_time": "2022-08-29T12:34:28.691Z"
   },
   {
    "duration": 229672,
    "start_time": "2022-08-29T12:34:46.438Z"
   },
   {
    "duration": 106,
    "start_time": "2022-08-29T12:38:36.112Z"
   },
   {
    "duration": 8,
    "start_time": "2022-08-29T12:38:36.221Z"
   },
   {
    "duration": 382,
    "start_time": "2022-08-29T12:38:36.230Z"
   },
   {
    "duration": 9,
    "start_time": "2022-08-29T12:41:08.236Z"
   },
   {
    "duration": 14761,
    "start_time": "2022-08-29T12:44:59.562Z"
   },
   {
    "duration": 1411,
    "start_time": "2022-08-29T12:53:42.062Z"
   },
   {
    "duration": 52,
    "start_time": "2022-08-29T12:53:43.475Z"
   },
   {
    "duration": 36,
    "start_time": "2022-08-29T12:53:43.529Z"
   },
   {
    "duration": 11,
    "start_time": "2022-08-29T12:53:43.568Z"
   },
   {
    "duration": 14,
    "start_time": "2022-08-29T12:53:43.602Z"
   },
   {
    "duration": 383,
    "start_time": "2022-08-29T12:53:43.618Z"
   },
   {
    "duration": 5,
    "start_time": "2022-08-29T12:53:44.003Z"
   },
   {
    "duration": 316,
    "start_time": "2022-08-29T12:53:44.010Z"
   },
   {
    "duration": 189,
    "start_time": "2022-08-29T12:53:44.328Z"
   },
   {
    "duration": 185,
    "start_time": "2022-08-29T12:53:44.520Z"
   },
   {
    "duration": 1898,
    "start_time": "2022-08-29T12:53:44.707Z"
   },
   {
    "duration": 115,
    "start_time": "2022-08-29T12:53:46.607Z"
   },
   {
    "duration": 8,
    "start_time": "2022-08-29T12:53:46.724Z"
   },
   {
    "duration": 8,
    "start_time": "2022-08-29T12:53:46.734Z"
   },
   {
    "duration": 9,
    "start_time": "2022-08-29T12:53:46.743Z"
   },
   {
    "duration": 5,
    "start_time": "2022-08-29T12:53:46.804Z"
   },
   {
    "duration": 17,
    "start_time": "2022-08-29T12:53:46.810Z"
   },
   {
    "duration": 16845,
    "start_time": "2022-08-29T12:53:46.829Z"
   },
   {
    "duration": 458036,
    "start_time": "2022-08-29T12:54:03.675Z"
   },
   {
    "duration": 112,
    "start_time": "2022-08-29T13:01:41.713Z"
   },
   {
    "duration": 9,
    "start_time": "2022-08-29T13:01:41.828Z"
   },
   {
    "duration": 3470,
    "start_time": "2022-08-29T13:01:41.839Z"
   },
   {
    "duration": 3868,
    "start_time": "2022-08-29T13:46:08.103Z"
   },
   {
    "duration": 141,
    "start_time": "2022-08-29T13:46:11.973Z"
   },
   {
    "duration": 30,
    "start_time": "2022-08-29T13:46:12.116Z"
   },
   {
    "duration": 9,
    "start_time": "2022-08-29T13:46:12.147Z"
   },
   {
    "duration": 15,
    "start_time": "2022-08-29T13:46:12.157Z"
   },
   {
    "duration": 300,
    "start_time": "2022-08-29T13:46:12.174Z"
   },
   {
    "duration": 4,
    "start_time": "2022-08-29T13:46:12.476Z"
   },
   {
    "duration": 255,
    "start_time": "2022-08-29T13:46:12.481Z"
   },
   {
    "duration": 137,
    "start_time": "2022-08-29T13:46:12.738Z"
   },
   {
    "duration": 142,
    "start_time": "2022-08-29T13:46:12.877Z"
   },
   {
    "duration": 1635,
    "start_time": "2022-08-29T13:46:13.021Z"
   },
   {
    "duration": 112,
    "start_time": "2022-08-29T13:46:14.657Z"
   },
   {
    "duration": 8,
    "start_time": "2022-08-29T13:46:14.770Z"
   },
   {
    "duration": 6,
    "start_time": "2022-08-29T13:46:14.779Z"
   },
   {
    "duration": 9,
    "start_time": "2022-08-29T13:46:14.786Z"
   },
   {
    "duration": 9,
    "start_time": "2022-08-29T13:46:14.797Z"
   },
   {
    "duration": 4,
    "start_time": "2022-08-29T13:48:37.772Z"
   },
   {
    "duration": 3,
    "start_time": "2022-08-29T13:48:40.782Z"
   },
   {
    "duration": 13950,
    "start_time": "2022-08-29T13:48:41.554Z"
   },
   {
    "duration": 5,
    "start_time": "2022-08-29T13:49:31.944Z"
   },
   {
    "duration": 3,
    "start_time": "2022-08-29T13:49:35.734Z"
   },
   {
    "duration": 13867,
    "start_time": "2022-08-29T13:49:36.585Z"
   },
   {
    "duration": 7,
    "start_time": "2022-08-29T13:50:00.517Z"
   },
   {
    "duration": 4,
    "start_time": "2022-08-29T13:57:25.071Z"
   },
   {
    "duration": 3,
    "start_time": "2022-08-29T13:57:27.845Z"
   },
   {
    "duration": 13862,
    "start_time": "2022-08-29T13:57:28.579Z"
   },
   {
    "duration": 6,
    "start_time": "2022-08-29T13:58:35.435Z"
   },
   {
    "duration": 4,
    "start_time": "2022-08-29T13:58:59.621Z"
   },
   {
    "duration": 13845,
    "start_time": "2022-08-29T13:59:03.549Z"
   },
   {
    "duration": 5,
    "start_time": "2022-08-29T14:00:15.200Z"
   },
   {
    "duration": 2,
    "start_time": "2022-08-29T14:00:18.269Z"
   },
   {
    "duration": 13635,
    "start_time": "2022-08-29T14:00:19.917Z"
   },
   {
    "duration": 4,
    "start_time": "2022-08-29T14:01:22.296Z"
   },
   {
    "duration": 2,
    "start_time": "2022-08-29T14:01:25.600Z"
   },
   {
    "duration": 14050,
    "start_time": "2022-08-29T14:01:26.906Z"
   },
   {
    "duration": 171,
    "start_time": "2022-08-29T14:02:51.647Z"
   },
   {
    "duration": 4,
    "start_time": "2022-08-29T14:03:25.515Z"
   },
   {
    "duration": 13695,
    "start_time": "2022-08-29T14:03:32.503Z"
   },
   {
    "duration": 5,
    "start_time": "2022-08-29T14:04:20.521Z"
   },
   {
    "duration": 13863,
    "start_time": "2022-08-29T14:04:23.992Z"
   },
   {
    "duration": 4,
    "start_time": "2022-08-29T14:05:32.994Z"
   },
   {
    "duration": 2,
    "start_time": "2022-08-29T14:05:36.176Z"
   },
   {
    "duration": 13744,
    "start_time": "2022-08-29T14:05:36.795Z"
   },
   {
    "duration": 7,
    "start_time": "2022-08-29T14:06:05.858Z"
   },
   {
    "duration": 4,
    "start_time": "2022-08-29T14:06:47.247Z"
   },
   {
    "duration": 13938,
    "start_time": "2022-08-29T14:06:50.174Z"
   },
   {
    "duration": 18,
    "start_time": "2022-08-29T14:07:07.455Z"
   },
   {
    "duration": 734521,
    "start_time": "2022-08-29T14:09:09.739Z"
   },
   {
    "duration": 16,
    "start_time": "2022-08-29T14:22:48.554Z"
   },
   {
    "duration": 8,
    "start_time": "2022-08-29T14:25:47.679Z"
   },
   {
    "duration": 4,
    "start_time": "2022-08-29T14:25:49.500Z"
   },
   {
    "duration": 3,
    "start_time": "2022-08-29T14:25:52.178Z"
   },
   {
    "duration": 13544,
    "start_time": "2022-08-29T14:25:52.778Z"
   },
   {
    "duration": 6,
    "start_time": "2022-08-29T14:26:42.323Z"
   },
   {
    "duration": 1952,
    "start_time": "2022-08-29T14:40:13.240Z"
   },
   {
    "duration": 48,
    "start_time": "2022-08-29T14:40:15.194Z"
   },
   {
    "duration": 31,
    "start_time": "2022-08-29T14:40:15.243Z"
   },
   {
    "duration": 10,
    "start_time": "2022-08-29T14:40:15.276Z"
   },
   {
    "duration": 11,
    "start_time": "2022-08-29T14:40:15.288Z"
   },
   {
    "duration": 317,
    "start_time": "2022-08-29T14:40:15.301Z"
   },
   {
    "duration": 5,
    "start_time": "2022-08-29T14:40:15.619Z"
   },
   {
    "duration": 262,
    "start_time": "2022-08-29T14:40:15.625Z"
   },
   {
    "duration": 140,
    "start_time": "2022-08-29T14:40:15.889Z"
   },
   {
    "duration": 138,
    "start_time": "2022-08-29T14:40:16.031Z"
   },
   {
    "duration": 1688,
    "start_time": "2022-08-29T14:40:16.171Z"
   },
   {
    "duration": 199,
    "start_time": "2022-08-29T14:40:17.861Z"
   },
   {
    "duration": 8,
    "start_time": "2022-08-29T14:40:18.062Z"
   },
   {
    "duration": 5,
    "start_time": "2022-08-29T14:40:18.072Z"
   },
   {
    "duration": 6,
    "start_time": "2022-08-29T14:40:18.079Z"
   },
   {
    "duration": 5,
    "start_time": "2022-08-29T14:40:18.086Z"
   },
   {
    "duration": 8,
    "start_time": "2022-08-29T14:40:18.092Z"
   },
   {
    "duration": 13450,
    "start_time": "2022-08-29T14:40:18.101Z"
   },
   {
    "duration": 39612,
    "start_time": "2022-08-29T14:40:31.554Z"
   },
   {
    "duration": 131,
    "start_time": "2022-08-29T14:41:11.167Z"
   },
   {
    "duration": 8,
    "start_time": "2022-08-29T14:41:11.299Z"
   },
   {
    "duration": 348,
    "start_time": "2022-08-29T14:41:11.309Z"
   }
  ],
  "kernelspec": {
   "display_name": "Python 3 (ipykernel)",
   "language": "python",
   "name": "python3"
  },
  "language_info": {
   "codemirror_mode": {
    "name": "ipython",
    "version": 3
   },
   "file_extension": ".py",
   "mimetype": "text/x-python",
   "name": "python",
   "nbconvert_exporter": "python",
   "pygments_lexer": "ipython3",
   "version": "3.9.12"
  },
  "toc": {
   "base_numbering": 1,
   "nav_menu": {},
   "number_sections": true,
   "sideBar": true,
   "skip_h1_title": true,
   "title_cell": "Содержание",
   "title_sidebar": "Contents",
   "toc_cell": true,
   "toc_position": {
    "height": "calc(100% - 180px)",
    "left": "10px",
    "top": "150px",
    "width": "166px"
   },
   "toc_section_display": true,
   "toc_window_display": true
  }
 },
 "nbformat": 4,
 "nbformat_minor": 5
}
