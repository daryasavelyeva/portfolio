{
 "cells": [
  {
   "cell_type": "markdown",
   "metadata": {
    "toc": true
   },
   "source": [
    "<h1>Содержание<span class=\"tocSkip\"></span></h1>\n",
    "<div class=\"toc\"><ul class=\"toc-item\"><li><span><a href=\"#Подготовка-данных\" data-toc-modified-id=\"Подготовка-данных-1\"><span class=\"toc-item-num\">1&nbsp;&nbsp;</span>Подготовка данных</a></span><ul class=\"toc-item\"><li><span><a href=\"#Общая-информация\" data-toc-modified-id=\"Общая-информация-1.1\"><span class=\"toc-item-num\">1.1&nbsp;&nbsp;</span>Общая информация</a></span></li><li><span><a href=\"#Очистка-и-лемматизация\" data-toc-modified-id=\"Очистка-и-лемматизация-1.2\"><span class=\"toc-item-num\">1.2&nbsp;&nbsp;</span>Очистка и лемматизация</a></span></li><li><span><a href=\"#Разбивка-данных-на-выборки\" data-toc-modified-id=\"Разбивка-данных-на-выборки-1.3\"><span class=\"toc-item-num\">1.3&nbsp;&nbsp;</span>Разбивка данных на выборки</a></span></li><li><span><a href=\"#Уменьшение-выборки\" data-toc-modified-id=\"Уменьшение-выборки-1.4\"><span class=\"toc-item-num\">1.4&nbsp;&nbsp;</span>Уменьшение выборки</a></span></li><li><span><a href=\"#Преобразование-признаков-в-матрицу\" data-toc-modified-id=\"Преобразование-признаков-в-матрицу-1.5\"><span class=\"toc-item-num\">1.5&nbsp;&nbsp;</span>Преобразование признаков в матрицу</a></span></li><li><span><a href=\"#Вывод\" data-toc-modified-id=\"Вывод-1.6\"><span class=\"toc-item-num\">1.6&nbsp;&nbsp;</span>Вывод</a></span></li></ul></li><li><span><a href=\"#Обучение-моделей\" data-toc-modified-id=\"Обучение-моделей-2\"><span class=\"toc-item-num\">2&nbsp;&nbsp;</span>Обучение моделей</a></span><ul class=\"toc-item\"><li><span><a href=\"#Случайный-лес\" data-toc-modified-id=\"Случайный-лес-2.1\"><span class=\"toc-item-num\">2.1&nbsp;&nbsp;</span>Случайный лес</a></span></li><li><span><a href=\"#CatBoost\" data-toc-modified-id=\"CatBoost-2.2\"><span class=\"toc-item-num\">2.2&nbsp;&nbsp;</span>CatBoost</a></span></li><li><span><a href=\"#Логистическая-регрессия\" data-toc-modified-id=\"Логистическая-регрессия-2.3\"><span class=\"toc-item-num\">2.3&nbsp;&nbsp;</span>Логистическая регрессия</a></span></li><li><span><a href=\"#Сравнение-результатов\" data-toc-modified-id=\"Сравнение-результатов-2.4\"><span class=\"toc-item-num\">2.4&nbsp;&nbsp;</span>Сравнение результатов</a></span></li><li><span><a href=\"#Вывод\" data-toc-modified-id=\"Вывод-2.5\"><span class=\"toc-item-num\">2.5&nbsp;&nbsp;</span>Вывод</a></span></li></ul></li><li><span><a href=\"#Тестирование-модели\" data-toc-modified-id=\"Тестирование-модели-3\"><span class=\"toc-item-num\">3&nbsp;&nbsp;</span>Тестирование модели</a></span><ul class=\"toc-item\"><li><span><a href=\"#Вывод\" data-toc-modified-id=\"Вывод-3.1\"><span class=\"toc-item-num\">3.1&nbsp;&nbsp;</span>Вывод</a></span></li></ul></li><li><span><a href=\"#Общий-вывод\" data-toc-modified-id=\"Общий-вывод-4\"><span class=\"toc-item-num\">4&nbsp;&nbsp;</span>Общий вывод</a></span></li></ul></div>"
   ]
  },
  {
   "cell_type": "markdown",
   "metadata": {},
   "source": [
    "# Определение токсичных комментариев"
   ]
  },
  {
   "cell_type": "markdown",
   "metadata": {},
   "source": [
    "Интернет-магазину требуется инструмент для анализа комментариев пользователей на английском языке и определения токсичных для отправки на модерацию. Необходимо обучить модель по классификации комментариев на позитивные и негативные со значением метрики F1 не меньше 0.75.\n",
    "\n",
    "В распоряжении имеется набор данных с разметкой о токсичности правок.\n",
    "\n",
    "**План исследования**\n",
    "\n",
    "1. Загрузка и подготовка данных\n",
    "2. Обучение нескольких моделей\n",
    "3. Тестирование лучшей модели\n",
    "4. Общий вывод"
   ]
  },
  {
   "cell_type": "markdown",
   "metadata": {},
   "source": [
    "## Подготовка данных"
   ]
  },
  {
   "cell_type": "markdown",
   "metadata": {},
   "source": [
    "### Общая информация"
   ]
  },
  {
   "cell_type": "markdown",
   "metadata": {},
   "source": [
    "Проведем необходимые установки и импорты библиотек:"
   ]
  },
  {
   "cell_type": "code",
   "execution_count": 1,
   "metadata": {},
   "outputs": [
    {
     "name": "stdout",
     "output_type": "stream",
     "text": [
      "Requirement already satisfied: spacy in /Users/Dasha/opt/anaconda3/lib/python3.9/site-packages (3.4.1)\n",
      "Requirement already satisfied: requests<3.0.0,>=2.13.0 in /Users/Dasha/opt/anaconda3/lib/python3.9/site-packages (from spacy) (2.28.1)\n",
      "Requirement already satisfied: numpy>=1.15.0 in /Users/Dasha/opt/anaconda3/lib/python3.9/site-packages (from spacy) (1.21.5)\n",
      "Requirement already satisfied: preshed<3.1.0,>=3.0.2 in /Users/Dasha/opt/anaconda3/lib/python3.9/site-packages (from spacy) (3.0.7)\n",
      "Requirement already satisfied: spacy-legacy<3.1.0,>=3.0.9 in /Users/Dasha/opt/anaconda3/lib/python3.9/site-packages (from spacy) (3.0.10)\n",
      "Requirement already satisfied: pydantic!=1.8,!=1.8.1,<1.10.0,>=1.7.4 in /Users/Dasha/opt/anaconda3/lib/python3.9/site-packages (from spacy) (1.9.2)\n",
      "Requirement already satisfied: catalogue<2.1.0,>=2.0.6 in /Users/Dasha/opt/anaconda3/lib/python3.9/site-packages (from spacy) (2.0.8)\n",
      "Requirement already satisfied: cymem<2.1.0,>=2.0.2 in /Users/Dasha/opt/anaconda3/lib/python3.9/site-packages (from spacy) (2.0.6)\n",
      "Requirement already satisfied: spacy-loggers<2.0.0,>=1.0.0 in /Users/Dasha/opt/anaconda3/lib/python3.9/site-packages (from spacy) (1.0.3)\n",
      "Requirement already satisfied: setuptools in /Users/Dasha/opt/anaconda3/lib/python3.9/site-packages (from spacy) (63.4.1)\n",
      "Requirement already satisfied: murmurhash<1.1.0,>=0.28.0 in /Users/Dasha/opt/anaconda3/lib/python3.9/site-packages (from spacy) (1.0.8)\n",
      "Requirement already satisfied: wasabi<1.1.0,>=0.9.1 in /Users/Dasha/opt/anaconda3/lib/python3.9/site-packages (from spacy) (0.10.1)\n",
      "Requirement already satisfied: langcodes<4.0.0,>=3.2.0 in /Users/Dasha/opt/anaconda3/lib/python3.9/site-packages (from spacy) (3.3.0)\n",
      "Requirement already satisfied: typer<0.5.0,>=0.3.0 in /Users/Dasha/opt/anaconda3/lib/python3.9/site-packages (from spacy) (0.4.2)\n",
      "Requirement already satisfied: thinc<8.2.0,>=8.1.0 in /Users/Dasha/opt/anaconda3/lib/python3.9/site-packages (from spacy) (8.1.0)\n",
      "Requirement already satisfied: srsly<3.0.0,>=2.4.3 in /Users/Dasha/opt/anaconda3/lib/python3.9/site-packages (from spacy) (2.4.4)\n",
      "Requirement already satisfied: packaging>=20.0 in /Users/Dasha/opt/anaconda3/lib/python3.9/site-packages (from spacy) (21.3)\n",
      "Requirement already satisfied: jinja2 in /Users/Dasha/opt/anaconda3/lib/python3.9/site-packages (from spacy) (2.11.3)\n",
      "Requirement already satisfied: tqdm<5.0.0,>=4.38.0 in /Users/Dasha/opt/anaconda3/lib/python3.9/site-packages (from spacy) (4.64.0)\n",
      "Requirement already satisfied: pathy>=0.3.5 in /Users/Dasha/opt/anaconda3/lib/python3.9/site-packages (from spacy) (0.6.2)\n",
      "Requirement already satisfied: pyparsing!=3.0.5,>=2.0.2 in /Users/Dasha/opt/anaconda3/lib/python3.9/site-packages (from packaging>=20.0->spacy) (3.0.9)\n",
      "Requirement already satisfied: smart-open<6.0.0,>=5.2.1 in /Users/Dasha/opt/anaconda3/lib/python3.9/site-packages (from pathy>=0.3.5->spacy) (5.2.1)\n",
      "Requirement already satisfied: typing-extensions>=3.7.4.3 in /Users/Dasha/opt/anaconda3/lib/python3.9/site-packages (from pydantic!=1.8,!=1.8.1,<1.10.0,>=1.7.4->spacy) (4.3.0)\n",
      "Requirement already satisfied: charset-normalizer<3,>=2 in /Users/Dasha/opt/anaconda3/lib/python3.9/site-packages (from requests<3.0.0,>=2.13.0->spacy) (2.0.4)\n",
      "Requirement already satisfied: certifi>=2017.4.17 in /Users/Dasha/opt/anaconda3/lib/python3.9/site-packages (from requests<3.0.0,>=2.13.0->spacy) (2022.6.15)\n",
      "Requirement already satisfied: idna<4,>=2.5 in /Users/Dasha/opt/anaconda3/lib/python3.9/site-packages (from requests<3.0.0,>=2.13.0->spacy) (3.3)\n",
      "Requirement already satisfied: urllib3<1.27,>=1.21.1 in /Users/Dasha/opt/anaconda3/lib/python3.9/site-packages (from requests<3.0.0,>=2.13.0->spacy) (1.26.11)\n",
      "Requirement already satisfied: blis<0.8.0,>=0.7.8 in /Users/Dasha/opt/anaconda3/lib/python3.9/site-packages (from thinc<8.2.0,>=8.1.0->spacy) (0.7.8)\n",
      "Requirement already satisfied: click<9.0.0,>=7.1.1 in /Users/Dasha/opt/anaconda3/lib/python3.9/site-packages (from typer<0.5.0,>=0.3.0->spacy) (8.0.4)\n",
      "Requirement already satisfied: MarkupSafe>=0.23 in /Users/Dasha/opt/anaconda3/lib/python3.9/site-packages (from jinja2->spacy) (2.0.1)\n",
      "Collecting en-core-web-sm==3.4.1\n",
      "  Downloading https://github.com/explosion/spacy-models/releases/download/en_core_web_sm-3.4.1/en_core_web_sm-3.4.1-py3-none-any.whl (12.8 MB)\n",
      "\u001b[2K     \u001b[90m━━━━━━━━━━━━━━━━━━━━━━━━━━━━━━━━━━━━━━━━\u001b[0m \u001b[32m12.8/12.8 MB\u001b[0m \u001b[31m7.6 MB/s\u001b[0m eta \u001b[36m0:00:00\u001b[0m00:01\u001b[0m00:01\u001b[0mm\n",
      "\u001b[?25hRequirement already satisfied: spacy<3.5.0,>=3.4.0 in /Users/Dasha/opt/anaconda3/lib/python3.9/site-packages (from en-core-web-sm==3.4.1) (3.4.1)\n",
      "Requirement already satisfied: spacy-loggers<2.0.0,>=1.0.0 in /Users/Dasha/opt/anaconda3/lib/python3.9/site-packages (from spacy<3.5.0,>=3.4.0->en-core-web-sm==3.4.1) (1.0.3)\n",
      "Requirement already satisfied: tqdm<5.0.0,>=4.38.0 in /Users/Dasha/opt/anaconda3/lib/python3.9/site-packages (from spacy<3.5.0,>=3.4.0->en-core-web-sm==3.4.1) (4.64.0)\n",
      "Requirement already satisfied: murmurhash<1.1.0,>=0.28.0 in /Users/Dasha/opt/anaconda3/lib/python3.9/site-packages (from spacy<3.5.0,>=3.4.0->en-core-web-sm==3.4.1) (1.0.8)\n",
      "Requirement already satisfied: spacy-legacy<3.1.0,>=3.0.9 in /Users/Dasha/opt/anaconda3/lib/python3.9/site-packages (from spacy<3.5.0,>=3.4.0->en-core-web-sm==3.4.1) (3.0.10)\n",
      "Requirement already satisfied: setuptools in /Users/Dasha/opt/anaconda3/lib/python3.9/site-packages (from spacy<3.5.0,>=3.4.0->en-core-web-sm==3.4.1) (63.4.1)\n",
      "Requirement already satisfied: langcodes<4.0.0,>=3.2.0 in /Users/Dasha/opt/anaconda3/lib/python3.9/site-packages (from spacy<3.5.0,>=3.4.0->en-core-web-sm==3.4.1) (3.3.0)\n",
      "Requirement already satisfied: pathy>=0.3.5 in /Users/Dasha/opt/anaconda3/lib/python3.9/site-packages (from spacy<3.5.0,>=3.4.0->en-core-web-sm==3.4.1) (0.6.2)\n",
      "Requirement already satisfied: srsly<3.0.0,>=2.4.3 in /Users/Dasha/opt/anaconda3/lib/python3.9/site-packages (from spacy<3.5.0,>=3.4.0->en-core-web-sm==3.4.1) (2.4.4)\n",
      "Requirement already satisfied: wasabi<1.1.0,>=0.9.1 in /Users/Dasha/opt/anaconda3/lib/python3.9/site-packages (from spacy<3.5.0,>=3.4.0->en-core-web-sm==3.4.1) (0.10.1)\n",
      "Requirement already satisfied: cymem<2.1.0,>=2.0.2 in /Users/Dasha/opt/anaconda3/lib/python3.9/site-packages (from spacy<3.5.0,>=3.4.0->en-core-web-sm==3.4.1) (2.0.6)\n",
      "Requirement already satisfied: typer<0.5.0,>=0.3.0 in /Users/Dasha/opt/anaconda3/lib/python3.9/site-packages (from spacy<3.5.0,>=3.4.0->en-core-web-sm==3.4.1) (0.4.2)\n",
      "Requirement already satisfied: pydantic!=1.8,!=1.8.1,<1.10.0,>=1.7.4 in /Users/Dasha/opt/anaconda3/lib/python3.9/site-packages (from spacy<3.5.0,>=3.4.0->en-core-web-sm==3.4.1) (1.9.2)\n",
      "Requirement already satisfied: packaging>=20.0 in /Users/Dasha/opt/anaconda3/lib/python3.9/site-packages (from spacy<3.5.0,>=3.4.0->en-core-web-sm==3.4.1) (21.3)\n",
      "Requirement already satisfied: catalogue<2.1.0,>=2.0.6 in /Users/Dasha/opt/anaconda3/lib/python3.9/site-packages (from spacy<3.5.0,>=3.4.0->en-core-web-sm==3.4.1) (2.0.8)\n",
      "Requirement already satisfied: preshed<3.1.0,>=3.0.2 in /Users/Dasha/opt/anaconda3/lib/python3.9/site-packages (from spacy<3.5.0,>=3.4.0->en-core-web-sm==3.4.1) (3.0.7)\n",
      "Requirement already satisfied: numpy>=1.15.0 in /Users/Dasha/opt/anaconda3/lib/python3.9/site-packages (from spacy<3.5.0,>=3.4.0->en-core-web-sm==3.4.1) (1.21.5)\n",
      "Requirement already satisfied: requests<3.0.0,>=2.13.0 in /Users/Dasha/opt/anaconda3/lib/python3.9/site-packages (from spacy<3.5.0,>=3.4.0->en-core-web-sm==3.4.1) (2.28.1)\n",
      "Requirement already satisfied: thinc<8.2.0,>=8.1.0 in /Users/Dasha/opt/anaconda3/lib/python3.9/site-packages (from spacy<3.5.0,>=3.4.0->en-core-web-sm==3.4.1) (8.1.0)\n",
      "Requirement already satisfied: jinja2 in /Users/Dasha/opt/anaconda3/lib/python3.9/site-packages (from spacy<3.5.0,>=3.4.0->en-core-web-sm==3.4.1) (2.11.3)\n",
      "Requirement already satisfied: pyparsing!=3.0.5,>=2.0.2 in /Users/Dasha/opt/anaconda3/lib/python3.9/site-packages (from packaging>=20.0->spacy<3.5.0,>=3.4.0->en-core-web-sm==3.4.1) (3.0.9)\n",
      "Requirement already satisfied: smart-open<6.0.0,>=5.2.1 in /Users/Dasha/opt/anaconda3/lib/python3.9/site-packages (from pathy>=0.3.5->spacy<3.5.0,>=3.4.0->en-core-web-sm==3.4.1) (5.2.1)\n",
      "Requirement already satisfied: typing-extensions>=3.7.4.3 in /Users/Dasha/opt/anaconda3/lib/python3.9/site-packages (from pydantic!=1.8,!=1.8.1,<1.10.0,>=1.7.4->spacy<3.5.0,>=3.4.0->en-core-web-sm==3.4.1) (4.3.0)\n",
      "Requirement already satisfied: idna<4,>=2.5 in /Users/Dasha/opt/anaconda3/lib/python3.9/site-packages (from requests<3.0.0,>=2.13.0->spacy<3.5.0,>=3.4.0->en-core-web-sm==3.4.1) (3.3)\n",
      "Requirement already satisfied: urllib3<1.27,>=1.21.1 in /Users/Dasha/opt/anaconda3/lib/python3.9/site-packages (from requests<3.0.0,>=2.13.0->spacy<3.5.0,>=3.4.0->en-core-web-sm==3.4.1) (1.26.11)\n",
      "Requirement already satisfied: certifi>=2017.4.17 in /Users/Dasha/opt/anaconda3/lib/python3.9/site-packages (from requests<3.0.0,>=2.13.0->spacy<3.5.0,>=3.4.0->en-core-web-sm==3.4.1) (2022.6.15)\n",
      "Requirement already satisfied: charset-normalizer<3,>=2 in /Users/Dasha/opt/anaconda3/lib/python3.9/site-packages (from requests<3.0.0,>=2.13.0->spacy<3.5.0,>=3.4.0->en-core-web-sm==3.4.1) (2.0.4)\n",
      "Requirement already satisfied: blis<0.8.0,>=0.7.8 in /Users/Dasha/opt/anaconda3/lib/python3.9/site-packages (from thinc<8.2.0,>=8.1.0->spacy<3.5.0,>=3.4.0->en-core-web-sm==3.4.1) (0.7.8)\n",
      "Requirement already satisfied: click<9.0.0,>=7.1.1 in /Users/Dasha/opt/anaconda3/lib/python3.9/site-packages (from typer<0.5.0,>=0.3.0->spacy<3.5.0,>=3.4.0->en-core-web-sm==3.4.1) (8.0.4)\n",
      "Requirement already satisfied: MarkupSafe>=0.23 in /Users/Dasha/opt/anaconda3/lib/python3.9/site-packages (from jinja2->spacy<3.5.0,>=3.4.0->en-core-web-sm==3.4.1) (2.0.1)\n",
      "\u001b[38;5;2m✔ Download and installation successful\u001b[0m\n",
      "You can now load the package via spacy.load('en_core_web_sm')\n"
     ]
    }
   ],
   "source": [
    "# Загрузим пакет spaCy\n",
    "import sys\n",
    "!{sys.executable} -m pip install spacy\n",
    "\n",
    "# Загрузим модель 'en' (английский язык)\n",
    "!{sys.executable} -m spacy download en_core_web_sm"
   ]
  },
  {
   "cell_type": "code",
   "execution_count": 2,
   "metadata": {},
   "outputs": [],
   "source": [
    "import pandas as pd\n",
    "pd.set_option('display.max_columns', None) \n",
    "pd.set_option('display.max_rows', None) \n",
    "\n",
    "import numpy as np\n",
    "np.set_printoptions(threshold=np.inf)\n",
    "\n",
    "import matplotlib.pyplot as plt\n",
    "\n",
    "from tqdm.auto import tqdm\n",
    "tqdm.pandas()\n",
    "\n",
    "import re\n",
    "import spacy\n",
    "\n",
    "from sklearn.model_selection import train_test_split, GridSearchCV\n",
    "from sklearn.metrics import f1_score\n",
    "from sklearn.utils import shuffle\n",
    "from sklearn.pipeline import Pipeline\n",
    "\n",
    "import nltk\n",
    "from nltk.corpus import stopwords as nltk_stopwords\n",
    "from sklearn.feature_extraction.text import TfidfVectorizer\n",
    "\n",
    "import time\n",
    "\n",
    "from sklearn.ensemble import RandomForestClassifier\n",
    "from sklearn.linear_model import LogisticRegression\n",
    "from catboost import CatBoostClassifier"
   ]
  },
  {
   "cell_type": "markdown",
   "metadata": {},
   "source": [
    "Загрузим данные:"
   ]
  },
  {
   "cell_type": "code",
   "execution_count": 3,
   "metadata": {},
   "outputs": [],
   "source": [
    "try:\n",
    "    data = pd.read_csv('/datasets/toxic_comments.csv') \n",
    "except:\n",
    "    data = pd.read_csv('/Users/Dasha/ml_for_text_project_toxic_comments/toxic_comments.csv')"
   ]
  },
  {
   "cell_type": "markdown",
   "metadata": {},
   "source": [
    "Изучим общую информацию о данных:"
   ]
  },
  {
   "cell_type": "code",
   "execution_count": 4,
   "metadata": {
    "scrolled": true
   },
   "outputs": [
    {
     "data": {
      "text/html": [
       "<div>\n",
       "<style scoped>\n",
       "    .dataframe tbody tr th:only-of-type {\n",
       "        vertical-align: middle;\n",
       "    }\n",
       "\n",
       "    .dataframe tbody tr th {\n",
       "        vertical-align: top;\n",
       "    }\n",
       "\n",
       "    .dataframe thead th {\n",
       "        text-align: right;\n",
       "    }\n",
       "</style>\n",
       "<table border=\"1\" class=\"dataframe\">\n",
       "  <thead>\n",
       "    <tr style=\"text-align: right;\">\n",
       "      <th></th>\n",
       "      <th>text</th>\n",
       "      <th>toxic</th>\n",
       "    </tr>\n",
       "  </thead>\n",
       "  <tbody>\n",
       "    <tr>\n",
       "      <th>0</th>\n",
       "      <td>Explanation\\nWhy the edits made under my usern...</td>\n",
       "      <td>0</td>\n",
       "    </tr>\n",
       "    <tr>\n",
       "      <th>1</th>\n",
       "      <td>D'aww! He matches this background colour I'm s...</td>\n",
       "      <td>0</td>\n",
       "    </tr>\n",
       "    <tr>\n",
       "      <th>2</th>\n",
       "      <td>Hey man, I'm really not trying to edit war. It...</td>\n",
       "      <td>0</td>\n",
       "    </tr>\n",
       "    <tr>\n",
       "      <th>3</th>\n",
       "      <td>\"\\nMore\\nI can't make any real suggestions on ...</td>\n",
       "      <td>0</td>\n",
       "    </tr>\n",
       "    <tr>\n",
       "      <th>4</th>\n",
       "      <td>You, sir, are my hero. Any chance you remember...</td>\n",
       "      <td>0</td>\n",
       "    </tr>\n",
       "    <tr>\n",
       "      <th>5</th>\n",
       "      <td>\"\\n\\nCongratulations from me as well, use the ...</td>\n",
       "      <td>0</td>\n",
       "    </tr>\n",
       "    <tr>\n",
       "      <th>6</th>\n",
       "      <td>COCKSUCKER BEFORE YOU PISS AROUND ON MY WORK</td>\n",
       "      <td>1</td>\n",
       "    </tr>\n",
       "    <tr>\n",
       "      <th>7</th>\n",
       "      <td>Your vandalism to the Matt Shirvington article...</td>\n",
       "      <td>0</td>\n",
       "    </tr>\n",
       "    <tr>\n",
       "      <th>8</th>\n",
       "      <td>Sorry if the word 'nonsense' was offensive to ...</td>\n",
       "      <td>0</td>\n",
       "    </tr>\n",
       "    <tr>\n",
       "      <th>9</th>\n",
       "      <td>alignment on this subject and which are contra...</td>\n",
       "      <td>0</td>\n",
       "    </tr>\n",
       "    <tr>\n",
       "      <th>10</th>\n",
       "      <td>\"\\nFair use rationale for Image:Wonju.jpg\\n\\nT...</td>\n",
       "      <td>0</td>\n",
       "    </tr>\n",
       "    <tr>\n",
       "      <th>11</th>\n",
       "      <td>bbq \\n\\nbe a man and lets discuss it-maybe ove...</td>\n",
       "      <td>0</td>\n",
       "    </tr>\n",
       "    <tr>\n",
       "      <th>12</th>\n",
       "      <td>Hey... what is it..\\n@ | talk .\\nWhat is it......</td>\n",
       "      <td>1</td>\n",
       "    </tr>\n",
       "    <tr>\n",
       "      <th>13</th>\n",
       "      <td>Before you start throwing accusations and warn...</td>\n",
       "      <td>0</td>\n",
       "    </tr>\n",
       "    <tr>\n",
       "      <th>14</th>\n",
       "      <td>Oh, and the girl above started her arguments w...</td>\n",
       "      <td>0</td>\n",
       "    </tr>\n",
       "  </tbody>\n",
       "</table>\n",
       "</div>"
      ],
      "text/plain": [
       "                                                 text  toxic\n",
       "0   Explanation\\nWhy the edits made under my usern...      0\n",
       "1   D'aww! He matches this background colour I'm s...      0\n",
       "2   Hey man, I'm really not trying to edit war. It...      0\n",
       "3   \"\\nMore\\nI can't make any real suggestions on ...      0\n",
       "4   You, sir, are my hero. Any chance you remember...      0\n",
       "5   \"\\n\\nCongratulations from me as well, use the ...      0\n",
       "6        COCKSUCKER BEFORE YOU PISS AROUND ON MY WORK      1\n",
       "7   Your vandalism to the Matt Shirvington article...      0\n",
       "8   Sorry if the word 'nonsense' was offensive to ...      0\n",
       "9   alignment on this subject and which are contra...      0\n",
       "10  \"\\nFair use rationale for Image:Wonju.jpg\\n\\nT...      0\n",
       "11  bbq \\n\\nbe a man and lets discuss it-maybe ove...      0\n",
       "12  Hey... what is it..\\n@ | talk .\\nWhat is it......      1\n",
       "13  Before you start throwing accusations and warn...      0\n",
       "14  Oh, and the girl above started her arguments w...      0"
      ]
     },
     "metadata": {},
     "output_type": "display_data"
    },
    {
     "name": "stdout",
     "output_type": "stream",
     "text": [
      "<class 'pandas.core.frame.DataFrame'>\n",
      "RangeIndex: 159571 entries, 0 to 159570\n",
      "Data columns (total 2 columns):\n",
      " #   Column  Non-Null Count   Dtype \n",
      "---  ------  --------------   ----- \n",
      " 0   text    159571 non-null  object\n",
      " 1   toxic   159571 non-null  int64 \n",
      "dtypes: int64(1), object(1)\n",
      "memory usage: 2.4+ MB\n"
     ]
    },
    {
     "data": {
      "text/plain": [
       "None"
      ]
     },
     "metadata": {},
     "output_type": "display_data"
    },
    {
     "data": {
      "text/html": [
       "<div>\n",
       "<style scoped>\n",
       "    .dataframe tbody tr th:only-of-type {\n",
       "        vertical-align: middle;\n",
       "    }\n",
       "\n",
       "    .dataframe tbody tr th {\n",
       "        vertical-align: top;\n",
       "    }\n",
       "\n",
       "    .dataframe thead th {\n",
       "        text-align: right;\n",
       "    }\n",
       "</style>\n",
       "<table border=\"1\" class=\"dataframe\">\n",
       "  <thead>\n",
       "    <tr style=\"text-align: right;\">\n",
       "      <th></th>\n",
       "      <th>toxic</th>\n",
       "    </tr>\n",
       "  </thead>\n",
       "  <tbody>\n",
       "    <tr>\n",
       "      <th>count</th>\n",
       "      <td>159571.000000</td>\n",
       "    </tr>\n",
       "    <tr>\n",
       "      <th>mean</th>\n",
       "      <td>0.101679</td>\n",
       "    </tr>\n",
       "    <tr>\n",
       "      <th>std</th>\n",
       "      <td>0.302226</td>\n",
       "    </tr>\n",
       "    <tr>\n",
       "      <th>min</th>\n",
       "      <td>0.000000</td>\n",
       "    </tr>\n",
       "    <tr>\n",
       "      <th>25%</th>\n",
       "      <td>0.000000</td>\n",
       "    </tr>\n",
       "    <tr>\n",
       "      <th>50%</th>\n",
       "      <td>0.000000</td>\n",
       "    </tr>\n",
       "    <tr>\n",
       "      <th>75%</th>\n",
       "      <td>0.000000</td>\n",
       "    </tr>\n",
       "    <tr>\n",
       "      <th>max</th>\n",
       "      <td>1.000000</td>\n",
       "    </tr>\n",
       "  </tbody>\n",
       "</table>\n",
       "</div>"
      ],
      "text/plain": [
       "               toxic\n",
       "count  159571.000000\n",
       "mean        0.101679\n",
       "std         0.302226\n",
       "min         0.000000\n",
       "25%         0.000000\n",
       "50%         0.000000\n",
       "75%         0.000000\n",
       "max         1.000000"
      ]
     },
     "metadata": {},
     "output_type": "display_data"
    },
    {
     "name": "stdout",
     "output_type": "stream",
     "text": [
      "Количество явных дубликатов в объектах: 0\n"
     ]
    }
   ],
   "source": [
    "# для работы дублируем датасет, чтобы не вносить изменения в исходный файл\n",
    "data_new = data.copy()\n",
    "\n",
    "#выводим первые 15 строк таблицы\n",
    "display(data_new.head(15))\n",
    "    \n",
    "#выводим информацию о датасете\n",
    "display(data_new.info())\n",
    "    \n",
    "#выводим описательную статистику данных\n",
    "display(data_new.describe())\n",
    "    \n",
    "#проверяем наличие явных дубликатов в объектах\n",
    "print('Количество явных дубликатов в объектах:', data_new.duplicated().sum())"
   ]
  },
  {
   "cell_type": "markdown",
   "metadata": {},
   "source": [
    "Явные дубликаты и пропуски в данных отсутствуют, тип данных в порядке. Текст сырой - в нем присутствуют лишние символы, необходима лемматизация. В целевом признаке токсичные комментарии относятся к классу 1, остальные - к классу 0 (бинарная классификация).\n",
    "\n",
    "Посмотрим на распределение целевого класса:"
   ]
  },
  {
   "cell_type": "code",
   "execution_count": 5,
   "metadata": {
    "scrolled": true
   },
   "outputs": [
    {
     "data": {
      "text/plain": [
       "0    143346\n",
       "1     16225\n",
       "Name: toxic, dtype: int64"
      ]
     },
     "execution_count": 5,
     "metadata": {},
     "output_type": "execute_result"
    }
   ],
   "source": [
    "data_new['toxic'].value_counts()"
   ]
  },
  {
   "cell_type": "code",
   "execution_count": 6,
   "metadata": {
    "scrolled": false
   },
   "outputs": [
    {
     "data": {
      "image/png": "[encoded data removed]",
      "text/plain": [
       "<Figure size 432x288 with 1 Axes>"
      ]
     },
     "metadata": {
      "needs_background": "light"
     },
     "output_type": "display_data"
    }
   ],
   "source": [
    "data_new['toxic'].plot(kind='hist', color='cadetblue')\n",
    "plt.title('Количество нейтральных (0) и негативных (1) комментариев', fontsize=(15))\n",
    "plt.xticks(np.arange(min(data_new['toxic']), max(data_new['toxic'])+1, 1))\n",
    "\n",
    "plt.show()"
   ]
  },
  {
   "cell_type": "markdown",
   "metadata": {},
   "source": [
    "Целевой класс распределен неравномерно - положительных объектов лишь 9% от всей выборки."
   ]
  },
  {
   "cell_type": "markdown",
   "metadata": {},
   "source": [
    "### Очистка и лемматизация\n",
    "\n",
    "Проведем лемматизацию с помощью пакета *spaCy* - он по умолчанию определяет часть речи и назначает соответствующую лемму,  POS-таг не требуется."
   ]
  },
  {
   "cell_type": "code",
   "execution_count": 7,
   "metadata": {},
   "outputs": [],
   "source": [
    "# объявление модели SpaCy\n",
    "nlp = spacy.load('en_core_web_sm', disable=['parser', 'ner'])"
   ]
  },
  {
   "cell_type": "markdown",
   "metadata": {},
   "source": [
    "Напишем функцию для очистки текста от лишних символов и лемматизации:"
   ]
  },
  {
   "cell_type": "code",
   "execution_count": 8,
   "metadata": {},
   "outputs": [],
   "source": [
    "def clear_and_lemma(text):    \n",
    "    # оставляем в тексте только латинские символы и пробелы\n",
    "    doc=re.sub(r'[^a-zA-Z ]',' ', text)\n",
    "\n",
    "    # проводим лемматизацию\n",
    "    doc = nlp(doc)\n",
    "    doc = \" \".join([token.lemma_ for token in doc])\n",
    "\n",
    "    return \" \".join(doc.split())"
   ]
  },
  {
   "cell_type": "markdown",
   "metadata": {},
   "source": [
    "Применим функцию к тексту, результат запишем в столбец `lemm_text`:"
   ]
  },
  {
   "cell_type": "code",
   "execution_count": 9,
   "metadata": {},
   "outputs": [
    {
     "data": {
      "application/vnd.jupyter.widget-view+json": {
       "model_id": "9e7049688dd5465083aa99edb68037eb",
       "version_major": 2,
       "version_minor": 0
      },
      "text/plain": [
       "  0%|          | 0/159571 [00:00<?, ?it/s]"
      ]
     },
     "metadata": {},
     "output_type": "display_data"
    },
    {
     "name": "stdout",
     "output_type": "stream",
     "text": [
      "CPU times: user 30min 33s, sys: 1min 57s, total: 32min 30s\n",
      "Wall time: 34min 20s\n"
     ]
    }
   ],
   "source": [
    "%%time\n",
    "\n",
    "# очистка и лемматизация текста\n",
    "data_new['lemm_text'] = data_new['text'].progress_apply(clear_and_lemma)"
   ]
  },
  {
   "cell_type": "markdown",
   "metadata": {},
   "source": [
    "Проверим результат:"
   ]
  },
  {
   "cell_type": "code",
   "execution_count": 10,
   "metadata": {
    "scrolled": false
   },
   "outputs": [
    {
     "data": {
      "text/html": [
       "<div>\n",
       "<style scoped>\n",
       "    .dataframe tbody tr th:only-of-type {\n",
       "        vertical-align: middle;\n",
       "    }\n",
       "\n",
       "    .dataframe tbody tr th {\n",
       "        vertical-align: top;\n",
       "    }\n",
       "\n",
       "    .dataframe thead th {\n",
       "        text-align: right;\n",
       "    }\n",
       "</style>\n",
       "<table border=\"1\" class=\"dataframe\">\n",
       "  <thead>\n",
       "    <tr style=\"text-align: right;\">\n",
       "      <th></th>\n",
       "      <th>text</th>\n",
       "      <th>toxic</th>\n",
       "      <th>lemm_text</th>\n",
       "    </tr>\n",
       "  </thead>\n",
       "  <tbody>\n",
       "    <tr>\n",
       "      <th>0</th>\n",
       "      <td>Explanation\\nWhy the edits made under my usern...</td>\n",
       "      <td>0</td>\n",
       "      <td>Explanation why the edit make under my usernam...</td>\n",
       "    </tr>\n",
       "    <tr>\n",
       "      <th>1</th>\n",
       "      <td>D'aww! He matches this background colour I'm s...</td>\n",
       "      <td>0</td>\n",
       "      <td>D aww he match this background colour I m seem...</td>\n",
       "    </tr>\n",
       "    <tr>\n",
       "      <th>2</th>\n",
       "      <td>Hey man, I'm really not trying to edit war. It...</td>\n",
       "      <td>0</td>\n",
       "      <td>hey man I m really not try to edit war it s ju...</td>\n",
       "    </tr>\n",
       "    <tr>\n",
       "      <th>3</th>\n",
       "      <td>\"\\nMore\\nI can't make any real suggestions on ...</td>\n",
       "      <td>0</td>\n",
       "      <td>More I can t make any real suggestion on impro...</td>\n",
       "    </tr>\n",
       "    <tr>\n",
       "      <th>4</th>\n",
       "      <td>You, sir, are my hero. Any chance you remember...</td>\n",
       "      <td>0</td>\n",
       "      <td>you sir be my hero any chance you remember wha...</td>\n",
       "    </tr>\n",
       "    <tr>\n",
       "      <th>5</th>\n",
       "      <td>\"\\n\\nCongratulations from me as well, use the ...</td>\n",
       "      <td>0</td>\n",
       "      <td>congratulation from I as well use the tool wel...</td>\n",
       "    </tr>\n",
       "    <tr>\n",
       "      <th>6</th>\n",
       "      <td>COCKSUCKER BEFORE YOU PISS AROUND ON MY WORK</td>\n",
       "      <td>1</td>\n",
       "      <td>COCKSUCKER before you pis around on my work</td>\n",
       "    </tr>\n",
       "    <tr>\n",
       "      <th>7</th>\n",
       "      <td>Your vandalism to the Matt Shirvington article...</td>\n",
       "      <td>0</td>\n",
       "      <td>your vandalism to the Matt Shirvington article...</td>\n",
       "    </tr>\n",
       "    <tr>\n",
       "      <th>8</th>\n",
       "      <td>Sorry if the word 'nonsense' was offensive to ...</td>\n",
       "      <td>0</td>\n",
       "      <td>sorry if the word nonsense be offensive to you...</td>\n",
       "    </tr>\n",
       "    <tr>\n",
       "      <th>9</th>\n",
       "      <td>alignment on this subject and which are contra...</td>\n",
       "      <td>0</td>\n",
       "      <td>alignment on this subject and which be contrar...</td>\n",
       "    </tr>\n",
       "  </tbody>\n",
       "</table>\n",
       "</div>"
      ],
      "text/plain": [
       "                                                text  toxic  \\\n",
       "0  Explanation\\nWhy the edits made under my usern...      0   \n",
       "1  D'aww! He matches this background colour I'm s...      0   \n",
       "2  Hey man, I'm really not trying to edit war. It...      0   \n",
       "3  \"\\nMore\\nI can't make any real suggestions on ...      0   \n",
       "4  You, sir, are my hero. Any chance you remember...      0   \n",
       "5  \"\\n\\nCongratulations from me as well, use the ...      0   \n",
       "6       COCKSUCKER BEFORE YOU PISS AROUND ON MY WORK      1   \n",
       "7  Your vandalism to the Matt Shirvington article...      0   \n",
       "8  Sorry if the word 'nonsense' was offensive to ...      0   \n",
       "9  alignment on this subject and which are contra...      0   \n",
       "\n",
       "                                           lemm_text  \n",
       "0  Explanation why the edit make under my usernam...  \n",
       "1  D aww he match this background colour I m seem...  \n",
       "2  hey man I m really not try to edit war it s ju...  \n",
       "3  More I can t make any real suggestion on impro...  \n",
       "4  you sir be my hero any chance you remember wha...  \n",
       "5  congratulation from I as well use the tool wel...  \n",
       "6        COCKSUCKER before you pis around on my work  \n",
       "7  your vandalism to the Matt Shirvington article...  \n",
       "8  sorry if the word nonsense be offensive to you...  \n",
       "9  alignment on this subject and which be contrar...  "
      ]
     },
     "execution_count": 10,
     "metadata": {},
     "output_type": "execute_result"
    }
   ],
   "source": [
    "data_new.head(10)"
   ]
  },
  {
   "cell_type": "markdown",
   "metadata": {},
   "source": [
    "Очиста и лемматизация прошли успешно."
   ]
  },
  {
   "cell_type": "markdown",
   "metadata": {},
   "source": [
    "Удалим из данных столбец с сырым текстом `text` - он не понадобится в дальнейшем:"
   ]
  },
  {
   "cell_type": "code",
   "execution_count": 11,
   "metadata": {},
   "outputs": [],
   "source": [
    "data_new.drop(['text'], inplace=True, axis=1)"
   ]
  },
  {
   "cell_type": "markdown",
   "metadata": {},
   "source": [
    "### Разбивка данных на выборки\n",
    "\n",
    "Сохраним признаки в переменной `features`, целевой признак - в переменной `target`:"
   ]
  },
  {
   "cell_type": "code",
   "execution_count": 12,
   "metadata": {},
   "outputs": [],
   "source": [
    "# признаки\n",
    "features = data_new['lemm_text']\n",
    "\n",
    "# целевой признак\n",
    "target = data_new['toxic']"
   ]
  },
  {
   "cell_type": "markdown",
   "metadata": {},
   "source": [
    "Разобьем данные на обучающую (75%) и тестовую (25%) выборки:"
   ]
  },
  {
   "cell_type": "code",
   "execution_count": 13,
   "metadata": {},
   "outputs": [],
   "source": [
    "# зададим значение рандомайзера\n",
    "RANDOM_STATE=12345"
   ]
  },
  {
   "cell_type": "code",
   "execution_count": 14,
   "metadata": {
    "scrolled": false
   },
   "outputs": [
    {
     "data": {
      "text/plain": [
       "(119678,)"
      ]
     },
     "metadata": {},
     "output_type": "display_data"
    },
    {
     "data": {
      "text/plain": [
       "(39893,)"
      ]
     },
     "metadata": {},
     "output_type": "display_data"
    },
    {
     "data": {
      "text/plain": [
       "(119678,)"
      ]
     },
     "metadata": {},
     "output_type": "display_data"
    },
    {
     "data": {
      "text/plain": [
       "(39893,)"
      ]
     },
     "metadata": {},
     "output_type": "display_data"
    }
   ],
   "source": [
    "# разделим данные на обучающую и тестовую выборку\n",
    "features_train, features_test, target_train, target_test = train_test_split(\n",
    "    features, target, test_size=0.25, stratify=target, random_state=RANDOM_STATE)\n",
    "\n",
    "# проверим результат\n",
    "display(features_train.shape, features_test.shape, target_train.shape, target_test.shape)"
   ]
  },
  {
   "cell_type": "markdown",
   "metadata": {},
   "source": [
    "### Уменьшение выборки"
   ]
  },
  {
   "cell_type": "markdown",
   "metadata": {},
   "source": [
    "Так как у нас присутствует явный дисбаланс классов, уменьшим его техникой *downsampling*:"
   ]
  },
  {
   "cell_type": "code",
   "execution_count": 15,
   "metadata": {},
   "outputs": [
    {
     "name": "stdout",
     "output_type": "stream",
     "text": [
      "(65923,) (65923,)\n"
     ]
    }
   ],
   "source": [
    "# функция с применением техники downsampling для улучшения сбалансированности выборки\n",
    "def downsample(features, target, fraction):\n",
    "    features_zeros = features[target == 0]\n",
    "    features_ones = features[target == 1]\n",
    "    target_zeros = target[target == 0]\n",
    "    target_ones = target[target == 1]\n",
    "\n",
    "    features_downsampled = pd.concat(\n",
    "        [features_zeros.sample(frac=fraction, random_state=12345)] + [features_ones])\n",
    "    \n",
    "    target_downsampled = pd.concat(\n",
    "        [target_zeros.sample(frac=fraction, random_state=12345)] + [target_ones])\n",
    "    \n",
    "    features_downsampled, target_downsampled = shuffle(\n",
    "        features_downsampled, target_downsampled, random_state=12345)\n",
    "    \n",
    "    return features_downsampled, target_downsampled\n",
    "\n",
    "# применим функцию к обучающей выборке - отбросим половину отрицательных объектов\n",
    "features_train_downsampled, target_train_downsampled = downsample(features_train, target_train, 0.5)\n",
    "\n",
    "# проверим результат уменьшения обучающей выборки\n",
    "print(features_train_downsampled.shape, target_train_downsampled.shape)"
   ]
  },
  {
   "cell_type": "markdown",
   "metadata": {},
   "source": [
    "### Преобразование признаков в матрицу"
   ]
  },
  {
   "cell_type": "markdown",
   "metadata": {},
   "source": [
    "При преобразовании признаков в матрицу также будем удалять стоп-слова, которые не несут смысла. Загрузим их:"
   ]
  },
  {
   "cell_type": "code",
   "execution_count": 16,
   "metadata": {
    "scrolled": false
   },
   "outputs": [
    {
     "name": "stderr",
     "output_type": "stream",
     "text": [
      "[nltk_data] Downloading package stopwords to /Users/Dasha/nltk_data...\n",
      "[nltk_data]   Package stopwords is already up-to-date!\n"
     ]
    }
   ],
   "source": [
    "# загрузим английские стоп-слова\n",
    "nltk.download('stopwords')\n",
    "stopwords = set(nltk_stopwords.words('english'))"
   ]
  },
  {
   "cell_type": "markdown",
   "metadata": {},
   "source": [
    "Создадим векторайзер для вычисления *TF-IDF* текстов. В работе мы будем использовать *Pipeline* для соединения векторайзера с классификаторами, поэтому признаки будут преобразованы в матрицу позднее."
   ]
  },
  {
   "cell_type": "code",
   "execution_count": 17,
   "metadata": {
    "scrolled": true
   },
   "outputs": [
    {
     "data": {
      "text/html": [
       "<style>#sk-container-id-1 {color: black;background-color: white;}#sk-container-id-1 pre{padding: 0;}#sk-container-id-1 div.sk-toggleable {background-color: white;}#sk-container-id-1 label.sk-toggleable__label {cursor: pointer;display: block;width: 100%;margin-bottom: 0;padding: 0.3em;box-sizing: border-box;text-align: center;}#sk-container-id-1 label.sk-toggleable__label-arrow:before {content: \"▸\";float: left;margin-right: 0.25em;color: #696969;}#sk-container-id-1 label.sk-toggleable__label-arrow:hover:before {color: black;}#sk-container-id-1 div.sk-estimator:hover label.sk-toggleable__label-arrow:before {color: black;}#sk-container-id-1 div.sk-toggleable__content {max-height: 0;max-width: 0;overflow: hidden;text-align: left;background-color: #f0f8ff;}#sk-container-id-1 div.sk-toggleable__content pre {margin: 0.2em;color: black;border-radius: 0.25em;background-color: #f0f8ff;}#sk-container-id-1 input.sk-toggleable__control:checked~div.sk-toggleable__content {max-height: 200px;max-width: 100%;overflow: auto;}#sk-container-id-1 input.sk-toggleable__control:checked~label.sk-toggleable__label-arrow:before {content: \"▾\";}#sk-container-id-1 div.sk-estimator input.sk-toggleable__control:checked~label.sk-toggleable__label {background-color: #d4ebff;}#sk-container-id-1 div.sk-label input.sk-toggleable__control:checked~label.sk-toggleable__label {background-color: #d4ebff;}#sk-container-id-1 input.sk-hidden--visually {border: 0;clip: rect(1px 1px 1px 1px);clip: rect(1px, 1px, 1px, 1px);height: 1px;margin: -1px;overflow: hidden;padding: 0;position: absolute;width: 1px;}#sk-container-id-1 div.sk-estimator {font-family: monospace;background-color: #f0f8ff;border: 1px dotted black;border-radius: 0.25em;box-sizing: border-box;margin-bottom: 0.5em;}#sk-container-id-1 div.sk-estimator:hover {background-color: #d4ebff;}#sk-container-id-1 div.sk-parallel-item::after {content: \"\";width: 100%;border-bottom: 1px solid gray;flex-grow: 1;}#sk-container-id-1 div.sk-label:hover label.sk-toggleable__label {background-color: #d4ebff;}#sk-container-id-1 div.sk-serial::before {content: \"\";position: absolute;border-left: 1px solid gray;box-sizing: border-box;top: 0;bottom: 0;left: 50%;z-index: 0;}#sk-container-id-1 div.sk-serial {display: flex;flex-direction: column;align-items: center;background-color: white;padding-right: 0.2em;padding-left: 0.2em;position: relative;}#sk-container-id-1 div.sk-item {position: relative;z-index: 1;}#sk-container-id-1 div.sk-parallel {display: flex;align-items: stretch;justify-content: center;background-color: white;position: relative;}#sk-container-id-1 div.sk-item::before, #sk-container-id-1 div.sk-parallel-item::before {content: \"\";position: absolute;border-left: 1px solid gray;box-sizing: border-box;top: 0;bottom: 0;left: 50%;z-index: -1;}#sk-container-id-1 div.sk-parallel-item {display: flex;flex-direction: column;z-index: 1;position: relative;background-color: white;}#sk-container-id-1 div.sk-parallel-item:first-child::after {align-self: flex-end;width: 50%;}#sk-container-id-1 div.sk-parallel-item:last-child::after {align-self: flex-start;width: 50%;}#sk-container-id-1 div.sk-parallel-item:only-child::after {width: 0;}#sk-container-id-1 div.sk-dashed-wrapped {border: 1px dashed gray;margin: 0 0.4em 0.5em 0.4em;box-sizing: border-box;padding-bottom: 0.4em;background-color: white;}#sk-container-id-1 div.sk-label label {font-family: monospace;font-weight: bold;display: inline-block;line-height: 1.2em;}#sk-container-id-1 div.sk-label-container {text-align: center;}#sk-container-id-1 div.sk-container {/* jupyter's `normalize.less` sets `[hidden] { display: none; }` but bootstrap.min.css set `[hidden] { display: none !important; }` so we also need the `!important` here to be able to override the default hidden behavior on the sphinx rendered scikit-learn.org. See: https://github.com/scikit-learn/scikit-learn/issues/21755 */display: inline-block !important;position: relative;}#sk-container-id-1 div.sk-text-repr-fallback {display: none;}</style><div id=\"sk-container-id-1\" class=\"sk-top-container\"><div class=\"sk-text-repr-fallback\"><pre>TfidfVectorizer(stop_words={&#x27;a&#x27;, &#x27;about&#x27;, &#x27;above&#x27;, &#x27;after&#x27;, &#x27;again&#x27;, &#x27;against&#x27;,\n",
       "                            &#x27;ain&#x27;, &#x27;all&#x27;, &#x27;am&#x27;, &#x27;an&#x27;, &#x27;and&#x27;, &#x27;any&#x27;, &#x27;are&#x27;,\n",
       "                            &#x27;aren&#x27;, &quot;aren&#x27;t&quot;, &#x27;as&#x27;, &#x27;at&#x27;, &#x27;be&#x27;, &#x27;because&#x27;,\n",
       "                            &#x27;been&#x27;, &#x27;before&#x27;, &#x27;being&#x27;, &#x27;below&#x27;, &#x27;between&#x27;,\n",
       "                            &#x27;both&#x27;, &#x27;but&#x27;, &#x27;by&#x27;, &#x27;can&#x27;, &#x27;couldn&#x27;, &quot;couldn&#x27;t&quot;, ...})</pre><b>In a Jupyter environment, please rerun this cell to show the HTML representation or trust the notebook. <br />On GitHub, the HTML representation is unable to render, please try loading this page with nbviewer.org.</b></div><div class=\"sk-container\" hidden><div class=\"sk-item\"><div class=\"sk-estimator sk-toggleable\"><input class=\"sk-toggleable__control sk-hidden--visually\" id=\"sk-estimator-id-1\" type=\"checkbox\" checked><label for=\"sk-estimator-id-1\" class=\"sk-toggleable__label sk-toggleable__label-arrow\">TfidfVectorizer</label><div class=\"sk-toggleable__content\"><pre>TfidfVectorizer(stop_words={&#x27;a&#x27;, &#x27;about&#x27;, &#x27;above&#x27;, &#x27;after&#x27;, &#x27;again&#x27;, &#x27;against&#x27;,\n",
       "                            &#x27;ain&#x27;, &#x27;all&#x27;, &#x27;am&#x27;, &#x27;an&#x27;, &#x27;and&#x27;, &#x27;any&#x27;, &#x27;are&#x27;,\n",
       "                            &#x27;aren&#x27;, &quot;aren&#x27;t&quot;, &#x27;as&#x27;, &#x27;at&#x27;, &#x27;be&#x27;, &#x27;because&#x27;,\n",
       "                            &#x27;been&#x27;, &#x27;before&#x27;, &#x27;being&#x27;, &#x27;below&#x27;, &#x27;between&#x27;,\n",
       "                            &#x27;both&#x27;, &#x27;but&#x27;, &#x27;by&#x27;, &#x27;can&#x27;, &#x27;couldn&#x27;, &quot;couldn&#x27;t&quot;, ...})</pre></div></div></div></div></div>"
      ],
      "text/plain": [
       "TfidfVectorizer(stop_words={'a', 'about', 'above', 'after', 'again', 'against',\n",
       "                            'ain', 'all', 'am', 'an', 'and', 'any', 'are',\n",
       "                            'aren', \"aren't\", 'as', 'at', 'be', 'because',\n",
       "                            'been', 'before', 'being', 'below', 'between',\n",
       "                            'both', 'but', 'by', 'can', 'couldn', \"couldn't\", ...})"
      ]
     },
     "execution_count": 17,
     "metadata": {},
     "output_type": "execute_result"
    }
   ],
   "source": [
    "# создаем векторайзер, указав стоп-слова\n",
    "count_tf_idf = TfidfVectorizer(stop_words=stopwords)\n",
    "\n",
    "# обучаем векторайзер\n",
    "count_tf_idf.fit(features_train_downsampled)"
   ]
  },
  {
   "cell_type": "markdown",
   "metadata": {},
   "source": [
    "### Вывод\n",
    "\n",
    "- В ходе изучения общей информации мы выяснили, что пропуски и дубликаты отсутствуют, типы данных в порядке. Текст сырой и требует преобразования. Наблюдается дисбаланс классов целевого признака - положительных классов всего около 9% от общего количества\n",
    "- Текст был лемматизирован с помощью *SpaCy* и очищен от лишних символов\n",
    "- Данные были разбиты на обучающую и тестовую выборку в соотношении 3 : 1\n",
    "- Для борьбы с дисбалансом была применена техника *downsampling* по уменьшению обучающей выборки - половина отрицательных объектов была отброшена\n",
    "- Был создан и обучен векторайзер для преобразования признаков в матрицу, который также будет удалять неинформативные стоп-слова"
   ]
  },
  {
   "cell_type": "markdown",
   "metadata": {},
   "source": [
    "## Обучение моделей "
   ]
  },
  {
   "cell_type": "markdown",
   "metadata": {},
   "source": [
    "В данной работе проведем обучение 3 моделей: *Случайный лес*, *CatBoost* и *Логистическая регрессия*. Для подбора гиперпараметров будем использовать *GridSearchCV*, чтобы не произошло утечки данных во время кросс-валидации, применим *Pipeline*. "
   ]
  },
  {
   "cell_type": "markdown",
   "metadata": {},
   "source": [
    "### Случайный лес"
   ]
  },
  {
   "cell_type": "markdown",
   "metadata": {},
   "source": [
    "Создаем *Pipeline*:"
   ]
  },
  {
   "cell_type": "code",
   "execution_count": 18,
   "metadata": {},
   "outputs": [],
   "source": [
    "# пайплайн для Случайного леса\n",
    "pipe_rfc = Pipeline(\n",
    "    [\n",
    "        (\"tfidf\", count_tf_idf),\n",
    "        (\"clf\", RandomForestClassifier())\n",
    "    ]\n",
    ")"
   ]
  },
  {
   "cell_type": "markdown",
   "metadata": {},
   "source": [
    "Проводим обучение модели *Случайный лес* и подбор гиперпараметров для лучшего значения метрики *F1* с помощью *GridSearchCV*:"
   ]
  },
  {
   "cell_type": "code",
   "execution_count": 19,
   "metadata": {},
   "outputs": [
    {
     "name": "stdout",
     "output_type": "stream",
     "text": [
      "Лучший результат F1: 0.49\n",
      "\n",
      "Гиперпараметры модели Случайный лес: {'clf__class_weight': 'balanced', 'clf__max_depth': 7, 'clf__n_estimators': 30, 'clf__n_jobs': -1, 'clf__random_state': 12345}\n",
      "CPU times: user 8.84 s, sys: 2.5 s, total: 11.3 s\n",
      "Wall time: 2min 16s\n"
     ]
    }
   ],
   "source": [
    "%%time\n",
    "\n",
    "# создаем словарь с гиперпараметрами для перебора\n",
    "parameters_rfс = {\n",
    "    'clf__class_weight': ['balanced'],\n",
    "    'clf__n_estimators': range(10, 31, 10),\n",
    "    'clf__max_depth': range(1, 9, 3),\n",
    "    'clf__n_jobs': [-1],\n",
    "    'clf__random_state': [RANDOM_STATE]\n",
    "}\n",
    "\n",
    "# подбор гиперпараметров и расчет F1 с помощью GridSearchCV\n",
    "grid_rfc = GridSearchCV(pipe_rfc, \n",
    "                        parameters_rfс,\n",
    "                        scoring='f1',\n",
    "                        verbose=-1,\n",
    "                        n_jobs=-1)\n",
    "\n",
    "grid_rfc.fit(features_train_downsampled, target_train_downsampled)\n",
    "    \n",
    "#гиперпараметры лучшей модели и результат F1\n",
    "print('Лучший результат F1:', round(grid_rfc.best_score_, 2))\n",
    "print('')\n",
    "print('Гиперпараметры модели Случайный лес:', grid_rfc.best_params_)"
   ]
  },
  {
   "cell_type": "markdown",
   "metadata": {},
   "source": [
    "### CatBoost"
   ]
  },
  {
   "cell_type": "markdown",
   "metadata": {},
   "source": [
    "Создаем *Pipeline*:"
   ]
  },
  {
   "cell_type": "code",
   "execution_count": 20,
   "metadata": {},
   "outputs": [],
   "source": [
    "# пайплайн для CatBoost\n",
    "pipe_cat = Pipeline(\n",
    "    [\n",
    "        (\"tfidf\", count_tf_idf),\n",
    "        (\"clf\", CatBoostClassifier())\n",
    "    ]\n",
    ")"
   ]
  },
  {
   "cell_type": "markdown",
   "metadata": {},
   "source": [
    "Проводим обучение модели *CatBoost* и подбор гиперпараметров для лучшего значения метрики *F1* с помощью *GridSearchCV*:"
   ]
  },
  {
   "cell_type": "code",
   "execution_count": 21,
   "metadata": {
    "scrolled": false
   },
   "outputs": [
    {
     "name": "stdout",
     "output_type": "stream",
     "text": [
      "Лучший результат F1: 0.73\n",
      "\n",
      "Гиперпараметры CatBoost: {'clf__max_depth': 7, 'clf__n_estimators': 20, 'clf__random_state': 12345, 'clf__verbose': 0}\n",
      "CPU times: user 2min 6s, sys: 13.1 s, total: 2min 19s\n",
      "Wall time: 14min 24s\n"
     ]
    }
   ],
   "source": [
    "%%time\n",
    "\n",
    "# создаем словарь с гиперпараметрами для перебора\n",
    "parameters_cat = {\n",
    "    'clf__n_estimators': range(10, 21, 10),\n",
    "    'clf__max_depth': range(1, 9, 3),\n",
    "    'clf__random_state': [RANDOM_STATE],\n",
    "    'clf__verbose': [0]\n",
    "}\n",
    "\n",
    "# подбор гиперпараметров и расчет F1 с помощью GridSearchCV\n",
    "grid_cat = GridSearchCV(pipe_cat, \n",
    "                        parameters_cat,\n",
    "                        scoring='f1',\n",
    "                        verbose=-1,\n",
    "                        n_jobs=-1)\n",
    "\n",
    "grid_cat.fit(features_train_downsampled, target_train_downsampled)\n",
    "    \n",
    "#гиперпараметры лучшей модели и результат F1\n",
    "print('Лучший результат F1:', round(grid_cat.best_score_, 2))\n",
    "print('')\n",
    "print('Гиперпараметры CatBoost:', grid_cat.best_params_)"
   ]
  },
  {
   "cell_type": "markdown",
   "metadata": {},
   "source": [
    "### Логистическая регрессия"
   ]
  },
  {
   "cell_type": "markdown",
   "metadata": {},
   "source": [
    "Создаем *Pipeline*:"
   ]
  },
  {
   "cell_type": "code",
   "execution_count": 22,
   "metadata": {},
   "outputs": [],
   "source": [
    "# пайплайн для Логистической регрессии\n",
    "pipe_lr = Pipeline(\n",
    "    [\n",
    "        (\"tfidf\", count_tf_idf),\n",
    "        (\"clf\", LogisticRegression())\n",
    "    ]\n",
    ")"
   ]
  },
  {
   "cell_type": "markdown",
   "metadata": {},
   "source": [
    "Проводим обучение модели *Логистическая регрессия* и подбор гиперпараметров для лучшего значения метрики *F1* с помощью *GridSearchCV*:"
   ]
  },
  {
   "cell_type": "code",
   "execution_count": 23,
   "metadata": {
    "scrolled": true
   },
   "outputs": [
    {
     "name": "stdout",
     "output_type": "stream",
     "text": [
      "Лучший результат F1: 0.78\n",
      "\n",
      "Гиперпараметры модели Логистическая регрессия: {'clf__max_iter': 300, 'clf__n_jobs': -1, 'clf__random_state': 12345, 'clf__solver': 'saga'}\n",
      "CPU times: user 7.27 s, sys: 972 ms, total: 8.24 s\n",
      "Wall time: 1min 15s\n"
     ]
    }
   ],
   "source": [
    "%%time\n",
    "\n",
    "# создаем словарь с гиперпараметрами для перебора\n",
    "parameters_lr = {\n",
    "    'clf__solver': ['newton-cg', 'lbfgs', 'sag', 'saga'],\n",
    "    'clf__n_jobs': [-1],\n",
    "    'clf__random_state': [RANDOM_STATE],\n",
    "    'clf__max_iter': [300]\n",
    "}\n",
    "\n",
    "# подбор гиперпараметров и расчет F1 с помощью GridSearchCV\n",
    "grid_lr = GridSearchCV(pipe_lr, \n",
    "                       parameters_lr,\n",
    "                       scoring='f1',\n",
    "                       verbose=-1,\n",
    "                       n_jobs=-1)\n",
    "\n",
    "grid_lr.fit(features_train_downsampled, target_train_downsampled)\n",
    "\n",
    "#гиперпараметры лучшей модели и результат F1\n",
    "print('Лучший результат F1:', round(grid_lr.best_score_, 2))\n",
    "print('')\n",
    "print('Гиперпараметры модели Логистическая регрессия:', grid_lr.best_params_)"
   ]
  },
  {
   "cell_type": "markdown",
   "metadata": {},
   "source": [
    "### Сравнение результатов"
   ]
  },
  {
   "cell_type": "markdown",
   "metadata": {},
   "source": [
    "Оформим лучший результат метрики F1 для всех моделей в сравнительную таблицу, отстортировав значения по убыванию:"
   ]
  },
  {
   "cell_type": "code",
   "execution_count": 24,
   "metadata": {},
   "outputs": [
    {
     "data": {
      "text/html": [
       "<div>\n",
       "<style scoped>\n",
       "    .dataframe tbody tr th:only-of-type {\n",
       "        vertical-align: middle;\n",
       "    }\n",
       "\n",
       "    .dataframe tbody tr th {\n",
       "        vertical-align: top;\n",
       "    }\n",
       "\n",
       "    .dataframe thead th {\n",
       "        text-align: right;\n",
       "    }\n",
       "</style>\n",
       "<table border=\"1\" class=\"dataframe\">\n",
       "  <thead>\n",
       "    <tr style=\"text-align: right;\">\n",
       "      <th></th>\n",
       "      <th>F1</th>\n",
       "    </tr>\n",
       "  </thead>\n",
       "  <tbody>\n",
       "    <tr>\n",
       "      <th>Логистическая регрессия</th>\n",
       "      <td>0.78</td>\n",
       "    </tr>\n",
       "    <tr>\n",
       "      <th>CatBoost</th>\n",
       "      <td>0.73</td>\n",
       "    </tr>\n",
       "    <tr>\n",
       "      <th>Случайный лес</th>\n",
       "      <td>0.49</td>\n",
       "    </tr>\n",
       "  </tbody>\n",
       "</table>\n",
       "</div>"
      ],
      "text/plain": [
       "                           F1\n",
       "Логистическая регрессия  0.78\n",
       "CatBoost                 0.73\n",
       "Случайный лес            0.49"
      ]
     },
     "execution_count": 24,
     "metadata": {},
     "output_type": "execute_result"
    }
   ],
   "source": [
    "score_data = pd.DataFrame(\n",
    "   \n",
    "    data=[\n",
    "        0.49,\n",
    "        0.73,\n",
    "        0.78\n",
    "    ],\n",
    "    \n",
    "    index=[\n",
    "        'Случайный лес', \n",
    "        'CatBoost',\n",
    "        'Логистическая регрессия'\n",
    "    ],\n",
    "    \n",
    "    columns=['F1']\n",
    ")\n",
    "score_data.sort_values('F1', ascending=False)"
   ]
  },
  {
   "cell_type": "markdown",
   "metadata": {},
   "source": [
    "### Вывод\n",
    "\n",
    "- ***В ходе обучения лучшее значение метрики F1 показала модель Логистичекая регрессия(max_iter=300, n_jobs=-1, random_state=12345, solver=saga): F1 = 0.78***\n",
    "- На втором месте модель *CatBoost(max_depth=7, n_estimators=20, random_state=12345, verbose=0)*: *F1* = 0.73, время обучения модели значительно дольше, чем у других\n",
    "- Худший результат у модели *Случайный лес(class_weight='balanced', max_depth=7, n_estimators=30, n_jobs=-1, random_state=12345)*: *F1* = 0.49\n",
    "\n",
    "Модель *Логистическая регрессия* в ходе обучения единственная преодолела бейзлайн, установленный в условии задания (метрика *F1* должна быть не ниже 0.75)"
   ]
  },
  {
   "cell_type": "markdown",
   "metadata": {},
   "source": [
    "## Тестирование модели"
   ]
  },
  {
   "cell_type": "markdown",
   "metadata": {},
   "source": [
    "Проведем проверку модели *Логистичекая регрессия(max_iter=300, n_jobs=-1, random_state=12345, solver=saga)*. Данная модель уже была обучена при использовании *GridSearchCV*, получим ее предсказания на тестовой выборке:"
   ]
  },
  {
   "cell_type": "code",
   "execution_count": 25,
   "metadata": {},
   "outputs": [
    {
     "name": "stdout",
     "output_type": "stream",
     "text": [
      "F1 для модели Логистическая регрессия на тестовой выборке: 0.77\n"
     ]
    }
   ],
   "source": [
    "# получаем предсказания модели LogisticRegression на тестовой выборке\n",
    "predictions = grid_lr.predict(features_test)\n",
    "\n",
    "#расчет F1\n",
    "print('F1 для модели Логистическая регрессия на тестовой выборке:', \n",
    "       round(f1_score(target_test, predictions), 2))"
   ]
  },
  {
   "cell_type": "markdown",
   "metadata": {},
   "source": [
    "### Вывод\n",
    "Выбранная нами модель *Логистичекая регрессия(max_iter=300, n_jobs=-1, random_state=12345, solver=saga)* успешно прошла проверку на тестовой выборке: *F1* = 0.77, что выше бейзлайна из задания, равного 0.75."
   ]
  },
  {
   "cell_type": "markdown",
   "metadata": {},
   "source": [
    "## Общий вывод\n",
    "\n",
    "**Результат подготовки данных**\n",
    "\n",
    "- В ходе изучения общей информации мы выяснили, что в исходных данных пропуски и дубликаты отсутствуют, типы данных в порядке. Текст сырой и требует преобразования. Наблюдается дисбаланс классов целевого признака - положительных классов всего около 9% от общего количества\n",
    "- Текст был лемматизирован с помощью *SpaCy* и очищен от лишних символов\n",
    "- Так как в исходных данных положительных классов всего 10% от общего количества, на обучающей выборке для борьбы с дисбалансом была применена техника *downsampling* по уменьшению выборки - половина отрицательных объектов была отброшена\n",
    "- Был создан и обучен векторайзер для преобразования признаков в матрицу, удаляя при этом неинформативные стоп-слова\n",
    "\n",
    "**Результат обучения моделей**\n",
    "\n",
    "Мы провели обучение и подбор гиперпараметров для трех моделей: *Случайный лес*, *CatBoost* и *Логистическая регрессия*. В ходе обучения лучшее значение метрики *F1* показала модель *Логистичекая регрессия(max_iter=300, n_jobs=-1, random_state=12345, solver=saga)*: *F1 = 0.78*. Данная модель единственная преодолела бейзлайн из задания, равный 0.75\n",
    "\n",
    "**Результат тестирования модели**\n",
    "\n",
    "Модель *Логистичекая регрессия(max_iter=300, n_jobs=-1, random_state=12345, solver=saga)* на тестовой выборке также успешно преодолела бейзлайн из условия задачи, показав результат метрики *F1* = 0.77."
   ]
  }
 ],
 "metadata": {
  "ExecuteTimeLog": [
   {
    "duration": 7,
    "start_time": "2022-08-31T18:06:26.704Z"
   },
   {
    "duration": 46,
    "start_time": "2022-08-31T18:06:40.774Z"
   },
   {
    "duration": 7,
    "start_time": "2022-08-31T18:12:08.785Z"
   },
   {
    "duration": 6,
    "start_time": "2022-08-31T18:23:53.874Z"
   },
   {
    "duration": 8,
    "start_time": "2022-08-31T18:25:10.226Z"
   },
   {
    "duration": 9570,
    "start_time": "2022-08-31T18:32:18.550Z"
   },
   {
    "duration": 4382,
    "start_time": "2022-08-31T18:32:28.122Z"
   },
   {
    "duration": 2412,
    "start_time": "2022-08-31T18:32:32.506Z"
   },
   {
    "duration": 295,
    "start_time": "2022-08-31T18:32:34.921Z"
   },
   {
    "duration": 7,
    "start_time": "2022-08-31T18:32:35.218Z"
   },
   {
    "duration": 213,
    "start_time": "2022-08-31T18:32:35.227Z"
   },
   {
    "duration": 463,
    "start_time": "2022-08-31T18:32:35.442Z"
   },
   {
    "duration": 3,
    "start_time": "2022-08-31T18:32:35.907Z"
   },
   {
    "duration": 1082217,
    "start_time": "2022-08-31T18:32:35.911Z"
   },
   {
    "duration": 11,
    "start_time": "2022-08-31T18:50:38.130Z"
   },
   {
    "duration": 429,
    "start_time": "2022-08-31T18:50:38.143Z"
   },
   {
    "duration": 0,
    "start_time": "2022-08-31T18:50:38.574Z"
   },
   {
    "duration": 0,
    "start_time": "2022-08-31T18:50:38.575Z"
   },
   {
    "duration": 0,
    "start_time": "2022-08-31T18:50:38.576Z"
   },
   {
    "duration": 0,
    "start_time": "2022-08-31T18:50:38.577Z"
   },
   {
    "duration": 0,
    "start_time": "2022-08-31T18:50:38.578Z"
   },
   {
    "duration": 0,
    "start_time": "2022-08-31T18:50:38.580Z"
   },
   {
    "duration": 0,
    "start_time": "2022-08-31T18:50:38.581Z"
   },
   {
    "duration": 0,
    "start_time": "2022-08-31T18:50:38.582Z"
   },
   {
    "duration": 0,
    "start_time": "2022-08-31T18:50:38.608Z"
   },
   {
    "duration": 0,
    "start_time": "2022-08-31T18:50:38.609Z"
   },
   {
    "duration": 0,
    "start_time": "2022-08-31T18:50:38.610Z"
   },
   {
    "duration": 0,
    "start_time": "2022-08-31T18:50:38.610Z"
   },
   {
    "duration": 0,
    "start_time": "2022-08-31T18:50:38.611Z"
   },
   {
    "duration": 0,
    "start_time": "2022-08-31T18:50:38.619Z"
   },
   {
    "duration": 30,
    "start_time": "2022-08-31T18:54:32.643Z"
   },
   {
    "duration": 0,
    "start_time": "2022-08-31T18:54:32.675Z"
   },
   {
    "duration": 0,
    "start_time": "2022-08-31T18:54:32.676Z"
   },
   {
    "duration": 0,
    "start_time": "2022-08-31T18:54:32.677Z"
   },
   {
    "duration": 0,
    "start_time": "2022-08-31T18:54:32.678Z"
   },
   {
    "duration": 0,
    "start_time": "2022-08-31T18:54:32.680Z"
   },
   {
    "duration": 0,
    "start_time": "2022-08-31T18:54:32.680Z"
   },
   {
    "duration": 0,
    "start_time": "2022-08-31T18:54:32.681Z"
   },
   {
    "duration": 88,
    "start_time": "2022-08-31T18:54:32.683Z"
   },
   {
    "duration": 14,
    "start_time": "2022-08-31T18:54:32.772Z"
   },
   {
    "duration": 0,
    "start_time": "2022-08-31T18:54:32.787Z"
   },
   {
    "duration": 0,
    "start_time": "2022-08-31T18:54:32.789Z"
   },
   {
    "duration": 0,
    "start_time": "2022-08-31T18:54:32.790Z"
   },
   {
    "duration": 0,
    "start_time": "2022-08-31T18:54:32.792Z"
   },
   {
    "duration": 0,
    "start_time": "2022-08-31T18:54:32.793Z"
   },
   {
    "duration": 23,
    "start_time": "2022-08-31T18:55:02.766Z"
   },
   {
    "duration": 36,
    "start_time": "2022-08-31T18:55:02.791Z"
   },
   {
    "duration": 6,
    "start_time": "2022-08-31T18:55:02.829Z"
   },
   {
    "duration": 81,
    "start_time": "2022-08-31T18:55:02.837Z"
   },
   {
    "duration": 40,
    "start_time": "2022-08-31T18:55:02.926Z"
   },
   {
    "duration": 158,
    "start_time": "2022-08-31T18:55:02.968Z"
   },
   {
    "duration": 4899,
    "start_time": "2022-08-31T18:55:03.128Z"
   },
   {
    "duration": 3,
    "start_time": "2022-08-31T18:55:08.029Z"
   },
   {
    "duration": 164590,
    "start_time": "2022-08-31T18:55:08.033Z"
   },
   {
    "duration": 3,
    "start_time": "2022-08-31T18:57:52.626Z"
   },
   {
    "duration": 980051,
    "start_time": "2022-08-31T18:57:52.631Z"
   },
   {
    "duration": 3,
    "start_time": "2022-08-31T19:14:12.684Z"
   },
   {
    "duration": 55859,
    "start_time": "2022-08-31T19:14:12.689Z"
   },
   {
    "duration": 8,
    "start_time": "2022-08-31T19:15:08.550Z"
   },
   {
    "duration": 32,
    "start_time": "2022-08-31T19:15:08.560Z"
   },
   {
    "duration": 0,
    "start_time": "2022-08-31T19:15:08.597Z"
   },
   {
    "duration": 0,
    "start_time": "2022-08-31T19:15:08.598Z"
   },
   {
    "duration": 41,
    "start_time": "2022-08-31T19:15:13.532Z"
   },
   {
    "duration": 4,
    "start_time": "2022-08-31T19:15:17.554Z"
   },
   {
    "duration": 3170,
    "start_time": "2022-08-31T19:15:17.560Z"
   },
   {
    "duration": 3,
    "start_time": "2022-08-31T19:15:20.732Z"
   },
   {
    "duration": 154549,
    "start_time": "2022-08-31T19:15:20.736Z"
   },
   {
    "duration": 2,
    "start_time": "2022-08-31T19:17:55.288Z"
   },
   {
    "duration": 37642,
    "start_time": "2022-08-31T19:17:55.297Z"
   },
   {
    "duration": 3,
    "start_time": "2022-08-31T19:18:32.940Z"
   },
   {
    "duration": 11386,
    "start_time": "2022-09-01T07:16:16.091Z"
   },
   {
    "duration": 5608,
    "start_time": "2022-09-01T07:16:27.479Z"
   },
   {
    "duration": 2260,
    "start_time": "2022-09-01T07:16:33.089Z"
   },
   {
    "duration": 270,
    "start_time": "2022-09-01T07:16:35.350Z"
   },
   {
    "duration": 6,
    "start_time": "2022-09-01T07:16:35.622Z"
   },
   {
    "duration": 227,
    "start_time": "2022-09-01T07:16:35.630Z"
   },
   {
    "duration": 850,
    "start_time": "2022-09-01T07:16:35.860Z"
   },
   {
    "duration": 206,
    "start_time": "2022-09-01T07:16:36.712Z"
   },
   {
    "duration": 0,
    "start_time": "2022-09-01T07:16:36.920Z"
   },
   {
    "duration": 0,
    "start_time": "2022-09-01T07:16:36.922Z"
   },
   {
    "duration": 4,
    "start_time": "2022-09-01T07:16:55.835Z"
   },
   {
    "duration": 87,
    "start_time": "2022-09-01T07:17:02.499Z"
   },
   {
    "duration": 1111,
    "start_time": "2022-09-01T07:17:07.239Z"
   },
   {
    "duration": 11575,
    "start_time": "2022-09-01T07:17:29.688Z"
   },
   {
    "duration": 10699,
    "start_time": "2022-09-01T07:20:12.959Z"
   },
   {
    "duration": 4559,
    "start_time": "2022-09-01T07:20:23.660Z"
   },
   {
    "duration": 792,
    "start_time": "2022-09-01T07:20:28.220Z"
   },
   {
    "duration": 280,
    "start_time": "2022-09-01T07:20:29.014Z"
   },
   {
    "duration": 6,
    "start_time": "2022-09-01T07:20:29.295Z"
   },
   {
    "duration": 220,
    "start_time": "2022-09-01T07:20:29.303Z"
   },
   {
    "duration": 554,
    "start_time": "2022-09-01T07:20:29.525Z"
   },
   {
    "duration": 6,
    "start_time": "2022-09-01T07:20:30.080Z"
   },
   {
    "duration": 52,
    "start_time": "2022-09-01T07:20:30.088Z"
   },
   {
    "duration": 4,
    "start_time": "2022-09-01T07:20:30.142Z"
   },
   {
    "duration": 40,
    "start_time": "2022-09-01T07:21:38.524Z"
   },
   {
    "duration": 5,
    "start_time": "2022-09-01T07:21:46.577Z"
   },
   {
    "duration": 9911,
    "start_time": "2022-09-01T07:23:46.752Z"
   },
   {
    "duration": 4653,
    "start_time": "2022-09-01T07:23:56.666Z"
   },
   {
    "duration": 823,
    "start_time": "2022-09-01T07:24:01.320Z"
   },
   {
    "duration": 329,
    "start_time": "2022-09-01T07:24:02.145Z"
   },
   {
    "duration": 14,
    "start_time": "2022-09-01T07:24:02.477Z"
   },
   {
    "duration": 244,
    "start_time": "2022-09-01T07:24:02.493Z"
   },
   {
    "duration": 558,
    "start_time": "2022-09-01T07:24:02.739Z"
   },
   {
    "duration": 4,
    "start_time": "2022-09-01T07:24:03.299Z"
   },
   {
    "duration": 118,
    "start_time": "2022-09-01T07:24:03.304Z"
   },
   {
    "duration": 109,
    "start_time": "2022-09-01T07:24:03.424Z"
   },
   {
    "duration": 10254,
    "start_time": "2022-09-01T07:27:21.201Z"
   },
   {
    "duration": 4733,
    "start_time": "2022-09-01T07:27:31.457Z"
   },
   {
    "duration": 877,
    "start_time": "2022-09-01T07:27:36.192Z"
   },
   {
    "duration": 298,
    "start_time": "2022-09-01T07:27:37.070Z"
   },
   {
    "duration": 6,
    "start_time": "2022-09-01T07:27:37.370Z"
   },
   {
    "duration": 240,
    "start_time": "2022-09-01T07:27:37.386Z"
   },
   {
    "duration": 606,
    "start_time": "2022-09-01T07:27:37.628Z"
   },
   {
    "duration": 4,
    "start_time": "2022-09-01T07:27:38.236Z"
   },
   {
    "duration": 36,
    "start_time": "2022-09-01T07:27:38.241Z"
   },
   {
    "duration": 131,
    "start_time": "2022-09-01T07:27:38.279Z"
   },
   {
    "duration": 70,
    "start_time": "2022-09-01T07:27:53.138Z"
   }
  ],
  "kernelspec": {
   "display_name": "Python 3 (ipykernel)",
   "language": "python",
   "name": "python3"
  },
  "language_info": {
   "codemirror_mode": {
    "name": "ipython",
    "version": 3
   },
   "file_extension": ".py",
   "mimetype": "text/x-python",
   "name": "python",
   "nbconvert_exporter": "python",
   "pygments_lexer": "ipython3",
   "version": "3.9.12"
  },
  "toc": {
   "base_numbering": 1,
   "nav_menu": {},
   "number_sections": true,
   "sideBar": true,
   "skip_h1_title": true,
   "title_cell": "Содержание",
   "title_sidebar": "Contents",
   "toc_cell": true,
   "toc_position": {
    "height": "calc(100% - 180px)",
    "left": "10px",
    "top": "150px",
    "width": "302.391px"
   },
   "toc_section_display": true,
   "toc_window_display": true
  }
 },
 "nbformat": 4,
 "nbformat_minor": 2
}
